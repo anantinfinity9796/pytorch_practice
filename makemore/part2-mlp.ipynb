{
 "cells": [
  {
   "attachments": {},
   "cell_type": "markdown",
   "metadata": {},
   "source": [
    "### Multi-Layer Perceptron\n",
    "The previous model that we built was a simple bigram language model. It was not very good at predicting what letters came next because.\n",
    "1. It only looked at the previous letter as context and tried to make predictions at the next word.\n",
    "2. We were using the probabilities of counts of the bigram to predict the next character. This approach is infeasible because of increase the context letter to 3 or 4 letters to get a better model what we would observe is that the counts matrix increases exponentially and the matrix is very sparse i.e the combnations have lesser counts.\n",
    "3. The model was not able to produce name like combination of characters which was the problem we needed to solve.\n",
    "\n",
    "We would build a better model called as the multilayer perceptron which would allevate the above problems because it is a Neural Net based architecture which could handle more words of context than a Bigram model.\\\n",
    "\\\n",
    "One more thing that they did in the MLP paper is that they are converting each word into a 30 dim vector space. So the vocabulary matrix would be (1700,30)."
   ]
  },
  {
   "cell_type": "code",
   "execution_count": 45,
   "metadata": {},
   "outputs": [],
   "source": [
    "import torch\n",
    "import torch.nn.functional as F\n",
    "import matplotlib.pyplot as plt\n",
    "import numpy as np\n",
    "import plotly.express as px"
   ]
  },
  {
   "cell_type": "code",
   "execution_count": 2,
   "metadata": {},
   "outputs": [],
   "source": [
    "with open(\"D://Datasets/names.txt\", 'r') as file:\n",
    "    names = file.read().splitlines()"
   ]
  },
  {
   "cell_type": "code",
   "execution_count": 3,
   "metadata": {},
   "outputs": [
    {
     "data": {
      "text/plain": [
       "['emma', 'olivia', 'ava', 'isabella', 'sophia']"
      ]
     },
     "execution_count": 3,
     "metadata": {},
     "output_type": "execute_result"
    }
   ],
   "source": [
    "names[0:5]"
   ]
  },
  {
   "cell_type": "code",
   "execution_count": 3,
   "metadata": {},
   "outputs": [
    {
     "data": {
      "text/plain": [
       "{'.': 0,\n",
       " 'a': 1,\n",
       " 'b': 2,\n",
       " 'c': 3,\n",
       " 'd': 4,\n",
       " 'e': 5,\n",
       " 'f': 6,\n",
       " 'g': 7,\n",
       " 'h': 8,\n",
       " 'i': 9,\n",
       " 'j': 10,\n",
       " 'k': 11,\n",
       " 'l': 12,\n",
       " 'm': 13,\n",
       " 'n': 14,\n",
       " 'o': 15,\n",
       " 'p': 16,\n",
       " 'q': 17,\n",
       " 'r': 18,\n",
       " 's': 19,\n",
       " 't': 20,\n",
       " 'u': 21,\n",
       " 'v': 22,\n",
       " 'w': 23,\n",
       " 'x': 24,\n",
       " 'y': 25,\n",
       " 'z': 26}"
      ]
     },
     "execution_count": 3,
     "metadata": {},
     "output_type": "execute_result"
    }
   ],
   "source": [
    "vocabulary = sorted(list(set(''.join(names))))\n",
    "chartoidx = {}\n",
    "idxtochar = {}\n",
    "chartoidx['.'] = 0   # Putting a special token to denote the start and the end of a sentence.\n",
    "idxtochar[0] = '.'\n",
    "for i,char in enumerate(vocabulary):\n",
    "    chartoidx[char] = i+1\n",
    "    idxtochar[i+1] = char\n",
    "\n",
    "chartoidx"
   ]
  },
  {
   "attachments": {},
   "cell_type": "markdown",
   "metadata": {},
   "source": [
    "1. Now lets rebuild the dataset required to be used in the MLP\n",
    "2. This MLP takes in input of n context letters(n=3 here). So we need to have 3 context letters and predict the 4th letter.\n",
    "3. We would start each individual word with 3 dots(...) and it would predict the first letter of the word.\n"
   ]
  },
  {
   "cell_type": "code",
   "execution_count": 16,
   "metadata": {},
   "outputs": [],
   "source": [
    "block_size = 3 # This would be used to set the number of context letters that would be in the word.\n",
    "# blank_context = idxtochar[0] * block_size  # This would produce the context consisting of only special character \".\"\n",
    "# print(f\"The blank context is {blank_context}\")\n",
    "\n",
    "# Now we need to define our xs and ys\n",
    "xs = []\n",
    "ys = []\n",
    "\n",
    "# Now we need to add the data into our xs and ys:\n",
    "for word in names:\n",
    "    word = word+\".\"\n",
    "    blank_context = [0] * block_size  # This would produce the context consisting of only special character \".\"\n",
    "    # xs.append(blank_context)\n",
    "    for ch in word :\n",
    "        xs.append(blank_context)\n",
    "        ys.append(chartoidx[ch])\n",
    "        blank_context = blank_context[1:] + [chartoidx[ch]]\n",
    "      \n",
    "        # print(blank_context)\n",
    "xs = torch.tensor(xs)\n",
    "ys = torch.tensor(ys)    "
   ]
  },
  {
   "cell_type": "code",
   "execution_count": 17,
   "metadata": {},
   "outputs": [
    {
     "name": "stdout",
     "output_type": "stream",
     "text": [
      "torch.Size([228146, 3]) torch.int64\n",
      "torch.Size([228146]) torch.int64\n"
     ]
    }
   ],
   "source": [
    "print(xs.shape, xs.dtype)\n",
    "print(ys.shape, ys.dtype)"
   ]
  },
  {
   "attachments": {},
   "cell_type": "markdown",
   "metadata": {},
   "source": [
    "Now we would build the lookup table which will be used across all the inputs. In the MLP paper by yoshua bengio they used a lookup table of 17000 words and used a 30 dimensional embedding vector.\\\n",
    "We will use a table of 27 characters and a somewhat lesser number of dimensions.(we will start here with 2)"
   ]
  },
  {
   "cell_type": "code",
   "execution_count": 8,
   "metadata": {},
   "outputs": [
    {
     "data": {
      "text/plain": [
       "tensor([[ 1.5399e+00, -2.0889e-01],\n",
       "        [ 1.5381e+00, -6.3532e-01],\n",
       "        [-1.9274e+00, -3.9099e-01],\n",
       "        [-8.9218e-01, -6.4619e-04],\n",
       "        [ 1.3383e+00, -3.1898e-02],\n",
       "        [-1.0281e+00,  3.3131e-01],\n",
       "        [ 1.7538e+00, -1.3597e-01],\n",
       "        [-1.6896e-01,  3.8129e-01],\n",
       "        [ 1.1301e+00,  1.4792e+00],\n",
       "        [-1.6452e+00, -5.5103e-01],\n",
       "        [-3.4661e-01, -8.1771e-01],\n",
       "        [ 7.6834e-01, -4.7564e-01],\n",
       "        [ 7.1434e-01, -9.6823e-01],\n",
       "        [-1.0029e-01, -1.6889e+00],\n",
       "        [-7.9375e-02, -1.8545e-01],\n",
       "        [ 1.9587e+00,  3.6907e-02],\n",
       "        [ 3.7416e-01, -1.7185e+00],\n",
       "        [ 7.3027e-01, -4.2906e-02],\n",
       "        [ 5.2895e-01, -1.1491e+00],\n",
       "        [-2.9269e+00, -5.3369e-01],\n",
       "        [-3.8558e-02,  1.6865e+00],\n",
       "        [ 3.8508e-01, -5.9692e-01],\n",
       "        [-3.1772e-02, -8.2846e-01],\n",
       "        [ 3.5567e-01,  7.0653e-01],\n",
       "        [-1.4892e+00, -4.5759e-01],\n",
       "        [ 3.3209e-01, -7.2603e-01],\n",
       "        [ 1.8088e-02, -2.5397e-01]])"
      ]
     },
     "execution_count": 8,
     "metadata": {},
     "output_type": "execute_result"
    }
   ],
   "source": [
    "# build the lookup table\n",
    "c = torch.randn((27,2))\n",
    "c"
   ]
  },
  {
   "attachments": {},
   "cell_type": "markdown",
   "metadata": {},
   "source": [
    "So an embedding layer can be thought of in two ways.\n",
    "1. Lookup table : When thought of as a lookup table it a (vocab,dim) shape table which consists of a (1,dim) shaped vector defining a particular word or character. To get the embedding of a particular word or character what we would do is that we would query the row of the lookup table with the index of the word in vocabulary. We would use this vector in place of one_hot vectors as an input to our model and would modify this embedding via backpropagation through our model.\n",
    "\n",
    "2. Layer : When this is thought of as a layer, we would consider it as a linear layer with weights without any non-linearity. We would pass inputs as one_hot vectors of words or characters and that would be multiplied by the weights matrix of this layer, which would be equal to taking the row of weights matrix which corresponds to the active index of the one-hot vector. This would give us the row of the weights matrix of the embedding layer corresponding to the active index in the one-hot vector as the activation output of embedding layer which would further traverse into the model and give out the results. Then we can improve the embedding of each word pertaining to our particular problem by backpropagation."
   ]
  },
  {
   "cell_type": "code",
   "execution_count": 9,
   "metadata": {},
   "outputs": [
    {
     "data": {
      "text/plain": [
       "tensor([-1.0281,  0.3313])"
      ]
     },
     "execution_count": 9,
     "metadata": {},
     "output_type": "execute_result"
    }
   ],
   "source": [
    "c[5]"
   ]
  },
  {
   "cell_type": "code",
   "execution_count": 10,
   "metadata": {},
   "outputs": [
    {
     "data": {
      "text/plain": [
       "tensor([0, 0, 0, 0, 0, 1, 0, 0, 0, 0, 0, 0, 0, 0, 0, 0, 0, 0, 0, 0, 0, 0, 0, 0,\n",
       "        0, 0, 0])"
      ]
     },
     "execution_count": 10,
     "metadata": {},
     "output_type": "execute_result"
    }
   ],
   "source": [
    "# This creates a 27 dimensional tensor with the but at the 5th index turned on.\n",
    "x = F.one_hot(torch.tensor(5), num_classes = 27)\n",
    "x"
   ]
  },
  {
   "cell_type": "code",
   "execution_count": 11,
   "metadata": {},
   "outputs": [
    {
     "data": {
      "text/plain": [
       "tensor([-1.0281,  0.3313])"
      ]
     },
     "execution_count": 11,
     "metadata": {},
     "output_type": "execute_result"
    }
   ],
   "source": [
    "# Now we will matrix multiply the two vectors and use the multiplication  as an embedding into the neural network.\n",
    "x.float() @ c.float()"
   ]
  },
  {
   "attachments": {},
   "cell_type": "markdown",
   "metadata": {},
   "source": [
    "matrix multiplying the one-hot vector and the lookup matrix would yield the same results as finding the row with the same index as the active bit of the one-hot vecotr.\\\n",
    "For now we would go with indexing according to the index of the vocabulary."
   ]
  },
  {
   "attachments": {},
   "cell_type": "markdown",
   "metadata": {},
   "source": [
    "Embedding a single integer index like 5 is easy. We can just ask pytorch to retrieve the 5th row of C like C[5] and we would get the embedding.\\\n",
    "\\\n",
    "But if we want to get the embedding of multiple integers simultaneously we can pass the indexes as a list also like C[[5,6,7]].\\\n",
    "\\\n",
    "We can also embed using two dimensional arrays like c[[5,6],[7,8]]. Lets try them out"
   ]
  },
  {
   "cell_type": "code",
   "execution_count": 12,
   "metadata": {},
   "outputs": [
    {
     "name": "stdout",
     "output_type": "stream",
     "text": [
      "tensor([-1.0281,  0.3313])\n",
      "tensor([[-1.0281,  0.3313],\n",
      "        [ 1.7538, -0.1360],\n",
      "        [-0.1690,  0.3813]])\n",
      "tensor([-1.0281, -0.1360])\n"
     ]
    }
   ],
   "source": [
    "print(c[5])\n",
    "print(c[[5,6,7]])\n",
    "print(c[[5,6],[0,1]])"
   ]
  },
  {
   "cell_type": "code",
   "execution_count": 13,
   "metadata": {},
   "outputs": [
    {
     "data": {
      "text/plain": [
       "torch.Size([32, 3, 2])"
      ]
     },
     "execution_count": 13,
     "metadata": {},
     "output_type": "execute_result"
    }
   ],
   "source": [
    "# Lets try to index our xs dataset and get the embedding for each of the integers of 32,3 integers. \n",
    "# So for each of the 32 rows and 3 columns of integers it will give a (1,2) or two values of embedding of each integer making the vector as (32,3,2).\n",
    "c[xs].shape"
   ]
  },
  {
   "attachments": {},
   "cell_type": "markdown",
   "metadata": {},
   "source": [
    "Now we would need to pass these embeddings to Neural Network's first layer where they would be multiplied by the weights matrix which is currently of the shape (6,100). But these are embeddings cannot be multiplied directly, we would need to reshape them into a way so that they could be multiplied by the matrix. So we would call the view function."
   ]
  },
  {
   "cell_type": "code",
   "execution_count": 14,
   "metadata": {},
   "outputs": [
    {
     "name": "stdout",
     "output_type": "stream",
     "text": [
      "torch.Size([32, 3, 2])\n"
     ]
    }
   ],
   "source": [
    "emb = c[xs]\n",
    "print(emb.shape)"
   ]
  },
  {
   "attachments": {},
   "cell_type": "markdown",
   "metadata": {},
   "source": [
    "Now we would just change the shape of the input tensor to be compatible to our weights matrix."
   ]
  },
  {
   "cell_type": "code",
   "execution_count": 16,
   "metadata": {},
   "outputs": [
    {
     "data": {
      "text/plain": [
       "torch.Size([32, 6])"
      ]
     },
     "execution_count": 16,
     "metadata": {},
     "output_type": "execute_result"
    }
   ],
   "source": [
    "emb.view(-1,6).shape"
   ]
  },
  {
   "cell_type": "code",
   "execution_count": 17,
   "metadata": {},
   "outputs": [],
   "source": [
    "w1 = torch.randn((6,100))\n",
    "b1 = torch.randn((100))"
   ]
  },
  {
   "cell_type": "code",
   "execution_count": 19,
   "metadata": {},
   "outputs": [
    {
     "data": {
      "text/plain": [
       "tensor([[ 0.9994, -0.6843,  0.9566,  ..., -0.5370, -0.7589,  0.9275],\n",
       "        [ 0.9976, -0.7930, -0.9050,  ..., -0.9985, -0.8538,  0.9851],\n",
       "        [ 0.9987,  0.9885, -0.9996,  ..., -0.9558, -0.9996, -0.9997],\n",
       "        ...,\n",
       "        [ 0.9994,  0.9997,  0.9767,  ..., -0.8335,  0.2851,  1.0000],\n",
       "        [ 0.1616, -1.0000, -0.7551,  ..., -0.9998, -0.9875, -0.1582],\n",
       "        [ 0.9987,  1.0000, -0.9996,  ...,  0.4245, -0.9659, -0.9943]])"
      ]
     },
     "execution_count": 19,
     "metadata": {},
     "output_type": "execute_result"
    }
   ],
   "source": [
    "# Now we could perform the matrix multiplication and get the results.\n",
    "h1 = torch.tanh(emb.view(-1,6) @ w1 + b1)  # We would also apply non-linearity\n",
    "h1"
   ]
  },
  {
   "cell_type": "code",
   "execution_count": 21,
   "metadata": {},
   "outputs": [
    {
     "data": {
      "text/plain": [
       "torch.Size([32, 100])"
      ]
     },
     "execution_count": 21,
     "metadata": {},
     "output_type": "execute_result"
    }
   ],
   "source": [
    "h1.shape   # Hidden layer activations for every one of our 32 examples"
   ]
  },
  {
   "cell_type": "code",
   "execution_count": 22,
   "metadata": {},
   "outputs": [],
   "source": [
    "# Now lets create the final layer i.e the softmax layer\n",
    "w2 = torch.rand(100,27)\n",
    "b2 = torch.rand(27)"
   ]
  },
  {
   "cell_type": "code",
   "execution_count": 23,
   "metadata": {},
   "outputs": [
    {
     "data": {
      "text/plain": [
       "torch.Size([32, 27])"
      ]
     },
     "execution_count": 23,
     "metadata": {},
     "output_type": "execute_result"
    }
   ],
   "source": [
    "logits = h1 @w2 +b2\n",
    "logits.shape\n"
   ]
  },
  {
   "cell_type": "code",
   "execution_count": 29,
   "metadata": {},
   "outputs": [],
   "source": [
    "# just as we did earlier we would treat logits as log counts and to get counts we would need to exponentiate them\n",
    "counts = logits.exp()\n",
    "\n",
    "# Then we would get the probabilities by normalizing the counts.\n",
    "probs = counts/counts.sum(1, keepdim=True)"
   ]
  },
  {
   "cell_type": "code",
   "execution_count": 30,
   "metadata": {},
   "outputs": [
    {
     "data": {
      "text/plain": [
       "torch.Size([32, 27])"
      ]
     },
     "execution_count": 30,
     "metadata": {},
     "output_type": "execute_result"
    }
   ],
   "source": [
    "probs.shape"
   ]
  },
  {
   "cell_type": "code",
   "execution_count": 32,
   "metadata": {},
   "outputs": [
    {
     "data": {
      "text/plain": [
       "tensor(1.0000)"
      ]
     },
     "execution_count": 32,
     "metadata": {},
     "output_type": "execute_result"
    }
   ],
   "source": [
    "# We would see that every row of probs sums to 1\n",
    "probs[0].sum()"
   ]
  },
  {
   "cell_type": "code",
   "execution_count": 31,
   "metadata": {},
   "outputs": [
    {
     "data": {
      "text/plain": [
       "tensor([[1.9311e-02, 9.0641e-03, 1.4585e-02, 5.6024e-03, 8.7870e-03, 4.2746e-03,\n",
       "         1.2606e-02, 8.1540e-05, 1.7812e-01, 2.3683e-03, 5.8972e-03, 9.6818e-02,\n",
       "         1.0733e-03, 2.3686e-01, 3.1084e-03, 5.2954e-03, 7.6305e-04, 1.6396e-01,\n",
       "         2.5532e-03, 2.7512e-03, 6.0770e-02, 1.8890e-04, 8.7528e-02, 1.6185e-04,\n",
       "         3.0726e-05, 7.7286e-02, 1.5824e-04],\n",
       "        [2.8224e-01, 2.2787e-04, 1.1509e-02, 1.1182e-03, 3.8151e-02, 1.2938e-02,\n",
       "         1.1861e-02, 5.8726e-06, 1.5842e-02, 9.2985e-03, 5.4747e-03, 5.3811e-02,\n",
       "         3.1547e-03, 1.7953e-02, 5.9270e-04, 3.4865e-04, 1.6633e-03, 8.6082e-03,\n",
       "         8.9243e-06, 7.2737e-04, 3.7833e-02, 8.4429e-04, 4.8222e-01, 4.7739e-05,\n",
       "         5.8852e-05, 2.3348e-03, 1.1268e-03],\n",
       "        [3.5523e-04, 3.8270e-04, 9.5396e-03, 1.7083e-04, 9.3230e-01, 7.6593e-05,\n",
       "         2.3025e-02, 5.3875e-03, 1.5191e-03, 2.4903e-03, 2.1000e-04, 1.1637e-04,\n",
       "         4.7147e-03, 7.0381e-03, 5.3956e-04, 7.8916e-04, 4.7189e-04, 1.7011e-04,\n",
       "         5.6300e-04, 1.6982e-04, 1.0663e-04, 2.5836e-06, 3.2167e-03, 3.8641e-03,\n",
       "         2.2858e-05, 1.9892e-03, 7.7249e-04],\n",
       "        [4.3961e-02, 1.2777e-05, 1.3609e-02, 1.9765e-02, 7.8280e-02, 1.5118e-04,\n",
       "         6.1339e-03, 1.0557e-03, 3.6918e-02, 4.7642e-02, 3.2093e-02, 1.2428e-03,\n",
       "         1.2155e-01, 4.6112e-01, 1.5190e-02, 2.7724e-03, 8.6358e-04, 2.5648e-05,\n",
       "         7.0727e-05, 7.6200e-04, 2.4172e-05, 9.5164e-04, 3.9956e-04, 1.1125e-04,\n",
       "         3.5668e-02, 7.9062e-02, 5.7031e-04],\n",
       "        [3.5889e-02, 1.6905e-04, 7.6408e-04, 1.5994e-03, 6.7592e-03, 1.2764e-04,\n",
       "         6.6339e-02, 1.0197e-02, 1.4328e-01, 3.2083e-01, 2.2374e-02, 1.2053e-02,\n",
       "         7.0616e-02, 1.0442e-01, 1.3758e-02, 1.4293e-02, 1.4024e-03, 2.5462e-03,\n",
       "         1.9414e-04, 4.9979e-04, 6.3297e-04, 1.1383e-02, 1.2666e-01, 6.9576e-04,\n",
       "         2.9719e-02, 2.0718e-03, 7.3253e-04],\n",
       "        [1.9311e-02, 9.0641e-03, 1.4585e-02, 5.6024e-03, 8.7870e-03, 4.2746e-03,\n",
       "         1.2606e-02, 8.1540e-05, 1.7812e-01, 2.3683e-03, 5.8972e-03, 9.6818e-02,\n",
       "         1.0733e-03, 2.3686e-01, 3.1084e-03, 5.2954e-03, 7.6305e-04, 1.6396e-01,\n",
       "         2.5532e-03, 2.7512e-03, 6.0770e-02, 1.8890e-04, 8.7528e-02, 1.6185e-04,\n",
       "         3.0726e-05, 7.7286e-02, 1.5824e-04],\n",
       "        [1.8815e-02, 6.5747e-03, 2.4533e-02, 6.7904e-03, 3.7800e-03, 5.6485e-03,\n",
       "         1.1039e-02, 9.9891e-05, 1.7049e-01, 1.7675e-03, 3.7953e-03, 1.5865e-01,\n",
       "         8.1094e-04, 1.6816e-01, 2.2706e-03, 4.7048e-03, 7.9950e-04, 2.3653e-01,\n",
       "         4.6028e-03, 2.8145e-03, 6.2831e-02, 2.2235e-04, 5.3816e-02, 1.7780e-04,\n",
       "         3.7333e-05, 5.0117e-02, 1.1793e-04],\n",
       "        [1.2118e-02, 8.2502e-03, 5.2908e-03, 3.8653e-04, 3.6375e-02, 1.2993e-03,\n",
       "         7.0065e-03, 1.5382e-04, 1.8713e-01, 5.6830e-03, 9.5357e-03, 1.3081e-02,\n",
       "         9.5728e-04, 2.3916e-01, 2.2793e-03, 1.7639e-03, 9.1300e-04, 2.7742e-02,\n",
       "         4.2494e-04, 1.9837e-03, 8.4330e-02, 7.7464e-05, 1.2783e-01, 8.8475e-05,\n",
       "         4.7057e-05, 2.2519e-01, 9.0329e-04],\n",
       "        [4.7659e-01, 2.9522e-04, 8.8420e-02, 3.0831e-04, 2.4248e-01, 1.4754e-02,\n",
       "         2.8160e-03, 4.0687e-06, 6.3535e-03, 1.3350e-02, 3.3093e-03, 5.2794e-03,\n",
       "         1.6991e-03, 7.0684e-03, 2.9809e-04, 1.1559e-03, 1.4265e-03, 4.8084e-04,\n",
       "         6.5749e-04, 3.9078e-04, 4.7011e-03, 5.3975e-05, 1.2388e-01, 2.2794e-04,\n",
       "         3.2185e-04, 3.4492e-03, 2.2736e-04],\n",
       "        [8.2736e-05, 1.6487e-04, 1.4532e-03, 3.5021e-03, 4.2153e-01, 1.6362e-05,\n",
       "         1.6521e-02, 6.7372e-03, 1.2732e-02, 8.3501e-02, 1.2598e-04, 7.8491e-04,\n",
       "         1.1918e-01, 3.6397e-03, 1.3342e-03, 1.5803e-01, 7.9940e-03, 3.1042e-05,\n",
       "         4.9967e-04, 5.8750e-05, 9.5416e-05, 2.5397e-04, 4.9882e-03, 1.5342e-01,\n",
       "         1.0885e-03, 4.8587e-04, 1.7420e-03],\n",
       "        [6.2739e-02, 8.3405e-06, 4.4856e-03, 1.0621e-02, 1.0455e-01, 7.6620e-04,\n",
       "         6.7839e-03, 1.7262e-03, 1.4511e-03, 5.2874e-02, 6.4419e-03, 1.6594e-03,\n",
       "         3.3418e-01, 8.3425e-02, 8.2624e-02, 6.3988e-04, 7.3107e-04, 3.3921e-06,\n",
       "         1.0663e-05, 2.0453e-04, 2.3846e-05, 9.9478e-03, 8.5051e-04, 2.2661e-04,\n",
       "         1.2642e-01, 9.2597e-02, 1.4008e-02],\n",
       "        [4.4159e-04, 9.6406e-04, 9.2819e-04, 6.6134e-03, 1.7286e-02, 8.9101e-05,\n",
       "         2.3456e-02, 2.1061e-01, 1.1945e-01, 3.6144e-02, 9.8038e-03, 4.5136e-03,\n",
       "         5.5434e-02, 4.6027e-03, 1.9877e-04, 8.4948e-02, 1.8676e-02, 1.0598e-03,\n",
       "         1.8673e-02, 8.2468e-04, 4.2083e-04, 3.5509e-04, 1.7870e-03, 3.6649e-01,\n",
       "         8.2287e-03, 7.7741e-03, 2.2176e-04],\n",
       "        [1.9311e-02, 9.0641e-03, 1.4585e-02, 5.6024e-03, 8.7870e-03, 4.2746e-03,\n",
       "         1.2606e-02, 8.1540e-05, 1.7812e-01, 2.3683e-03, 5.8972e-03, 9.6818e-02,\n",
       "         1.0733e-03, 2.3686e-01, 3.1084e-03, 5.2954e-03, 7.6305e-04, 1.6396e-01,\n",
       "         2.5532e-03, 2.7512e-03, 6.0770e-02, 1.8890e-04, 8.7528e-02, 1.6185e-04,\n",
       "         3.0726e-05, 7.7286e-02, 1.5824e-04],\n",
       "        [1.6395e-02, 8.3433e-03, 9.9212e-03, 2.9077e-03, 2.5490e-02, 3.0508e-03,\n",
       "         9.0733e-03, 1.2398e-04, 3.1735e-01, 2.6494e-03, 9.0764e-03, 6.3421e-02,\n",
       "         1.4035e-03, 1.8456e-01, 5.6864e-03, 5.9907e-03, 6.5486e-04, 8.3510e-02,\n",
       "         2.8018e-03, 2.6797e-03, 5.5016e-02, 9.8523e-05, 9.5948e-02, 1.3406e-04,\n",
       "         8.0051e-05, 9.3433e-02, 2.0447e-04],\n",
       "        [1.9627e-01, 4.2863e-04, 8.1139e-03, 2.6426e-04, 7.3028e-02, 1.0119e-03,\n",
       "         5.0941e-03, 9.5166e-06, 9.5621e-02, 1.4252e-02, 1.1850e-02, 9.0332e-03,\n",
       "         1.2293e-03, 3.9174e-02, 2.1322e-03, 1.3054e-03, 2.7670e-04, 4.9932e-03,\n",
       "         5.7185e-05, 1.8081e-03, 3.4454e-02, 4.2967e-05, 2.9720e-01, 7.3348e-05,\n",
       "         4.4856e-04, 2.0149e-01, 3.3334e-04],\n",
       "        [1.5011e-02, 3.1914e-03, 3.4338e-02, 5.9873e-03, 9.0381e-02, 2.0680e-03,\n",
       "         1.3448e-02, 3.5884e-03, 3.4479e-01, 2.2948e-03, 6.0412e-02, 8.2273e-02,\n",
       "         9.0720e-03, 3.9658e-02, 8.6677e-03, 4.1428e-02, 3.8963e-04, 3.2786e-02,\n",
       "         6.5258e-03, 1.4848e-02, 3.4837e-02, 1.5923e-03, 5.3125e-02, 1.6396e-02,\n",
       "         4.6068e-04, 8.2212e-02, 2.1849e-04],\n",
       "        [1.9311e-02, 9.0641e-03, 1.4585e-02, 5.6024e-03, 8.7870e-03, 4.2746e-03,\n",
       "         1.2606e-02, 8.1540e-05, 1.7812e-01, 2.3683e-03, 5.8972e-03, 9.6818e-02,\n",
       "         1.0733e-03, 2.3686e-01, 3.1084e-03, 5.2954e-03, 7.6305e-04, 1.6396e-01,\n",
       "         2.5532e-03, 2.7512e-03, 6.0770e-02, 1.8890e-04, 8.7528e-02, 1.6185e-04,\n",
       "         3.0726e-05, 7.7286e-02, 1.5824e-04],\n",
       "        [3.1059e-01, 3.8385e-04, 2.0456e-02, 7.4605e-05, 1.5044e-01, 1.9125e-02,\n",
       "         2.8633e-03, 1.6547e-05, 7.6739e-03, 4.3882e-02, 3.4492e-03, 8.1707e-03,\n",
       "         1.9497e-03, 5.5072e-02, 1.0908e-03, 3.5268e-04, 6.8462e-04, 1.7927e-03,\n",
       "         9.5380e-06, 1.5327e-03, 1.6570e-02, 1.7668e-04, 3.3500e-01, 4.9573e-05,\n",
       "         1.2140e-03, 8.8552e-03, 8.5278e-03],\n",
       "        [7.2508e-03, 7.6960e-04, 2.7567e-01, 4.8513e-03, 4.6401e-01, 5.3545e-03,\n",
       "         1.3212e-03, 8.7325e-04, 4.6206e-04, 1.7321e-02, 3.4452e-03, 9.7806e-04,\n",
       "         5.8564e-03, 5.2418e-03, 1.6900e-02, 1.1254e-02, 1.0219e-02, 7.0422e-04,\n",
       "         5.3190e-03, 1.0427e-02, 3.3452e-02, 1.6623e-03, 8.2573e-03, 5.9809e-02,\n",
       "         1.1486e-03, 7.1530e-03, 4.0293e-02],\n",
       "        [1.3316e-04, 1.6811e-04, 3.0260e-04, 2.5797e-03, 1.1612e-03, 2.1961e-05,\n",
       "         2.3993e-03, 4.8568e-01, 2.3495e-02, 2.7313e-02, 8.9837e-04, 5.4663e-04,\n",
       "         3.1293e-02, 3.9262e-04, 4.4717e-05, 2.9444e-02, 1.1335e-03, 1.1858e-04,\n",
       "         5.3245e-03, 5.8472e-05, 1.5903e-05, 1.2483e-04, 2.2190e-05, 3.5064e-01,\n",
       "         3.5432e-02, 1.1792e-03, 7.1404e-05],\n",
       "        [3.7757e-01, 3.5564e-06, 3.3431e-03, 1.3225e-02, 1.5775e-02, 7.4688e-04,\n",
       "         1.1204e-03, 1.1832e-04, 1.0292e-04, 5.2112e-02, 3.2383e-03, 4.6614e-03,\n",
       "         2.8750e-01, 2.9401e-02, 7.1805e-02, 1.9997e-04, 3.0010e-04, 2.2232e-05,\n",
       "         1.7680e-05, 2.7834e-04, 5.0033e-05, 4.8210e-03, 4.2721e-04, 7.7190e-05,\n",
       "         1.0614e-01, 1.4610e-02, 1.2333e-02],\n",
       "        [3.1949e-03, 5.2603e-04, 1.2613e-02, 7.0815e-03, 1.0972e-01, 8.4489e-04,\n",
       "         1.7448e-01, 7.9933e-03, 1.9512e-03, 1.0549e-01, 1.2805e-03, 4.0979e-02,\n",
       "         4.2388e-02, 2.1409e-03, 6.0046e-04, 1.1347e-01, 9.2906e-02, 8.3625e-04,\n",
       "         1.1367e-03, 4.8438e-04, 1.4832e-03, 2.7194e-03, 7.2459e-02, 2.0132e-01,\n",
       "         2.8139e-04, 9.1748e-04, 6.9220e-04],\n",
       "        [6.3843e-05, 3.2654e-04, 3.9743e-04, 3.9686e-03, 9.9770e-03, 1.3493e-04,\n",
       "         4.3664e-03, 3.9961e-01, 1.3419e-02, 5.1422e-02, 5.4327e-03, 5.5321e-03,\n",
       "         1.7931e-01, 1.0135e-02, 4.9286e-04, 6.4065e-03, 7.0650e-04, 5.8519e-04,\n",
       "         8.3360e-04, 8.8548e-04, 2.0711e-06, 2.9367e-04, 4.5204e-05, 2.3468e-01,\n",
       "         5.3461e-02, 1.4047e-02, 3.4569e-03],\n",
       "        [1.8780e-01, 4.6583e-05, 3.5353e-02, 2.2786e-02, 3.4509e-02, 2.2412e-03,\n",
       "         7.5095e-03, 1.4450e-03, 1.7530e-01, 2.0730e-02, 5.1976e-02, 2.2732e-02,\n",
       "         8.6596e-02, 2.5915e-01, 9.8271e-03, 3.2549e-04, 2.5938e-04, 1.2970e-03,\n",
       "         3.1742e-04, 2.8196e-03, 9.5510e-05, 6.8174e-04, 1.0472e-03, 1.3855e-04,\n",
       "         2.3217e-02, 4.9419e-02, 2.3836e-03],\n",
       "        [1.0510e-01, 2.9162e-04, 1.1305e-02, 1.4946e-03, 2.2901e-02, 1.8727e-03,\n",
       "         4.0919e-03, 5.4645e-04, 2.2002e-01, 6.1837e-03, 7.4911e-02, 2.1325e-02,\n",
       "         9.7739e-03, 4.1907e-01, 2.2310e-02, 3.5155e-03, 1.2755e-04, 1.2045e-02,\n",
       "         5.5918e-04, 3.2632e-03, 3.0941e-03, 1.1395e-03, 2.8918e-02, 3.3376e-04,\n",
       "         1.2827e-03, 2.4057e-02, 4.6606e-04],\n",
       "        [1.9311e-02, 9.0641e-03, 1.4585e-02, 5.6024e-03, 8.7870e-03, 4.2746e-03,\n",
       "         1.2606e-02, 8.1540e-05, 1.7812e-01, 2.3683e-03, 5.8972e-03, 9.6818e-02,\n",
       "         1.0733e-03, 2.3686e-01, 3.1084e-03, 5.2954e-03, 7.6305e-04, 1.6396e-01,\n",
       "         2.5532e-03, 2.7512e-03, 6.0770e-02, 1.8890e-04, 8.7528e-02, 1.6185e-04,\n",
       "         3.0726e-05, 7.7286e-02, 1.5824e-04],\n",
       "        [2.4808e-01, 7.5987e-04, 3.8997e-02, 3.8458e-04, 2.0741e-01, 1.4491e-02,\n",
       "         2.5784e-03, 1.3125e-05, 1.0888e-03, 1.2284e-01, 2.7563e-03, 4.8945e-03,\n",
       "         5.1929e-03, 8.5818e-03, 2.1115e-03, 1.6703e-04, 1.4726e-03, 6.0108e-04,\n",
       "         5.2211e-05, 4.5844e-03, 1.4657e-02, 8.8552e-04, 2.4714e-01, 5.8804e-05,\n",
       "         2.3652e-03, 1.2443e-03, 6.6588e-02],\n",
       "        [2.3708e-04, 5.6095e-03, 1.8069e-03, 6.8270e-02, 5.6883e-02, 9.3442e-05,\n",
       "         5.8231e-02, 1.6707e-01, 8.6668e-03, 2.2123e-02, 4.9531e-03, 2.5795e-02,\n",
       "         4.8845e-02, 1.0326e-03, 1.1287e-04, 1.1187e-02, 1.8242e-02, 1.4405e-03,\n",
       "         2.0907e-02, 3.7716e-03, 9.4927e-04, 8.7255e-04, 1.0784e-03, 4.7050e-01,\n",
       "         6.6373e-05, 6.8397e-04, 5.7066e-04],\n",
       "        [4.5187e-03, 1.5857e-04, 9.3315e-03, 1.3528e-02, 3.1472e-01, 9.7747e-04,\n",
       "         1.9770e-02, 3.1021e-03, 5.0304e-02, 3.8750e-03, 1.5542e-02, 6.6563e-03,\n",
       "         1.4538e-01, 2.4188e-01, 5.7977e-02, 1.6356e-04, 2.2784e-03, 2.9916e-04,\n",
       "         7.3529e-04, 9.5062e-03, 5.4078e-05, 5.4271e-03, 9.0635e-04, 1.4629e-04,\n",
       "         2.2298e-02, 4.5298e-02, 2.5170e-02],\n",
       "        [1.2294e-01, 1.0221e-03, 6.8054e-02, 9.3761e-02, 8.2954e-03, 1.6692e-03,\n",
       "         1.3108e-02, 3.0521e-05, 4.1019e-02, 1.9462e-03, 2.0307e-02, 2.9272e-01,\n",
       "         2.0612e-03, 2.3028e-04, 5.3168e-05, 8.7223e-03, 8.0647e-04, 1.6955e-01,\n",
       "         2.8636e-02, 4.2281e-04, 4.8539e-02, 2.2349e-03, 7.1636e-02, 1.2750e-03,\n",
       "         1.4239e-04, 8.0276e-04, 2.4188e-05],\n",
       "        [1.0330e-03, 2.9198e-04, 3.2143e-04, 6.0037e-04, 8.3638e-03, 4.3512e-04,\n",
       "         6.7703e-03, 1.3700e-04, 2.5901e-04, 5.5387e-01, 1.4510e-04, 3.1339e-04,\n",
       "         2.3858e-03, 2.5259e-01, 4.7590e-03, 2.8650e-03, 6.7133e-03, 2.4142e-04,\n",
       "         1.3373e-05, 9.0551e-04, 3.2194e-02, 1.3852e-03, 1.0357e-01, 4.8523e-04,\n",
       "         6.9176e-05, 5.4822e-04, 1.8740e-02],\n",
       "        [9.8275e-03, 7.7481e-04, 6.7757e-02, 1.2197e-02, 1.5906e-01, 1.5686e-03,\n",
       "         3.8492e-02, 1.6595e-01, 9.8950e-02, 1.2596e-03, 6.8566e-02, 5.6218e-02,\n",
       "         3.3202e-02, 1.7699e-03, 1.0401e-05, 2.6373e-03, 1.1059e-04, 1.1901e-02,\n",
       "         2.4696e-03, 3.0700e-02, 1.6931e-04, 1.1920e-04, 6.3005e-03, 2.2609e-01,\n",
       "         1.8649e-03, 8.9613e-04, 1.1342e-03]])"
      ]
     },
     "execution_count": 31,
     "metadata": {},
     "output_type": "execute_result"
    }
   ],
   "source": [
    "probs"
   ]
  },
  {
   "cell_type": "code",
   "execution_count": 33,
   "metadata": {},
   "outputs": [
    {
     "data": {
      "text/plain": [
       "tensor([4.2746e-03, 1.7953e-02, 7.0381e-03, 1.2777e-05, 3.5889e-02, 5.2954e-03,\n",
       "        8.1094e-04, 5.6830e-03, 1.2388e-01, 8.3501e-02, 8.3405e-06, 4.4159e-04,\n",
       "        9.0641e-03, 9.5948e-02, 4.2863e-04, 1.5011e-02, 2.3683e-03, 1.5327e-03,\n",
       "        7.6960e-04, 3.0260e-04, 7.4688e-04, 4.2388e-02, 1.7931e-01, 4.6583e-05,\n",
       "        1.0510e-01, 2.7512e-03, 1.6703e-04, 1.8242e-02, 5.0304e-02, 1.9462e-03,\n",
       "        2.9198e-04, 9.8275e-03])"
      ]
     },
     "execution_count": 33,
     "metadata": {},
     "output_type": "execute_result"
    }
   ],
   "source": [
    "# Now we need to compare the probabilities of the labels with the probabilites assigned to the correct character by our model.\n",
    "# We can index into probs rows and columns by\n",
    "probs[torch.arange(32), ys]"
   ]
  },
  {
   "cell_type": "code",
   "execution_count": 34,
   "metadata": {},
   "outputs": [
    {
     "data": {
      "text/plain": [
       "tensor(5.6951)"
      ]
     },
     "execution_count": 34,
     "metadata": {},
     "output_type": "execute_result"
    }
   ],
   "source": [
    "# Now to get the loss we take the log of probabilites and then get the mean of them and then apply a negative sign to get NLL loss\n",
    "nll_loss = - probs[torch.arange(32), ys].log().mean()\n",
    "nll_loss   # We see that we have arrived at a positive number for loss. Reducing this loss will lead to a better model."
   ]
  },
  {
   "cell_type": "code",
   "execution_count": 40,
   "metadata": {},
   "outputs": [
    {
     "name": "stdout",
     "output_type": "stream",
     "text": [
      "torch.Size([228146, 3]) torch.int64\n",
      "torch.Size([228146]) torch.int64\n"
     ]
    }
   ],
   "source": [
    "print(xs.shape, xs.dtype)\n",
    "print(ys.shape, ys.dtype)"
   ]
  },
  {
   "cell_type": "code",
   "execution_count": 74,
   "metadata": {},
   "outputs": [
    {
     "data": {
      "text/plain": [
       "3481"
      ]
     },
     "execution_count": 74,
     "metadata": {},
     "output_type": "execute_result"
    }
   ],
   "source": [
    "# lets consolidate the full code\n",
    "g = torch.Generator().manual_seed(2147483647)\n",
    "c = torch.randn((27,2), generator=g)\n",
    "w1 = torch.randn((6,100), generator=g)\n",
    "b1 = torch.randn((100), generator=g)\n",
    "w2 = torch.rand((100,27), generator=g)\n",
    "b2 = torch.rand((27), generator=g)\n",
    "parameters = [c,w1,b1,w2,b2]\n",
    "p = sum([x.nelement() for x in parameters])\n",
    "p"
   ]
  },
  {
   "cell_type": "code",
   "execution_count": 12,
   "metadata": {},
   "outputs": [
    {
     "data": {
      "text/plain": [
       "tensor(5.4700)"
      ]
     },
     "execution_count": 12,
     "metadata": {},
     "output_type": "execute_result"
    }
   ],
   "source": [
    "embed = c[xs]\n",
    "h1 = torch.tanh(embed.view(-1,6) @ w1 + b1)\n",
    "logits = h1 @ w2 + b2\n",
    "# counts = logits.exp()\n",
    "# prob = counts/counts.sum(dim = 1, keepdims=True)\n",
    "# # Now get the loss\n",
    "# loss = - prob[torch.arange(32), ys].log().mean()\n",
    "# print(loss.item())\n",
    "\n",
    "# There is a more efficient function to calculate the loss from the logits without the intermediate steps. It is called nn.Functional.cross_entropy\n",
    "loss = F.cross_entropy(logits, ys)\n",
    "loss   # Same loss as the one that we manually calculated."
   ]
  },
  {
   "attachments": {},
   "cell_type": "markdown",
   "metadata": {},
   "source": [
    "Reasons to use cross_entropy instead of pure calculation\n",
    "1. The forward pass will be much more efficient.\n",
    "2. The backward pass will be much more efficient.\n",
    "3. The computation results will be much more behaved numerically."
   ]
  },
  {
   "cell_type": "code",
   "execution_count": 76,
   "metadata": {},
   "outputs": [],
   "source": [
    "for p in parameters:\n",
    "    p.requires_grad = True"
   ]
  },
  {
   "cell_type": "code",
   "execution_count": 79,
   "metadata": {},
   "outputs": [
    {
     "name": "stdout",
     "output_type": "stream",
     "text": [
      "2.1627094745635986\n"
     ]
    }
   ],
   "source": [
    "# Now lets do the training looop\n",
    "# Forward pass\n",
    "lri = []\n",
    "lossi = []\n",
    "for i in range(100000):\n",
    "    ix = torch.randint(0, xs.shape[0], (32,))  # this would generate 32 random indexes which we can filter our dataset to train over a mini-batch\n",
    "    embed = c[xs[ix]]   # (32,3,2)\n",
    "    h1 = torch.tanh(embed.view(-1,6) @ w1 +b1)\n",
    "    logits = h1 @ w2 + b2\n",
    "    loss = F.cross_entropy(logits, ys[ix])\n",
    "    # print(loss.item())\n",
    "    # Zero out the gradients\n",
    "    for param in parameters:\n",
    "        param.grad = None\n",
    "        \n",
    "    # Backward Pass\n",
    "    loss.backward()\n",
    "\n",
    "\n",
    "    # Update the parameters\n",
    "    lr = 0.01\n",
    "    for p in parameters:\n",
    "        p.data += -lr*p.grad\n",
    "\n",
    "    # # track the loss stats\n",
    "    # lri.append(lre[i])\n",
    "    # lossi.append(loss.item())\n",
    "print(loss.item())\n"
   ]
  },
  {
   "cell_type": "code",
   "execution_count": 64,
   "metadata": {},
   "outputs": [
    {
     "data": {
      "application/vnd.plotly.v1+json": {
       "config": {
        "plotlyServerURL": "https://plot.ly"
       },
       "data": [
        {
         "hovertemplate": "x=%{x}<br>y=%{y}<extra></extra>",
         "legendgroup": "",
         "line": {
          "color": "#636efa",
          "dash": "solid"
         },
         "marker": {
          "symbol": "circle"
         },
         "mode": "lines",
         "name": "",
         "orientation": "v",
         "showlegend": false,
         "type": "scatter",
         "x": [
          -3,
          -2.9969968795776367,
          -2.9939939975738525,
          -2.9909908771514893,
          -2.987987995147705,
          -2.984984874725342,
          -2.9819819927215576,
          -2.9789788722991943,
          -2.97597599029541,
          -2.972972869873047,
          -2.9699699878692627,
          -2.9669668674468994,
          -2.9639639854431152,
          -2.960960865020752,
          -2.9579579830169678,
          -2.9549548625946045,
          -2.9519519805908203,
          -2.948948860168457,
          -2.945945978164673,
          -2.9429428577423096,
          -2.9399399757385254,
          -2.936936855316162,
          -2.933933973312378,
          -2.9309308528900146,
          -2.9279279708862305,
          -2.924924850463867,
          -2.921921968460083,
          -2.9189188480377197,
          -2.9159159660339355,
          -2.9129128456115723,
          -2.909909963607788,
          -2.906906843185425,
          -2.9039039611816406,
          -2.9009008407592773,
          -2.897897958755493,
          -2.89489483833313,
          -2.8918919563293457,
          -2.8888888359069824,
          -2.8858859539031982,
          -2.882882833480835,
          -2.879879951477051,
          -2.8768768310546875,
          -2.8738739490509033,
          -2.87087082862854,
          -2.867867946624756,
          -2.8648648262023926,
          -2.8618619441986084,
          -2.858858823776245,
          -2.855855941772461,
          -2.8528528213500977,
          -2.8498499393463135,
          -2.84684681892395,
          -2.843843936920166,
          -2.8408408164978027,
          -2.8378379344940186,
          -2.8348348140716553,
          -2.831831932067871,
          -2.828828811645508,
          -2.8258259296417236,
          -2.8228228092193604,
          -2.819819927215576,
          -2.816816806793213,
          -2.8138139247894287,
          -2.8108108043670654,
          -2.8078079223632812,
          -2.804804801940918,
          -2.801801919937134,
          -2.7987987995147705,
          -2.7957959175109863,
          -2.792792797088623,
          -2.789789915084839,
          -2.7867867946624756,
          -2.7837836742401123,
          -2.780780553817749,
          -2.777777671813965,
          -2.7747745513916016,
          -2.7717716693878174,
          -2.768768548965454,
          -2.76576566696167,
          -2.7627625465393066,
          -2.7597596645355225,
          -2.756756544113159,
          -2.753753662109375,
          -2.7507505416870117,
          -2.7477476596832275,
          -2.7447445392608643,
          -2.74174165725708,
          -2.738738536834717,
          -2.7357356548309326,
          -2.7327325344085693,
          -2.729729652404785,
          -2.726726531982422,
          -2.7237236499786377,
          -2.7207205295562744,
          -2.7177176475524902,
          -2.714714527130127,
          -2.7117116451263428,
          -2.7087085247039795,
          -2.7057056427001953,
          -2.702702522277832,
          -2.699699640274048,
          -2.6966965198516846,
          -2.6936936378479004,
          -2.690690517425537,
          -2.687687635421753,
          -2.6846845149993896,
          -2.6816816329956055,
          -2.678678512573242,
          -2.675675630569458,
          -2.6726725101470947,
          -2.6696696281433105,
          -2.6666665077209473,
          -2.663663625717163,
          -2.6606605052948,
          -2.6576576232910156,
          -2.6546545028686523,
          -2.651651620864868,
          -2.648648500442505,
          -2.6456456184387207,
          -2.6426424980163574,
          -2.6396396160125732,
          -2.63663649559021,
          -2.633633613586426,
          -2.6306304931640625,
          -2.6276276111602783,
          -2.624624490737915,
          -2.621621608734131,
          -2.6186184883117676,
          -2.6156156063079834,
          -2.61261248588562,
          -2.609609603881836,
          -2.6066064834594727,
          -2.6036036014556885,
          -2.600600481033325,
          -2.597597599029541,
          -2.5945944786071777,
          -2.5915915966033936,
          -2.5885884761810303,
          -2.585585594177246,
          -2.582582473754883,
          -2.5795795917510986,
          -2.5765764713287354,
          -2.573573589324951,
          -2.570570468902588,
          -2.5675675868988037,
          -2.5645644664764404,
          -2.5615615844726562,
          -2.558558464050293,
          -2.555555582046509,
          -2.5525524616241455,
          -2.5495495796203613,
          -2.546546459197998,
          -2.543543577194214,
          -2.5405404567718506,
          -2.5375375747680664,
          -2.534534454345703,
          -2.531531572341919,
          -2.5285284519195557,
          -2.5255255699157715,
          -2.522522449493408,
          -2.519519567489624,
          -2.5165164470672607,
          -2.5135135650634766,
          -2.5105104446411133,
          -2.507507562637329,
          -2.504504442214966,
          -2.5015015602111816,
          -2.4984984397888184,
          -2.495495557785034,
          -2.492492437362671,
          -2.4894895553588867,
          -2.4864864349365234,
          -2.4834835529327393,
          -2.480480432510376,
          -2.477477550506592,
          -2.4744744300842285,
          -2.4714713096618652,
          -2.468468189239502,
          -2.4654653072357178,
          -2.4624621868133545,
          -2.4594593048095703,
          -2.456456184387207,
          -2.453453302383423,
          -2.4504501819610596,
          -2.4474472999572754,
          -2.444444179534912,
          -2.441441297531128,
          -2.4384381771087646,
          -2.4354352951049805,
          -2.432432174682617,
          -2.429429292678833,
          -2.4264261722564697,
          -2.4234232902526855,
          -2.4204201698303223,
          -2.417417287826538,
          -2.414414167404175,
          -2.4114112854003906,
          -2.4084081649780273,
          -2.405405282974243,
          -2.40240216255188,
          -2.3993992805480957,
          -2.3963961601257324,
          -2.3933932781219482,
          -2.390390157699585,
          -2.387387275695801,
          -2.3843841552734375,
          -2.3813812732696533,
          -2.37837815284729,
          -2.375375270843506,
          -2.3723721504211426,
          -2.3693692684173584,
          -2.366366147994995,
          -2.363363265991211,
          -2.3603601455688477,
          -2.3573572635650635,
          -2.3543541431427,
          -2.351351261138916,
          -2.3483481407165527,
          -2.3453452587127686,
          -2.3423421382904053,
          -2.339339256286621,
          -2.336336135864258,
          -2.3333332538604736,
          -2.3303301334381104,
          -2.327327251434326,
          -2.324324131011963,
          -2.3213212490081787,
          -2.3183181285858154,
          -2.3153152465820312,
          -2.312312126159668,
          -2.309309244155884,
          -2.3063061237335205,
          -2.3033032417297363,
          -2.300300121307373,
          -2.297297239303589,
          -2.2942941188812256,
          -2.2912912368774414,
          -2.288288116455078,
          -2.285285234451294,
          -2.2822821140289307,
          -2.2792792320251465,
          -2.276276111602783,
          -2.273273229598999,
          -2.2702701091766357,
          -2.2672672271728516,
          -2.2642641067504883,
          -2.261261224746704,
          -2.258258104324341,
          -2.2552552223205566,
          -2.2522521018981934,
          -2.249249219894409,
          -2.246246099472046,
          -2.2432432174682617,
          -2.2402400970458984,
          -2.2372372150421143,
          -2.234234094619751,
          -2.231231212615967,
          -2.2282280921936035,
          -2.2252252101898193,
          -2.222222089767456,
          -2.219219207763672,
          -2.2162160873413086,
          -2.2132132053375244,
          -2.210210084915161,
          -2.207207202911377,
          -2.2042040824890137,
          -2.2012012004852295,
          -2.198198080062866,
          -2.195195198059082,
          -2.1921920776367188,
          -2.1891891956329346,
          -2.1861860752105713,
          -2.183183193206787,
          -2.180180072784424,
          -2.1771771907806396,
          -2.1741740703582764,
          -2.171171188354492,
          -2.168168067932129,
          -2.1651651859283447,
          -2.1621620655059814,
          -2.1591591835021973,
          -2.156156063079834,
          -2.15315318107605,
          -2.1501500606536865,
          -2.1471471786499023,
          -2.144144058227539,
          -2.141141176223755,
          -2.1381380558013916,
          -2.1351351737976074,
          -2.132132053375244,
          -2.12912917137146,
          -2.1261260509490967,
          -2.1231231689453125,
          -2.120120048522949,
          -2.117117166519165,
          -2.1141140460968018,
          -2.1111111640930176,
          -2.1081080436706543,
          -2.10510516166687,
          -2.102102041244507,
          -2.0990991592407227,
          -2.0960960388183594,
          -2.093093156814575,
          -2.090090036392212,
          -2.0870871543884277,
          -2.0840840339660645,
          -2.0810811519622803,
          -2.078078031539917,
          -2.075075149536133,
          -2.0720720291137695,
          -2.0690691471099854,
          -2.066066026687622,
          -2.063063144683838,
          -2.0600600242614746,
          -2.0570571422576904,
          -2.054054021835327,
          -2.051051139831543,
          -2.0480480194091797,
          -2.0450451374053955,
          -2.0420420169830322,
          -2.039039134979248,
          -2.0360360145568848,
          -2.0330331325531006,
          -2.0300300121307373,
          -2.027027130126953,
          -2.02402400970459,
          -2.0210211277008057,
          -2.0180180072784424,
          -2.015015125274658,
          -2.012012004852295,
          -2.0090091228485107,
          -2.0060060024261475,
          -2.0030031204223633,
          -2,
          -1.9969971179962158,
          -1.993994116783142,
          -1.9909909963607788,
          -1.987987995147705,
          -1.9849849939346313,
          -1.9819819927215576,
          -1.9789789915084839,
          -1.9759759902954102,
          -1.9729729890823364,
          -1.9699699878692627,
          -1.966966986656189,
          -1.9639639854431152,
          -1.9609609842300415,
          -1.9579579830169678,
          -1.954954981803894,
          -1.9519519805908203,
          -1.9489489793777466,
          -1.9459459781646729,
          -1.9429428577423096,
          -1.9399398565292358,
          -1.936936855316162,
          -1.9339338541030884,
          -1.9309308528900146,
          -1.927927851676941,
          -1.9249248504638672,
          -1.9219218492507935,
          -1.9189188480377197,
          -1.915915846824646,
          -1.9129128456115723,
          -1.9099098443984985,
          -1.9069068431854248,
          -1.903903841972351,
          -1.9009008407592773,
          -1.8978978395462036,
          -1.8948948383331299,
          -1.8918918371200562,
          -1.8888888359069824,
          -1.8858858346939087,
          -1.882882833480835,
          -1.8798798322677612,
          -1.8768768310546875,
          -1.8738738298416138,
          -1.87087082862854,
          -1.8678678274154663,
          -1.8648648262023926,
          -1.8618618249893188,
          -1.8588588237762451,
          -1.8558558225631714,
          -1.8528528213500977,
          -1.849849820137024,
          -1.8468468189239502,
          -1.8438438177108765,
          -1.8408408164978027,
          -1.837837815284729,
          -1.8348348140716553,
          -1.8318318128585815,
          -1.8288288116455078,
          -1.825825810432434,
          -1.8228228092193604,
          -1.8198198080062866,
          -1.816816806793213,
          -1.8138138055801392,
          -1.8108108043670654,
          -1.8078078031539917,
          -1.804804801940918,
          -1.8018018007278442,
          -1.7987987995147705,
          -1.7957957983016968,
          -1.792792797088623,
          -1.7897897958755493,
          -1.7867867946624756,
          -1.7837837934494019,
          -1.7807807922363281,
          -1.7777777910232544,
          -1.7747747898101807,
          -1.771771788597107,
          -1.7687687873840332,
          -1.7657657861709595,
          -1.7627627849578857,
          -1.759759783744812,
          -1.7567567825317383,
          -1.7537537813186646,
          -1.7507507801055908,
          -1.747747778892517,
          -1.7447447776794434,
          -1.7417417764663696,
          -1.738738775253296,
          -1.7357357740402222,
          -1.7327327728271484,
          -1.7297297716140747,
          -1.7267266511917114,
          -1.7237236499786377,
          -1.720720648765564,
          -1.7177176475524902,
          -1.7147146463394165,
          -1.7117116451263428,
          -1.708708643913269,
          -1.7057056427001953,
          -1.7027026414871216,
          -1.6996996402740479,
          -1.6966966390609741,
          -1.6936936378479004,
          -1.6906906366348267,
          -1.687687635421753,
          -1.6846846342086792,
          -1.6816816329956055,
          -1.6786786317825317,
          -1.675675630569458,
          -1.6726726293563843,
          -1.6696696281433105,
          -1.6666666269302368,
          -1.663663625717163,
          -1.6606606245040894,
          -1.6576576232910156,
          -1.654654622077942,
          -1.6516516208648682,
          -1.6486486196517944,
          -1.6456456184387207,
          -1.642642617225647,
          -1.6396396160125732,
          -1.6366366147994995,
          -1.6336336135864258,
          -1.630630612373352,
          -1.6276276111602783,
          -1.6246246099472046,
          -1.6216216087341309,
          -1.6186186075210571,
          -1.6156156063079834,
          -1.6126126050949097,
          -1.609609603881836,
          -1.6066066026687622,
          -1.6036036014556885,
          -1.6006006002426147,
          -1.597597599029541,
          -1.5945945978164673,
          -1.5915915966033936,
          -1.5885885953903198,
          -1.585585594177246,
          -1.5825825929641724,
          -1.5795795917510986,
          -1.576576590538025,
          -1.5735735893249512,
          -1.5705705881118774,
          -1.5675675868988037,
          -1.56456458568573,
          -1.5615615844726562,
          -1.558558464050293,
          -1.5555554628372192,
          -1.5525524616241455,
          -1.5495494604110718,
          -1.546546459197998,
          -1.5435434579849243,
          -1.5405404567718506,
          -1.5375374555587769,
          -1.5345344543457031,
          -1.5315314531326294,
          -1.5285284519195557,
          -1.525525450706482,
          -1.5225224494934082,
          -1.5195194482803345,
          -1.5165164470672607,
          -1.513513445854187,
          -1.5105104446411133,
          -1.5075074434280396,
          -1.5045044422149658,
          -1.501501441001892,
          -1.4984984397888184,
          -1.4954954385757446,
          -1.492492437362671,
          -1.4894894361495972,
          -1.486486554145813,
          -1.4834835529327393,
          -1.4804805517196655,
          -1.4774775505065918,
          -1.474474549293518,
          -1.4714715480804443,
          -1.4684685468673706,
          -1.4654655456542969,
          -1.4624625444412231,
          -1.4594595432281494,
          -1.4564565420150757,
          -1.453453540802002,
          -1.4504505395889282,
          -1.4474475383758545,
          -1.4444445371627808,
          -1.441441535949707,
          -1.4384384155273438,
          -1.43543541431427,
          -1.4324324131011963,
          -1.4294294118881226,
          -1.4264264106750488,
          -1.423423409461975,
          -1.4204204082489014,
          -1.4174174070358276,
          -1.414414405822754,
          -1.4114114046096802,
          -1.4084084033966064,
          -1.4054054021835327,
          -1.402402400970459,
          -1.3993993997573853,
          -1.3963963985443115,
          -1.3933933973312378,
          -1.390390396118164,
          -1.3873873949050903,
          -1.3843843936920166,
          -1.3813813924789429,
          -1.3783783912658691,
          -1.3753753900527954,
          -1.3723723888397217,
          -1.369369387626648,
          -1.3663663864135742,
          -1.3633633852005005,
          -1.3603603839874268,
          -1.357357382774353,
          -1.3543543815612793,
          -1.3513513803482056,
          -1.3483483791351318,
          -1.345345377922058,
          -1.3423423767089844,
          -1.3393393754959106,
          -1.336336374282837,
          -1.3333333730697632,
          -1.3303303718566895,
          -1.3273273706436157,
          -1.324324369430542,
          -1.3213213682174683,
          -1.3183183670043945,
          -1.3153153657913208,
          -1.312312364578247,
          -1.3093093633651733,
          -1.3063063621520996,
          -1.3033033609390259,
          -1.3003003597259521,
          -1.2972973585128784,
          -1.2942943572998047,
          -1.291291356086731,
          -1.2882883548736572,
          -1.2852853536605835,
          -1.2822823524475098,
          -1.279279351234436,
          -1.2762763500213623,
          -1.2732733488082886,
          -1.2702703475952148,
          -1.2672673463821411,
          -1.2642643451690674,
          -1.2612613439559937,
          -1.25825834274292,
          -1.2552553415298462,
          -1.2522523403167725,
          -1.2492493391036987,
          -1.2462462186813354,
          -1.2432432174682617,
          -1.240240216255188,
          -1.2372372150421143,
          -1.2342342138290405,
          -1.2312312126159668,
          -1.228228211402893,
          -1.2252252101898193,
          -1.2222222089767456,
          -1.2192192077636719,
          -1.2162162065505981,
          -1.2132132053375244,
          -1.2102102041244507,
          -1.207207202911377,
          -1.2042042016983032,
          -1.2012012004852295,
          -1.1981981992721558,
          -1.195195198059082,
          -1.1921921968460083,
          -1.1891891956329346,
          -1.1861861944198608,
          -1.183183193206787,
          -1.1801801919937134,
          -1.1771771907806396,
          -1.174174189567566,
          -1.1711711883544922,
          -1.1681681871414185,
          -1.1651651859283447,
          -1.162162184715271,
          -1.1591591835021973,
          -1.1561561822891235,
          -1.1531531810760498,
          -1.150150179862976,
          -1.1471471786499023,
          -1.1441441774368286,
          -1.1411411762237549,
          -1.1381381750106812,
          -1.1351351737976074,
          -1.1321321725845337,
          -1.12912917137146,
          -1.1261261701583862,
          -1.1231231689453125,
          -1.1201201677322388,
          -1.117117166519165,
          -1.1141141653060913,
          -1.1111111640930176,
          -1.1081081628799438,
          -1.1051051616668701,
          -1.1021021604537964,
          -1.0990991592407227,
          -1.096096158027649,
          -1.0930931568145752,
          -1.0900901556015015,
          -1.0870871543884277,
          -1.084084153175354,
          -1.0810811519622803,
          -1.0780781507492065,
          -1.0750751495361328,
          -1.072072148323059,
          -1.0690691471099854,
          -1.0660661458969116,
          -1.063063144683838,
          -1.0600601434707642,
          -1.0570571422576904,
          -1.0540540218353271,
          -1.0510510206222534,
          -1.0480480194091797,
          -1.045045018196106,
          -1.0420420169830322,
          -1.0390390157699585,
          -1.0360360145568848,
          -1.033033013343811,
          -1.0300300121307373,
          -1.0270270109176636,
          -1.0240240097045898,
          -1.0210210084915161,
          -1.0180180072784424,
          -1.0150150060653687,
          -1.012012004852295,
          -1.0090090036392212,
          -1.0060060024261475,
          -1.0030030012130737,
          -1,
          -0.9969969987869263,
          -0.9939939975738525,
          -0.9909909963607788,
          -0.9879879951477051,
          -0.9849849939346313,
          -0.9819819927215576,
          -0.9789789915084839,
          -0.9759759902954102,
          -0.9729729890823364,
          -0.9699699878692627,
          -0.966966986656189,
          -0.9639639854431152,
          -0.9609609842300415,
          -0.9579579830169678,
          -0.954954981803894,
          -0.9519519805908203,
          -0.9489489793777466,
          -0.9459459781646729,
          -0.9429429769515991,
          -0.9399399757385254,
          -0.9369369745254517,
          -0.9339339733123779,
          -0.9309309720993042,
          -0.9279279708862305,
          -0.9249249696731567,
          -0.921921968460083,
          -0.9189189672470093,
          -0.9159159660339355,
          -0.9129129648208618,
          -0.9099099040031433,
          -0.9069069027900696,
          -0.9039039015769958,
          -0.9009009003639221,
          -0.8978978991508484,
          -0.8948948979377747,
          -0.8918918967247009,
          -0.8888888955116272,
          -0.8858858942985535,
          -0.8828828930854797,
          -0.879879891872406,
          -0.8768768906593323,
          -0.8738738894462585,
          -0.8708708882331848,
          -0.8678678870201111,
          -0.8648648858070374,
          -0.8618618845939636,
          -0.8588588833808899,
          -0.8558558821678162,
          -0.8528528809547424,
          -0.8498498797416687,
          -0.846846878528595,
          -0.8438438773155212,
          -0.8408408761024475,
          -0.8378378748893738,
          -0.8348348736763,
          -0.8318318724632263,
          -0.8288288712501526,
          -0.8258258700370789,
          -0.8228228688240051,
          -0.8198198676109314,
          -0.8168168663978577,
          -0.8138138055801392,
          -0.8108108043670654,
          -0.8078078031539917,
          -0.804804801940918,
          -0.8018018007278442,
          -0.7987987995147705,
          -0.7957957983016968,
          -0.792792797088623,
          -0.7897897958755493,
          -0.7867867946624756,
          -0.7837837934494019,
          -0.7807807922363281,
          -0.7777777910232544,
          -0.7747747898101807,
          -0.7717717885971069,
          -0.7687687873840332,
          -0.7657657861709595,
          -0.7627627849578857,
          -0.759759783744812,
          -0.7567567825317383,
          -0.7537537813186646,
          -0.7507507801055908,
          -0.7477477788925171,
          -0.7447447776794434,
          -0.7417417764663696,
          -0.7387387752532959,
          -0.7357357740402222,
          -0.7327327728271484,
          -0.7297297716140747,
          -0.726726770401001,
          -0.7237237691879272,
          -0.7207207679748535,
          -0.717717707157135,
          -0.7147147059440613,
          -0.7117117047309875,
          -0.7087087035179138,
          -0.7057057023048401,
          -0.7027027010917664,
          -0.6996996998786926,
          -0.6966966986656189,
          -0.6936936974525452,
          -0.6906906962394714,
          -0.6876876950263977,
          -0.684684693813324,
          -0.6816816926002502,
          -0.6786786913871765,
          -0.6756756901741028,
          -0.672672688961029,
          -0.6696696877479553,
          -0.6666666865348816,
          -0.6636636853218079,
          -0.6606606841087341,
          -0.6576576828956604,
          -0.6546546816825867,
          -0.6516516804695129,
          -0.6486486792564392,
          -0.6456456780433655,
          -0.6426426768302917,
          -0.639639675617218,
          -0.6366366744041443,
          -0.6336336731910706,
          -0.6306306719779968,
          -0.6276276707649231,
          -0.6246246695518494,
          -0.6216216087341309,
          -0.6186186075210571,
          -0.6156156063079834,
          -0.6126126050949097,
          -0.6096096038818359,
          -0.6066066026687622,
          -0.6036036014556885,
          -0.6006006002426147,
          -0.597597599029541,
          -0.5945945978164673,
          -0.5915915966033936,
          -0.5885885953903198,
          -0.5855855941772461,
          -0.5825825929641724,
          -0.5795795917510986,
          -0.5765765905380249,
          -0.5735735893249512,
          -0.5705705881118774,
          -0.5675675868988037,
          -0.56456458568573,
          -0.5615615844726562,
          -0.5585585832595825,
          -0.5555555820465088,
          -0.5525525808334351,
          -0.5495495796203613,
          -0.5465465784072876,
          -0.5435435771942139,
          -0.5405405759811401,
          -0.5375375747680664,
          -0.5345345735549927,
          -0.531531572341919,
          -0.5285285711288452,
          -0.5255255103111267,
          -0.522522509098053,
          -0.5195195078849792,
          -0.5165165066719055,
          -0.5135135054588318,
          -0.5105105042457581,
          -0.5075075030326843,
          -0.5045045018196106,
          -0.5015015006065369,
          -0.49849849939346313,
          -0.4954954981803894,
          -0.4924924969673157,
          -0.48948949575424194,
          -0.4864864945411682,
          -0.4834834933280945,
          -0.48048049211502075,
          -0.477477490901947,
          -0.4744744896888733,
          -0.47147148847579956,
          -0.46846848726272583,
          -0.4654654860496521,
          -0.46246248483657837,
          -0.45945948362350464,
          -0.4564564824104309,
          -0.4534534513950348,
          -0.45045045018196106,
          -0.44744744896888733,
          -0.4444444477558136,
          -0.44144144654273987,
          -0.43843844532966614,
          -0.4354354441165924,
          -0.4324324429035187,
          -0.42942944169044495,
          -0.4264264404773712,
          -0.4234234392642975,
          -0.42042043805122375,
          -0.41741743683815,
          -0.4144144356250763,
          -0.41141143441200256,
          -0.40840843319892883,
          -0.4054054021835327,
          -0.402402400970459,
          -0.39939939975738525,
          -0.3963963985443115,
          -0.3933933973312378,
          -0.39039039611816406,
          -0.38738739490509033,
          -0.3843843936920166,
          -0.38138139247894287,
          -0.37837839126586914,
          -0.3753753900527954,
          -0.3723723888397217,
          -0.36936938762664795,
          -0.3663663864135742,
          -0.3633633852005005,
          -0.36036038398742676,
          -0.35735735297203064,
          -0.3543543517589569,
          -0.3513513505458832,
          -0.34834834933280945,
          -0.3453453481197357,
          -0.342342346906662,
          -0.33933934569358826,
          -0.3363363444805145,
          -0.3333333432674408,
          -0.33033034205436707,
          -0.32732734084129333,
          -0.3243243396282196,
          -0.3213213384151459,
          -0.31831833720207214,
          -0.3153153359889984,
          -0.3123123347759247,
          -0.30930930376052856,
          -0.30630630254745483,
          -0.3033033013343811,
          -0.3003003001213074,
          -0.29729729890823364,
          -0.2942942976951599,
          -0.2912912964820862,
          -0.28828829526901245,
          -0.2852852940559387,
          -0.282282292842865,
          -0.27927929162979126,
          -0.27627629041671753,
          -0.2732732892036438,
          -0.27027028799057007,
          -0.26726728677749634,
          -0.2642642855644226,
          -0.2612612545490265,
          -0.25825825333595276,
          -0.25525525212287903,
          -0.2522522509098053,
          -0.24924924969673157,
          -0.24624623358249664,
          -0.2432432323694229,
          -0.24024023115634918,
          -0.23723724484443665,
          -0.23423424363136292,
          -0.23123124241828918,
          -0.22822824120521545,
          -0.22522523999214172,
          -0.2222222238779068,
          -0.21921922266483307,
          -0.21621622145175934,
          -0.2132132202386856,
          -0.21021021902561188,
          -0.20720721781253815,
          -0.20420421659946442,
          -0.2012012004852295,
          -0.19819819927215576,
          -0.19519519805908203,
          -0.1921921968460083,
          -0.18918919563293457,
          -0.18618619441986084,
          -0.1831831932067871,
          -0.18018019199371338,
          -0.17717719078063965,
          -0.17417417466640472,
          -0.171171173453331,
          -0.16816817224025726,
          -0.16516517102718353,
          -0.1621621698141098,
          -0.15915916860103607,
          -0.15615616738796234,
          -0.15315315127372742,
          -0.1501501500606537,
          -0.14714714884757996,
          -0.14414414763450623,
          -0.1411411464214325,
          -0.13813814520835876,
          -0.13513514399528503,
          -0.1321321427822113,
          -0.12912914156913757,
          -0.12612612545490265,
          -0.12312312424182892,
          -0.12012012302875519,
          -0.11711712181568146,
          -0.11411412060260773,
          -0.111111119389534,
          -0.10810811072587967,
          -0.10510510951280594,
          -0.10210210829973221,
          -0.09909909963607788,
          -0.09609609842300415,
          -0.09309309720993042,
          -0.09009009599685669,
          -0.08708709478378296,
          -0.08408408612012863,
          -0.0810810849070549,
          -0.07807808369398117,
          -0.07507507503032684,
          -0.07207207381725311,
          -0.06906907260417938,
          -0.06606607139110565,
          -0.06306307017803192,
          -0.060060061514377594,
          -0.057057060301303864,
          -0.05405405908823013,
          -0.051051054149866104,
          -0.048048049211502075,
          -0.045045047998428345,
          -0.042042046785354614,
          -0.039039041846990585,
          -0.036036036908626556,
          -0.033033035695552826,
          -0.030030032619833946,
          -0.027027029544115067,
          -0.024024026468396187,
          -0.021021021530032158,
          -0.018018018454313278,
          -0.015015015378594398,
          -0.012012012302875519,
          -0.009009009227156639,
          -0.006006006151437759,
          -0.0030030030757188797,
          0
         ],
         "xaxis": "x",
         "y": [
          5.581334590911865,
          6.48044490814209,
          6.062182903289795,
          5.596279621124268,
          5.528017520904541,
          6.79899787902832,
          5.8995842933654785,
          6.1514387130737305,
          6.78216552734375,
          6.817181587219238,
          5.837460041046143,
          5.612707138061523,
          6.804496765136719,
          5.947103023529053,
          5.8738179206848145,
          6.260052680969238,
          5.129563808441162,
          6.455685615539551,
          5.7340407371521,
          5.824926376342773,
          6.026447772979736,
          6.453230857849121,
          5.486783981323242,
          5.743517875671387,
          5.74696159362793,
          5.496608734130859,
          4.991973876953125,
          6.286085605621338,
          5.897387504577637,
          6.057374954223633,
          5.381366729736328,
          6.22650146484375,
          5.8795061111450195,
          5.162416458129883,
          6.001928329467773,
          6.3493781089782715,
          6.434410095214844,
          5.494793891906738,
          6.061225891113281,
          5.644218444824219,
          5.458379745483398,
          5.967901706695557,
          5.816666603088379,
          5.442380905151367,
          6.082183361053467,
          6.71896505355835,
          5.672740459442139,
          6.153081893920898,
          5.887640953063965,
          5.325006484985352,
          6.940701961517334,
          5.561113357543945,
          5.804487705230713,
          5.728756904602051,
          6.146634101867676,
          5.29780387878418,
          6.113673210144043,
          5.075636863708496,
          6.191404819488525,
          6.2419023513793945,
          5.342629432678223,
          6.295838356018066,
          4.97661828994751,
          6.214998722076416,
          5.824150562286377,
          6.189018726348877,
          5.7477006912231445,
          6.105581283569336,
          6.308289527893066,
          5.8507513999938965,
          5.471329212188721,
          6.021050453186035,
          5.782886981964111,
          5.4422712326049805,
          5.774753093719482,
          5.881340026855469,
          5.555273056030273,
          6.442437171936035,
          5.507925987243652,
          5.942108154296875,
          6.131991386413574,
          5.959295272827148,
          6.359433650970459,
          5.652972221374512,
          6.0756072998046875,
          4.907740116119385,
          6.2982497215271,
          5.391879558563232,
          5.509775638580322,
          6.109861373901367,
          5.841349124908447,
          5.3730387687683105,
          5.817898273468018,
          5.903316974639893,
          5.7566399574279785,
          5.110255718231201,
          5.8316874504089355,
          6.254985332489014,
          4.727136611938477,
          6.582254409790039,
          6.078804016113281,
          5.38476037979126,
          5.326935291290283,
          5.687234878540039,
          4.9314165115356445,
          5.565308094024658,
          6.176495552062988,
          5.281775951385498,
          5.600919246673584,
          6.0048933029174805,
          5.80070686340332,
          5.322745323181152,
          6.847073078155518,
          6.258639812469482,
          5.033291339874268,
          4.82484245300293,
          5.878952980041504,
          5.45626163482666,
          5.2990522384643555,
          5.600122451782227,
          5.163694381713867,
          5.446700572967529,
          5.748839855194092,
          4.932736873626709,
          5.803487300872803,
          5.685816764831543,
          5.168208599090576,
          5.520866870880127,
          5.344801902770996,
          4.766568660736084,
          5.730518817901611,
          5.375548839569092,
          5.747002124786377,
          4.844342231750488,
          4.819219589233398,
          6.31485652923584,
          5.651517868041992,
          5.423519134521484,
          5.475432395935059,
          5.105776309967041,
          5.562208652496338,
          5.439890384674072,
          5.660210132598877,
          5.234261989593506,
          4.802042007446289,
          5.7074761390686035,
          6.078428268432617,
          5.051788330078125,
          5.589608669281006,
          5.204556941986084,
          5.52822732925415,
          4.997398376464844,
          6.047799110412598,
          4.8568315505981445,
          5.565934181213379,
          6.218780994415283,
          4.127573013305664,
          5.649893283843994,
          5.192389011383057,
          5.209206581115723,
          5.232388973236084,
          5.705118656158447,
          4.805849075317383,
          5.798422813415527,
          5.424055099487305,
          5.596026420593262,
          5.399785995483398,
          5.394363880157471,
          5.3611955642700195,
          5.025506019592285,
          5.817427635192871,
          4.47541618347168,
          4.894809246063232,
          5.595861911773682,
          4.981578826904297,
          5.625533580780029,
          5.696976184844971,
          4.984821319580078,
          5.922006130218506,
          5.216502666473389,
          4.580615520477295,
          4.40086555480957,
          4.99913215637207,
          5.455617904663086,
          4.255871772766113,
          5.263110160827637,
          5.135336399078369,
          4.9892659187316895,
          4.997591018676758,
          5.233166694641113,
          4.814060211181641,
          4.900108337402344,
          4.8716301918029785,
          4.709623336791992,
          4.766891002655029,
          5.0480451583862305,
          4.590437412261963,
          4.740579605102539,
          5.5951032638549805,
          5.497918128967285,
          4.5944952964782715,
          6.204160690307617,
          5.050377368927002,
          4.727758884429932,
          5.300889492034912,
          5.0209431648254395,
          5.248013019561768,
          5.390527248382568,
          5.315399646759033,
          4.865438938140869,
          5.110346794128418,
          5.344072341918945,
          4.950719833374023,
          5.184475421905518,
          5.292436122894287,
          5.271463871002197,
          4.448552131652832,
          4.866319179534912,
          5.072390556335449,
          3.934116840362549,
          4.510762691497803,
          5.783443927764893,
          4.797224044799805,
          4.694682598114014,
          5.153652191162109,
          4.8938727378845215,
          4.904677391052246,
          4.669853210449219,
          5.246392250061035,
          4.454030990600586,
          4.284775733947754,
          4.411768436431885,
          4.966019630432129,
          5.055051803588867,
          4.874120235443115,
          4.755396842956543,
          4.0981621742248535,
          4.658348560333252,
          4.524838447570801,
          4.948904037475586,
          4.1717848777771,
          5.04063081741333,
          5.3046979904174805,
          4.381834983825684,
          3.8334250450134277,
          4.905108451843262,
          5.22755241394043,
          5.110473155975342,
          4.810348987579346,
          4.737051010131836,
          5.384222507476807,
          4.93147087097168,
          4.674448490142822,
          5.02322244644165,
          4.020733833312988,
          4.981276512145996,
          4.613126277923584,
          4.023313045501709,
          4.8516340255737305,
          4.297986030578613,
          4.152990818023682,
          4.970203399658203,
          4.498317241668701,
          4.8994317054748535,
          4.5965471267700195,
          4.777548789978027,
          4.614566802978516,
          4.239686965942383,
          4.574875354766846,
          4.45233154296875,
          3.46134614944458,
          4.166367053985596,
          4.6620917320251465,
          3.946510076522827,
          4.46608829498291,
          4.366430282592773,
          4.1982340812683105,
          4.21355676651001,
          4.845980644226074,
          4.336879253387451,
          4.58292818069458,
          4.4432549476623535,
          3.7700324058532715,
          4.349696159362793,
          3.8089208602905273,
          4.5610857009887695,
          4.431344509124756,
          4.4708333015441895,
          4.7901482582092285,
          4.009773254394531,
          3.7780675888061523,
          4.592839241027832,
          4.551751613616943,
          4.1955366134643555,
          4.388039588928223,
          4.281039714813232,
          4.131721019744873,
          3.906406879425049,
          4.053347110748291,
          4.776097297668457,
          4.648812770843506,
          3.791273355484009,
          4.869287490844727,
          4.4124369621276855,
          3.623124599456787,
          3.8873214721679688,
          3.916736125946045,
          4.270519733428955,
          4.529173374176025,
          4.109474182128906,
          4.555878639221191,
          4.226097106933594,
          4.50526237487793,
          4.496455669403076,
          4.876168727874756,
          4.4740376472473145,
          4.5222368240356445,
          4.417242527008057,
          3.3961143493652344,
          3.2686569690704346,
          4.327882766723633,
          3.9705419540405273,
          4.628305435180664,
          4.014228820800781,
          3.8763606548309326,
          3.9909939765930176,
          4.282116889953613,
          3.454367160797119,
          4.279829502105713,
          3.756209373474121,
          4.18527889251709,
          4.1527485847473145,
          4.090200424194336,
          4.0605998039245605,
          3.8499464988708496,
          4.61176872253418,
          3.9392576217651367,
          3.644030809402466,
          3.440990447998047,
          4.347665786743164,
          3.9709091186523438,
          4.393573760986328,
          3.9139297008514404,
          3.6745665073394775,
          4.078646659851074,
          3.6010994911193848,
          4.013802528381348,
          3.577979564666748,
          3.6690168380737305,
          3.9608397483825684,
          4.074526309967041,
          3.771095037460327,
          4.208088397979736,
          3.7492735385894775,
          3.26977276802063,
          3.752936601638794,
          3.5258407592773438,
          3.483499526977539,
          3.3228557109832764,
          3.625624179840088,
          3.789185047149658,
          3.874969720840454,
          3.4780776500701904,
          3.3023130893707275,
          4.453999996185303,
          3.479989767074585,
          3.9614551067352295,
          3.172410249710083,
          4.409427165985107,
          4.321788787841797,
          4.20447301864624,
          3.3348193168640137,
          4.303514003753662,
          3.6756300926208496,
          3.454209327697754,
          3.1215765476226807,
          3.294851541519165,
          4.3877482414245605,
          3.947528123855591,
          3.0285091400146484,
          3.6857199668884277,
          3.856811761856079,
          3.7431235313415527,
          4.152651309967041,
          3.679109573364258,
          3.148970603942871,
          3.3243446350097656,
          3.742884635925293,
          3.6341500282287598,
          3.6063613891601562,
          3.718136787414551,
          3.429953098297119,
          3.758823871612549,
          4.209447860717773,
          3.613255262374878,
          3.4433937072753906,
          3.62068510055542,
          3.532991409301758,
          3.867202043533325,
          3.1523449420928955,
          3.796835422515869,
          3.5996251106262207,
          3.66203236579895,
          3.7956550121307373,
          3.857900619506836,
          3.4301557540893555,
          4.293169975280762,
          3.2973527908325195,
          3.9380741119384766,
          4.067749977111816,
          3.0527210235595703,
          3.5438649654388428,
          3.9794423580169678,
          3.0658133029937744,
          3.7504940032958984,
          3.6990482807159424,
          4.390717029571533,
          3.6666767597198486,
          3.248108148574829,
          3.8059005737304688,
          4.114191055297852,
          3.9120185375213623,
          4.302034378051758,
          2.882451057434082,
          3.3124470710754395,
          3.3388378620147705,
          3.2042057514190674,
          3.792973279953003,
          3.111605644226074,
          3.504894495010376,
          3.029925584793091,
          3.4852192401885986,
          3.112621307373047,
          3.4796159267425537,
          3.378462553024292,
          3.3852179050445557,
          3.566364288330078,
          3.210042953491211,
          3.8072853088378906,
          3.824615955352783,
          4.270289897918701,
          2.6252102851867676,
          3.115246057510376,
          3.6080663204193115,
          3.431075096130371,
          3.7666943073272705,
          3.021195411682129,
          3.423131227493286,
          3.1189193725585938,
          3.284787893295288,
          3.124582290649414,
          2.9510064125061035,
          3.558438301086426,
          3.4552576541900635,
          3.370405435562134,
          3.26948618888855,
          3.115870237350464,
          3.8609817028045654,
          3.0926549434661865,
          3.8014109134674072,
          3.592556953430176,
          2.827735185623169,
          3.337430953979492,
          2.9091854095458984,
          3.226815700531006,
          3.15179181098938,
          3.036710500717163,
          3.418280839920044,
          2.9893405437469482,
          2.837080717086792,
          3.408200740814209,
          2.8065383434295654,
          3.644775152206421,
          3.3099758625030518,
          3.476160764694214,
          3.0491063594818115,
          2.709503650665283,
          3.0327794551849365,
          3.2149596214294434,
          3.267653703689575,
          3.3538308143615723,
          3.0111894607543945,
          3.0163278579711914,
          3.0966920852661133,
          3.4210848808288574,
          3.225571632385254,
          3.517275810241699,
          3.3773117065429688,
          3.24766206741333,
          3.888397455215454,
          3.082810401916504,
          3.4297919273376465,
          3.3902390003204346,
          3.1860835552215576,
          2.8666210174560547,
          3.035890579223633,
          3.200221061706543,
          2.8430614471435547,
          3.6355316638946533,
          3.3755946159362793,
          2.9933712482452393,
          3.512725353240967,
          3.326223611831665,
          3.240605115890503,
          3.1906347274780273,
          3.4346179962158203,
          3.02150821685791,
          3.2837259769439697,
          2.625220537185669,
          2.619762659072876,
          3.2234582901000977,
          3.2602028846740723,
          3.6412105560302734,
          3.1786396503448486,
          3.3989343643188477,
          3.2530500888824463,
          3.312281370162964,
          3.5736076831817627,
          3.1947169303894043,
          2.7767810821533203,
          3.0361201763153076,
          3.7347326278686523,
          2.8717739582061768,
          2.961588144302368,
          3.292816638946533,
          2.9240641593933105,
          2.841242790222168,
          3.0351333618164062,
          2.963808536529541,
          3.9901771545410156,
          3.252852201461792,
          3.3450238704681396,
          2.746628999710083,
          3.078096389770508,
          3.3383309841156006,
          3.3287951946258545,
          3.022650718688965,
          3.0617048740386963,
          3.0846431255340576,
          3.1898248195648193,
          2.975795269012451,
          2.768519401550293,
          2.663987636566162,
          3.010756731033325,
          3.3848111629486084,
          2.763326644897461,
          3.085024118423462,
          3.379335880279541,
          2.666611671447754,
          2.9879424571990967,
          3.082808494567871,
          2.9925174713134766,
          2.6561083793640137,
          3.4563210010528564,
          3.1290361881256104,
          2.7682156562805176,
          3.2928833961486816,
          2.960766315460205,
          3.04569411277771,
          3.330948829650879,
          3.2217912673950195,
          2.912003755569458,
          3.0271410942077637,
          2.8634068965911865,
          3.0900721549987793,
          3.12103533744812,
          2.9843661785125732,
          2.992730140686035,
          3.2339274883270264,
          3.3340508937835693,
          3.3723208904266357,
          2.986807107925415,
          3.108196258544922,
          2.9446957111358643,
          2.9511637687683105,
          3.175593852996826,
          2.952134132385254,
          2.6206867694854736,
          2.894324779510498,
          2.832014799118042,
          3.453524112701416,
          2.8745408058166504,
          3.1320807933807373,
          3.0888519287109375,
          2.9543399810791016,
          2.738691568374634,
          3.134598731994629,
          2.7008073329925537,
          3.0042128562927246,
          2.6069369316101074,
          2.7886040210723877,
          2.8443613052368164,
          2.7879152297973633,
          2.7827582359313965,
          3.0436689853668213,
          2.9176807403564453,
          3.0784413814544678,
          3.0381391048431396,
          2.9438188076019287,
          2.7480340003967285,
          3.3002748489379883,
          2.639172315597534,
          3.0640268325805664,
          3.1472363471984863,
          2.6450140476226807,
          2.942262649536133,
          2.829176902770996,
          3.1765239238739014,
          2.835885524749756,
          2.6514110565185547,
          3.5335872173309326,
          2.89595890045166,
          3.036470413208008,
          3.082331895828247,
          2.673187255859375,
          2.7226688861846924,
          3.315664291381836,
          2.7946505546569824,
          3.0659093856811523,
          2.8731613159179688,
          2.62485671043396,
          3.1536219120025635,
          2.9655814170837402,
          2.6561813354492188,
          3.4164257049560547,
          2.798952579498291,
          2.608738899230957,
          2.5007834434509277,
          3.0300533771514893,
          2.2501473426818848,
          2.563638210296631,
          2.602175235748291,
          2.809415340423584,
          2.8931288719177246,
          3.139996290206909,
          2.6599526405334473,
          2.8116350173950195,
          3.2939233779907227,
          2.7537505626678467,
          2.864051580429077,
          3.3987410068511963,
          2.5710678100585938,
          2.9202752113342285,
          2.799588441848755,
          2.941035270690918,
          3.1822855472564697,
          2.924138069152832,
          2.9579508304595947,
          2.827371120452881,
          2.8648784160614014,
          2.953873634338379,
          2.817873001098633,
          2.592637777328491,
          3.1196446418762207,
          2.303945541381836,
          2.5021538734436035,
          2.7180886268615723,
          2.82315993309021,
          2.7748630046844482,
          2.7805304527282715,
          3.205761194229126,
          2.8195152282714844,
          2.8809585571289062,
          3.183114528656006,
          3.181166410446167,
          2.9999477863311768,
          3.216776132583618,
          2.781280994415283,
          2.7907474040985107,
          2.6917569637298584,
          2.974595546722412,
          2.9761881828308105,
          2.738264560699463,
          2.6568524837493896,
          3.083406925201416,
          2.772550106048584,
          2.850271463394165,
          2.4641928672790527,
          3.10064435005188,
          3.2650678157806396,
          2.992567300796509,
          2.721510410308838,
          3.065567970275879,
          2.8940916061401367,
          3.0130670070648193,
          3.1507034301757812,
          2.651250123977661,
          2.7244534492492676,
          2.9864399433135986,
          3.1816532611846924,
          2.8353445529937744,
          2.735424041748047,
          2.979691743850708,
          2.6656689643859863,
          2.613888740539551,
          2.833594799041748,
          3.14068603515625,
          2.8563759326934814,
          2.8082454204559326,
          2.8514745235443115,
          2.49212646484375,
          3.3826708793640137,
          3.115180730819702,
          2.5983943939208984,
          2.9025394916534424,
          2.8081119060516357,
          2.8824594020843506,
          2.9676249027252197,
          2.6184773445129395,
          2.829324960708618,
          2.6782777309417725,
          3.2624306678771973,
          2.7147514820098877,
          2.8514175415039062,
          2.960326910018921,
          2.8940322399139404,
          2.652155637741089,
          2.73654842376709,
          2.66933274269104,
          2.7094409465789795,
          2.7905125617980957,
          3.008732318878174,
          2.3591949939727783,
          3.0818662643432617,
          2.585378408432007,
          2.70078706741333,
          3.028075933456421,
          2.95267391204834,
          3.149793863296509,
          2.789503812789917,
          3.2283709049224854,
          2.8158037662506104,
          3.501466989517212,
          2.500783681869507,
          3.2744572162628174,
          2.7738468647003174,
          3.1670784950256348,
          3.0014007091522217,
          2.840423107147217,
          3.2956814765930176,
          2.8250463008880615,
          2.8911190032958984,
          2.573866367340088,
          2.8077425956726074,
          2.895040512084961,
          2.9667744636535645,
          3.011704206466675,
          2.830740213394165,
          2.9156136512756348,
          2.852808952331543,
          3.228499412536621,
          2.7574665546417236,
          2.758165121078491,
          2.8900604248046875,
          2.6453232765197754,
          2.72578763961792,
          2.4342973232269287,
          2.885578155517578,
          2.505896806716919,
          3.0965006351470947,
          3.015537977218628,
          2.6113526821136475,
          2.8862056732177734,
          2.595447301864624,
          2.7886300086975098,
          2.9117133617401123,
          2.566532850265503,
          3.1297810077667236,
          2.462026596069336,
          2.7434072494506836,
          2.4483463764190674,
          3.3776028156280518,
          2.659240961074829,
          2.814650058746338,
          3.078993797302246,
          2.860551357269287,
          2.9277358055114746,
          2.7907168865203857,
          2.3527944087982178,
          2.8626201152801514,
          2.663520336151123,
          2.7786552906036377,
          2.890674352645874,
          2.4642391204833984,
          3.2090210914611816,
          2.496872663497925,
          2.2552802562713623,
          2.918657064437866,
          2.8152096271514893,
          2.7100701332092285,
          2.859502077102661,
          2.7818753719329834,
          2.765136241912842,
          3.0882890224456787,
          2.704782247543335,
          2.846806764602661,
          2.4610519409179688,
          2.721313714981079,
          2.7453789710998535,
          2.9666285514831543,
          2.907536268234253,
          2.8912746906280518,
          2.9660370349884033,
          2.797070026397705,
          2.793769121170044,
          2.7001328468322754,
          2.7619693279266357,
          2.8918046951293945,
          2.630634307861328,
          2.949065685272217,
          3.26633620262146,
          3.162900924682617,
          2.9282822608947754,
          3.227036952972412,
          2.700817108154297,
          2.493124008178711,
          2.921497106552124,
          2.882033586502075,
          2.8011975288391113,
          2.43049693107605,
          3.3357722759246826,
          3.5924811363220215,
          2.8538832664489746,
          3.083793878555298,
          2.596599578857422,
          2.7185182571411133,
          2.7061405181884766,
          3.0109314918518066,
          2.5752201080322266,
          2.780303716659546,
          2.704892873764038,
          2.896198034286499,
          2.5238354206085205,
          2.9911460876464844,
          2.812262535095215,
          3.0417256355285645,
          3.562512159347534,
          3.306121587753296,
          2.734423875808716,
          2.6994168758392334,
          3.166825532913208,
          3.010592222213745,
          2.8953588008880615,
          2.499847888946533,
          3.0050597190856934,
          2.6319422721862793,
          3.0825958251953125,
          2.4664154052734375,
          3.206888198852539,
          2.874983787536621,
          3.1647374629974365,
          2.856863498687744,
          2.632844924926758,
          3.2441983222961426,
          3.2502856254577637,
          2.828855514526367,
          3.0108349323272705,
          2.7331924438476562,
          2.726842164993286,
          3.0279526710510254,
          2.926260232925415,
          3.2799508571624756,
          3.0796661376953125,
          3.321556329727173,
          3.349853038787842,
          2.589066982269287,
          2.5665082931518555,
          2.684812545776367,
          3.019853353500366,
          2.79042387008667,
          3.1486775875091553,
          2.377835750579834,
          2.7754287719726562,
          2.580615282058716,
          2.9078662395477295,
          2.79209303855896,
          2.561426877975464,
          2.9570109844207764,
          2.7666327953338623,
          3.176318645477295,
          3.259838581085205,
          3.022613048553467,
          3.0780978202819824,
          2.839916229248047,
          3.067981481552124,
          3.143510580062866,
          2.2308521270751953,
          3.148127317428589,
          2.210155963897705,
          2.84358286857605,
          2.6094188690185547,
          3.20267391204834,
          3.374810218811035,
          2.453486442565918,
          3.0533502101898193,
          2.7943170070648193,
          3.6058223247528076,
          2.5999958515167236,
          3.3304057121276855,
          2.9428627490997314,
          3.370488166809082,
          3.164747953414917,
          2.9332191944122314,
          3.5450971126556396,
          3.3926169872283936,
          3.133115530014038,
          3.0250892639160156,
          3.1270639896392822,
          3.106755495071411,
          2.7221105098724365,
          2.7430896759033203,
          3.630800724029541,
          2.9896864891052246,
          3.4013986587524414,
          3.2738423347473145,
          2.6258788108825684,
          3.242264986038208,
          3.3486199378967285,
          3.021685838699341,
          3.020237922668457,
          2.9347379207611084,
          2.897005796432495,
          3.2331464290618896,
          3.075192928314209,
          2.925255537033081,
          3.2436330318450928,
          3.1182925701141357,
          3.7303266525268555,
          3.248093605041504,
          3.8121676445007324,
          2.6550755500793457,
          3.0361714363098145,
          3.2085578441619873,
          2.9288787841796875,
          3.4433813095092773,
          3.453235626220703,
          3.0078749656677246,
          3.3793323040008545,
          3.1467056274414062,
          3.1770009994506836,
          3.2506814002990723,
          3.362172842025757,
          3.4258687496185303,
          3.59025239944458,
          3.1722397804260254,
          3.715118646621704,
          3.066663980484009,
          4.028375625610352,
          3.252655267715454,
          2.9743528366088867,
          3.345327138900757,
          3.1923508644104004,
          3.5124380588531494,
          3.476973056793213,
          3.3346173763275146,
          3.276655435562134,
          2.848942756652832,
          2.629239559173584,
          3.242410898208618,
          3.0654361248016357,
          3.1350162029266357,
          2.834401845932007,
          2.852288246154785,
          3.6675922870635986,
          3.404397964477539,
          3.2212140560150146,
          2.820517063140869,
          3.3202598094940186,
          2.655872344970703,
          3.770033836364746,
          3.312285900115967,
          3.538262367248535,
          2.9809134006500244,
          2.9397389888763428,
          3.026005268096924,
          3.1714580059051514,
          3.5872201919555664,
          3.523794651031494,
          3.2332277297973633,
          3.106455087661743,
          4.3993096351623535,
          3.5092718601226807,
          4.70035982131958,
          4.902312278747559,
          3.805063009262085,
          4.64553165435791,
          3.2736563682556152,
          4.23823356628418,
          3.142085313796997,
          4.469415187835693,
          3.646454095840454,
          3.5844249725341797,
          4.185164928436279,
          4.162981033325195,
          3.7481470108032227,
          4.652008533477783,
          3.5685737133026123,
          3.67815899848938,
          3.0678958892822266,
          2.9032866954803467
         ],
         "yaxis": "y"
        }
       ],
       "layout": {
        "height": 600,
        "legend": {
         "tracegroupgap": 0
        },
        "margin": {
         "t": 60
        },
        "template": {
         "data": {
          "bar": [
           {
            "error_x": {
             "color": "#2a3f5f"
            },
            "error_y": {
             "color": "#2a3f5f"
            },
            "marker": {
             "line": {
              "color": "#E5ECF6",
              "width": 0.5
             },
             "pattern": {
              "fillmode": "overlay",
              "size": 10,
              "solidity": 0.2
             }
            },
            "type": "bar"
           }
          ],
          "barpolar": [
           {
            "marker": {
             "line": {
              "color": "#E5ECF6",
              "width": 0.5
             },
             "pattern": {
              "fillmode": "overlay",
              "size": 10,
              "solidity": 0.2
             }
            },
            "type": "barpolar"
           }
          ],
          "carpet": [
           {
            "aaxis": {
             "endlinecolor": "#2a3f5f",
             "gridcolor": "white",
             "linecolor": "white",
             "minorgridcolor": "white",
             "startlinecolor": "#2a3f5f"
            },
            "baxis": {
             "endlinecolor": "#2a3f5f",
             "gridcolor": "white",
             "linecolor": "white",
             "minorgridcolor": "white",
             "startlinecolor": "#2a3f5f"
            },
            "type": "carpet"
           }
          ],
          "choropleth": [
           {
            "colorbar": {
             "outlinewidth": 0,
             "ticks": ""
            },
            "type": "choropleth"
           }
          ],
          "contour": [
           {
            "colorbar": {
             "outlinewidth": 0,
             "ticks": ""
            },
            "colorscale": [
             [
              0,
              "#0d0887"
             ],
             [
              0.1111111111111111,
              "#46039f"
             ],
             [
              0.2222222222222222,
              "#7201a8"
             ],
             [
              0.3333333333333333,
              "#9c179e"
             ],
             [
              0.4444444444444444,
              "#bd3786"
             ],
             [
              0.5555555555555556,
              "#d8576b"
             ],
             [
              0.6666666666666666,
              "#ed7953"
             ],
             [
              0.7777777777777778,
              "#fb9f3a"
             ],
             [
              0.8888888888888888,
              "#fdca26"
             ],
             [
              1,
              "#f0f921"
             ]
            ],
            "type": "contour"
           }
          ],
          "contourcarpet": [
           {
            "colorbar": {
             "outlinewidth": 0,
             "ticks": ""
            },
            "type": "contourcarpet"
           }
          ],
          "heatmap": [
           {
            "colorbar": {
             "outlinewidth": 0,
             "ticks": ""
            },
            "colorscale": [
             [
              0,
              "#0d0887"
             ],
             [
              0.1111111111111111,
              "#46039f"
             ],
             [
              0.2222222222222222,
              "#7201a8"
             ],
             [
              0.3333333333333333,
              "#9c179e"
             ],
             [
              0.4444444444444444,
              "#bd3786"
             ],
             [
              0.5555555555555556,
              "#d8576b"
             ],
             [
              0.6666666666666666,
              "#ed7953"
             ],
             [
              0.7777777777777778,
              "#fb9f3a"
             ],
             [
              0.8888888888888888,
              "#fdca26"
             ],
             [
              1,
              "#f0f921"
             ]
            ],
            "type": "heatmap"
           }
          ],
          "heatmapgl": [
           {
            "colorbar": {
             "outlinewidth": 0,
             "ticks": ""
            },
            "colorscale": [
             [
              0,
              "#0d0887"
             ],
             [
              0.1111111111111111,
              "#46039f"
             ],
             [
              0.2222222222222222,
              "#7201a8"
             ],
             [
              0.3333333333333333,
              "#9c179e"
             ],
             [
              0.4444444444444444,
              "#bd3786"
             ],
             [
              0.5555555555555556,
              "#d8576b"
             ],
             [
              0.6666666666666666,
              "#ed7953"
             ],
             [
              0.7777777777777778,
              "#fb9f3a"
             ],
             [
              0.8888888888888888,
              "#fdca26"
             ],
             [
              1,
              "#f0f921"
             ]
            ],
            "type": "heatmapgl"
           }
          ],
          "histogram": [
           {
            "marker": {
             "pattern": {
              "fillmode": "overlay",
              "size": 10,
              "solidity": 0.2
             }
            },
            "type": "histogram"
           }
          ],
          "histogram2d": [
           {
            "colorbar": {
             "outlinewidth": 0,
             "ticks": ""
            },
            "colorscale": [
             [
              0,
              "#0d0887"
             ],
             [
              0.1111111111111111,
              "#46039f"
             ],
             [
              0.2222222222222222,
              "#7201a8"
             ],
             [
              0.3333333333333333,
              "#9c179e"
             ],
             [
              0.4444444444444444,
              "#bd3786"
             ],
             [
              0.5555555555555556,
              "#d8576b"
             ],
             [
              0.6666666666666666,
              "#ed7953"
             ],
             [
              0.7777777777777778,
              "#fb9f3a"
             ],
             [
              0.8888888888888888,
              "#fdca26"
             ],
             [
              1,
              "#f0f921"
             ]
            ],
            "type": "histogram2d"
           }
          ],
          "histogram2dcontour": [
           {
            "colorbar": {
             "outlinewidth": 0,
             "ticks": ""
            },
            "colorscale": [
             [
              0,
              "#0d0887"
             ],
             [
              0.1111111111111111,
              "#46039f"
             ],
             [
              0.2222222222222222,
              "#7201a8"
             ],
             [
              0.3333333333333333,
              "#9c179e"
             ],
             [
              0.4444444444444444,
              "#bd3786"
             ],
             [
              0.5555555555555556,
              "#d8576b"
             ],
             [
              0.6666666666666666,
              "#ed7953"
             ],
             [
              0.7777777777777778,
              "#fb9f3a"
             ],
             [
              0.8888888888888888,
              "#fdca26"
             ],
             [
              1,
              "#f0f921"
             ]
            ],
            "type": "histogram2dcontour"
           }
          ],
          "mesh3d": [
           {
            "colorbar": {
             "outlinewidth": 0,
             "ticks": ""
            },
            "type": "mesh3d"
           }
          ],
          "parcoords": [
           {
            "line": {
             "colorbar": {
              "outlinewidth": 0,
              "ticks": ""
             }
            },
            "type": "parcoords"
           }
          ],
          "pie": [
           {
            "automargin": true,
            "type": "pie"
           }
          ],
          "scatter": [
           {
            "marker": {
             "colorbar": {
              "outlinewidth": 0,
              "ticks": ""
             }
            },
            "type": "scatter"
           }
          ],
          "scatter3d": [
           {
            "line": {
             "colorbar": {
              "outlinewidth": 0,
              "ticks": ""
             }
            },
            "marker": {
             "colorbar": {
              "outlinewidth": 0,
              "ticks": ""
             }
            },
            "type": "scatter3d"
           }
          ],
          "scattercarpet": [
           {
            "marker": {
             "colorbar": {
              "outlinewidth": 0,
              "ticks": ""
             }
            },
            "type": "scattercarpet"
           }
          ],
          "scattergeo": [
           {
            "marker": {
             "colorbar": {
              "outlinewidth": 0,
              "ticks": ""
             }
            },
            "type": "scattergeo"
           }
          ],
          "scattergl": [
           {
            "marker": {
             "colorbar": {
              "outlinewidth": 0,
              "ticks": ""
             }
            },
            "type": "scattergl"
           }
          ],
          "scattermapbox": [
           {
            "marker": {
             "colorbar": {
              "outlinewidth": 0,
              "ticks": ""
             }
            },
            "type": "scattermapbox"
           }
          ],
          "scatterpolar": [
           {
            "marker": {
             "colorbar": {
              "outlinewidth": 0,
              "ticks": ""
             }
            },
            "type": "scatterpolar"
           }
          ],
          "scatterpolargl": [
           {
            "marker": {
             "colorbar": {
              "outlinewidth": 0,
              "ticks": ""
             }
            },
            "type": "scatterpolargl"
           }
          ],
          "scatterternary": [
           {
            "marker": {
             "colorbar": {
              "outlinewidth": 0,
              "ticks": ""
             }
            },
            "type": "scatterternary"
           }
          ],
          "surface": [
           {
            "colorbar": {
             "outlinewidth": 0,
             "ticks": ""
            },
            "colorscale": [
             [
              0,
              "#0d0887"
             ],
             [
              0.1111111111111111,
              "#46039f"
             ],
             [
              0.2222222222222222,
              "#7201a8"
             ],
             [
              0.3333333333333333,
              "#9c179e"
             ],
             [
              0.4444444444444444,
              "#bd3786"
             ],
             [
              0.5555555555555556,
              "#d8576b"
             ],
             [
              0.6666666666666666,
              "#ed7953"
             ],
             [
              0.7777777777777778,
              "#fb9f3a"
             ],
             [
              0.8888888888888888,
              "#fdca26"
             ],
             [
              1,
              "#f0f921"
             ]
            ],
            "type": "surface"
           }
          ],
          "table": [
           {
            "cells": {
             "fill": {
              "color": "#EBF0F8"
             },
             "line": {
              "color": "white"
             }
            },
            "header": {
             "fill": {
              "color": "#C8D4E3"
             },
             "line": {
              "color": "white"
             }
            },
            "type": "table"
           }
          ]
         },
         "layout": {
          "annotationdefaults": {
           "arrowcolor": "#2a3f5f",
           "arrowhead": 0,
           "arrowwidth": 1
          },
          "autotypenumbers": "strict",
          "coloraxis": {
           "colorbar": {
            "outlinewidth": 0,
            "ticks": ""
           }
          },
          "colorscale": {
           "diverging": [
            [
             0,
             "#8e0152"
            ],
            [
             0.1,
             "#c51b7d"
            ],
            [
             0.2,
             "#de77ae"
            ],
            [
             0.3,
             "#f1b6da"
            ],
            [
             0.4,
             "#fde0ef"
            ],
            [
             0.5,
             "#f7f7f7"
            ],
            [
             0.6,
             "#e6f5d0"
            ],
            [
             0.7,
             "#b8e186"
            ],
            [
             0.8,
             "#7fbc41"
            ],
            [
             0.9,
             "#4d9221"
            ],
            [
             1,
             "#276419"
            ]
           ],
           "sequential": [
            [
             0,
             "#0d0887"
            ],
            [
             0.1111111111111111,
             "#46039f"
            ],
            [
             0.2222222222222222,
             "#7201a8"
            ],
            [
             0.3333333333333333,
             "#9c179e"
            ],
            [
             0.4444444444444444,
             "#bd3786"
            ],
            [
             0.5555555555555556,
             "#d8576b"
            ],
            [
             0.6666666666666666,
             "#ed7953"
            ],
            [
             0.7777777777777778,
             "#fb9f3a"
            ],
            [
             0.8888888888888888,
             "#fdca26"
            ],
            [
             1,
             "#f0f921"
            ]
           ],
           "sequentialminus": [
            [
             0,
             "#0d0887"
            ],
            [
             0.1111111111111111,
             "#46039f"
            ],
            [
             0.2222222222222222,
             "#7201a8"
            ],
            [
             0.3333333333333333,
             "#9c179e"
            ],
            [
             0.4444444444444444,
             "#bd3786"
            ],
            [
             0.5555555555555556,
             "#d8576b"
            ],
            [
             0.6666666666666666,
             "#ed7953"
            ],
            [
             0.7777777777777778,
             "#fb9f3a"
            ],
            [
             0.8888888888888888,
             "#fdca26"
            ],
            [
             1,
             "#f0f921"
            ]
           ]
          },
          "colorway": [
           "#636efa",
           "#EF553B",
           "#00cc96",
           "#ab63fa",
           "#FFA15A",
           "#19d3f3",
           "#FF6692",
           "#B6E880",
           "#FF97FF",
           "#FECB52"
          ],
          "font": {
           "color": "#2a3f5f"
          },
          "geo": {
           "bgcolor": "white",
           "lakecolor": "white",
           "landcolor": "#E5ECF6",
           "showlakes": true,
           "showland": true,
           "subunitcolor": "white"
          },
          "hoverlabel": {
           "align": "left"
          },
          "hovermode": "closest",
          "mapbox": {
           "style": "light"
          },
          "paper_bgcolor": "white",
          "plot_bgcolor": "#E5ECF6",
          "polar": {
           "angularaxis": {
            "gridcolor": "white",
            "linecolor": "white",
            "ticks": ""
           },
           "bgcolor": "#E5ECF6",
           "radialaxis": {
            "gridcolor": "white",
            "linecolor": "white",
            "ticks": ""
           }
          },
          "scene": {
           "xaxis": {
            "backgroundcolor": "#E5ECF6",
            "gridcolor": "white",
            "gridwidth": 2,
            "linecolor": "white",
            "showbackground": true,
            "ticks": "",
            "zerolinecolor": "white"
           },
           "yaxis": {
            "backgroundcolor": "#E5ECF6",
            "gridcolor": "white",
            "gridwidth": 2,
            "linecolor": "white",
            "showbackground": true,
            "ticks": "",
            "zerolinecolor": "white"
           },
           "zaxis": {
            "backgroundcolor": "#E5ECF6",
            "gridcolor": "white",
            "gridwidth": 2,
            "linecolor": "white",
            "showbackground": true,
            "ticks": "",
            "zerolinecolor": "white"
           }
          },
          "shapedefaults": {
           "line": {
            "color": "#2a3f5f"
           }
          },
          "ternary": {
           "aaxis": {
            "gridcolor": "white",
            "linecolor": "white",
            "ticks": ""
           },
           "baxis": {
            "gridcolor": "white",
            "linecolor": "white",
            "ticks": ""
           },
           "bgcolor": "#E5ECF6",
           "caxis": {
            "gridcolor": "white",
            "linecolor": "white",
            "ticks": ""
           }
          },
          "title": {
           "x": 0.05
          },
          "xaxis": {
           "automargin": true,
           "gridcolor": "white",
           "linecolor": "white",
           "ticks": "",
           "title": {
            "standoff": 15
           },
           "zerolinecolor": "white",
           "zerolinewidth": 2
          },
          "yaxis": {
           "automargin": true,
           "gridcolor": "white",
           "linecolor": "white",
           "ticks": "",
           "title": {
            "standoff": 15
           },
           "zerolinecolor": "white",
           "zerolinewidth": 2
          }
         }
        },
        "width": 800,
        "xaxis": {
         "anchor": "y",
         "domain": [
          0,
          1
         ],
         "title": {
          "text": "x"
         }
        },
        "yaxis": {
         "anchor": "x",
         "domain": [
          0,
          1
         ],
         "title": {
          "text": "y"
         }
        }
       }
      }
     },
     "metadata": {},
     "output_type": "display_data"
    }
   ],
   "source": [
    "x = px.line(x = lri, y = lossi, height=600, width= 800)\n",
    "# x.update_layout(heig)\n",
    "x.show()\n",
    "# Now we have plotted the learning rate we find that a learning rate exponent around -1 is very good. So we would remove the tracking and set the lr.\n"
   ]
  },
  {
   "cell_type": "code",
   "execution_count": 22,
   "metadata": {},
   "outputs": [
    {
     "data": {
      "text/plain": [
       "tensor([162455, 195095, 205281, 137481,  30454,  28953, 153871, 137223, 202366,\n",
       "         68977, 114323,  58868, 153822,  40857,  61324,  73151,  61263,  84925,\n",
       "        196609, 167992, 139473,   1473, 209590,  29551,  69955,  92380, 192595,\n",
       "         84371, 131494,  97716, 135858, 200117])"
      ]
     },
     "execution_count": 22,
     "metadata": {},
     "output_type": "execute_result"
    }
   ],
   "source": [
    "# Now we want do make minibatches of the dataset to pass it into the NN in minibatches to the network.\n",
    "# So to do that we would need indexes of length of the batch_size which would randomly index the rows of the data. \n",
    "indexes = torch.randint(0, xs.shape[0], (32,))\n",
    "indexes"
   ]
  },
  {
   "attachments": {},
   "cell_type": "markdown",
   "metadata": {},
   "source": [
    "So for optimization of this Neural Network we are going to use the learning rate which is the update of the network. This part is a hit and trial method but we can narrow it down to a high and low value and then what we can do is that take values in high and low interval and sample values from it and try to see which of the samples give out the lowest loss."
   ]
  },
  {
   "cell_type": "code",
   "execution_count": 29,
   "metadata": {},
   "outputs": [
    {
     "data": {
      "text/plain": [
       "tensor([0.0010, 0.0010, 0.0010, 0.0010, 0.0010, 0.0010, 0.0010, 0.0010, 0.0011,\n",
       "        0.0011, 0.0011, 0.0011, 0.0011, 0.0011, 0.0011, 0.0011, 0.0011, 0.0011,\n",
       "        0.0011, 0.0011, 0.0011, 0.0012, 0.0012, 0.0012, 0.0012, 0.0012, 0.0012,\n",
       "        0.0012, 0.0012, 0.0012, 0.0012, 0.0012, 0.0012, 0.0013, 0.0013, 0.0013,\n",
       "        0.0013, 0.0013, 0.0013, 0.0013, 0.0013, 0.0013, 0.0013, 0.0013, 0.0014,\n",
       "        0.0014, 0.0014, 0.0014, 0.0014, 0.0014, 0.0014, 0.0014, 0.0014, 0.0014,\n",
       "        0.0015, 0.0015, 0.0015, 0.0015, 0.0015, 0.0015, 0.0015, 0.0015, 0.0015,\n",
       "        0.0015, 0.0016, 0.0016, 0.0016, 0.0016, 0.0016, 0.0016, 0.0016, 0.0016,\n",
       "        0.0016, 0.0017, 0.0017, 0.0017, 0.0017, 0.0017, 0.0017, 0.0017, 0.0017,\n",
       "        0.0018, 0.0018, 0.0018, 0.0018, 0.0018, 0.0018, 0.0018, 0.0018, 0.0019,\n",
       "        0.0019, 0.0019, 0.0019, 0.0019, 0.0019, 0.0019, 0.0019, 0.0020, 0.0020,\n",
       "        0.0020, 0.0020, 0.0020, 0.0020, 0.0020, 0.0021, 0.0021, 0.0021, 0.0021,\n",
       "        0.0021, 0.0021, 0.0021, 0.0022, 0.0022, 0.0022, 0.0022, 0.0022, 0.0022,\n",
       "        0.0022, 0.0023, 0.0023, 0.0023, 0.0023, 0.0023, 0.0023, 0.0024, 0.0024,\n",
       "        0.0024, 0.0024, 0.0024, 0.0024, 0.0025, 0.0025, 0.0025, 0.0025, 0.0025,\n",
       "        0.0025, 0.0026, 0.0026, 0.0026, 0.0026, 0.0026, 0.0027, 0.0027, 0.0027,\n",
       "        0.0027, 0.0027, 0.0027, 0.0028, 0.0028, 0.0028, 0.0028, 0.0028, 0.0029,\n",
       "        0.0029, 0.0029, 0.0029, 0.0029, 0.0030, 0.0030, 0.0030, 0.0030, 0.0030,\n",
       "        0.0031, 0.0031, 0.0031, 0.0031, 0.0032, 0.0032, 0.0032, 0.0032, 0.0032,\n",
       "        0.0033, 0.0033, 0.0033, 0.0033, 0.0034, 0.0034, 0.0034, 0.0034, 0.0034,\n",
       "        0.0035, 0.0035, 0.0035, 0.0035, 0.0036, 0.0036, 0.0036, 0.0036, 0.0037,\n",
       "        0.0037, 0.0037, 0.0037, 0.0038, 0.0038, 0.0038, 0.0039, 0.0039, 0.0039,\n",
       "        0.0039, 0.0040, 0.0040, 0.0040, 0.0040, 0.0041, 0.0041, 0.0041, 0.0042,\n",
       "        0.0042, 0.0042, 0.0042, 0.0043, 0.0043, 0.0043, 0.0044, 0.0044, 0.0044,\n",
       "        0.0045, 0.0045, 0.0045, 0.0045, 0.0046, 0.0046, 0.0046, 0.0047, 0.0047,\n",
       "        0.0047, 0.0048, 0.0048, 0.0048, 0.0049, 0.0049, 0.0049, 0.0050, 0.0050,\n",
       "        0.0050, 0.0051, 0.0051, 0.0051, 0.0052, 0.0052, 0.0053, 0.0053, 0.0053,\n",
       "        0.0054, 0.0054, 0.0054, 0.0055, 0.0055, 0.0056, 0.0056, 0.0056, 0.0057,\n",
       "        0.0057, 0.0058, 0.0058, 0.0058, 0.0059, 0.0059, 0.0060, 0.0060, 0.0060,\n",
       "        0.0061, 0.0061, 0.0062, 0.0062, 0.0062, 0.0063, 0.0063, 0.0064, 0.0064,\n",
       "        0.0065, 0.0065, 0.0066, 0.0066, 0.0067, 0.0067, 0.0067, 0.0068, 0.0068,\n",
       "        0.0069, 0.0069, 0.0070, 0.0070, 0.0071, 0.0071, 0.0072, 0.0072, 0.0073,\n",
       "        0.0073, 0.0074, 0.0074, 0.0075, 0.0075, 0.0076, 0.0076, 0.0077, 0.0077,\n",
       "        0.0078, 0.0079, 0.0079, 0.0080, 0.0080, 0.0081, 0.0081, 0.0082, 0.0082,\n",
       "        0.0083, 0.0084, 0.0084, 0.0085, 0.0085, 0.0086, 0.0086, 0.0087, 0.0088,\n",
       "        0.0088, 0.0089, 0.0090, 0.0090, 0.0091, 0.0091, 0.0092, 0.0093, 0.0093,\n",
       "        0.0094, 0.0095, 0.0095, 0.0096, 0.0097, 0.0097, 0.0098, 0.0099, 0.0099,\n",
       "        0.0100, 0.0101, 0.0101, 0.0102, 0.0103, 0.0104, 0.0104, 0.0105, 0.0106,\n",
       "        0.0106, 0.0107, 0.0108, 0.0109, 0.0109, 0.0110, 0.0111, 0.0112, 0.0112,\n",
       "        0.0113, 0.0114, 0.0115, 0.0116, 0.0116, 0.0117, 0.0118, 0.0119, 0.0120,\n",
       "        0.0121, 0.0121, 0.0122, 0.0123, 0.0124, 0.0125, 0.0126, 0.0127, 0.0127,\n",
       "        0.0128, 0.0129, 0.0130, 0.0131, 0.0132, 0.0133, 0.0134, 0.0135, 0.0136,\n",
       "        0.0137, 0.0137, 0.0138, 0.0139, 0.0140, 0.0141, 0.0142, 0.0143, 0.0144,\n",
       "        0.0145, 0.0146, 0.0147, 0.0148, 0.0149, 0.0150, 0.0151, 0.0152, 0.0154,\n",
       "        0.0155, 0.0156, 0.0157, 0.0158, 0.0159, 0.0160, 0.0161, 0.0162, 0.0163,\n",
       "        0.0165, 0.0166, 0.0167, 0.0168, 0.0169, 0.0170, 0.0171, 0.0173, 0.0174,\n",
       "        0.0175, 0.0176, 0.0178, 0.0179, 0.0180, 0.0181, 0.0182, 0.0184, 0.0185,\n",
       "        0.0186, 0.0188, 0.0189, 0.0190, 0.0192, 0.0193, 0.0194, 0.0196, 0.0197,\n",
       "        0.0198, 0.0200, 0.0201, 0.0202, 0.0204, 0.0205, 0.0207, 0.0208, 0.0210,\n",
       "        0.0211, 0.0212, 0.0214, 0.0215, 0.0217, 0.0218, 0.0220, 0.0221, 0.0223,\n",
       "        0.0225, 0.0226, 0.0228, 0.0229, 0.0231, 0.0232, 0.0234, 0.0236, 0.0237,\n",
       "        0.0239, 0.0241, 0.0242, 0.0244, 0.0246, 0.0247, 0.0249, 0.0251, 0.0253,\n",
       "        0.0254, 0.0256, 0.0258, 0.0260, 0.0261, 0.0263, 0.0265, 0.0267, 0.0269,\n",
       "        0.0271, 0.0273, 0.0274, 0.0276, 0.0278, 0.0280, 0.0282, 0.0284, 0.0286,\n",
       "        0.0288, 0.0290, 0.0292, 0.0294, 0.0296, 0.0298, 0.0300, 0.0302, 0.0304,\n",
       "        0.0307, 0.0309, 0.0311, 0.0313, 0.0315, 0.0317, 0.0320, 0.0322, 0.0324,\n",
       "        0.0326, 0.0328, 0.0331, 0.0333, 0.0335, 0.0338, 0.0340, 0.0342, 0.0345,\n",
       "        0.0347, 0.0350, 0.0352, 0.0354, 0.0357, 0.0359, 0.0362, 0.0364, 0.0367,\n",
       "        0.0369, 0.0372, 0.0375, 0.0377, 0.0380, 0.0382, 0.0385, 0.0388, 0.0390,\n",
       "        0.0393, 0.0396, 0.0399, 0.0401, 0.0404, 0.0407, 0.0410, 0.0413, 0.0416,\n",
       "        0.0418, 0.0421, 0.0424, 0.0427, 0.0430, 0.0433, 0.0436, 0.0439, 0.0442,\n",
       "        0.0445, 0.0448, 0.0451, 0.0455, 0.0458, 0.0461, 0.0464, 0.0467, 0.0471,\n",
       "        0.0474, 0.0477, 0.0480, 0.0484, 0.0487, 0.0491, 0.0494, 0.0497, 0.0501,\n",
       "        0.0504, 0.0508, 0.0511, 0.0515, 0.0518, 0.0522, 0.0526, 0.0529, 0.0533,\n",
       "        0.0537, 0.0540, 0.0544, 0.0548, 0.0552, 0.0556, 0.0559, 0.0563, 0.0567,\n",
       "        0.0571, 0.0575, 0.0579, 0.0583, 0.0587, 0.0591, 0.0595, 0.0599, 0.0604,\n",
       "        0.0608, 0.0612, 0.0616, 0.0621, 0.0625, 0.0629, 0.0634, 0.0638, 0.0642,\n",
       "        0.0647, 0.0651, 0.0656, 0.0660, 0.0665, 0.0670, 0.0674, 0.0679, 0.0684,\n",
       "        0.0688, 0.0693, 0.0698, 0.0703, 0.0708, 0.0713, 0.0718, 0.0723, 0.0728,\n",
       "        0.0733, 0.0738, 0.0743, 0.0748, 0.0753, 0.0758, 0.0764, 0.0769, 0.0774,\n",
       "        0.0780, 0.0785, 0.0790, 0.0796, 0.0802, 0.0807, 0.0813, 0.0818, 0.0824,\n",
       "        0.0830, 0.0835, 0.0841, 0.0847, 0.0853, 0.0859, 0.0865, 0.0871, 0.0877,\n",
       "        0.0883, 0.0889, 0.0895, 0.0901, 0.0908, 0.0914, 0.0920, 0.0927, 0.0933,\n",
       "        0.0940, 0.0946, 0.0953, 0.0959, 0.0966, 0.0973, 0.0979, 0.0986, 0.0993,\n",
       "        0.1000, 0.1007, 0.1014, 0.1021, 0.1028, 0.1035, 0.1042, 0.1050, 0.1057,\n",
       "        0.1064, 0.1072, 0.1079, 0.1087, 0.1094, 0.1102, 0.1109, 0.1117, 0.1125,\n",
       "        0.1133, 0.1140, 0.1148, 0.1156, 0.1164, 0.1172, 0.1181, 0.1189, 0.1197,\n",
       "        0.1205, 0.1214, 0.1222, 0.1231, 0.1239, 0.1248, 0.1256, 0.1265, 0.1274,\n",
       "        0.1283, 0.1292, 0.1301, 0.1310, 0.1319, 0.1328, 0.1337, 0.1346, 0.1356,\n",
       "        0.1365, 0.1374, 0.1384, 0.1394, 0.1403, 0.1413, 0.1423, 0.1433, 0.1443,\n",
       "        0.1453, 0.1463, 0.1473, 0.1483, 0.1493, 0.1504, 0.1514, 0.1525, 0.1535,\n",
       "        0.1546, 0.1557, 0.1567, 0.1578, 0.1589, 0.1600, 0.1611, 0.1623, 0.1634,\n",
       "        0.1645, 0.1657, 0.1668, 0.1680, 0.1691, 0.1703, 0.1715, 0.1727, 0.1739,\n",
       "        0.1751, 0.1763, 0.1775, 0.1788, 0.1800, 0.1812, 0.1825, 0.1838, 0.1850,\n",
       "        0.1863, 0.1876, 0.1889, 0.1902, 0.1916, 0.1929, 0.1942, 0.1956, 0.1969,\n",
       "        0.1983, 0.1997, 0.2010, 0.2024, 0.2038, 0.2053, 0.2067, 0.2081, 0.2096,\n",
       "        0.2110, 0.2125, 0.2140, 0.2154, 0.2169, 0.2184, 0.2200, 0.2215, 0.2230,\n",
       "        0.2246, 0.2261, 0.2277, 0.2293, 0.2309, 0.2325, 0.2341, 0.2357, 0.2373,\n",
       "        0.2390, 0.2406, 0.2423, 0.2440, 0.2457, 0.2474, 0.2491, 0.2508, 0.2526,\n",
       "        0.2543, 0.2561, 0.2579, 0.2597, 0.2615, 0.2633, 0.2651, 0.2669, 0.2688,\n",
       "        0.2707, 0.2725, 0.2744, 0.2763, 0.2783, 0.2802, 0.2821, 0.2841, 0.2861,\n",
       "        0.2880, 0.2900, 0.2921, 0.2941, 0.2961, 0.2982, 0.3002, 0.3023, 0.3044,\n",
       "        0.3065, 0.3087, 0.3108, 0.3130, 0.3151, 0.3173, 0.3195, 0.3217, 0.3240,\n",
       "        0.3262, 0.3285, 0.3308, 0.3331, 0.3354, 0.3377, 0.3400, 0.3424, 0.3448,\n",
       "        0.3472, 0.3496, 0.3520, 0.3544, 0.3569, 0.3594, 0.3619, 0.3644, 0.3669,\n",
       "        0.3695, 0.3720, 0.3746, 0.3772, 0.3798, 0.3825, 0.3851, 0.3878, 0.3905,\n",
       "        0.3932, 0.3959, 0.3987, 0.4014, 0.4042, 0.4070, 0.4098, 0.4127, 0.4155,\n",
       "        0.4184, 0.4213, 0.4243, 0.4272, 0.4302, 0.4331, 0.4362, 0.4392, 0.4422,\n",
       "        0.4453, 0.4484, 0.4515, 0.4546, 0.4578, 0.4610, 0.4642, 0.4674, 0.4706,\n",
       "        0.4739, 0.4772, 0.4805, 0.4838, 0.4872, 0.4906, 0.4940, 0.4974, 0.5008,\n",
       "        0.5043, 0.5078, 0.5113, 0.5149, 0.5185, 0.5221, 0.5257, 0.5293, 0.5330,\n",
       "        0.5367, 0.5404, 0.5442, 0.5479, 0.5517, 0.5556, 0.5594, 0.5633, 0.5672,\n",
       "        0.5712, 0.5751, 0.5791, 0.5831, 0.5872, 0.5913, 0.5954, 0.5995, 0.6036,\n",
       "        0.6078, 0.6120, 0.6163, 0.6206, 0.6249, 0.6292, 0.6336, 0.6380, 0.6424,\n",
       "        0.6469, 0.6513, 0.6559, 0.6604, 0.6650, 0.6696, 0.6743, 0.6789, 0.6837,\n",
       "        0.6884, 0.6932, 0.6980, 0.7028, 0.7077, 0.7126, 0.7176, 0.7225, 0.7275,\n",
       "        0.7326, 0.7377, 0.7428, 0.7480, 0.7531, 0.7584, 0.7636, 0.7689, 0.7743,\n",
       "        0.7796, 0.7850, 0.7905, 0.7960, 0.8015, 0.8071, 0.8127, 0.8183, 0.8240,\n",
       "        0.8297, 0.8355, 0.8412, 0.8471, 0.8530, 0.8589, 0.8648, 0.8708, 0.8769,\n",
       "        0.8830, 0.8891, 0.8953, 0.9015, 0.9077, 0.9140, 0.9204, 0.9268, 0.9332,\n",
       "        0.9397, 0.9462, 0.9528, 0.9594, 0.9660, 0.9727, 0.9795, 0.9863, 0.9931,\n",
       "        1.0000])"
      ]
     },
     "execution_count": 29,
     "metadata": {},
     "output_type": "execute_result"
    }
   ],
   "source": [
    "# So what we can do is that we can take out exponential values from a max and min and then sample values which exponentially increase between that range\n",
    "lre = torch.linspace(-3, 0, 1000)\n",
    "lrs = 10 ** lre\n",
    "lrs     # This is the space of possibilities that we want to search over"
   ]
  },
  {
   "cell_type": "code",
   "execution_count": 38,
   "metadata": {},
   "outputs": [
    {
     "name": "stdout",
     "output_type": "stream",
     "text": [
      "tensor(2.2006, grad_fn=<NllLossBackward0>) tensor(0.3354)\n"
     ]
    }
   ],
   "source": [
    "# Now lets find out the minimum loss and the corresponding lri\n",
    "min_loss = min(lossi)\n",
    "min_lri = lri[lossi.index(min_loss)]\n",
    "print(min_loss, min_lri)"
   ]
  }
 ],
 "metadata": {
  "kernelspec": {
   "display_name": "base",
   "language": "python",
   "name": "python3"
  },
  "language_info": {
   "codemirror_mode": {
    "name": "ipython",
    "version": 3
   },
   "file_extension": ".py",
   "mimetype": "text/x-python",
   "name": "python",
   "nbconvert_exporter": "python",
   "pygments_lexer": "ipython3",
   "version": "3.9.12 (main, Apr  4 2022, 05:22:27) [MSC v.1916 64 bit (AMD64)]"
  },
  "orig_nbformat": 4,
  "vscode": {
   "interpreter": {
    "hash": "5863a01bb4350d9241febf9e57f76b3c44dc4260331656e165259b66bc149002"
   }
  }
 },
 "nbformat": 4,
 "nbformat_minor": 2
}
