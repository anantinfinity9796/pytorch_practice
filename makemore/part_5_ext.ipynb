{
 "cells": [
  {
   "cell_type": "code",
   "execution_count": 1,
   "metadata": {},
   "outputs": [],
   "source": [
    "import torch\n",
    "import torch.nn.functional as F\n",
    "import matplotlib.pyplot as plt\n",
    "import numpy as np\n",
    "import plotly.express as px\n",
    "import plotly.figure_factory as ff\n",
    "import plotly.graph_objects as go"
   ]
  },
  {
   "cell_type": "code",
   "execution_count": 2,
   "metadata": {},
   "outputs": [
    {
     "name": "stdout",
     "output_type": "stream",
     "text": [
      "{'.': 0, 'a': 1, 'b': 2, 'c': 3, 'd': 4, 'e': 5, 'f': 6, 'g': 7, 'h': 8, 'i': 9, 'j': 10, 'k': 11, 'l': 12, 'm': 13, 'n': 14, 'o': 15, 'p': 16, 'q': 17, 'r': 18, 's': 19, 't': 20, 'u': 21, 'v': 22, 'w': 23, 'x': 24, 'y': 25, 'z': 26}\n",
      "27\n"
     ]
    }
   ],
   "source": [
    "with open(\"D://Datasets/names.txt\", 'r') as file:\n",
    "    names = file.read().splitlines()\n",
    "names[:8]\n",
    "torch.manual_seed(42)   # Here we set the global seed value\n",
    "vocabulary = sorted(list(set(''.join(names))))\n",
    "chartoidx = {}\n",
    "idxtochar = {}\n",
    "chartoidx['.'] = 0   # Putting a special token to denote the start and the end of a sentence.\n",
    "idxtochar[0] = '.'\n",
    "for i,char in enumerate(vocabulary):\n",
    "    chartoidx[char] = i+1\n",
    "    idxtochar[i+1] = char\n",
    "\n",
    "print(chartoidx)\n",
    "print(len(chartoidx))"
   ]
  },
  {
   "cell_type": "code",
   "execution_count": 3,
   "metadata": {},
   "outputs": [],
   "source": [
    "# So we would convert our code into modules like the Linear Module and  the BatchNorm Module and then we would write the training loop pytorch style\n",
    "class Linear():\n",
    "    \"\"\" This class creates a Linear layer with the weights and biases and performs the calculations\"\"\"\n",
    "    def __init__(self, fan_in, fan_out, bias = True):\n",
    "        self.weight = torch.randn((fan_in, fan_out)) / (fan_in**0.5)\n",
    "        self.bias = torch.zeros(fan_out) if bias else None\n",
    "    \n",
    "    def __call__(self, x):\n",
    "        self.out = x @ self.weight\n",
    "        if self.bias is not None:\n",
    "            self.out += self.bias\n",
    "        return self.out\n",
    "\n",
    "    def parameters(self):\n",
    "        return [self.weight, [] if self.bias == None else self.bias]\n",
    "# ------------------------------------------------------------------------------------------------------------------------------------------------\n",
    "class BatchNorm1D():\n",
    "    \"\"\" This class creates a Batch Normalization layer\"\"\"\n",
    "    def __init__(self, dim, epsilon = 1e-5, momentum = 0.1):\n",
    "        self.epsilon = epsilon\n",
    "        self.momentum = momentum\n",
    "        self.training = True\n",
    "        # Initializing learnable paramters\n",
    "        self.gamma = torch.ones(dim)\n",
    "        self.beta = torch.zeros(dim)\n",
    "\n",
    "        # Buffers trained with a momentum update\n",
    "        self.running_mean = torch.zeros(dim)\n",
    "        self.running_variance = torch.ones(dim)\n",
    "\n",
    "    def __call__(self, X):\n",
    "        if X.ndim == 2:\n",
    "            dim = 0\n",
    "        if X.ndim == 3:\n",
    "            dim = (0,1)\n",
    "        # Calculate the forward pass\n",
    "        if self.training:\n",
    "            xmean = X.mean(dim, keepdim=True)\n",
    "            xvar = X.var(dim,keepdim = True, unbiased = True)\n",
    "        else:\n",
    "            xmean = self.running_mean\n",
    "            xvar = self.running_variance\n",
    "\n",
    "        xhat = (X-xmean)/ torch.sqrt(xvar+self.epsilon)\n",
    "        self.out = self.gamma * xhat + self.beta\n",
    "\n",
    "        # Now update the running mean buffers\n",
    "        if self.training:\n",
    "            with torch.no_grad():\n",
    "                self.running_mean = (1-self.momentum) * self.running_mean + self.momentum * xmean\n",
    "                self.running_variance = (1-self.momentum)* self.running_variance + self.momentum * xvar\n",
    "        return self.out\n",
    "\n",
    "    def parameters(self):\n",
    "        return [self.gamma, self.beta]\n",
    "# ---------------------------------------------------------------------------------------------------------------------------------------------------\n",
    "class Tanh():\n",
    "    def __call__(self,X):\n",
    "        self.out = torch.tanh(X)\n",
    "        return self.out\n",
    "    def parameters(self):\n",
    "        return []\n",
    "\n",
    "# -------------------------------------------------------------------------------------------------------------------------------------------------------------------------\n",
    "class Embedding():\n",
    "    def __init__(self, num_embeddings, embedding_dim):\n",
    "        self.weight = torch.randn((num_embeddings, embedding_dim))\n",
    "        \n",
    "    def __call__(self,IX):\n",
    "        self.out = self.weight[IX]\n",
    "        return self.out\n",
    "\n",
    "    def parameters(self):\n",
    "        return [self.weight]\n",
    "#--------------------------------------------------------------------------------------------------------------------------------------------------------------------------\n",
    "class Flatten():\n",
    "    def __call__(self, X):\n",
    "        self.out =  X.view(X.shape[0], -1)\n",
    "        return self.out\n",
    "    def parameters(self):\n",
    "        return []\n",
    "\n",
    "# --------------------------------------------------------------------------------------------------------------------------------------------------------------------------\n",
    "class Sequential():\n",
    "    def __init__(self, layers):\n",
    "        self.layers = layers\n",
    "\n",
    "    def __call__(self, X):\n",
    "        for layer in self.layers:\n",
    "            X = layer(X)\n",
    "        self.out = X\n",
    "        return self.out\n",
    "\n",
    "    def parameters(self):\n",
    "         return [p for layer in self.layers for p in layer.parameters()]\n",
    "            \n",
    "\n",
    "# ----------------------------------------------------------------------------------------------------------------------------------------------------------------------------\n",
    "class FlattenConsecutive():\n",
    "    def __init__(self, n):\n",
    "        \"\"\" n is the how many consecutive tensors you want concatenated in the output\"\"\"\n",
    "        self.n = n\n",
    "    def __call__(self, X):\n",
    "        B, T, C = tuple(X.shape)   # x is a 3D tensor\n",
    "        X = X.view(B, T//self.n, C*self.n)\n",
    "        # Sometimes T==n it creates a 1 at dim = 1 in the self.out tensor. So we would remove the extra dimension by tensor.squeeze in that case\n",
    "        if X.shape[1] == 1:\n",
    "            X = X.squeeze(dim=1)\n",
    "        self.out = X\n",
    "        return self.out\n",
    "    def parameters(self):\n",
    "        return []\n",
    "        "
   ]
  },
  {
   "cell_type": "code",
   "execution_count": 4,
   "metadata": {},
   "outputs": [
    {
     "name": "stdout",
     "output_type": "stream",
     "text": [
      "torch.Size([182778, 8]) torch.Size([182778])\n",
      "torch.Size([22633, 8]) torch.Size([22633])\n",
      "torch.Size([22735, 8]) torch.Size([22735])\n"
     ]
    }
   ],
   "source": [
    "block_size = 8 # This would be used to set the number of context letters that would be in the word.\n",
    "# blank_context = idxtochar[0] * block_size  # This would produce the context consisting of only special character \".\"\n",
    "# print(f\"The blank context is {blank_context}\")\n",
    "\n",
    "# Now we would need to split the names into train, dev and test sets\n",
    "train_names = names[:int(0.8*len(names))]\n",
    "dev_names = names[int(0.8*len(names)): int(0.9*len(names))]\n",
    "test_names = names[int(0.9*len(names)):]\n",
    "\n",
    "# Now we need to define our xs and ys\n",
    "X_train, y_train = [],[]\n",
    "X_dev, y_dev = [],[]\n",
    "X_test, y_test = [], []\n",
    "\n",
    "# Now we need to add the data into our xs and ys:\n",
    "for i,split in enumerate([train_names, dev_names, test_names]):\n",
    "    for word in split:\n",
    "        word = word+\".\"\n",
    "        blank_context = [0] * block_size  # This would produce the context consisting of only special character \".\"\n",
    "        # xs.append(blank_context)\n",
    "        if i == 0:\n",
    "            for ch in word:\n",
    "                X_train.append(blank_context)\n",
    "                y_train.append(chartoidx[ch])\n",
    "                blank_context = blank_context[1:] + [chartoidx[ch]]\n",
    "        if i == 1:\n",
    "            for ch in word:\n",
    "                X_dev.append(blank_context)\n",
    "                y_dev.append(chartoidx[ch])\n",
    "                blank_context = blank_context[1:] + [chartoidx[ch]]\n",
    "        if i == 2:\n",
    "            for ch in word:\n",
    "                X_test.append(blank_context)\n",
    "                y_test.append(chartoidx[ch])\n",
    "                blank_context = blank_context[1:] + [chartoidx[ch]]\n",
    "      \n",
    "        # print(blank_context)\n",
    "X_train = torch.tensor(X_train)\n",
    "y_train = torch.tensor(y_train)\n",
    "X_dev = torch.tensor(X_dev)\n",
    "y_dev = torch.tensor(y_dev)\n",
    "X_test = torch.tensor(X_test)\n",
    "y_test = torch.tensor(y_test)  \n",
    "print(X_train.shape, y_train.shape)\n",
    "print(X_dev.shape, y_dev.shape)\n",
    "print(X_test.shape, y_test.shape)"
   ]
  },
  {
   "cell_type": "code",
   "execution_count": 20,
   "metadata": {},
   "outputs": [
    {
     "name": "stdout",
     "output_type": "stream",
     "text": [
      "106591\n"
     ]
    }
   ],
   "source": [
    "# So the code changes substantially\n",
    "n_embed = 10\n",
    "n_hidden = 128\n",
    "block_size = 8\n",
    "consecutive_size = 2\n",
    "\n",
    "model = Sequential([\n",
    "    Embedding(len(chartoidx), n_embed),\n",
    "    FlattenConsecutive(2),Linear(n_embed*2, n_hidden),BatchNorm1D(n_hidden), Tanh(),\n",
    "    FlattenConsecutive(2),Linear(n_hidden*2, n_hidden),BatchNorm1D(n_hidden), Tanh(),\n",
    "    FlattenConsecutive(2),Linear(n_hidden*2, n_hidden),BatchNorm1D(n_hidden), Tanh(),\n",
    "    Linear(n_hidden, n_hidden),BatchNorm1D(n_hidden), Tanh(),\n",
    "    Linear(n_hidden, n_hidden),BatchNorm1D(n_hidden), Tanh(),\n",
    "    Linear(n_hidden, len(chartoidx)),BatchNorm1D(len(chartoidx))\n",
    "])\n",
    "# model = Sequential([\n",
    "#     Embedding(len(chartoidx), n_embed),\n",
    "#     Flatten(),\n",
    "#     Linear(n_embed*block_size, n_hidden),BatchNorm1D(n_hidden), Tanh(),\n",
    "#     Linear(n_hidden, n_hidden),BatchNorm1D(n_hidden), Tanh(),\n",
    "#     # Linear(n_hidden, n_hidden),BatchNorm1D(n_hidden), Tanh(),\n",
    "#     # Linear(n_hidden, n_hidden),BatchNorm1D(n_hidden), Tanh(),\n",
    "#     # Linear(n_hidden, n_hidden),BatchNorm1D(n_hidden), Tanh(),\n",
    "#     Linear(n_hidden, len(chartoidx))#,BatchNorm1D(len(chartoidx))\n",
    "# ])\n",
    "\n",
    "with torch.no_grad():\n",
    "#     # Because the last layer is batchNorm we would not be making the softmax less confident. We would make gamma less confident\n",
    "    model.layers[-1].gamma*= 0.1\n",
    "#     # If we remove the batchnorm layer then we would have to make the softmax less confident\n",
    "#     # Make the output softmax less confident\n",
    "    model.layers[-2].weight *= 0.1\n",
    "\n",
    "    for layer in model.layers[:-1]:\n",
    "        # apply the gain parameters of the kaiming initialization\n",
    "        if isinstance(layer, Linear):\n",
    "            layer.weight *= 5/3\n",
    "# calculate the parameters and make the parameters requires_grad attribute = True\n",
    "parameter_list = model.parameters()\n",
    "# print([type(x) for x in parameter_list])\n",
    "\n",
    "p = sum([x.nelement() for x in parameter_list])\n",
    "print(p)\n",
    "for p in parameter_list:\n",
    "    p.requires_grad = True"
   ]
  },
  {
   "cell_type": "code",
   "execution_count": 27,
   "metadata": {},
   "outputs": [
    {
     "name": "stdout",
     "output_type": "stream",
     "text": [
      "Embedding : (32, 8, 10)\n",
      "Flatten : (32, 80)\n",
      "Linear : (32, 200)\n",
      "BatchNorm1D : (32, 200)\n",
      "Tanh : (32, 200)\n",
      "Linear : (32, 200)\n",
      "BatchNorm1D : (32, 200)\n",
      "Tanh : (32, 200)\n",
      "Linear : (32, 200)\n",
      "BatchNorm1D : (32, 200)\n",
      "Tanh : (32, 200)\n",
      "Linear : (32, 200)\n",
      "BatchNorm1D : (32, 200)\n",
      "Tanh : (32, 200)\n",
      "Linear : (32, 200)\n",
      "BatchNorm1D : (32, 200)\n",
      "Tanh : (32, 200)\n",
      "Linear : (32, 27)\n"
     ]
    }
   ],
   "source": [
    "for layer in model.layers:\n",
    "    print(layer.__class__.__name__,':',tuple(layer.out.shape))"
   ]
  },
  {
   "cell_type": "code",
   "execution_count": 83,
   "metadata": {},
   "outputs": [],
   "source": [
    "data_dict ={'train':[X_train, y_train], \n",
    "            'dev':[X_dev, y_dev],\n",
    "            'test':[X_test, y_test]}\n",
    "            \n",
    "epochs = 100000\n",
    "batch_size = 32\n",
    "lossi = []\n",
    "update_data_ratios = []\n",
    "# Now we would write the training loop\n",
    "def training_loop(epochs, batch_size, data, is_val_set = False):\n",
    "    if is_val_set == False:\n",
    "        for epoch in range(0,epochs):\n",
    "            # get random 32 indices to take from the training set\n",
    "            ix = torch.randint(0, data_dict['train'][0].shape[0], size=(32,)) # returns 32 random integers between 0 and len(X_train)\n",
    "            train_data = data_dict['train'][0][ix] # This would get the actual training data of shape (32,3) i.e (batch_size, block_size) \n",
    "            train_labels = data_dict['train'][1][ix]\n",
    "            # print(batch_data.shape)\n",
    "            # print(train_data.shape, train_labels.shape)\n",
    "            out = model(train_data)\n",
    "            # print(out.shape)\n",
    "            loss = F.cross_entropy(out, train_labels)\n",
    "            # print(loss, loss.shape)\n",
    "            for layer in model.layers:\n",
    "                layer.out.retain_grad()\n",
    "\n",
    "            loss.backward()\n",
    "\n",
    "            \n",
    "\n",
    "            # Update the parameters\n",
    "            lr = 0.1 if epoch<500000 else 0.01\n",
    "            for p in model.parameters():\n",
    "                p.data += -lr*p.grad\n",
    "\n",
    "            lossi.append(loss.item())\n",
    "            if epoch%10000 == 0:\n",
    "                print(f\"epochs: {epoch:}/{epochs:} | loss :{loss.item():.4f}\")\n",
    "            if epoch == 10000:\n",
    "                break\n",
    "    else:\n",
    "        # When we want to evaluate the trained network we need to set the batch_norm layers to evaluate mode:\n",
    "        for layer in model.layers:\n",
    "            layer.training = False\n",
    "        with torch.no_grad():\n",
    "            val_ix = torch.randint(0, data_dict['dev'][0].shape[0], (32,))  # this would generate 32 random indexes which we can filter our dataset to train over a mini-batch\n",
    "            val_data = data_dict['dev'][0][val_ix]   # (32,3,2)\n",
    "            x = val_data.clone()\n",
    "            # x = val_embed.view(val_embed.shape[0], -1) # Also removed the embeddings and the falttening operations here\n",
    "\n",
    "            output = model(x)\n",
    "            val_loss = F.cross_entropy(output, data_dict['dev'][1][val_ix])\n",
    "        print(f\"The Validation loss is :{val_loss}\") "
   ]
  },
  {
   "cell_type": "code",
   "execution_count": 84,
   "metadata": {},
   "outputs": [
    {
     "name": "stdout",
     "output_type": "stream",
     "text": [
      "epochs: 0/100000 | loss :105.6316\n",
      "epochs: 10000/100000 | loss :714.4097\n"
     ]
    }
   ],
   "source": [
    "training_loop(epochs = epochs,batch_size = batch_size, data = data_dict, is_val_set=False)"
   ]
  },
  {
   "cell_type": "code",
   "execution_count": 7,
   "metadata": {},
   "outputs": [
    {
     "name": "stdout",
     "output_type": "stream",
     "text": [
      "torch.Size([32, 8])\n"
     ]
    }
   ],
   "source": [
    "# Get 4 random integers\n",
    "X_s = torch.randint(0,X_train.shape[0], (32,))\n",
    "\n",
    "# Now get the data from the Dataset\n",
    "Xb, yb = X_train[X_s], y_train[X_s]\n",
    "# embedding = Embedding(27,10)\n",
    "# flatten = Flatten()\n",
    "# batch = BatchNorm1D(200)\n",
    "# ta = Tanh()\n",
    "# e_Xb = embedding(Xb)\n",
    "# f_Xb = flatten(e_Xb)\n",
    "# print(f_Xb)\n",
    "print(Xb.shape)\n",
    "# print(Xb.shape)\n",
    "# print(Xb)"
   ]
  },
  {
   "cell_type": "code",
   "execution_count": 41,
   "metadata": {},
   "outputs": [
    {
     "name": "stdout",
     "output_type": "stream",
     "text": [
      "torch.Size([32, 200])\n"
     ]
    }
   ],
   "source": [
    "activation = d.clone()\n",
    "print(activation.shape)"
   ]
  },
  {
   "cell_type": "code",
   "execution_count": 23,
   "metadata": {},
   "outputs": [],
   "source": [
    "from time import sleep"
   ]
  },
  {
   "cell_type": "code",
   "execution_count": 21,
   "metadata": {},
   "outputs": [
    {
     "name": "stdout",
     "output_type": "stream",
     "text": [
      "epochs: 0/100000: | loss :3.3002\n",
      "epochs: 10000/100000: | loss :2.1854\n",
      "epochs: 20000/100000: | loss :2.5019\n",
      "epochs: 30000/100000: | loss :2.8474\n",
      "epochs: 40000/100000: | loss :2.0885\n",
      "epochs: 50000/100000: | loss :2.8248\n",
      "epochs: 60000/100000: | loss :2.2845\n",
      "epochs: 70000/100000: | loss :2.7587\n",
      "epochs: 80000/100000: | loss :2.4373\n",
      "epochs: 90000/100000: | loss :3.0283\n"
     ]
    }
   ],
   "source": [
    "data_dict ={'train':[X_train, y_train], \n",
    "            'dev':[X_dev, y_dev],\n",
    "            'test':[X_test, y_test]}\n",
    "lossi = []\n",
    "for i in range(100000):\n",
    "    X_s = torch.randint(0,X_train.shape[0], (32,)) # returns 32 random integers between 0 and len(X_train)\n",
    "    Xb, yb = X_train[X_s], y_train[X_s]\n",
    "    logits = model(Xb)\n",
    "    loss = F.cross_entropy(logits, yb)\n",
    "    for layer in model.layers:\n",
    "        layer.out.retain_grad()\n",
    "    \n",
    "    loss.backward()\n",
    "    \n",
    "    # print(loss)\n",
    "    lr = 0.001 if i < 30000 else 0.0001\n",
    "    for p in model.parameters():\n",
    "        # print(p.shape)\n",
    "        p.data += -lr*p.grad\n",
    "    lossi.append(loss.item())\n",
    "    # print(loss.item())\n",
    "    if i%10000 == 0:\n",
    "        print(f\"epochs: {i:}/100000: | loss :{loss.item():.4f}\")"
   ]
  },
  {
   "cell_type": "code",
   "execution_count": 22,
   "metadata": {},
   "outputs": [
    {
     "name": "stdout",
     "output_type": "stream",
     "text": [
      "torch.Size([200, 500])\n"
     ]
    },
    {
     "data": {
      "application/vnd.plotly.v1+json": {
       "config": {
        "plotlyServerURL": "https://plot.ly"
       },
       "data": [
        {
         "name": "Loss",
         "type": "scatter",
         "y": [
          2.782043695449829,
          2.6309707164764404,
          2.6425466537475586,
          2.5883774757385254,
          2.552706241607666,
          2.5174052715301514,
          2.512251377105713,
          2.4982314109802246,
          2.4944489002227783,
          2.486443042755127,
          2.4836459159851074,
          2.462068796157837,
          2.469372510910034,
          2.4769864082336426,
          2.4427621364593506,
          2.4841549396514893,
          2.4649951457977295,
          2.458298921585083,
          2.457357168197632,
          2.441479206085205,
          2.4518139362335205,
          2.468898057937622,
          2.4915153980255127,
          2.4690630435943604,
          2.4662275314331055,
          2.4189341068267822,
          2.4657816886901855,
          2.472071886062622,
          2.4675495624542236,
          2.484222888946533,
          2.4817214012145996,
          2.5221807956695557,
          2.4985530376434326,
          2.5159823894500732,
          2.483527421951294,
          2.5583271980285645,
          2.554810047149658,
          2.536325216293335,
          2.5693345069885254,
          2.5964622497558594,
          2.516657829284668,
          2.549808979034424,
          2.5927796363830566,
          2.6078097820281982,
          2.6330487728118896,
          2.6028926372528076,
          2.640627145767212,
          2.603193759918213,
          2.637341022491455,
          2.6065125465393066,
          2.6444411277770996,
          2.7653889656066895,
          2.7089619636535645,
          2.7134127616882324,
          2.699390172958374,
          2.7018675804138184,
          2.7200446128845215,
          2.7632174491882324,
          2.7804691791534424,
          2.742262125015259,
          2.744065046310425,
          2.5799460411071777,
          2.5844759941101074,
          2.6236355304718018,
          2.6283462047576904,
          2.6369094848632812,
          2.6140940189361572,
          2.581209182739258,
          2.6274404525756836,
          2.5711147785186768,
          2.64107346534729,
          2.608485698699951,
          2.6455118656158447,
          2.566115617752075,
          2.594625234603882,
          2.6187398433685303,
          2.625464916229248,
          2.6625587940216064,
          2.6173017024993896,
          2.6495416164398193,
          2.635897159576416,
          2.655905246734619,
          2.5924599170684814,
          2.6597161293029785,
          2.578774929046631,
          2.7701454162597656,
          2.6803877353668213,
          2.5603444576263428,
          2.6484007835388184,
          2.5928897857666016,
          2.6080238819122314,
          2.6804850101470947,
          2.6967055797576904,
          2.650099515914917,
          2.6228725910186768,
          2.639463424682617,
          2.6940956115722656,
          2.616415500640869,
          2.6708486080169678,
          2.671950340270996,
          2.687962055206299,
          2.67313814163208,
          2.7313435077667236,
          2.64058518409729,
          2.6383211612701416,
          2.650463342666626,
          2.6891579627990723,
          2.660313606262207,
          2.672854423522949,
          2.6465752124786377,
          2.6648921966552734,
          2.719745635986328,
          2.6705758571624756,
          2.607226848602295,
          2.655580520629883,
          2.7125449180603027,
          2.584202527999878,
          2.7476444244384766,
          2.6437931060791016,
          2.7413411140441895,
          2.6653647422790527,
          2.657803773880005,
          2.6321802139282227,
          2.694355010986328,
          2.6440200805664062,
          2.7147915363311768,
          2.658571243286133,
          2.743659257888794,
          2.7259998321533203,
          2.733302116394043,
          2.6798152923583984,
          2.625312566757202,
          2.6532509326934814,
          2.738158941268921,
          2.6748223304748535,
          2.754439115524292,
          2.656338930130005,
          2.6257777214050293,
          2.6504926681518555,
          2.598515510559082,
          2.68454909324646,
          2.803178071975708,
          2.7169594764709473,
          2.72925066947937,
          2.713020086288452,
          2.6521317958831787,
          2.661235809326172,
          2.702669143676758,
          2.727541208267212,
          2.687317132949829,
          2.7598345279693604,
          2.7799429893493652,
          2.710111618041992,
          2.742645263671875,
          2.727658271789551,
          2.7741479873657227,
          2.724062442779541,
          2.6911585330963135,
          2.626741886138916,
          2.7225265502929688,
          2.7736876010894775,
          2.824878454208374,
          2.797909736633301,
          2.7485463619232178,
          2.7323226928710938,
          2.7364118099212646,
          2.7480576038360596,
          2.6940760612487793,
          2.6908764839172363,
          2.7607340812683105,
          2.7514710426330566,
          2.7397921085357666,
          2.719235897064209,
          2.7327301502227783,
          2.792046070098877,
          2.821157455444336,
          2.864776849746704,
          2.853851795196533,
          2.7725682258605957,
          2.756295680999756,
          2.783512592315674,
          2.6925928592681885,
          2.721954584121704,
          2.7811269760131836,
          2.753183603286743,
          2.7230947017669678,
          2.759434461593628,
          2.8454926013946533,
          2.7621214389801025,
          2.710012912750244,
          2.7288529872894287,
          2.7854442596435547,
          2.7871792316436768,
          2.7427268028259277,
          2.852179527282715,
          2.8613626956939697,
          2.8299243450164795,
          2.848992347717285,
          2.8429157733917236,
          2.856717586517334
         ]
        }
       ],
       "layout": {
        "template": {
         "data": {
          "bar": [
           {
            "error_x": {
             "color": "#2a3f5f"
            },
            "error_y": {
             "color": "#2a3f5f"
            },
            "marker": {
             "line": {
              "color": "#E5ECF6",
              "width": 0.5
             },
             "pattern": {
              "fillmode": "overlay",
              "size": 10,
              "solidity": 0.2
             }
            },
            "type": "bar"
           }
          ],
          "barpolar": [
           {
            "marker": {
             "line": {
              "color": "#E5ECF6",
              "width": 0.5
             },
             "pattern": {
              "fillmode": "overlay",
              "size": 10,
              "solidity": 0.2
             }
            },
            "type": "barpolar"
           }
          ],
          "carpet": [
           {
            "aaxis": {
             "endlinecolor": "#2a3f5f",
             "gridcolor": "white",
             "linecolor": "white",
             "minorgridcolor": "white",
             "startlinecolor": "#2a3f5f"
            },
            "baxis": {
             "endlinecolor": "#2a3f5f",
             "gridcolor": "white",
             "linecolor": "white",
             "minorgridcolor": "white",
             "startlinecolor": "#2a3f5f"
            },
            "type": "carpet"
           }
          ],
          "choropleth": [
           {
            "colorbar": {
             "outlinewidth": 0,
             "ticks": ""
            },
            "type": "choropleth"
           }
          ],
          "contour": [
           {
            "colorbar": {
             "outlinewidth": 0,
             "ticks": ""
            },
            "colorscale": [
             [
              0,
              "#0d0887"
             ],
             [
              0.1111111111111111,
              "#46039f"
             ],
             [
              0.2222222222222222,
              "#7201a8"
             ],
             [
              0.3333333333333333,
              "#9c179e"
             ],
             [
              0.4444444444444444,
              "#bd3786"
             ],
             [
              0.5555555555555556,
              "#d8576b"
             ],
             [
              0.6666666666666666,
              "#ed7953"
             ],
             [
              0.7777777777777778,
              "#fb9f3a"
             ],
             [
              0.8888888888888888,
              "#fdca26"
             ],
             [
              1,
              "#f0f921"
             ]
            ],
            "type": "contour"
           }
          ],
          "contourcarpet": [
           {
            "colorbar": {
             "outlinewidth": 0,
             "ticks": ""
            },
            "type": "contourcarpet"
           }
          ],
          "heatmap": [
           {
            "colorbar": {
             "outlinewidth": 0,
             "ticks": ""
            },
            "colorscale": [
             [
              0,
              "#0d0887"
             ],
             [
              0.1111111111111111,
              "#46039f"
             ],
             [
              0.2222222222222222,
              "#7201a8"
             ],
             [
              0.3333333333333333,
              "#9c179e"
             ],
             [
              0.4444444444444444,
              "#bd3786"
             ],
             [
              0.5555555555555556,
              "#d8576b"
             ],
             [
              0.6666666666666666,
              "#ed7953"
             ],
             [
              0.7777777777777778,
              "#fb9f3a"
             ],
             [
              0.8888888888888888,
              "#fdca26"
             ],
             [
              1,
              "#f0f921"
             ]
            ],
            "type": "heatmap"
           }
          ],
          "heatmapgl": [
           {
            "colorbar": {
             "outlinewidth": 0,
             "ticks": ""
            },
            "colorscale": [
             [
              0,
              "#0d0887"
             ],
             [
              0.1111111111111111,
              "#46039f"
             ],
             [
              0.2222222222222222,
              "#7201a8"
             ],
             [
              0.3333333333333333,
              "#9c179e"
             ],
             [
              0.4444444444444444,
              "#bd3786"
             ],
             [
              0.5555555555555556,
              "#d8576b"
             ],
             [
              0.6666666666666666,
              "#ed7953"
             ],
             [
              0.7777777777777778,
              "#fb9f3a"
             ],
             [
              0.8888888888888888,
              "#fdca26"
             ],
             [
              1,
              "#f0f921"
             ]
            ],
            "type": "heatmapgl"
           }
          ],
          "histogram": [
           {
            "marker": {
             "pattern": {
              "fillmode": "overlay",
              "size": 10,
              "solidity": 0.2
             }
            },
            "type": "histogram"
           }
          ],
          "histogram2d": [
           {
            "colorbar": {
             "outlinewidth": 0,
             "ticks": ""
            },
            "colorscale": [
             [
              0,
              "#0d0887"
             ],
             [
              0.1111111111111111,
              "#46039f"
             ],
             [
              0.2222222222222222,
              "#7201a8"
             ],
             [
              0.3333333333333333,
              "#9c179e"
             ],
             [
              0.4444444444444444,
              "#bd3786"
             ],
             [
              0.5555555555555556,
              "#d8576b"
             ],
             [
              0.6666666666666666,
              "#ed7953"
             ],
             [
              0.7777777777777778,
              "#fb9f3a"
             ],
             [
              0.8888888888888888,
              "#fdca26"
             ],
             [
              1,
              "#f0f921"
             ]
            ],
            "type": "histogram2d"
           }
          ],
          "histogram2dcontour": [
           {
            "colorbar": {
             "outlinewidth": 0,
             "ticks": ""
            },
            "colorscale": [
             [
              0,
              "#0d0887"
             ],
             [
              0.1111111111111111,
              "#46039f"
             ],
             [
              0.2222222222222222,
              "#7201a8"
             ],
             [
              0.3333333333333333,
              "#9c179e"
             ],
             [
              0.4444444444444444,
              "#bd3786"
             ],
             [
              0.5555555555555556,
              "#d8576b"
             ],
             [
              0.6666666666666666,
              "#ed7953"
             ],
             [
              0.7777777777777778,
              "#fb9f3a"
             ],
             [
              0.8888888888888888,
              "#fdca26"
             ],
             [
              1,
              "#f0f921"
             ]
            ],
            "type": "histogram2dcontour"
           }
          ],
          "mesh3d": [
           {
            "colorbar": {
             "outlinewidth": 0,
             "ticks": ""
            },
            "type": "mesh3d"
           }
          ],
          "parcoords": [
           {
            "line": {
             "colorbar": {
              "outlinewidth": 0,
              "ticks": ""
             }
            },
            "type": "parcoords"
           }
          ],
          "pie": [
           {
            "automargin": true,
            "type": "pie"
           }
          ],
          "scatter": [
           {
            "marker": {
             "colorbar": {
              "outlinewidth": 0,
              "ticks": ""
             }
            },
            "type": "scatter"
           }
          ],
          "scatter3d": [
           {
            "line": {
             "colorbar": {
              "outlinewidth": 0,
              "ticks": ""
             }
            },
            "marker": {
             "colorbar": {
              "outlinewidth": 0,
              "ticks": ""
             }
            },
            "type": "scatter3d"
           }
          ],
          "scattercarpet": [
           {
            "marker": {
             "colorbar": {
              "outlinewidth": 0,
              "ticks": ""
             }
            },
            "type": "scattercarpet"
           }
          ],
          "scattergeo": [
           {
            "marker": {
             "colorbar": {
              "outlinewidth": 0,
              "ticks": ""
             }
            },
            "type": "scattergeo"
           }
          ],
          "scattergl": [
           {
            "marker": {
             "colorbar": {
              "outlinewidth": 0,
              "ticks": ""
             }
            },
            "type": "scattergl"
           }
          ],
          "scattermapbox": [
           {
            "marker": {
             "colorbar": {
              "outlinewidth": 0,
              "ticks": ""
             }
            },
            "type": "scattermapbox"
           }
          ],
          "scatterpolar": [
           {
            "marker": {
             "colorbar": {
              "outlinewidth": 0,
              "ticks": ""
             }
            },
            "type": "scatterpolar"
           }
          ],
          "scatterpolargl": [
           {
            "marker": {
             "colorbar": {
              "outlinewidth": 0,
              "ticks": ""
             }
            },
            "type": "scatterpolargl"
           }
          ],
          "scatterternary": [
           {
            "marker": {
             "colorbar": {
              "outlinewidth": 0,
              "ticks": ""
             }
            },
            "type": "scatterternary"
           }
          ],
          "surface": [
           {
            "colorbar": {
             "outlinewidth": 0,
             "ticks": ""
            },
            "colorscale": [
             [
              0,
              "#0d0887"
             ],
             [
              0.1111111111111111,
              "#46039f"
             ],
             [
              0.2222222222222222,
              "#7201a8"
             ],
             [
              0.3333333333333333,
              "#9c179e"
             ],
             [
              0.4444444444444444,
              "#bd3786"
             ],
             [
              0.5555555555555556,
              "#d8576b"
             ],
             [
              0.6666666666666666,
              "#ed7953"
             ],
             [
              0.7777777777777778,
              "#fb9f3a"
             ],
             [
              0.8888888888888888,
              "#fdca26"
             ],
             [
              1,
              "#f0f921"
             ]
            ],
            "type": "surface"
           }
          ],
          "table": [
           {
            "cells": {
             "fill": {
              "color": "#EBF0F8"
             },
             "line": {
              "color": "white"
             }
            },
            "header": {
             "fill": {
              "color": "#C8D4E3"
             },
             "line": {
              "color": "white"
             }
            },
            "type": "table"
           }
          ]
         },
         "layout": {
          "annotationdefaults": {
           "arrowcolor": "#2a3f5f",
           "arrowhead": 0,
           "arrowwidth": 1
          },
          "autotypenumbers": "strict",
          "coloraxis": {
           "colorbar": {
            "outlinewidth": 0,
            "ticks": ""
           }
          },
          "colorscale": {
           "diverging": [
            [
             0,
             "#8e0152"
            ],
            [
             0.1,
             "#c51b7d"
            ],
            [
             0.2,
             "#de77ae"
            ],
            [
             0.3,
             "#f1b6da"
            ],
            [
             0.4,
             "#fde0ef"
            ],
            [
             0.5,
             "#f7f7f7"
            ],
            [
             0.6,
             "#e6f5d0"
            ],
            [
             0.7,
             "#b8e186"
            ],
            [
             0.8,
             "#7fbc41"
            ],
            [
             0.9,
             "#4d9221"
            ],
            [
             1,
             "#276419"
            ]
           ],
           "sequential": [
            [
             0,
             "#0d0887"
            ],
            [
             0.1111111111111111,
             "#46039f"
            ],
            [
             0.2222222222222222,
             "#7201a8"
            ],
            [
             0.3333333333333333,
             "#9c179e"
            ],
            [
             0.4444444444444444,
             "#bd3786"
            ],
            [
             0.5555555555555556,
             "#d8576b"
            ],
            [
             0.6666666666666666,
             "#ed7953"
            ],
            [
             0.7777777777777778,
             "#fb9f3a"
            ],
            [
             0.8888888888888888,
             "#fdca26"
            ],
            [
             1,
             "#f0f921"
            ]
           ],
           "sequentialminus": [
            [
             0,
             "#0d0887"
            ],
            [
             0.1111111111111111,
             "#46039f"
            ],
            [
             0.2222222222222222,
             "#7201a8"
            ],
            [
             0.3333333333333333,
             "#9c179e"
            ],
            [
             0.4444444444444444,
             "#bd3786"
            ],
            [
             0.5555555555555556,
             "#d8576b"
            ],
            [
             0.6666666666666666,
             "#ed7953"
            ],
            [
             0.7777777777777778,
             "#fb9f3a"
            ],
            [
             0.8888888888888888,
             "#fdca26"
            ],
            [
             1,
             "#f0f921"
            ]
           ]
          },
          "colorway": [
           "#636efa",
           "#EF553B",
           "#00cc96",
           "#ab63fa",
           "#FFA15A",
           "#19d3f3",
           "#FF6692",
           "#B6E880",
           "#FF97FF",
           "#FECB52"
          ],
          "font": {
           "color": "#2a3f5f"
          },
          "geo": {
           "bgcolor": "white",
           "lakecolor": "white",
           "landcolor": "#E5ECF6",
           "showlakes": true,
           "showland": true,
           "subunitcolor": "white"
          },
          "hoverlabel": {
           "align": "left"
          },
          "hovermode": "closest",
          "mapbox": {
           "style": "light"
          },
          "paper_bgcolor": "white",
          "plot_bgcolor": "#E5ECF6",
          "polar": {
           "angularaxis": {
            "gridcolor": "white",
            "linecolor": "white",
            "ticks": ""
           },
           "bgcolor": "#E5ECF6",
           "radialaxis": {
            "gridcolor": "white",
            "linecolor": "white",
            "ticks": ""
           }
          },
          "scene": {
           "xaxis": {
            "backgroundcolor": "#E5ECF6",
            "gridcolor": "white",
            "gridwidth": 2,
            "linecolor": "white",
            "showbackground": true,
            "ticks": "",
            "zerolinecolor": "white"
           },
           "yaxis": {
            "backgroundcolor": "#E5ECF6",
            "gridcolor": "white",
            "gridwidth": 2,
            "linecolor": "white",
            "showbackground": true,
            "ticks": "",
            "zerolinecolor": "white"
           },
           "zaxis": {
            "backgroundcolor": "#E5ECF6",
            "gridcolor": "white",
            "gridwidth": 2,
            "linecolor": "white",
            "showbackground": true,
            "ticks": "",
            "zerolinecolor": "white"
           }
          },
          "shapedefaults": {
           "line": {
            "color": "#2a3f5f"
           }
          },
          "ternary": {
           "aaxis": {
            "gridcolor": "white",
            "linecolor": "white",
            "ticks": ""
           },
           "baxis": {
            "gridcolor": "white",
            "linecolor": "white",
            "ticks": ""
           },
           "bgcolor": "#E5ECF6",
           "caxis": {
            "gridcolor": "white",
            "linecolor": "white",
            "ticks": ""
           }
          },
          "title": {
           "x": 0.05
          },
          "xaxis": {
           "automargin": true,
           "gridcolor": "white",
           "linecolor": "white",
           "ticks": "",
           "title": {
            "standoff": 15
           },
           "zerolinecolor": "white",
           "zerolinewidth": 2
          },
          "yaxis": {
           "automargin": true,
           "gridcolor": "white",
           "linecolor": "white",
           "ticks": "",
           "title": {
            "standoff": 15
           },
           "zerolinecolor": "white",
           "zerolinewidth": 2
          }
         }
        },
        "title": {
         "text": "Loss Per epoch"
        }
       }
      }
     },
     "metadata": {},
     "output_type": "display_data"
    }
   ],
   "source": [
    "lossi_copy= lossi.copy()\n",
    "lossi_copy = torch.tensor(lossi_copy).view(-1,500)\n",
    "# So the lossi tensor would be 200 rows of 500 values  and now we can do the mean along the rows and this would make the shape of 200 rows\n",
    "print(lossi_copy.shape)\n",
    "# Now get the mean values of the lossi_copy tensor\n",
    "lossi_copy = lossi_copy.mean(1)\n",
    "fig = go.Figure()\n",
    "\n",
    "fig.add_trace(go.Scatter(y  = lossi_copy.numpy(), name = \"Loss\"))\n",
    "fig.update_layout(title = 'Loss Per epoch')"
   ]
  },
  {
   "cell_type": "code",
   "execution_count": 23,
   "metadata": {},
   "outputs": [
    {
     "name": "stdout",
     "output_type": "stream",
     "text": [
      "Layer 4 | mean = 0.02272501401603222 | std = 0.9961785674095154 | % Saturated = 98.809814453125 %\n",
      "Layer 8 | mean = 0.011339999735355377 | std = 0.9909374117851257 | % Saturated = 96.35009765625 %\n",
      "Layer 12 | mean = -0.005315559916198254 | std = 0.9917203783988953 | % Saturated = 96.4111328125 %\n",
      "Layer 15 | mean = 0.07069593667984009 | std = 0.9906419515609741 | % Saturated = 97.0947265625 %\n",
      "Layer 18 | mean = -0.023318111896514893 | std = 0.9950968027114868 | % Saturated = 97.8515625 %\n"
     ]
    },
    {
     "data": {
      "application/vnd.plotly.v1+json": {
       "config": {
        "plotlyServerURL": "https://plot.ly"
       },
       "data": [
        {
         "name": "Layer 4",
         "type": "scatter",
         "x": [
          -1,
          -0.9800000190734863,
          -0.9599999785423279,
          -0.9399999976158142,
          -0.9200000166893005,
          -0.8999999761581421,
          -0.8799999952316284,
          -0.8600000143051147,
          -0.8400000333786011,
          -0.8200000524520874,
          -0.800000011920929,
          -0.7800000309944153,
          -0.7600000500679016,
          -0.7400000095367432,
          -0.7200000286102295,
          -0.7000000476837158,
          -0.6800000071525574,
          -0.6600000262260437,
          -0.6399999856948853,
          -0.6200000047683716,
          -0.6000000238418579,
          -0.5800000429153442,
          -0.5600000023841858,
          -0.5400000214576721,
          -0.5199999809265137,
          -0.4999999701976776,
          -0.47999998927116394,
          -0.4599999785423279,
          -0.4399999976158142,
          -0.41999998688697815,
          -0.3999999761581421,
          -0.3799999952316284,
          -0.36000001430511475,
          -0.3400000035762787,
          -0.320000022649765,
          -0.30000001192092896,
          -0.2800000309944153,
          -0.2600000202655792,
          -0.24000000953674316,
          -0.2200000137090683,
          -0.20000004768371582,
          -0.18000005185604095,
          -0.1600000560283661,
          -0.14000004529953003,
          -0.12000004947185516,
          -0.1000000536441803,
          -0.08000005036592484,
          -0.06000004708766937,
          -0.04000002145767212,
          -0.020000021904706955,
          -2.2351741790771484e-8,
          0.019999977201223373,
          0.03999997675418854,
          0.0599999725818634,
          0.07999997586011887,
          0.09999997913837433,
          0.12000000476837158,
          0.14000000059604645,
          0.1599999964237213,
          0.18000000715255737,
          0.20000000298023224,
          0.2199999988079071,
          0.24000000953674316,
          0.25999999046325684,
          0.2800000309944153,
          0.30000004172325134,
          0.320000022649765,
          0.3400000333786011,
          0.36000001430511475,
          0.3800000250339508,
          0.40000003576278687,
          0.42000001668930054,
          0.4399999976158142,
          0.46000000834465027,
          0.47999998927116394,
          0.5,
          0.5199999809265137,
          0.5399999618530273,
          0.5600000023841858,
          0.5799999833106995,
          0.6000000238418579,
          0.6200000047683716,
          0.64000004529953,
          0.6600000262260437,
          0.6800000071525574,
          0.7000000476837158,
          0.7200000286102295,
          0.7400000095367432,
          0.7599999904632568,
          0.7799999713897705,
          0.800000011920929,
          0.8199999928474426,
          0.8399999737739563,
          0.8600000143051147,
          0.8799999952316284,
          0.8999999761581421,
          0.9200000166893005,
          0.9399999976158142,
          0.9599999785423279,
          0.9800000190734863
         ],
         "y": [
          24.038719177246094,
          0.021362261846661568,
          0.015258803963661194,
          0.018310563638806343,
          0.021362261846661568,
          0.006103521678596735,
          0.0030517608392983675,
          0.006103521678596735,
          0.009155281819403172,
          0,
          0.015258803963661194,
          0,
          0,
          0.006103521678596735,
          0.009155281819403172,
          0.012207006104290485,
          0.01220704335719347,
          0,
          0,
          0.009155281819403172,
          0.009155281819403172,
          0.006103503052145243,
          0,
          0.21972611546516418,
          0.012207024730741978,
          0.006103521678596735,
          0,
          0,
          0.0030517561826854944,
          0,
          0.0030517608392983675,
          0.0030517608392983675,
          0,
          0,
          0,
          0,
          0,
          0,
          0,
          0.006103525869548321,
          0,
          0,
          0,
          0,
          0.003051758510991931,
          0,
          0.01220702938735485,
          0.003051753854379058,
          0,
          0.0030517578125,
          0,
          0,
          0,
          0.0030517573468387127,
          0,
          0,
          0,
          0,
          0.009155268780887127,
          0.006103517021983862,
          0,
          0.0030517561826854944,
          0,
          0,
          0,
          0.0030517608392983675,
          0.006103512365370989,
          0.006103521678596735,
          0.006103512365370989,
          0,
          0.0030517608392983675,
          0,
          0,
          0,
          0,
          0,
          0,
          0.0030517515260726213,
          0.006103521678596735,
          0,
          0,
          0,
          0,
          0,
          0,
          0,
          0.0030517608392983675,
          0.01220704335719347,
          0.0030517608392983675,
          0.006103503052145243,
          0.01220704335719347,
          0.0030517608392983675,
          0.012207006104290485,
          0.006103521678596735,
          0,
          0.015258758328855038,
          0.01220704335719347,
          0.015258803963661194,
          0.018310509622097015,
          25.332666397094727
         ]
        },
        {
         "name": "Layer 8",
         "type": "scatter",
         "x": [
          -1,
          -0.9800000190734863,
          -0.9599999785423279,
          -0.9399999976158142,
          -0.9200000166893005,
          -0.8999999761581421,
          -0.8799999952316284,
          -0.8600000143051147,
          -0.8400000333786011,
          -0.8200000524520874,
          -0.800000011920929,
          -0.7800000309944153,
          -0.7600000500679016,
          -0.7400000095367432,
          -0.7200000286102295,
          -0.7000000476837158,
          -0.6800000071525574,
          -0.6600000262260437,
          -0.6399999856948853,
          -0.6200000047683716,
          -0.6000000238418579,
          -0.5800000429153442,
          -0.5600000023841858,
          -0.5400000214576721,
          -0.5199999809265137,
          -0.4999999701976776,
          -0.47999998927116394,
          -0.4599999785423279,
          -0.4399999976158142,
          -0.41999998688697815,
          -0.3999999761581421,
          -0.3799999952316284,
          -0.36000001430511475,
          -0.3400000035762787,
          -0.320000022649765,
          -0.30000001192092896,
          -0.2800000309944153,
          -0.2600000202655792,
          -0.24000000953674316,
          -0.2200000137090683,
          -0.20000004768371582,
          -0.18000005185604095,
          -0.1600000560283661,
          -0.14000004529953003,
          -0.12000004947185516,
          -0.1000000536441803,
          -0.08000005036592484,
          -0.06000004708766937,
          -0.04000002145767212,
          -0.020000021904706955,
          -2.2351741790771484e-8,
          0.019999977201223373,
          0.03999997675418854,
          0.0599999725818634,
          0.07999997586011887,
          0.09999997913837433,
          0.12000000476837158,
          0.14000000059604645,
          0.1599999964237213,
          0.18000000715255737,
          0.20000000298023224,
          0.2199999988079071,
          0.24000000953674316,
          0.25999999046325684,
          0.2800000309944153,
          0.30000004172325134,
          0.320000022649765,
          0.3400000333786011,
          0.36000001430511475,
          0.3800000250339508,
          0.40000003576278687,
          0.42000001668930054,
          0.4399999976158142,
          0.46000000834465027,
          0.47999998927116394,
          0.5,
          0.5199999809265137,
          0.5399999618530273,
          0.5600000023841858,
          0.5799999833106995,
          0.6000000238418579,
          0.6200000047683716,
          0.64000004529953,
          0.6600000262260437,
          0.6800000071525574,
          0.7000000476837158,
          0.7200000286102295,
          0.7400000095367432,
          0.7599999904632568,
          0.7799999713897705,
          0.800000011920929,
          0.8199999928474426,
          0.8399999737739563,
          0.8600000143051147,
          0.8799999952316284,
          0.8999999761581421,
          0.9200000166893005,
          0.9399999976158142,
          0.9599999785423279,
          0.9800000190734863
         ],
         "y": [
          23.504661560058594,
          0.39062419533729553,
          0.04272465035319328,
          0.018310563638806343,
          0.054931528866291046,
          0.16479508578777313,
          0,
          0.01220704335719347,
          0.006103521678596735,
          0.16479459404945374,
          0.01220704335719347,
          0,
          0.018310509622097015,
          0.018310563638806343,
          0.01220704335719347,
          0.012207006104290485,
          0.006103521678596735,
          0,
          0.01220704335719347,
          0.01220704335719347,
          0.01220704335719347,
          0.006103503052145243,
          0,
          0.006103503052145243,
          0.006103512365370989,
          0,
          0,
          0,
          0.006103512365370989,
          0,
          0,
          0,
          0.006103512365370989,
          0,
          0.006103512365370989,
          0.006103521678596735,
          0,
          0,
          0.0183105506002903,
          0,
          0,
          0,
          0.006103512365370989,
          0,
          0,
          0.0183105431497097,
          0,
          0.1647947132587433,
          0.01220703125,
          0.006103515625,
          0,
          0.006103515625,
          0.006103517021983862,
          0.006103514693677425,
          0,
          0,
          0,
          0,
          0,
          0.006103517021983862,
          0,
          0,
          0,
          0,
          0,
          0,
          0.006103512365370989,
          0,
          0.024414049461483955,
          0,
          0,
          0,
          0.006103512365370989,
          0.006103521678596735,
          0.18310536444187164,
          0,
          0,
          0.018310509622097015,
          0,
          0.012207006104290485,
          0,
          0.17089809477329254,
          0.006103521678596735,
          0.01220704335719347,
          0.012207006104290485,
          0.006103521678596735,
          0.006103521678596735,
          0.01220704335719347,
          0.036621127277612686,
          0,
          0.018310563638806343,
          0.036621127277612686,
          0.018310509622097015,
          0.04272465035319328,
          0.04272465035319328,
          0.17700159549713135,
          0.036621127277612686,
          0.006103521678596735,
          0.054931528866291046,
          24.279808044433594
         ]
        },
        {
         "name": "Layer 12",
         "type": "scatter",
         "x": [
          -1,
          -0.9800000190734863,
          -0.9599999785423279,
          -0.9399999976158142,
          -0.9200000166893005,
          -0.8999999761581421,
          -0.8799999952316284,
          -0.8600000143051147,
          -0.8400000333786011,
          -0.8200000524520874,
          -0.800000011920929,
          -0.7800000309944153,
          -0.7600000500679016,
          -0.7400000095367432,
          -0.7200000286102295,
          -0.7000000476837158,
          -0.6800000071525574,
          -0.6600000262260437,
          -0.6399999856948853,
          -0.6200000047683716,
          -0.6000000238418579,
          -0.5800000429153442,
          -0.5600000023841858,
          -0.5400000214576721,
          -0.5199999809265137,
          -0.4999999701976776,
          -0.47999998927116394,
          -0.4599999785423279,
          -0.4399999976158142,
          -0.41999998688697815,
          -0.3999999761581421,
          -0.3799999952316284,
          -0.36000001430511475,
          -0.3400000035762787,
          -0.320000022649765,
          -0.30000001192092896,
          -0.2800000309944153,
          -0.2600000202655792,
          -0.24000000953674316,
          -0.2200000137090683,
          -0.20000004768371582,
          -0.18000005185604095,
          -0.1600000560283661,
          -0.14000004529953003,
          -0.12000004947185516,
          -0.1000000536441803,
          -0.08000005036592484,
          -0.06000004708766937,
          -0.04000002145767212,
          -0.020000021904706955,
          -2.2351741790771484e-8,
          0.019999977201223373,
          0.03999997675418854,
          0.0599999725818634,
          0.07999997586011887,
          0.09999997913837433,
          0.12000000476837158,
          0.14000000059604645,
          0.1599999964237213,
          0.18000000715255737,
          0.20000000298023224,
          0.2199999988079071,
          0.24000000953674316,
          0.25999999046325684,
          0.2800000309944153,
          0.30000004172325134,
          0.320000022649765,
          0.3400000333786011,
          0.36000001430511475,
          0.3800000250339508,
          0.40000003576278687,
          0.42000001668930054,
          0.4399999976158142,
          0.46000000834465027,
          0.47999998927116394,
          0.5,
          0.5199999809265137,
          0.5399999618530273,
          0.5600000023841858,
          0.5799999833106995,
          0.6000000238418579,
          0.6200000047683716,
          0.64000004529953,
          0.6600000262260437,
          0.6800000071525574,
          0.7000000476837158,
          0.7200000286102295,
          0.7400000095367432,
          0.7599999904632568,
          0.7799999713897705,
          0.800000011920929,
          0.8199999928474426,
          0.8399999737739563,
          0.8600000143051147,
          0.8799999952316284,
          0.8999999761581421,
          0.9200000166893005,
          0.9399999976158142,
          0.9599999785423279,
          0.9800000190734863
         ],
         "y": [
          24.060081481933594,
          0.14648407697677612,
          0.09765634685754776,
          0.09765634685754776,
          0.08544904738664627,
          0.01220704335719347,
          0.036621127277612686,
          0.036621127277612686,
          0,
          0.02441401220858097,
          0,
          0,
          0.06103503331542015,
          0,
          0.04882817342877388,
          0.012207006104290485,
          0.04882817342877388,
          0.06103503331542015,
          0.02441408671438694,
          0.01220704335719347,
          0.036621127277612686,
          0,
          0,
          0.012207006104290485,
          0,
          0.01220704335719347,
          0.024414049461483955,
          0.01220704335719347,
          0.04882809892296791,
          0,
          0,
          0,
          0.012207024730741978,
          0.02441408671438694,
          0.03662107512354851,
          0.01220704335719347,
          0,
          0.024414049461483955,
          0,
          0,
          0,
          0,
          0.012207024730741978,
          0.024414068087935448,
          0.012207034043967724,
          0,
          0.01220702938735485,
          0,
          0.01220703125,
          0,
          0,
          0.01220703125,
          0,
          0.0366210862994194,
          0,
          0.012207015417516232,
          0.024414068087935448,
          0,
          0,
          0,
          0,
          0.024414049461483955,
          0,
          0,
          0,
          0,
          0,
          0,
          0,
          0,
          0,
          0,
          0,
          0.01220704335719347,
          0,
          0,
          0.036621127277612686,
          0.012207006104290485,
          0,
          0.012207006104290485,
          0.01220704335719347,
          0.02441401220858097,
          0.01220704335719347,
          0.01220704335719347,
          0.012207006104290485,
          0.01220704335719347,
          0,
          0.02441408671438694,
          0.01220704335719347,
          0,
          0.04882817342877388,
          0.036621127277612686,
          0.08544904738664627,
          0.01220704335719347,
          0.02441408671438694,
          0.04882802441716194,
          0.01220704335719347,
          0.08544930070638657,
          0.15869107842445374,
          23.986839294433594
         ]
        },
        {
         "name": "Layer 15",
         "type": "scatter",
         "x": [
          -1,
          -0.9800000190734863,
          -0.9599999785423279,
          -0.9399999976158142,
          -0.9200000166893005,
          -0.8999999761581421,
          -0.8799999952316284,
          -0.8600000143051147,
          -0.8400000333786011,
          -0.8200000524520874,
          -0.800000011920929,
          -0.7800000309944153,
          -0.7600000500679016,
          -0.7400000095367432,
          -0.7200000286102295,
          -0.7000000476837158,
          -0.6800000071525574,
          -0.6600000262260437,
          -0.6399999856948853,
          -0.6200000047683716,
          -0.6000000238418579,
          -0.5800000429153442,
          -0.5600000023841858,
          -0.5400000214576721,
          -0.5199999809265137,
          -0.4999999701976776,
          -0.47999998927116394,
          -0.4599999785423279,
          -0.4399999976158142,
          -0.41999998688697815,
          -0.3999999761581421,
          -0.3799999952316284,
          -0.36000001430511475,
          -0.3400000035762787,
          -0.320000022649765,
          -0.30000001192092896,
          -0.2800000309944153,
          -0.2600000202655792,
          -0.24000000953674316,
          -0.2200000137090683,
          -0.20000004768371582,
          -0.18000005185604095,
          -0.1600000560283661,
          -0.14000004529953003,
          -0.12000004947185516,
          -0.1000000536441803,
          -0.08000005036592484,
          -0.06000004708766937,
          -0.04000002145767212,
          -0.020000021904706955,
          -2.2351741790771484e-8,
          0.019999977201223373,
          0.03999997675418854,
          0.0599999725818634,
          0.07999997586011887,
          0.09999997913837433,
          0.12000000476837158,
          0.14000000059604645,
          0.1599999964237213,
          0.18000000715255737,
          0.20000000298023224,
          0.2199999988079071,
          0.24000000953674316,
          0.25999999046325684,
          0.2800000309944153,
          0.30000004172325134,
          0.320000022649765,
          0.3400000333786011,
          0.36000001430511475,
          0.3800000250339508,
          0.40000003576278687,
          0.42000001668930054,
          0.4399999976158142,
          0.46000000834465027,
          0.47999998927116394,
          0.5,
          0.5199999809265137,
          0.5399999618530273,
          0.5600000023841858,
          0.5799999833106995,
          0.6000000238418579,
          0.6200000047683716,
          0.64000004529953,
          0.6600000262260437,
          0.6800000071525574,
          0.7000000476837158,
          0.7200000286102295,
          0.7400000095367432,
          0.7599999904632568,
          0.7799999713897705,
          0.800000011920929,
          0.8199999928474426,
          0.8399999737739563,
          0.8600000143051147,
          0.8799999952316284,
          0.8999999761581421,
          0.9200000166893005,
          0.9399999976158142,
          0.9599999785423279,
          0.9800000190734863
         ],
         "y": [
          22.42433738708496,
          0.17089809477329254,
          0.08544930070638657,
          0.01220704335719347,
          0.06103503331542015,
          0.01220704335719347,
          0.01220704335719347,
          0.01220704335719347,
          0.02441408671438694,
          0.02441401220858097,
          0.036621127277612686,
          0.01220704335719347,
          0.012207006104290485,
          0.036621127277612686,
          0.04882817342877388,
          0,
          0,
          0,
          0,
          0.01220704335719347,
          0.02441408671438694,
          0,
          0,
          0,
          0.012207024730741978,
          0,
          0.012207024730741978,
          0,
          0,
          0,
          0,
          0,
          0.024414049461483955,
          0,
          0,
          0.01220704335719347,
          0.024414049461483955,
          0.024414049461483955,
          0.012207034043967724,
          0.024414103478193283,
          0.024414068087935448,
          0.024414068087935448,
          0,
          0,
          0,
          0.01220702938735485,
          0.0244140587747097,
          0,
          0,
          0,
          0,
          0,
          0.012207034043967724,
          0,
          0,
          0,
          0,
          0.012207034043967724,
          0.024414049461483955,
          0,
          0,
          0,
          0.01220704335719347,
          0.012207006104290485,
          0,
          0.02441408671438694,
          0,
          0,
          0,
          0.012207024730741978,
          0,
          0.01220704335719347,
          0,
          0,
          0,
          0.04882817342877388,
          0,
          0,
          0,
          0.03662101924419403,
          0.01220704335719347,
          0,
          0.02441408671438694,
          0.036621127277612686,
          0.012207006104290485,
          0.01220704335719347,
          0.01220704335719347,
          0.036621127277612686,
          0,
          0.012207006104290485,
          0.036621127277612686,
          0,
          0.06103503331542015,
          0.01220704335719347,
          0.02441408671438694,
          0.012207006104290485,
          0.061035215854644775,
          0.14648450911045074,
          0.09765604883432388,
          25.927759170532227
         ]
        },
        {
         "name": "Layer 18",
         "type": "scatter",
         "x": [
          -1,
          -0.9800000190734863,
          -0.9599999785423279,
          -0.9399999976158142,
          -0.9200000166893005,
          -0.8999999761581421,
          -0.8799999952316284,
          -0.8600000143051147,
          -0.8400000333786011,
          -0.8200000524520874,
          -0.800000011920929,
          -0.7800000309944153,
          -0.7600000500679016,
          -0.7400000095367432,
          -0.7200000286102295,
          -0.7000000476837158,
          -0.6800000071525574,
          -0.6600000262260437,
          -0.6399999856948853,
          -0.6200000047683716,
          -0.6000000238418579,
          -0.5800000429153442,
          -0.5600000023841858,
          -0.5400000214576721,
          -0.5199999809265137,
          -0.4999999701976776,
          -0.47999998927116394,
          -0.4599999785423279,
          -0.4399999976158142,
          -0.41999998688697815,
          -0.3999999761581421,
          -0.3799999952316284,
          -0.36000001430511475,
          -0.3400000035762787,
          -0.320000022649765,
          -0.30000001192092896,
          -0.2800000309944153,
          -0.2600000202655792,
          -0.24000000953674316,
          -0.2200000137090683,
          -0.20000004768371582,
          -0.18000005185604095,
          -0.1600000560283661,
          -0.14000004529953003,
          -0.12000004947185516,
          -0.1000000536441803,
          -0.08000005036592484,
          -0.06000004708766937,
          -0.04000002145767212,
          -0.020000021904706955,
          -2.2351741790771484e-8,
          0.019999977201223373,
          0.03999997675418854,
          0.0599999725818634,
          0.07999997586011887,
          0.09999997913837433,
          0.12000000476837158,
          0.14000000059604645,
          0.1599999964237213,
          0.18000000715255737,
          0.20000000298023224,
          0.2199999988079071,
          0.24000000953674316,
          0.25999999046325684,
          0.2800000309944153,
          0.30000004172325134,
          0.320000022649765,
          0.3400000333786011,
          0.36000001430511475,
          0.3800000250339508,
          0.40000003576278687,
          0.42000001668930054,
          0.4399999976158142,
          0.46000000834465027,
          0.47999998927116394,
          0.5,
          0.5199999809265137,
          0.5399999618530273,
          0.5600000023841858,
          0.5799999833106995,
          0.6000000238418579,
          0.6200000047683716,
          0.64000004529953,
          0.6600000262260437,
          0.6800000071525574,
          0.7000000476837158,
          0.7200000286102295,
          0.7400000095367432,
          0.7599999904632568,
          0.7799999713897705,
          0.800000011920929,
          0.8199999928474426,
          0.8399999737739563,
          0.8600000143051147,
          0.8799999952316284,
          0.8999999761581421,
          0.9200000166893005,
          0.9399999976158142,
          0.9599999785423279,
          0.9800000190734863
         ],
         "y": [
          25.036645889282227,
          0.07324203848838806,
          0.07324225455522537,
          0.02441408671438694,
          0.012207006104290485,
          0.061035215854644775,
          0.02441408671438694,
          0.02441408671438694,
          0,
          0,
          0.036621127277612686,
          0,
          0,
          0,
          0.01220704335719347,
          0.012207006104290485,
          0.02441408671438694,
          0,
          0.01220704335719347,
          0.036621127277612686,
          0,
          0.012207006104290485,
          0,
          0,
          0,
          0,
          0,
          0.01220704335719347,
          0,
          0,
          0,
          0,
          0,
          0,
          0.012207024730741978,
          0,
          0,
          0,
          0,
          0.012207051739096642,
          0.012207034043967724,
          0,
          0.012207024730741978,
          0,
          0,
          0,
          0.01220702938735485,
          0.012207015417516232,
          0,
          0.01220703125,
          0.01220703125,
          0,
          0,
          0,
          0.01220702938735485,
          0.012207015417516232,
          0.012207034043967724,
          0,
          0,
          0,
          0,
          0,
          0,
          0,
          0,
          0,
          0.024414049461483955,
          0,
          0,
          0.012207024730741978,
          0,
          0,
          0,
          0,
          0,
          0.01220704335719347,
          0.01220704335719347,
          0.02441401220858097,
          0,
          0,
          0.01220704335719347,
          0.04882802441716194,
          0.01220704335719347,
          0.01220704335719347,
          0,
          0.02441408671438694,
          0.02441408671438694,
          0,
          0,
          0.012207006104290485,
          0.01220704335719347,
          0,
          0.04882802441716194,
          0.036621127277612686,
          0.01220704335719347,
          0.02441401220858097,
          0.08544930070638657,
          0.02441408671438694,
          0.18310509622097015,
          23.718284606933594
         ]
        }
       ],
       "layout": {
        "legend": {
         "title": {
          "text": "Layers"
         },
         "x": 0.5,
         "xanchor": "center",
         "y": 0.99,
         "yanchor": "top"
        },
        "template": {
         "data": {
          "bar": [
           {
            "error_x": {
             "color": "#2a3f5f"
            },
            "error_y": {
             "color": "#2a3f5f"
            },
            "marker": {
             "line": {
              "color": "#E5ECF6",
              "width": 0.5
             },
             "pattern": {
              "fillmode": "overlay",
              "size": 10,
              "solidity": 0.2
             }
            },
            "type": "bar"
           }
          ],
          "barpolar": [
           {
            "marker": {
             "line": {
              "color": "#E5ECF6",
              "width": 0.5
             },
             "pattern": {
              "fillmode": "overlay",
              "size": 10,
              "solidity": 0.2
             }
            },
            "type": "barpolar"
           }
          ],
          "carpet": [
           {
            "aaxis": {
             "endlinecolor": "#2a3f5f",
             "gridcolor": "white",
             "linecolor": "white",
             "minorgridcolor": "white",
             "startlinecolor": "#2a3f5f"
            },
            "baxis": {
             "endlinecolor": "#2a3f5f",
             "gridcolor": "white",
             "linecolor": "white",
             "minorgridcolor": "white",
             "startlinecolor": "#2a3f5f"
            },
            "type": "carpet"
           }
          ],
          "choropleth": [
           {
            "colorbar": {
             "outlinewidth": 0,
             "ticks": ""
            },
            "type": "choropleth"
           }
          ],
          "contour": [
           {
            "colorbar": {
             "outlinewidth": 0,
             "ticks": ""
            },
            "colorscale": [
             [
              0,
              "#0d0887"
             ],
             [
              0.1111111111111111,
              "#46039f"
             ],
             [
              0.2222222222222222,
              "#7201a8"
             ],
             [
              0.3333333333333333,
              "#9c179e"
             ],
             [
              0.4444444444444444,
              "#bd3786"
             ],
             [
              0.5555555555555556,
              "#d8576b"
             ],
             [
              0.6666666666666666,
              "#ed7953"
             ],
             [
              0.7777777777777778,
              "#fb9f3a"
             ],
             [
              0.8888888888888888,
              "#fdca26"
             ],
             [
              1,
              "#f0f921"
             ]
            ],
            "type": "contour"
           }
          ],
          "contourcarpet": [
           {
            "colorbar": {
             "outlinewidth": 0,
             "ticks": ""
            },
            "type": "contourcarpet"
           }
          ],
          "heatmap": [
           {
            "colorbar": {
             "outlinewidth": 0,
             "ticks": ""
            },
            "colorscale": [
             [
              0,
              "#0d0887"
             ],
             [
              0.1111111111111111,
              "#46039f"
             ],
             [
              0.2222222222222222,
              "#7201a8"
             ],
             [
              0.3333333333333333,
              "#9c179e"
             ],
             [
              0.4444444444444444,
              "#bd3786"
             ],
             [
              0.5555555555555556,
              "#d8576b"
             ],
             [
              0.6666666666666666,
              "#ed7953"
             ],
             [
              0.7777777777777778,
              "#fb9f3a"
             ],
             [
              0.8888888888888888,
              "#fdca26"
             ],
             [
              1,
              "#f0f921"
             ]
            ],
            "type": "heatmap"
           }
          ],
          "heatmapgl": [
           {
            "colorbar": {
             "outlinewidth": 0,
             "ticks": ""
            },
            "colorscale": [
             [
              0,
              "#0d0887"
             ],
             [
              0.1111111111111111,
              "#46039f"
             ],
             [
              0.2222222222222222,
              "#7201a8"
             ],
             [
              0.3333333333333333,
              "#9c179e"
             ],
             [
              0.4444444444444444,
              "#bd3786"
             ],
             [
              0.5555555555555556,
              "#d8576b"
             ],
             [
              0.6666666666666666,
              "#ed7953"
             ],
             [
              0.7777777777777778,
              "#fb9f3a"
             ],
             [
              0.8888888888888888,
              "#fdca26"
             ],
             [
              1,
              "#f0f921"
             ]
            ],
            "type": "heatmapgl"
           }
          ],
          "histogram": [
           {
            "marker": {
             "pattern": {
              "fillmode": "overlay",
              "size": 10,
              "solidity": 0.2
             }
            },
            "type": "histogram"
           }
          ],
          "histogram2d": [
           {
            "colorbar": {
             "outlinewidth": 0,
             "ticks": ""
            },
            "colorscale": [
             [
              0,
              "#0d0887"
             ],
             [
              0.1111111111111111,
              "#46039f"
             ],
             [
              0.2222222222222222,
              "#7201a8"
             ],
             [
              0.3333333333333333,
              "#9c179e"
             ],
             [
              0.4444444444444444,
              "#bd3786"
             ],
             [
              0.5555555555555556,
              "#d8576b"
             ],
             [
              0.6666666666666666,
              "#ed7953"
             ],
             [
              0.7777777777777778,
              "#fb9f3a"
             ],
             [
              0.8888888888888888,
              "#fdca26"
             ],
             [
              1,
              "#f0f921"
             ]
            ],
            "type": "histogram2d"
           }
          ],
          "histogram2dcontour": [
           {
            "colorbar": {
             "outlinewidth": 0,
             "ticks": ""
            },
            "colorscale": [
             [
              0,
              "#0d0887"
             ],
             [
              0.1111111111111111,
              "#46039f"
             ],
             [
              0.2222222222222222,
              "#7201a8"
             ],
             [
              0.3333333333333333,
              "#9c179e"
             ],
             [
              0.4444444444444444,
              "#bd3786"
             ],
             [
              0.5555555555555556,
              "#d8576b"
             ],
             [
              0.6666666666666666,
              "#ed7953"
             ],
             [
              0.7777777777777778,
              "#fb9f3a"
             ],
             [
              0.8888888888888888,
              "#fdca26"
             ],
             [
              1,
              "#f0f921"
             ]
            ],
            "type": "histogram2dcontour"
           }
          ],
          "mesh3d": [
           {
            "colorbar": {
             "outlinewidth": 0,
             "ticks": ""
            },
            "type": "mesh3d"
           }
          ],
          "parcoords": [
           {
            "line": {
             "colorbar": {
              "outlinewidth": 0,
              "ticks": ""
             }
            },
            "type": "parcoords"
           }
          ],
          "pie": [
           {
            "automargin": true,
            "type": "pie"
           }
          ],
          "scatter": [
           {
            "marker": {
             "colorbar": {
              "outlinewidth": 0,
              "ticks": ""
             }
            },
            "type": "scatter"
           }
          ],
          "scatter3d": [
           {
            "line": {
             "colorbar": {
              "outlinewidth": 0,
              "ticks": ""
             }
            },
            "marker": {
             "colorbar": {
              "outlinewidth": 0,
              "ticks": ""
             }
            },
            "type": "scatter3d"
           }
          ],
          "scattercarpet": [
           {
            "marker": {
             "colorbar": {
              "outlinewidth": 0,
              "ticks": ""
             }
            },
            "type": "scattercarpet"
           }
          ],
          "scattergeo": [
           {
            "marker": {
             "colorbar": {
              "outlinewidth": 0,
              "ticks": ""
             }
            },
            "type": "scattergeo"
           }
          ],
          "scattergl": [
           {
            "marker": {
             "colorbar": {
              "outlinewidth": 0,
              "ticks": ""
             }
            },
            "type": "scattergl"
           }
          ],
          "scattermapbox": [
           {
            "marker": {
             "colorbar": {
              "outlinewidth": 0,
              "ticks": ""
             }
            },
            "type": "scattermapbox"
           }
          ],
          "scatterpolar": [
           {
            "marker": {
             "colorbar": {
              "outlinewidth": 0,
              "ticks": ""
             }
            },
            "type": "scatterpolar"
           }
          ],
          "scatterpolargl": [
           {
            "marker": {
             "colorbar": {
              "outlinewidth": 0,
              "ticks": ""
             }
            },
            "type": "scatterpolargl"
           }
          ],
          "scatterternary": [
           {
            "marker": {
             "colorbar": {
              "outlinewidth": 0,
              "ticks": ""
             }
            },
            "type": "scatterternary"
           }
          ],
          "surface": [
           {
            "colorbar": {
             "outlinewidth": 0,
             "ticks": ""
            },
            "colorscale": [
             [
              0,
              "#0d0887"
             ],
             [
              0.1111111111111111,
              "#46039f"
             ],
             [
              0.2222222222222222,
              "#7201a8"
             ],
             [
              0.3333333333333333,
              "#9c179e"
             ],
             [
              0.4444444444444444,
              "#bd3786"
             ],
             [
              0.5555555555555556,
              "#d8576b"
             ],
             [
              0.6666666666666666,
              "#ed7953"
             ],
             [
              0.7777777777777778,
              "#fb9f3a"
             ],
             [
              0.8888888888888888,
              "#fdca26"
             ],
             [
              1,
              "#f0f921"
             ]
            ],
            "type": "surface"
           }
          ],
          "table": [
           {
            "cells": {
             "fill": {
              "color": "#EBF0F8"
             },
             "line": {
              "color": "white"
             }
            },
            "header": {
             "fill": {
              "color": "#C8D4E3"
             },
             "line": {
              "color": "white"
             }
            },
            "type": "table"
           }
          ]
         },
         "layout": {
          "annotationdefaults": {
           "arrowcolor": "#2a3f5f",
           "arrowhead": 0,
           "arrowwidth": 1
          },
          "autotypenumbers": "strict",
          "coloraxis": {
           "colorbar": {
            "outlinewidth": 0,
            "ticks": ""
           }
          },
          "colorscale": {
           "diverging": [
            [
             0,
             "#8e0152"
            ],
            [
             0.1,
             "#c51b7d"
            ],
            [
             0.2,
             "#de77ae"
            ],
            [
             0.3,
             "#f1b6da"
            ],
            [
             0.4,
             "#fde0ef"
            ],
            [
             0.5,
             "#f7f7f7"
            ],
            [
             0.6,
             "#e6f5d0"
            ],
            [
             0.7,
             "#b8e186"
            ],
            [
             0.8,
             "#7fbc41"
            ],
            [
             0.9,
             "#4d9221"
            ],
            [
             1,
             "#276419"
            ]
           ],
           "sequential": [
            [
             0,
             "#0d0887"
            ],
            [
             0.1111111111111111,
             "#46039f"
            ],
            [
             0.2222222222222222,
             "#7201a8"
            ],
            [
             0.3333333333333333,
             "#9c179e"
            ],
            [
             0.4444444444444444,
             "#bd3786"
            ],
            [
             0.5555555555555556,
             "#d8576b"
            ],
            [
             0.6666666666666666,
             "#ed7953"
            ],
            [
             0.7777777777777778,
             "#fb9f3a"
            ],
            [
             0.8888888888888888,
             "#fdca26"
            ],
            [
             1,
             "#f0f921"
            ]
           ],
           "sequentialminus": [
            [
             0,
             "#0d0887"
            ],
            [
             0.1111111111111111,
             "#46039f"
            ],
            [
             0.2222222222222222,
             "#7201a8"
            ],
            [
             0.3333333333333333,
             "#9c179e"
            ],
            [
             0.4444444444444444,
             "#bd3786"
            ],
            [
             0.5555555555555556,
             "#d8576b"
            ],
            [
             0.6666666666666666,
             "#ed7953"
            ],
            [
             0.7777777777777778,
             "#fb9f3a"
            ],
            [
             0.8888888888888888,
             "#fdca26"
            ],
            [
             1,
             "#f0f921"
            ]
           ]
          },
          "colorway": [
           "#636efa",
           "#EF553B",
           "#00cc96",
           "#ab63fa",
           "#FFA15A",
           "#19d3f3",
           "#FF6692",
           "#B6E880",
           "#FF97FF",
           "#FECB52"
          ],
          "font": {
           "color": "#2a3f5f"
          },
          "geo": {
           "bgcolor": "white",
           "lakecolor": "white",
           "landcolor": "#E5ECF6",
           "showlakes": true,
           "showland": true,
           "subunitcolor": "white"
          },
          "hoverlabel": {
           "align": "left"
          },
          "hovermode": "closest",
          "mapbox": {
           "style": "light"
          },
          "paper_bgcolor": "white",
          "plot_bgcolor": "#E5ECF6",
          "polar": {
           "angularaxis": {
            "gridcolor": "white",
            "linecolor": "white",
            "ticks": ""
           },
           "bgcolor": "#E5ECF6",
           "radialaxis": {
            "gridcolor": "white",
            "linecolor": "white",
            "ticks": ""
           }
          },
          "scene": {
           "xaxis": {
            "backgroundcolor": "#E5ECF6",
            "gridcolor": "white",
            "gridwidth": 2,
            "linecolor": "white",
            "showbackground": true,
            "ticks": "",
            "zerolinecolor": "white"
           },
           "yaxis": {
            "backgroundcolor": "#E5ECF6",
            "gridcolor": "white",
            "gridwidth": 2,
            "linecolor": "white",
            "showbackground": true,
            "ticks": "",
            "zerolinecolor": "white"
           },
           "zaxis": {
            "backgroundcolor": "#E5ECF6",
            "gridcolor": "white",
            "gridwidth": 2,
            "linecolor": "white",
            "showbackground": true,
            "ticks": "",
            "zerolinecolor": "white"
           }
          },
          "shapedefaults": {
           "line": {
            "color": "#2a3f5f"
           }
          },
          "ternary": {
           "aaxis": {
            "gridcolor": "white",
            "linecolor": "white",
            "ticks": ""
           },
           "baxis": {
            "gridcolor": "white",
            "linecolor": "white",
            "ticks": ""
           },
           "bgcolor": "#E5ECF6",
           "caxis": {
            "gridcolor": "white",
            "linecolor": "white",
            "ticks": ""
           }
          },
          "title": {
           "x": 0.05
          },
          "xaxis": {
           "automargin": true,
           "gridcolor": "white",
           "linecolor": "white",
           "ticks": "",
           "title": {
            "standoff": 15
           },
           "zerolinecolor": "white",
           "zerolinewidth": 2
          },
          "yaxis": {
           "automargin": true,
           "gridcolor": "white",
           "linecolor": "white",
           "ticks": "",
           "title": {
            "standoff": 15
           },
           "zerolinecolor": "white",
           "zerolinewidth": 2
          }
         }
        },
        "title": {
         "text": "Tanh Activations"
        }
       }
      }
     },
     "metadata": {},
     "output_type": "display_data"
    }
   ],
   "source": [
    "import plotly.graph_objects as go\n",
    "\n",
    "fig = go.Figure()\n",
    "for i,layer in enumerate(model.layers[:-1]):\n",
    "    if isinstance(layer, Tanh):\n",
    "        l = f\"Layer {i}\"\n",
    "        d = layer.out.detach()\n",
    "        \n",
    "        hy,hx = torch.histogram(d, density=True)\n",
    "        fig.add_trace(go.Scatter(x = hx[:-1], y=hy, name = l))\n",
    "        print(f\"{l} | mean = {d.mean()} | std = {d.std()} | % Saturated = {(d.abs()>0.97).float().mean() * 100} %\")\n",
    "\n",
    "fig.update_layout(legend=dict(\n",
    "    yanchor=\"top\",\n",
    "    y=0.99,\n",
    "    xanchor=\"center\",\n",
    "    x=0.50,\n",
    "    title = 'Layers'\n",
    "), title = \"Tanh Activations\")\n",
    "fig.show()"
   ]
  },
  {
   "cell_type": "code",
   "execution_count": 24,
   "metadata": {},
   "outputs": [
    {
     "name": "stdout",
     "output_type": "stream",
     "text": [
      "Layer 4 | mean = -2.518163455533795e-11 | std = 0.01995280385017395\n",
      "Layer 8 | mean = 3.169020601490047e-12 | std = 0.010276095010340214\n",
      "Layer 12 | mean = -9.485745522397337e-12 | std = 0.007046087179332972\n",
      "Layer 15 | mean = -6.579625733138528e-12 | std = 0.0049035935662686825\n",
      "Layer 18 | mean = 8.981260180007666e-12 | std = 0.004913329612463713\n"
     ]
    },
    {
     "data": {
      "application/vnd.plotly.v1+json": {
       "config": {
        "plotlyServerURL": "https://plot.ly"
       },
       "data": [
        {
         "name": "Layer 4",
         "type": "scatter",
         "x": [
          -0.4245591461658478,
          -0.41678541898727417,
          -0.40901169180870056,
          -0.40123796463012695,
          -0.39346426725387573,
          -0.3856905400753021,
          -0.3779168128967285,
          -0.3701430857181549,
          -0.3623693585395813,
          -0.3545956313610077,
          -0.3468219041824341,
          -0.3390481770038605,
          -0.33127447962760925,
          -0.32350075244903564,
          -0.31572702527046204,
          -0.3079532980918884,
          -0.3001795709133148,
          -0.2924058437347412,
          -0.2846321165561676,
          -0.276858389377594,
          -0.2690846920013428,
          -0.26131096482276917,
          -0.25353723764419556,
          -0.24576351046562195,
          -0.23798979818820953,
          -0.23021607100963593,
          -0.2224423587322235,
          -0.2146686315536499,
          -0.2068949043750763,
          -0.19912117719650269,
          -0.19134746491909027,
          -0.18357373774051666,
          -0.17580001056194305,
          -0.16802628338336945,
          -0.16025257110595703,
          -0.15247884392738342,
          -0.14470511674880981,
          -0.1369313895702362,
          -0.1291576772928238,
          -0.12138395011425018,
          -0.11361023783683777,
          -0.10583651810884476,
          -0.09806279093027115,
          -0.09028907120227814,
          -0.08251534402370453,
          -0.07474162429571152,
          -0.0669679045677185,
          -0.0591941773891449,
          -0.05142045021057129,
          -0.04364672675728798,
          -0.03587300330400467,
          -0.02809928171336651,
          -0.0203255582600832,
          -0.012551836669445038,
          -0.004778113216161728,
          0.002995610237121582,
          0.01076933741569519,
          0.0185430608689785,
          0.02631678432226181,
          0.03409050405025482,
          0.04186423122882843,
          0.04963795095682144,
          0.05741167441010475,
          0.06518539786338806,
          0.07295912504196167,
          0.08073284476995468,
          0.08850657194852829,
          0.0962802916765213,
          0.10405401885509491,
          0.11182773858308792,
          0.11960145831108093,
          0.12737518548965454,
          0.13514891266822815,
          0.14292263984680176,
          0.15069635212421417,
          0.15847007930278778,
          0.1662438064813614,
          0.1740175187587738,
          0.1817912459373474,
          0.18956497311592102,
          0.19733870029449463,
          0.20511242747306824,
          0.21288613975048065,
          0.22065986692905426,
          0.22843359410762787,
          0.23620730638504028,
          0.2439810335636139,
          0.2517547607421875,
          0.2595284879207611,
          0.2673022150993347,
          0.2750759422779083,
          0.28284966945648193,
          0.29062336683273315,
          0.29839709401130676,
          0.30617082118988037,
          0.313944548368454,
          0.3217182755470276,
          0.3294919729232788,
          0.3372657001018524,
          0.345039427280426
         ],
         "y": [
          0.007851466536521912,
          0.007851466536521912,
          0,
          0,
          0,
          0,
          0,
          0.015702933073043823,
          0,
          0,
          0,
          0,
          0,
          0,
          0,
          0,
          0,
          0,
          0,
          0,
          0,
          0,
          0.007851466536521912,
          0,
          0.015702933073043823,
          0.007851481437683105,
          0.007851466536521912,
          0,
          0.015702933073043823,
          0.007851481437683105,
          0.007851466536521912,
          0.015702933073043823,
          0.031405866146087646,
          0.007851481437683105,
          0,
          0.015702933073043823,
          0.06281173229217529,
          0.023554444313049316,
          0.05496026203036308,
          0.04710888862609863,
          0.06281179189682007,
          0.06281173229217529,
          0.0863662138581276,
          0.08636613190174103,
          0.10992063581943512,
          0.19628684222698212,
          0.31405866146087646,
          0.22769251465797424,
          0.2983558475971222,
          0.5103455185890198,
          0.7615927457809448,
          1.5702940225601196,
          3.3368754386901855,
          14.022725105285645,
          75.95512390136719,
          21.25391960144043,
          4.019952774047852,
          1.797986626625061,
          1.0756518840789795,
          0.6124143600463867,
          0.40827664732933044,
          0.2512470483779907,
          0.1648808717727661,
          0.15702933073043823,
          0.15702947974205017,
          0.17273226380348206,
          0.07066326588392258,
          0.03925733268260956,
          0.03925736993551254,
          0.06281179189682007,
          0.05496026203036308,
          0.04710879549384117,
          0.031405866146087646,
          0.03140592575073242,
          0.023554397746920586,
          0.023554397746920586,
          0.007851481437683105,
          0.015702933073043823,
          0.015702933073043823,
          0.015702933073043823,
          0.007851466536521912,
          0.007851481437683105,
          0.007851466536521912,
          0.015702933073043823,
          0.01570296287536621,
          0,
          0,
          0.015702933073043823,
          0.007851466536521912,
          0.007851466536521912,
          0.007851466536521912,
          0.0078514963388443,
          0,
          0,
          0.007851466536521912,
          0,
          0,
          0,
          0,
          0.015702933073043823
         ]
        },
        {
         "name": "Layer 8",
         "type": "scatter",
         "x": [
          -0.12491264939308167,
          -0.12241263687610626,
          -0.11991262435913086,
          -0.11741260439157486,
          -0.11491259187459946,
          -0.11241257935762405,
          -0.10991255939006805,
          -0.10741254687309265,
          -0.10491253435611725,
          -0.10241252183914185,
          -0.09991250932216644,
          -0.09741248935461044,
          -0.09491247683763504,
          -0.09241246432065964,
          -0.08991244435310364,
          -0.08741243183612823,
          -0.08491241931915283,
          -0.08241240680217743,
          -0.07991239428520203,
          -0.07741237431764603,
          -0.07491236180067062,
          -0.07241234928369522,
          -0.06991232931613922,
          -0.06741231679916382,
          -0.06491230428218842,
          -0.06241229176521301,
          -0.05991227552294731,
          -0.05741225928068161,
          -0.05491224676370621,
          -0.052412234246730804,
          -0.0499122180044651,
          -0.0474122017621994,
          -0.044912189245224,
          -0.042412176728248596,
          -0.039912160485982895,
          -0.037412144243717194,
          -0.03491213172674179,
          -0.03241211920976639,
          -0.029912102967500687,
          -0.027412088587880135,
          -0.024912074208259583,
          -0.02241205982863903,
          -0.01991204544901848,
          -0.017412031069397926,
          -0.014912016689777374,
          -0.012412002310156822,
          -0.00991198793053627,
          -0.007411973550915718,
          -0.004911959171295166,
          -0.002411944791674614,
          0.00008806958794593811,
          0.00258808396756649,
          0.005088098347187042,
          0.007588112726807594,
          0.010088127106428146,
          0.012588141486048698,
          0.015088148415088654,
          0.017588162794709206,
          0.020088177174329758,
          0.02258819155395031,
          0.025088205933570862,
          0.027588220313191414,
          0.030088234692811966,
          0.03258825093507767,
          0.03508826345205307,
          0.03758827596902847,
          0.040088292211294174,
          0.042588308453559875,
          0.04508832097053528,
          0.04758833348751068,
          0.05008834972977638,
          0.052588365972042084,
          0.05508837848901749,
          0.05758839100599289,
          0.06008840724825859,
          0.06258842349052429,
          0.0650884360074997,
          0.0675884485244751,
          0.0700884610414505,
          0.0725884810090065,
          0.0750884935259819,
          0.0775885060429573,
          0.0800885260105133,
          0.08258853852748871,
          0.08508855104446411,
          0.08758856356143951,
          0.09008857607841492,
          0.09258859604597092,
          0.09508860856294632,
          0.09758862107992172,
          0.10008864104747772,
          0.10258865356445312,
          0.10508866608142853,
          0.10758867859840393,
          0.11008869111537933,
          0.11258871108293533,
          0.11508872359991074,
          0.11758873611688614,
          0.12008875608444214,
          0.12258876860141754
         ],
         "y": [
          0.0488278791308403,
          0,
          0,
          0,
          0,
          0,
          0.0488278791308403,
          0,
          0,
          0,
          0.04882773384451866,
          0,
          0,
          0.04882773384451866,
          0,
          0,
          0.0488278791308403,
          0.0488278791308403,
          0.04882773384451866,
          0.0976557582616806,
          0.0488278791308403,
          0,
          0.0488278791308403,
          0,
          0.0488278791308403,
          0.1464834213256836,
          0.1464834213256836,
          0.0488278791308403,
          0.3417951762676239,
          0.1464834213256836,
          0.24413904547691345,
          0.292967289686203,
          0.3906230330467224,
          0.09765561670064926,
          0.4394502639770508,
          0.5371066927909851,
          0.585934579372406,
          0.5371058583259583,
          1.025384783744812,
          1.806630253791809,
          1.5136631727218628,
          1.9042859077453613,
          2.441392183303833,
          3.8573997020721436,
          5.273406982421875,
          6.591758728027344,
          10.205018997192383,
          16.943262100219727,
          37.304473876953125,
          111.08334350585938,
          104.83338165283203,
          36.962677001953125,
          17.333885192871094,
          9.814396858215332,
          5.956996917724609,
          3.9550671577453613,
          3.5644326210021973,
          2.6367034912109375,
          1.8554580211639404,
          1.7578023672103882,
          0.7812455296516418,
          0.6347619891166687,
          0.5859336853027344,
          1.1230412721633911,
          0.4882788062095642,
          0.4882780909538269,
          0.6835892796516418,
          0.4882788062095642,
          0.1953115165233612,
          0.09765561670064926,
          0,
          0.3417951762676239,
          0,
          0.09765561670064926,
          0.04882780835032463,
          0.1464836448431015,
          0.0976557582616806,
          0.1464836448431015,
          0.04882773384451866,
          0,
          0,
          0,
          0,
          0,
          0,
          0.0976557582616806,
          0,
          0.0976557582616806,
          0,
          0.04882773384451866,
          0,
          0.0488278791308403,
          0,
          0,
          0,
          0,
          0,
          0,
          0,
          0.0488278791308403
         ]
        },
        {
         "name": "Layer 12",
         "type": "scatter",
         "x": [
          -0.0641866996884346,
          -0.06301316618919373,
          -0.06183962896466255,
          -0.06066609546542168,
          -0.0594925582408905,
          -0.05831902474164963,
          -0.05714549124240875,
          -0.05597195401787758,
          -0.054798420518636703,
          -0.05362488701939583,
          -0.052451349794864655,
          -0.05127781629562378,
          -0.050104279071092606,
          -0.04893074557185173,
          -0.04775720834732056,
          -0.04658367484807968,
          -0.045410141348838806,
          -0.04423660784959793,
          -0.04306307062506676,
          -0.04188953712582588,
          -0.04071599990129471,
          -0.03954246640205383,
          -0.03836893290281296,
          -0.037195395678281784,
          -0.03602185845375061,
          -0.034848324954509735,
          -0.03367478772997856,
          -0.032501254230737686,
          -0.03132771700620651,
          -0.030154183506965637,
          -0.028980648145079613,
          -0.027807112783193588,
          -0.026633579283952713,
          -0.02546004392206669,
          -0.024286508560180664,
          -0.02311297506093979,
          -0.021939439699053764,
          -0.02076590433716774,
          -0.019592368975281715,
          -0.01841883361339569,
          -0.017245300114154816,
          -0.01607176475226879,
          -0.014898230321705341,
          -0.013724694959819317,
          -0.012551160529255867,
          -0.011377625167369843,
          -0.010204089805483818,
          -0.009030555374920368,
          -0.00785701721906662,
          -0.006683482322841883,
          -0.0055099474266171455,
          -0.004336412064731121,
          -0.003162877168506384,
          -0.0019893422722816467,
          -0.0008158069103956223,
          0.0003577275201678276,
          0.0015312619507312775,
          0.0027047968469560146,
          0.0038783319760113955,
          0.005051867105066776,
          0.0062254020012915134,
          0.007398936897516251,
          0.008572472259402275,
          0.009746006689965725,
          0.010919541120529175,
          0.0120930764824152,
          0.01326661091297865,
          0.014440146274864674,
          0.015613680705428123,
          0.016787216067314148,
          0.017960751429200172,
          0.019134286791086197,
          0.02030782401561737,
          0.021481359377503395,
          0.02265489473938942,
          0.023828428238630295,
          0.02500196360051632,
          0.026175498962402344,
          0.027349034324288368,
          0.028522569686174393,
          0.029696103185415268,
          0.030869638547301292,
          0.03204317390918732,
          0.03321670740842819,
          0.034390244632959366,
          0.03556377813220024,
          0.036737315356731415,
          0.03791084885597229,
          0.039084382355213165,
          0.04025791585445404,
          0.041431453078985214,
          0.04260498657822609,
          0.04377852380275726,
          0.04495205730199814,
          0.046125590801239014,
          0.04729912802577019,
          0.04847266152501106,
          0.049646198749542236,
          0.05081973224878311,
          0.051993269473314285
         ],
         "y": [
          0.20803891122341156,
          0,
          0,
          0,
          0,
          0,
          0,
          0,
          0,
          0,
          0,
          0,
          0.20803891122341156,
          0.20803824067115784,
          0.20803891122341156,
          0.20803891122341156,
          0.20803891122341156,
          0.20803824067115784,
          0,
          0,
          0.20803891122341156,
          0.20803891122341156,
          0.8321529626846313,
          0.20803824067115784,
          0.6241167187690735,
          0.4160764813423157,
          0.20803891122341156,
          0.4160764813423157,
          0.4160778224468231,
          0.2080385684967041,
          0.6241157054901123,
          0.4160778224468231,
          1.6643085479736328,
          2.080385684967041,
          1.0401945114135742,
          0.6241157054901123,
          1.2482314109802246,
          1.0401928424835205,
          2.288424253463745,
          2.0803890228271484,
          1.0401928424835205,
          2.0803873538970947,
          2.9125399589538574,
          3.1205811500549316,
          3.536655902862549,
          3.3286170959472656,
          4.1607747077941895,
          5.825066089630127,
          7.69743013381958,
          11.858203887939453,
          22.260128021240234,
          26.420909881591797,
          60.123172760009766,
          123.78295135498047,
          202.8377685546875,
          157.27728271484375,
          65.94825744628906,
          32.24598693847656,
          20.179746627807617,
          13.314474105834961,
          11.858203887939453,
          9.569774627685547,
          5.2009687423706055,
          3.744697332382202,
          3.952733039855957,
          3.744697332382202,
          2.080385684967041,
          2.7045035362243652,
          2.080385684967041,
          2.7045013904571533,
          1.4562699794769287,
          1.4562677145004272,
          2.080385684967041,
          1.2482314109802246,
          1.0401945114135742,
          1.0401928424835205,
          0.4160771369934082,
          0.6241157054901123,
          0.6241157054901123,
          0.20803891122341156,
          0.4160771369934082,
          0.8321542739868164,
          0.8321556448936462,
          0.4160764813423157,
          0.6241167187690735,
          0.20803824067115784,
          0.20803891122341156,
          0.20803891122341156,
          0,
          0,
          0.4160778224468231,
          0,
          0,
          0.20803891122341156,
          0.6241147518157959,
          0.4160778224468231,
          0,
          0.20803891122341156,
          0.20803824067115784,
          0.20803891122341156
         ]
        },
        {
         "name": "Layer 15",
         "type": "scatter",
         "x": [
          -0.0673704445362091,
          -0.06609484553337097,
          -0.06481923907995224,
          -0.0635436400771141,
          -0.06226804107427597,
          -0.06099243834614754,
          -0.0597168393433094,
          -0.05844123661518097,
          -0.057165637612342834,
          -0.0558900348842144,
          -0.054614435881376266,
          -0.05333883315324783,
          -0.0520632341504097,
          -0.050787631422281265,
          -0.04951203241944313,
          -0.0482364296913147,
          -0.04696083068847656,
          -0.04568522796034813,
          -0.044409628957509995,
          -0.04313402622938156,
          -0.041858427226543427,
          -0.04058282449841499,
          -0.03930722549557686,
          -0.038031622767448425,
          -0.03675602003931999,
          -0.03548041731119156,
          -0.034204818308353424,
          -0.03292921558022499,
          -0.031653616577386856,
          -0.030378015711903572,
          -0.029102414846420288,
          -0.027826812118291855,
          -0.02655121311545372,
          -0.025275612249970436,
          -0.024000011384487152,
          -0.022724410519003868,
          -0.021448809653520584,
          -0.0201732087880373,
          -0.018897607922554016,
          -0.017622005194425583,
          -0.016346406191587448,
          -0.015070805326104164,
          -0.01379520446062088,
          -0.012519603595137596,
          -0.011244002729654312,
          -0.009968401864171028,
          -0.00869280006736517,
          -0.0074171992018818855,
          -0.006141595542430878,
          -0.004865994676947594,
          -0.003590393578633666,
          -0.0023147924803197384,
          -0.0010391916148364544,
          0.0002364092506468296,
          0.001512010581791401,
          0.002787611447274685,
          0.004063203930854797,
          0.005338804796338081,
          0.006614405661821365,
          0.00789000652730465,
          0.009165607392787933,
          0.010441208258271217,
          0.011716810055077076,
          0.01299241092056036,
          0.01426801085472107,
          0.015543611720204353,
          0.016819212585687637,
          0.01809481345117092,
          0.019370414316654205,
          0.02064601518213749,
          0.021921616047620773,
          0.023197218775749207,
          0.02447281777858734,
          0.025748418644070625,
          0.02702401950955391,
          0.028299620375037193,
          0.029575221240520477,
          0.03085082210600376,
          0.032126422971487045,
          0.03340202569961548,
          0.03467762470245361,
          0.035953227430582047,
          0.03722882643342018,
          0.038504429161548615,
          0.03978002816438675,
          0.04105563089251518,
          0.04233122989535332,
          0.04360683262348175,
          0.044882431626319885,
          0.04615803435444832,
          0.04743363335728645,
          0.048709236085414886,
          0.04998483508825302,
          0.051260437816381454,
          0.05253603681921959,
          0.05381163954734802,
          0.055087242275476456,
          0.05636284127831459,
          0.057638444006443024,
          0.05891404300928116
         ],
         "y": [
          0.1913929283618927,
          0,
          0,
          0,
          0.19139236211776733,
          0,
          0,
          0,
          0,
          0,
          0,
          0,
          0,
          0,
          0.19139236211776733,
          0,
          0.19139236211776733,
          0,
          0,
          0,
          0,
          0,
          0,
          0,
          0.38278472423553467,
          0.1913929283618927,
          0,
          0.1913929283618927,
          0,
          0.19139264523983002,
          0,
          0,
          0.5741779208183289,
          0.19139264523983002,
          0,
          0.5741779208183289,
          0.38278529047966003,
          0.38278529047966003,
          0.38278472423553467,
          0.7655717134475708,
          1.1483558416366577,
          3.2536749839782715,
          1.339748501777649,
          3.2536749839782715,
          2.679497003555298,
          5.167597770690918,
          4.976208686828613,
          13.971632957458496,
          15.885589599609375,
          24.498254776000977,
          39.61827087402344,
          85.16973114013672,
          223.9293975830078,
          183.35409545898438,
          68.51856994628906,
          34.83369064331055,
          18.182300567626953,
          14.92862606048584,
          9.569632530212402,
          5.358994007110596,
          4.784816265106201,
          2.2967100143432617,
          3.636460304260254,
          1.1483566761016846,
          1.7225338220596313,
          0.7655705809593201,
          0.5741779208183289,
          0.9569632411003113,
          0.9569632411003113,
          0.38278529047966003,
          0,
          0.3827858567237854,
          0.19139264523983002,
          0.38278529047966003,
          0,
          0.19139264523983002,
          0,
          0,
          0,
          0,
          0,
          0,
          0,
          0.1913929283618927,
          0.19139236211776733,
          0,
          0,
          0,
          0,
          0,
          0,
          0,
          0,
          0,
          0.19139236211776733,
          0,
          0.1913929283618927,
          0,
          0,
          0.19139236211776733
         ]
        },
        {
         "name": "Layer 18",
         "type": "scatter",
         "x": [
          -0.02885543741285801,
          -0.02826937474310398,
          -0.027683313935995102,
          -0.027097251266241074,
          -0.026511188596487045,
          -0.025925127789378166,
          -0.025339065119624138,
          -0.02475300431251526,
          -0.02416694164276123,
          -0.023580878973007202,
          -0.022994818165898323,
          -0.022408755496144295,
          -0.021822694689035416,
          -0.021236632019281387,
          -0.02065056934952736,
          -0.02006450667977333,
          -0.01947844587266445,
          -0.018892383202910423,
          -0.018306322395801544,
          -0.017720259726047516,
          -0.017134197056293488,
          -0.01654813624918461,
          -0.01596207357943058,
          -0.015376011840999126,
          -0.014789950102567673,
          -0.014203888364136219,
          -0.013617826625704765,
          -0.013031763955950737,
          -0.012445702217519283,
          -0.01185964047908783,
          -0.011273577809333801,
          -0.010687516070902348,
          -0.010101454332470894,
          -0.00951539259403944,
          -0.008929330855607986,
          -0.008343268185853958,
          -0.007757206447422504,
          -0.007171144708991051,
          -0.00658508250489831,
          -0.005999020300805569,
          -0.005412958562374115,
          -0.004826896823942661,
          -0.00424083461984992,
          -0.003654772648587823,
          -0.0030687106773257256,
          -0.002482648706063628,
          -0.0018965867348015308,
          -0.0013105245307087898,
          -0.0007244627922773361,
          -0.00013840082101523876,
          0.0004476611502468586,
          0.001033723121508956,
          0.0016197850927710533,
          0.0022058470640331507,
          0.002791909035295248,
          0.003377971239387989,
          0.003964032977819443,
          0.0045500947162508965,
          0.0051361569203436375,
          0.0057222191244363785,
          0.006308280862867832,
          0.006894342601299286,
          0.007480404805392027,
          0.008066467009484768,
          0.00865253061056137,
          0.009238592348992825,
          0.009824654087424278,
          0.010410716757178307,
          0.01099677849560976,
          0.011582840234041214,
          0.012168902903795242,
          0.012754964642226696,
          0.013341024518013,
          0.013927086256444454,
          0.014513147994875908,
          0.015099210664629936,
          0.015685271471738815,
          0.016271334141492844,
          0.016857396811246872,
          0.0174434594810009,
          0.01802952215075493,
          0.018615584820508957,
          0.019201645627617836,
          0.019787708297371864,
          0.020373769104480743,
          0.02095983177423477,
          0.0215458944439888,
          0.02213195711374283,
          0.022718016058206558,
          0.023304078727960587,
          0.023890139535069466,
          0.024476202204823494,
          0.025062263011932373,
          0.0256483256816864,
          0.02623438835144043,
          0.026820451021194458,
          0.027406513690948486,
          0.027992574498057365,
          0.028578637167811394,
          0.029164697974920273
         ],
         "y": [
          0.8331553339958191,
          0,
          0,
          0,
          0.416579008102417,
          0.41657766699790955,
          0.416579008102417,
          0,
          0,
          0.416579008102417,
          0,
          0,
          0,
          0,
          0,
          0.416579008102417,
          0.41657766699790955,
          0.833158016204834,
          0.41657766699790955,
          0,
          1.249737024307251,
          1.2497329711914062,
          0.8331567049026489,
          0.41657835245132446,
          1.6663134098052979,
          2.0828917026519775,
          2.4994659423828125,
          2.916048288345337,
          4.9989399909973145,
          3.3326213359832764,
          4.165783405303955,
          7.081831932067871,
          11.664193153381348,
          12.497349739074707,
          13.747063636779785,
          14.996820449829102,
          23.744964599609375,
          20.828901290893555,
          28.74388313293457,
          33.32626724243164,
          37.49205017089844,
          49.98936080932617,
          47.906490325927734,
          63.7364616394043,
          70.81829071044922,
          77.06696319580078,
          85.81507110595703,
          104.56116485595703,
          100.39533996582031,
          87.48141479492188,
          98.31244659423828,
          85.39852905273438,
          77.4835433959961,
          83.73221588134766,
          70.40167999267578,
          58.32096862792969,
          52.488868713378906,
          47.07331466674805,
          36.242286682128906,
          21.245494842529297,
          31.659954071044922,
          23.328369140625,
          18.329431533813477,
          18.329389572143555,
          11.664193153381348,
          11.664193153381348,
          8.33155345916748,
          5.832096576690674,
          3.7492051124572754,
          4.582354545593262,
          2.916048288345337,
          2.4994778633117676,
          0.41657835245132446,
          1.2497349977493286,
          1.2497329711914062,
          2.082895040512085,
          2.08288836479187,
          0.41657766699790955,
          0,
          0.41657766699790955,
          0.41657766699790955,
          0,
          0.41657766699790955,
          0.833158016204834,
          0.41657766699790955,
          0,
          0,
          0,
          0,
          0,
          0,
          0,
          0.41657766699790955,
          0,
          0,
          0,
          0,
          0,
          0,
          0.41657766699790955
         ]
        }
       ],
       "layout": {
        "legend": {
         "title": {
          "text": "Layers"
         },
         "x": 0.99,
         "xanchor": "right",
         "y": 0.99,
         "yanchor": "top"
        },
        "template": {
         "data": {
          "bar": [
           {
            "error_x": {
             "color": "#2a3f5f"
            },
            "error_y": {
             "color": "#2a3f5f"
            },
            "marker": {
             "line": {
              "color": "#E5ECF6",
              "width": 0.5
             },
             "pattern": {
              "fillmode": "overlay",
              "size": 10,
              "solidity": 0.2
             }
            },
            "type": "bar"
           }
          ],
          "barpolar": [
           {
            "marker": {
             "line": {
              "color": "#E5ECF6",
              "width": 0.5
             },
             "pattern": {
              "fillmode": "overlay",
              "size": 10,
              "solidity": 0.2
             }
            },
            "type": "barpolar"
           }
          ],
          "carpet": [
           {
            "aaxis": {
             "endlinecolor": "#2a3f5f",
             "gridcolor": "white",
             "linecolor": "white",
             "minorgridcolor": "white",
             "startlinecolor": "#2a3f5f"
            },
            "baxis": {
             "endlinecolor": "#2a3f5f",
             "gridcolor": "white",
             "linecolor": "white",
             "minorgridcolor": "white",
             "startlinecolor": "#2a3f5f"
            },
            "type": "carpet"
           }
          ],
          "choropleth": [
           {
            "colorbar": {
             "outlinewidth": 0,
             "ticks": ""
            },
            "type": "choropleth"
           }
          ],
          "contour": [
           {
            "colorbar": {
             "outlinewidth": 0,
             "ticks": ""
            },
            "colorscale": [
             [
              0,
              "#0d0887"
             ],
             [
              0.1111111111111111,
              "#46039f"
             ],
             [
              0.2222222222222222,
              "#7201a8"
             ],
             [
              0.3333333333333333,
              "#9c179e"
             ],
             [
              0.4444444444444444,
              "#bd3786"
             ],
             [
              0.5555555555555556,
              "#d8576b"
             ],
             [
              0.6666666666666666,
              "#ed7953"
             ],
             [
              0.7777777777777778,
              "#fb9f3a"
             ],
             [
              0.8888888888888888,
              "#fdca26"
             ],
             [
              1,
              "#f0f921"
             ]
            ],
            "type": "contour"
           }
          ],
          "contourcarpet": [
           {
            "colorbar": {
             "outlinewidth": 0,
             "ticks": ""
            },
            "type": "contourcarpet"
           }
          ],
          "heatmap": [
           {
            "colorbar": {
             "outlinewidth": 0,
             "ticks": ""
            },
            "colorscale": [
             [
              0,
              "#0d0887"
             ],
             [
              0.1111111111111111,
              "#46039f"
             ],
             [
              0.2222222222222222,
              "#7201a8"
             ],
             [
              0.3333333333333333,
              "#9c179e"
             ],
             [
              0.4444444444444444,
              "#bd3786"
             ],
             [
              0.5555555555555556,
              "#d8576b"
             ],
             [
              0.6666666666666666,
              "#ed7953"
             ],
             [
              0.7777777777777778,
              "#fb9f3a"
             ],
             [
              0.8888888888888888,
              "#fdca26"
             ],
             [
              1,
              "#f0f921"
             ]
            ],
            "type": "heatmap"
           }
          ],
          "heatmapgl": [
           {
            "colorbar": {
             "outlinewidth": 0,
             "ticks": ""
            },
            "colorscale": [
             [
              0,
              "#0d0887"
             ],
             [
              0.1111111111111111,
              "#46039f"
             ],
             [
              0.2222222222222222,
              "#7201a8"
             ],
             [
              0.3333333333333333,
              "#9c179e"
             ],
             [
              0.4444444444444444,
              "#bd3786"
             ],
             [
              0.5555555555555556,
              "#d8576b"
             ],
             [
              0.6666666666666666,
              "#ed7953"
             ],
             [
              0.7777777777777778,
              "#fb9f3a"
             ],
             [
              0.8888888888888888,
              "#fdca26"
             ],
             [
              1,
              "#f0f921"
             ]
            ],
            "type": "heatmapgl"
           }
          ],
          "histogram": [
           {
            "marker": {
             "pattern": {
              "fillmode": "overlay",
              "size": 10,
              "solidity": 0.2
             }
            },
            "type": "histogram"
           }
          ],
          "histogram2d": [
           {
            "colorbar": {
             "outlinewidth": 0,
             "ticks": ""
            },
            "colorscale": [
             [
              0,
              "#0d0887"
             ],
             [
              0.1111111111111111,
              "#46039f"
             ],
             [
              0.2222222222222222,
              "#7201a8"
             ],
             [
              0.3333333333333333,
              "#9c179e"
             ],
             [
              0.4444444444444444,
              "#bd3786"
             ],
             [
              0.5555555555555556,
              "#d8576b"
             ],
             [
              0.6666666666666666,
              "#ed7953"
             ],
             [
              0.7777777777777778,
              "#fb9f3a"
             ],
             [
              0.8888888888888888,
              "#fdca26"
             ],
             [
              1,
              "#f0f921"
             ]
            ],
            "type": "histogram2d"
           }
          ],
          "histogram2dcontour": [
           {
            "colorbar": {
             "outlinewidth": 0,
             "ticks": ""
            },
            "colorscale": [
             [
              0,
              "#0d0887"
             ],
             [
              0.1111111111111111,
              "#46039f"
             ],
             [
              0.2222222222222222,
              "#7201a8"
             ],
             [
              0.3333333333333333,
              "#9c179e"
             ],
             [
              0.4444444444444444,
              "#bd3786"
             ],
             [
              0.5555555555555556,
              "#d8576b"
             ],
             [
              0.6666666666666666,
              "#ed7953"
             ],
             [
              0.7777777777777778,
              "#fb9f3a"
             ],
             [
              0.8888888888888888,
              "#fdca26"
             ],
             [
              1,
              "#f0f921"
             ]
            ],
            "type": "histogram2dcontour"
           }
          ],
          "mesh3d": [
           {
            "colorbar": {
             "outlinewidth": 0,
             "ticks": ""
            },
            "type": "mesh3d"
           }
          ],
          "parcoords": [
           {
            "line": {
             "colorbar": {
              "outlinewidth": 0,
              "ticks": ""
             }
            },
            "type": "parcoords"
           }
          ],
          "pie": [
           {
            "automargin": true,
            "type": "pie"
           }
          ],
          "scatter": [
           {
            "marker": {
             "colorbar": {
              "outlinewidth": 0,
              "ticks": ""
             }
            },
            "type": "scatter"
           }
          ],
          "scatter3d": [
           {
            "line": {
             "colorbar": {
              "outlinewidth": 0,
              "ticks": ""
             }
            },
            "marker": {
             "colorbar": {
              "outlinewidth": 0,
              "ticks": ""
             }
            },
            "type": "scatter3d"
           }
          ],
          "scattercarpet": [
           {
            "marker": {
             "colorbar": {
              "outlinewidth": 0,
              "ticks": ""
             }
            },
            "type": "scattercarpet"
           }
          ],
          "scattergeo": [
           {
            "marker": {
             "colorbar": {
              "outlinewidth": 0,
              "ticks": ""
             }
            },
            "type": "scattergeo"
           }
          ],
          "scattergl": [
           {
            "marker": {
             "colorbar": {
              "outlinewidth": 0,
              "ticks": ""
             }
            },
            "type": "scattergl"
           }
          ],
          "scattermapbox": [
           {
            "marker": {
             "colorbar": {
              "outlinewidth": 0,
              "ticks": ""
             }
            },
            "type": "scattermapbox"
           }
          ],
          "scatterpolar": [
           {
            "marker": {
             "colorbar": {
              "outlinewidth": 0,
              "ticks": ""
             }
            },
            "type": "scatterpolar"
           }
          ],
          "scatterpolargl": [
           {
            "marker": {
             "colorbar": {
              "outlinewidth": 0,
              "ticks": ""
             }
            },
            "type": "scatterpolargl"
           }
          ],
          "scatterternary": [
           {
            "marker": {
             "colorbar": {
              "outlinewidth": 0,
              "ticks": ""
             }
            },
            "type": "scatterternary"
           }
          ],
          "surface": [
           {
            "colorbar": {
             "outlinewidth": 0,
             "ticks": ""
            },
            "colorscale": [
             [
              0,
              "#0d0887"
             ],
             [
              0.1111111111111111,
              "#46039f"
             ],
             [
              0.2222222222222222,
              "#7201a8"
             ],
             [
              0.3333333333333333,
              "#9c179e"
             ],
             [
              0.4444444444444444,
              "#bd3786"
             ],
             [
              0.5555555555555556,
              "#d8576b"
             ],
             [
              0.6666666666666666,
              "#ed7953"
             ],
             [
              0.7777777777777778,
              "#fb9f3a"
             ],
             [
              0.8888888888888888,
              "#fdca26"
             ],
             [
              1,
              "#f0f921"
             ]
            ],
            "type": "surface"
           }
          ],
          "table": [
           {
            "cells": {
             "fill": {
              "color": "#EBF0F8"
             },
             "line": {
              "color": "white"
             }
            },
            "header": {
             "fill": {
              "color": "#C8D4E3"
             },
             "line": {
              "color": "white"
             }
            },
            "type": "table"
           }
          ]
         },
         "layout": {
          "annotationdefaults": {
           "arrowcolor": "#2a3f5f",
           "arrowhead": 0,
           "arrowwidth": 1
          },
          "autotypenumbers": "strict",
          "coloraxis": {
           "colorbar": {
            "outlinewidth": 0,
            "ticks": ""
           }
          },
          "colorscale": {
           "diverging": [
            [
             0,
             "#8e0152"
            ],
            [
             0.1,
             "#c51b7d"
            ],
            [
             0.2,
             "#de77ae"
            ],
            [
             0.3,
             "#f1b6da"
            ],
            [
             0.4,
             "#fde0ef"
            ],
            [
             0.5,
             "#f7f7f7"
            ],
            [
             0.6,
             "#e6f5d0"
            ],
            [
             0.7,
             "#b8e186"
            ],
            [
             0.8,
             "#7fbc41"
            ],
            [
             0.9,
             "#4d9221"
            ],
            [
             1,
             "#276419"
            ]
           ],
           "sequential": [
            [
             0,
             "#0d0887"
            ],
            [
             0.1111111111111111,
             "#46039f"
            ],
            [
             0.2222222222222222,
             "#7201a8"
            ],
            [
             0.3333333333333333,
             "#9c179e"
            ],
            [
             0.4444444444444444,
             "#bd3786"
            ],
            [
             0.5555555555555556,
             "#d8576b"
            ],
            [
             0.6666666666666666,
             "#ed7953"
            ],
            [
             0.7777777777777778,
             "#fb9f3a"
            ],
            [
             0.8888888888888888,
             "#fdca26"
            ],
            [
             1,
             "#f0f921"
            ]
           ],
           "sequentialminus": [
            [
             0,
             "#0d0887"
            ],
            [
             0.1111111111111111,
             "#46039f"
            ],
            [
             0.2222222222222222,
             "#7201a8"
            ],
            [
             0.3333333333333333,
             "#9c179e"
            ],
            [
             0.4444444444444444,
             "#bd3786"
            ],
            [
             0.5555555555555556,
             "#d8576b"
            ],
            [
             0.6666666666666666,
             "#ed7953"
            ],
            [
             0.7777777777777778,
             "#fb9f3a"
            ],
            [
             0.8888888888888888,
             "#fdca26"
            ],
            [
             1,
             "#f0f921"
            ]
           ]
          },
          "colorway": [
           "#636efa",
           "#EF553B",
           "#00cc96",
           "#ab63fa",
           "#FFA15A",
           "#19d3f3",
           "#FF6692",
           "#B6E880",
           "#FF97FF",
           "#FECB52"
          ],
          "font": {
           "color": "#2a3f5f"
          },
          "geo": {
           "bgcolor": "white",
           "lakecolor": "white",
           "landcolor": "#E5ECF6",
           "showlakes": true,
           "showland": true,
           "subunitcolor": "white"
          },
          "hoverlabel": {
           "align": "left"
          },
          "hovermode": "closest",
          "mapbox": {
           "style": "light"
          },
          "paper_bgcolor": "white",
          "plot_bgcolor": "#E5ECF6",
          "polar": {
           "angularaxis": {
            "gridcolor": "white",
            "linecolor": "white",
            "ticks": ""
           },
           "bgcolor": "#E5ECF6",
           "radialaxis": {
            "gridcolor": "white",
            "linecolor": "white",
            "ticks": ""
           }
          },
          "scene": {
           "xaxis": {
            "backgroundcolor": "#E5ECF6",
            "gridcolor": "white",
            "gridwidth": 2,
            "linecolor": "white",
            "showbackground": true,
            "ticks": "",
            "zerolinecolor": "white"
           },
           "yaxis": {
            "backgroundcolor": "#E5ECF6",
            "gridcolor": "white",
            "gridwidth": 2,
            "linecolor": "white",
            "showbackground": true,
            "ticks": "",
            "zerolinecolor": "white"
           },
           "zaxis": {
            "backgroundcolor": "#E5ECF6",
            "gridcolor": "white",
            "gridwidth": 2,
            "linecolor": "white",
            "showbackground": true,
            "ticks": "",
            "zerolinecolor": "white"
           }
          },
          "shapedefaults": {
           "line": {
            "color": "#2a3f5f"
           }
          },
          "ternary": {
           "aaxis": {
            "gridcolor": "white",
            "linecolor": "white",
            "ticks": ""
           },
           "baxis": {
            "gridcolor": "white",
            "linecolor": "white",
            "ticks": ""
           },
           "bgcolor": "#E5ECF6",
           "caxis": {
            "gridcolor": "white",
            "linecolor": "white",
            "ticks": ""
           }
          },
          "title": {
           "x": 0.05
          },
          "xaxis": {
           "automargin": true,
           "gridcolor": "white",
           "linecolor": "white",
           "ticks": "",
           "title": {
            "standoff": 15
           },
           "zerolinecolor": "white",
           "zerolinewidth": 2
          },
          "yaxis": {
           "automargin": true,
           "gridcolor": "white",
           "linecolor": "white",
           "ticks": "",
           "title": {
            "standoff": 15
           },
           "zerolinecolor": "white",
           "zerolinewidth": 2
          }
         }
        },
        "title": {
         "text": "Tanh Layer Gradients"
        }
       }
      }
     },
     "metadata": {},
     "output_type": "display_data"
    }
   ],
   "source": [
    "fig = go.Figure()\n",
    "for i,layer in enumerate(model.layers[:-1]):\n",
    "    if isinstance(layer, Tanh):\n",
    "        l = f\"Layer {i}\"\n",
    "        d = layer.out.grad.detach()\n",
    "        print(f\"{l} | mean = {d.mean()} | std = {d.std()}\")\n",
    "        hy,hx = torch.histogram(d, density=True)\n",
    "        fig.add_trace(go.Scatter(x = hx[:-1], y=hy, name = l))\n",
    "\n",
    "fig.update_layout(legend=dict(\n",
    "    yanchor=\"top\",\n",
    "    y=0.99,\n",
    "    xanchor=\"right\",\n",
    "    x=0.99,\n",
    "    title = 'Layers'\n",
    "), title = \"Tanh Layer Gradients\")\n",
    "\n",
    "fig.show()"
   ]
  },
  {
   "cell_type": "code",
   "execution_count": null,
   "metadata": {},
   "outputs": [],
   "source": []
  },
  {
   "cell_type": "code",
   "execution_count": 35,
   "metadata": {},
   "outputs": [
    {
     "name": "stdout",
     "output_type": "stream",
     "text": [
      "The Validation loss is :44534.5078125\n"
     ]
    }
   ],
   "source": [
    "training_loop(epochs = epochs,batch_size = batch_size, data = data_dict, is_val_set=True)"
   ]
  }
 ],
 "metadata": {
  "kernelspec": {
   "display_name": "base",
   "language": "python",
   "name": "python3"
  },
  "language_info": {
   "codemirror_mode": {
    "name": "ipython",
    "version": 3
   },
   "file_extension": ".py",
   "mimetype": "text/x-python",
   "name": "python",
   "nbconvert_exporter": "python",
   "pygments_lexer": "ipython3",
   "version": "3.9.12 (main, Apr  4 2022, 05:22:27) [MSC v.1916 64 bit (AMD64)]"
  },
  "orig_nbformat": 4,
  "vscode": {
   "interpreter": {
    "hash": "5863a01bb4350d9241febf9e57f76b3c44dc4260331656e165259b66bc149002"
   }
  }
 },
 "nbformat": 4,
 "nbformat_minor": 2
}
