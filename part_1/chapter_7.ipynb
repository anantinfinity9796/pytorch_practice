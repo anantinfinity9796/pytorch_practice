{
 "cells": [
  {
   "cell_type": "markdown",
   "metadata": {},
   "source": [
    "## Chapter 7 : Learning from Images --> Telling birds from airplanes\n",
    "* Building a feed forward neural network\n",
    "* Loading data using dataloaders and dataset.\n",
    "* Understanding the classification loss."
   ]
  },
  {
   "cell_type": "markdown",
   "metadata": {},
   "source": [
    "In the previous chapter we saw what the mechanics of pytorch are by building a simple linear model and using gradient descent to optimize it. In this chapter we will use the Neural Network for an image recognition task. We will load a small dataset of images and try to classify them."
   ]
  },
  {
   "cell_type": "markdown",
   "metadata": {},
   "source": [
    "##### Working with images : Introduction to CIFAR_10\n",
    "1. CIFAR_10 is like a sibling of CIFAR_100. It consists of 60,000 images of 32x32 size and they belong to 10 classes.\n",
    "2. We would use the torchvision module to automatically download the dataset and load it as a collection of pytorch tensors."
   ]
  },
  {
   "cell_type": "markdown",
   "metadata": {},
   "source": [
    "#### Downloading the CIFAR_10 dataset\n",
    "As we discussed let's import the torchvision module and download the datasets module to download the dataset."
   ]
  },
  {
   "cell_type": "code",
   "execution_count": 1,
   "metadata": {},
   "outputs": [
    {
     "name": "stdout",
     "output_type": "stream",
     "text": [
      "Files already downloaded and verified\n",
      "Files already downloaded and verified\n"
     ]
    }
   ],
   "source": [
    "import torch\n",
    "from torchvision import datasets\n",
    "\n",
    "data_path = \"./datasets/CIFAR_10/\"\n",
    "cifar10 = datasets.CIFAR10(data_path, download=True, train=True)\n",
    "cifar10_val = datasets.CIFAR10(data_path, download = True, train=False)\n"
   ]
  },
  {
   "cell_type": "markdown",
   "metadata": {},
   "source": [
    "1. The first argument to the datasets.CIFAR10 is the path that the data will be downloaded to.\n",
    "2. The download argument tells pytorch to download the dataset if not found in the path provided in the first argument. \n",
    "3. The train argument is a boolean argument which specifies whether we are interested in downloading the training or the validation set."
   ]
  },
  {
   "cell_type": "markdown",
   "metadata": {},
   "source": [
    "Just like CIFAR10 the dataset module gives us access to some of the most well-known datasets like MNIST, Fashion-MNIST, CIFAR_100, SVHN, Coco, Omniglot, etc. In each case the data returned is a subclass of `torch.utils.data.Dataset`. We can see the method resolution order of our cifar10 instance includes it as a base class."
   ]
  },
  {
   "cell_type": "code",
   "execution_count": 2,
   "metadata": {},
   "outputs": [
    {
     "data": {
      "text/plain": [
       "(torchvision.datasets.cifar.CIFAR10,\n",
       " torchvision.datasets.vision.VisionDataset,\n",
       " torch.utils.data.dataset.Dataset,\n",
       " typing.Generic,\n",
       " object)"
      ]
     },
     "execution_count": 2,
     "metadata": {},
     "output_type": "execute_result"
    }
   ],
   "source": [
    "type(cifar10).__mro__"
   ]
  },
  {
   "cell_type": "markdown",
   "metadata": {},
   "source": [
    "##### The Dataset class: A look into pytorch Datasets\n",
    "This is a good time to see what a pytorch dataset is all about: It is a subclass of pytorch.uitls.data.Dataset. It is an object that is required to implement two methods. First is `__len__` and the second is `__getitem__`. The former should return the length of the dataset and the latter should return each item of the dataset consisting of an example and its corresponding label.\\\n",
    "`Note : For some use cases pytorch also provides us with an iterable dataset which is used in cases where random access to the dataset is prohibitively expensive, like data generated on the fly.`\\\n",
    "For images torchvision provides images in the PIL image format."
   ]
  },
  {
   "cell_type": "code",
   "execution_count": 3,
   "metadata": {},
   "outputs": [
    {
     "data": {
      "text/plain": [
       "50000"
      ]
     },
     "execution_count": 3,
     "metadata": {},
     "output_type": "execute_result"
    }
   ],
   "source": [
    "len(cifar10)"
   ]
  },
  {
   "cell_type": "code",
   "execution_count": 4,
   "metadata": {},
   "outputs": [
    {
     "data": {
      "text/plain": [
       "Text(0.5, 1.0, 'automobile')"
      ]
     },
     "execution_count": 4,
     "metadata": {},
     "output_type": "execute_result"
    },
    {
     "data": {
      "image/png": "[encoded data removed]",
      "text/plain": [
       "<Figure size 432x288 with 1 Axes>"
      ]
     },
     "metadata": {
      "needs_background": "light"
     },
     "output_type": "display_data"
    }
   ],
   "source": [
    "import matplotlib.pyplot as plt\n",
    "import numpy as np\n",
    "image, label = cifar10[99]\n",
    "\n",
    "plt.imshow(image)\n",
    "plt.title(cifar10.classes[label])"
   ]
  },
  {
   "cell_type": "markdown",
   "metadata": {},
   "source": [
    "##### Dataset transform\n",
    "Plotting the image is good but we would like to convert our data into pytorch tensors before we can do anything with it. This is where `torchvision.transform` comes in. It defines a set of funcitons that can be passed as arguments to a torchvision dataset and it can perform those transformations on the data after its loaded but before it is returned by `__getitem__`."
   ]
  },
  {
   "cell_type": "code",
   "execution_count": 5,
   "metadata": {},
   "outputs": [
    {
     "data": {
      "text/plain": [
       "['AugMix',\n",
       " 'AutoAugment',\n",
       " 'AutoAugmentPolicy',\n",
       " 'CenterCrop',\n",
       " 'ColorJitter',\n",
       " 'Compose',\n",
       " 'ConvertImageDtype',\n",
       " 'FiveCrop',\n",
       " 'GaussianBlur',\n",
       " 'Grayscale',\n",
       " 'InterpolationMode',\n",
       " 'Lambda',\n",
       " 'LinearTransformation',\n",
       " 'Normalize',\n",
       " 'PILToTensor',\n",
       " 'Pad',\n",
       " 'RandAugment',\n",
       " 'RandomAdjustSharpness',\n",
       " 'RandomAffine',\n",
       " 'RandomApply',\n",
       " 'RandomAutocontrast',\n",
       " 'RandomChoice',\n",
       " 'RandomCrop',\n",
       " 'RandomEqualize',\n",
       " 'RandomErasing',\n",
       " 'RandomGrayscale',\n",
       " 'RandomHorizontalFlip',\n",
       " 'RandomInvert',\n",
       " 'RandomOrder',\n",
       " 'RandomPerspective',\n",
       " 'RandomPosterize',\n",
       " 'RandomResizedCrop',\n",
       " 'RandomRotation',\n",
       " 'RandomSolarize',\n",
       " 'RandomVerticalFlip',\n",
       " 'Resize',\n",
       " 'TenCrop',\n",
       " 'ToPILImage',\n",
       " 'ToTensor',\n",
       " 'TrivialAugmentWide',\n",
       " '__builtins__',\n",
       " '__cached__',\n",
       " '__doc__',\n",
       " '__file__',\n",
       " '__loader__',\n",
       " '__name__',\n",
       " '__package__',\n",
       " '__path__',\n",
       " '__spec__',\n",
       " '_pil_constants',\n",
       " '_presets',\n",
       " 'autoaugment',\n",
       " 'functional',\n",
       " 'functional_pil',\n",
       " 'functional_tensor',\n",
       " 'transforms']"
      ]
     },
     "execution_count": 5,
     "metadata": {},
     "output_type": "execute_result"
    }
   ],
   "source": [
    "# We can see the list of available objects as follows\n",
    "from torchvision import transforms\n",
    "dir(transforms)"
   ]
  },
  {
   "cell_type": "markdown",
   "metadata": {},
   "source": [
    "Among the above transfroms we have the ToTensor transfrom which transforms numpy and PIL images to tensors. It also takes care to lay out the dimensions of the output tensor as `C x H x W` (channel, height, width)."
   ]
  },
  {
   "cell_type": "code",
   "execution_count": 6,
   "metadata": {},
   "outputs": [
    {
     "name": "stdout",
     "output_type": "stream",
     "text": [
      "Numpy image shape: (32, 32, 3)\n",
      "Pytorch tensor image shape : torch.Size([3, 32, 32])\n"
     ]
    }
   ],
   "source": [
    "import numpy as np\n",
    "\n",
    "# lets try out the ToTensor transform. Once instantiated it can be used by like a funciton by passing the image to it as an argument.\n",
    "totensor = transforms.ToTensor()\n",
    "print(f\"Numpy image shape: {np.array(image).shape}\")\n",
    "image = totensor(image)\n",
    "print(f\"Pytorch tensor image shape : {image.shape}\")"
   ]
  },
  {
   "cell_type": "code",
   "execution_count": 7,
   "metadata": {},
   "outputs": [],
   "source": [
    "# we can also pass the transform to the dataset directly. Then we would get returned a tensor instead of a PIL image\n",
    "cifar10 = datasets.CIFAR10(\"./datasets/CIFAR_10/\", download = False, transform=transforms.ToTensor(), train = True)\n",
    "cifar10_val = datasets.CIFAR10(\"./datasets/CIFAR_10/\", download = False, transform = transforms.ToTensor(), train = False)"
   ]
  },
  {
   "cell_type": "code",
   "execution_count": 8,
   "metadata": {},
   "outputs": [
    {
     "name": "stdout",
     "output_type": "stream",
     "text": [
      "<class 'torch.Tensor'>\n",
      "torch.Size([3, 32, 32])\n"
     ]
    }
   ],
   "source": [
    "image, label = cifar10[99]\n",
    "print(type(image))\n",
    "print(image.shape)"
   ]
  },
  {
   "cell_type": "markdown",
   "metadata": {},
   "source": [
    "The values for the untransformed image was 0-255 and it was an 8-bit integer. But the transformed images have float32 as their datatype and their values range from 0.0 to 1.0. We can verify that also"
   ]
  },
  {
   "cell_type": "code",
   "execution_count": 9,
   "metadata": {},
   "outputs": [
    {
     "name": "stdout",
     "output_type": "stream",
     "text": [
      "torch.float32\n",
      "tensor(0.) tensor(1.)\n"
     ]
    }
   ],
   "source": [
    "print(cifar10[99][0].dtype)\n",
    "print(cifar10[99][0].min(), cifar10[99][0].max() )"
   ]
  },
  {
   "cell_type": "code",
   "execution_count": 10,
   "metadata": {},
   "outputs": [
    {
     "data": {
      "text/plain": [
       "Text(0.5, 1.0, 'automobile')"
      ]
     },
     "execution_count": 10,
     "metadata": {},
     "output_type": "execute_result"
    },
    {
     "data": {
      "image/png": "[encoded data removed]",
      "text/plain": [
       "<Figure size 432x288 with 1 Axes>"
      ]
     },
     "metadata": {
      "needs_background": "light"
     },
     "output_type": "display_data"
    }
   ],
   "source": [
    "# Lets also verify that we are returning the same image as the output.\n",
    "image_t, label_t = cifar10[99]\n",
    "image_t = image_t.permute(1,2,0)   # changing from c*h*w to h*w*c because matplotlib.imshow() understands h*w*c format\n",
    "plt.imshow(image_t)\n",
    "plt.title(cifar10.classes[label_t])"
   ]
  },
  {
   "cell_type": "markdown",
   "metadata": {},
   "source": [
    "##### Normalizing data\n",
    "1. Transformation are really handy because we can chain the transformations usig transforms.Compose, they can handle transformation and augmentation directly in the dataloader. For instance it is handy for our data to have 0 mean and 1 standard deviation, because we will be choosing activation functions that are linear around 0 or -1 as lower limit and 1 as upper limit, then if the data falls within that range we would have a greater chance that the gradients are non-zero, and hence the model will learn sooner.\n",
    "2. Also normalizing each channel so that it has the same distribution will ensure that channel information can be mixed and updated using the same learning rate.\n",
    "3. In order to normalize the dataset we will need to compute the mean and standard deviation of the data and apply the transform\n",
    "``` \n",
    "                                        data[c] = (data[c]-mean[c])/std_dev[c]\n",
    "```\n",
    "This is what transform.Normalize() does, but the values for `mean` and `std_dev` should be computed offline because the transform does not compute them."
   ]
  },
  {
   "cell_type": "code",
   "execution_count": 11,
   "metadata": {},
   "outputs": [
    {
     "name": "stdout",
     "output_type": "stream",
     "text": [
      "torch.Size([3, 32, 32, 50000])\n",
      "tensor([[[0.2314, 0.6039, 1.0000,  ..., 0.1373, 0.7412, 0.8980],\n",
      "         [0.1686, 0.4941, 0.9922,  ..., 0.1569, 0.7294, 0.9255],\n",
      "         [0.1961, 0.4118, 0.9922,  ..., 0.1647, 0.7255, 0.9176],\n",
      "         ...,\n",
      "         [0.6196, 0.3569, 0.9922,  ..., 0.3882, 0.6863, 0.8510],\n",
      "         [0.5961, 0.3412, 0.9922,  ..., 0.3098, 0.6745, 0.8667],\n",
      "         [0.5804, 0.3098, 0.9922,  ..., 0.3490, 0.6627, 0.8706]],\n",
      "\n",
      "        [[0.0627, 0.5490, 1.0000,  ..., 0.2235, 0.7608, 0.8706],\n",
      "         [0.0000, 0.5686, 1.0000,  ..., 0.1725, 0.7490, 0.9373],\n",
      "         [0.0706, 0.4902, 1.0000,  ..., 0.1961, 0.7451, 0.9137],\n",
      "         ...,\n",
      "         [0.4824, 0.3765, 1.0000,  ..., 0.6118, 0.6784, 0.8745],\n",
      "         [0.4667, 0.3020, 1.0000,  ..., 0.5529, 0.6706, 0.8902],\n",
      "         [0.4784, 0.2784, 1.0000,  ..., 0.4549, 0.6549, 0.8235]],\n",
      "\n",
      "        [[0.0980, 0.5490, 1.0000,  ..., 0.3843, 0.8157, 0.8353],\n",
      "         [0.0627, 0.5451, 0.9961,  ..., 0.2510, 0.8039, 0.9176],\n",
      "         [0.1922, 0.4510, 0.9961,  ..., 0.2706, 0.8000, 0.9059],\n",
      "         ...,\n",
      "         [0.4627, 0.3098, 0.9961,  ..., 0.7373, 0.6863, 0.8627],\n",
      "         [0.4706, 0.2667, 0.9961,  ..., 0.4667, 0.6745, 0.8627],\n",
      "         [0.4275, 0.2627, 0.9961,  ..., 0.2392, 0.6627, 0.7922]],\n",
      "\n",
      "        ...,\n",
      "\n",
      "        [[0.8157, 0.6863, 0.4431,  ..., 0.2863, 0.8118, 0.5882],\n",
      "         [0.7882, 0.6118, 0.4353,  ..., 0.2078, 0.7961, 0.5490],\n",
      "         [0.7765, 0.6039, 0.4118,  ..., 0.2118, 0.7961, 0.5176],\n",
      "         ...,\n",
      "         [0.6275, 0.1647, 0.2824,  ..., 0.0667, 0.5294, 0.8784],\n",
      "         [0.2196, 0.2392, 0.2824,  ..., 0.0824, 0.6353, 0.9020],\n",
      "         [0.2078, 0.3647, 0.2824,  ..., 0.1294, 0.6588, 0.9451]],\n",
      "\n",
      "        [[0.7059, 0.6471, 0.4353,  ..., 0.2392, 0.7765, 0.5373],\n",
      "         [0.6784, 0.6118, 0.4078,  ..., 0.2157, 0.7412, 0.5098],\n",
      "         [0.7294, 0.6235, 0.3882,  ..., 0.2235, 0.7059, 0.4902],\n",
      "         ...,\n",
      "         [0.7216, 0.4039, 0.2667,  ..., 0.0941, 0.6980, 0.7098],\n",
      "         [0.3804, 0.4824, 0.2745,  ..., 0.0667, 0.6863, 0.7922],\n",
      "         [0.3255, 0.5137, 0.3059,  ..., 0.0275, 0.6863, 0.8314]],\n",
      "\n",
      "        [[0.6941, 0.6392, 0.4157,  ..., 0.1725, 0.7765, 0.4784],\n",
      "         [0.6588, 0.6196, 0.3882,  ..., 0.1804, 0.7412, 0.4627],\n",
      "         [0.7020, 0.6392, 0.3725,  ..., 0.1922, 0.6980, 0.4706],\n",
      "         ...,\n",
      "         [0.8471, 0.5608, 0.3059,  ..., 0.1059, 0.7647, 0.7020],\n",
      "         [0.5922, 0.5608, 0.3098,  ..., 0.0824, 0.7686, 0.6431],\n",
      "         [0.4824, 0.5608, 0.3137,  ..., 0.0471, 0.7647, 0.6392]]])\n"
     ]
    }
   ],
   "source": [
    "# Now we would compute the mean and std_dev of the cifar10 dataset. Since it is small dataset we can manipulate it in memory.\n",
    "# Now we would stack all of the tensors along an extra dimension, dimension 3.\n",
    "images = torch.stack([img for img,_ in cifar10], dim = 3)\n",
    "print(images.shape)\n",
    "print(images[0])"
   ]
  },
  {
   "cell_type": "markdown",
   "metadata": {},
   "source": [
    "Now we can easily compute the mean/channel of the images. We can just keep the 3 channels and flatten out all the other dimension so that the matrix would be 3x1024. Then we take the mean of each channel over the 1024 elements is taken and we get the mean/channel. Same process is done for standard deviation also."
   ]
  },
  {
   "cell_type": "code",
   "execution_count": 12,
   "metadata": {},
   "outputs": [
    {
     "name": "stdout",
     "output_type": "stream",
     "text": [
      "torch.Size([3, 51200000])\n"
     ]
    }
   ],
   "source": [
    "print(images.view(3,-1).shape)"
   ]
  },
  {
   "cell_type": "code",
   "execution_count": 13,
   "metadata": {},
   "outputs": [
    {
     "name": "stdout",
     "output_type": "stream",
     "text": [
      "tensor([0.4914, 0.4822, 0.4465])\n",
      "tensor([0.2470, 0.2435, 0.2616])\n"
     ]
    }
   ],
   "source": [
    "image_reshape = images.view(3, -1) # We give the first dimension here and the rest are figured out according to the shape.\n",
    "images_mean = image_reshape.mean(dim = 1)  # The dim=1 means that we are taking the mean along the first dimension i.e adding every column value\n",
    "print(images_mean)\n",
    "images_std = image_reshape.std(dim=1)\n",
    "print(images_std)\n"
   ]
  },
  {
   "cell_type": "markdown",
   "metadata": {},
   "source": [
    "Now we have all the values, we can initialize the normalize transform and normalize our images across all 3 channels our dataset."
   ]
  },
  {
   "cell_type": "code",
   "execution_count": 14,
   "metadata": {},
   "outputs": [
    {
     "data": {
      "text/plain": [
       "Normalize(mean=tensor([0.4914, 0.4822, 0.4465]), std=tensor([0.2470, 0.2435, 0.2616]))"
      ]
     },
     "execution_count": 14,
     "metadata": {},
     "output_type": "execute_result"
    }
   ],
   "source": [
    "normalize =  transforms.Normalize(images_mean, images_std)\n",
    "normalize"
   ]
  },
  {
   "cell_type": "markdown",
   "metadata": {},
   "source": [
    "Then we can apply it at the time of creating the dataset and we would `concatenate` it to the `ToTensor()` transform."
   ]
  },
  {
   "cell_type": "code",
   "execution_count": 15,
   "metadata": {},
   "outputs": [],
   "source": [
    "transformed_cifar10 = datasets.CIFAR10(\"./datasets/CIFAR_10/\",\n",
    "                                        download= False,\n",
    "                                        train = True,\n",
    "                                        transform=transforms.Compose([transforms.ToTensor(),\n",
    "                                                                    transforms.Normalize(images_mean, images_std)]))\n",
    "\n",
    "\n",
    "transformed_cifar10_val = datasets.CIFAR10(\"./datasets/CIFAR_10/\",\n",
    "                                        download= False,\n",
    "                                        train = False,\n",
    "                                        transform=transforms.Compose([transforms.ToTensor(),\n",
    "                                                                    transforms.Normalize(images_mean, images_std)]))\n",
    "                                                                    "
   ]
  },
  {
   "cell_type": "markdown",
   "metadata": {},
   "source": [
    "Now we will plot an image from the transformed dataset and see how the smae image looks like"
   ]
  },
  {
   "cell_type": "code",
   "execution_count": 16,
   "metadata": {},
   "outputs": [
    {
     "name": "stderr",
     "output_type": "stream",
     "text": [
      "Clipping input data to the valid range for imshow with RGB data ([0..1] for floats or [0..255] for integers).\n"
     ]
    },
    {
     "data": {
      "text/plain": [
       "Text(0.5, 1.0, 'automobile')"
      ]
     },
     "execution_count": 16,
     "metadata": {},
     "output_type": "execute_result"
    },
    {
     "data": {
      "image/png": "[encoded data removed]",
      "text/plain": [
       "<Figure size 432x288 with 1 Axes>"
      ]
     },
     "metadata": {
      "needs_background": "light"
     },
     "output_type": "display_data"
    }
   ],
   "source": [
    "image, label = transformed_cifar10[99]\n",
    "plt.imshow(np.array(image.permute(1,2,0)))\n",
    "plt.title(transformed_cifar10.classes[label])"
   ]
  },
  {
   "cell_type": "markdown",
   "metadata": {},
   "source": [
    "We get a black colors because the normalization has shifted the values between -1 to 1 and changed the overall magnitude of the channels. It's just that matplotlib renders it as black. We would keep that in mind for the future."
   ]
  },
  {
   "cell_type": "markdown",
   "metadata": {},
   "source": [
    "### Distinguishing Birds from Planes\n",
    "Jane our freind has set up cameras in the jungle south of the airport to click pictures of birds when they pass. But the passing planes also trigger the cameras and give out False positives. What she needs is an auotomated system that can distinguish between birds and planes. We have got the perfect dataset, that can distinguish between birds and airplanes and from that dataset we can just pick up the pictures for birds and planes and train our classifier."
   ]
  },
  {
   "cell_type": "markdown",
   "metadata": {},
   "source": [
    "#### Step 1 : Building the Dataset\n",
    "This is the first step of any Machine Learning problem. First we need our data in the correct format. Currently what we have is a dataset of 50000 images belonging to 10 classes.\n",
    "1. We could create a dataset subclass that only includes the birds and the planes, but the data for that is very small and as the dataset is also very small we could just filter out the images of the birds and the planes and just remap the labels so that they are contigous."
   ]
  },
  {
   "cell_type": "code",
   "execution_count": 17,
   "metadata": {},
   "outputs": [],
   "source": [
    "label_map = {0:0, 2:1}  # Birds are the zero class in  the dataset and 2 is the class number for planes.\n",
    "class_names = ['airplanes', 'birds']\n",
    "cifar2 = [(img, label_map[label]) for img, label in transformed_cifar10 if label == 0 or label == 2]\n",
    "cifar_2_val = [(img, label_map[label]) for img, label in transformed_cifar10_val if label == 0 or label == 2]"
   ]
  },
  {
   "cell_type": "code",
   "execution_count": 18,
   "metadata": {},
   "outputs": [
    {
     "name": "stderr",
     "output_type": "stream",
     "text": [
      "Clipping input data to the valid range for imshow with RGB data ([0..1] for floats or [0..255] for integers).\n"
     ]
    },
    {
     "data": {
      "text/plain": [
       "Text(0.5, 1.0, 'airplanes')"
      ]
     },
     "execution_count": 18,
     "metadata": {},
     "output_type": "execute_result"
    },
    {
     "data": {
      "image/png": "[encoded data removed]",
      "text/plain": [
       "<Figure size 432x288 with 1 Axes>"
      ]
     },
     "metadata": {
      "needs_background": "light"
     },
     "output_type": "display_data"
    }
   ],
   "source": [
    "plt.imshow(np.array(cifar2[112][0].permute(1,2,0))) # reshape the image, convert to a numpy array and display\n",
    "plt.title(class_names[cifar2[112][1]])              # display the title of the image."
   ]
  },
  {
   "cell_type": "markdown",
   "metadata": {},
   "source": [
    "The cifar2 object satisfies the criteria of a pytorch dataset i.e it has `__len__` and `__getitem__` methods. But this is done using a clever shortcut, if we run into some limitations with it we should implement a proper object of the dataset subclass. Now we have a dataset. We need to implement the model"
   ]
  },
  {
   "cell_type": "markdown",
   "metadata": {},
   "source": [
    "#### Step 2 : Defining a fully Connected Model\n",
    "Now we have the dataset ready and we need to feed the dataset into the model. Our model taking in an input which is tensor and outputs an output which is also a tensor. After all an image is just a set of numbers laid out in a Spatial configuration. If we take an image and stretch out its numbers in a 1D vector, we could consider those numbers as the input vector to our model.\\\n",
    "So lets start :-->\n",
    "1. We will calculate how many input features per image i,e `3*32*32 = 3072`  features per image. So we will build a model which has 3072 input neurons and some hidden neurons. 1 neuron for each feature. Then we have a hidden layer of some neurons and then an acitvation layer and then we would have an output linear layer of neurons which would give us the correct number of outputs(2 for this case).\n",
    "2. "
   ]
  },
  {
   "cell_type": "code",
   "execution_count": 19,
   "metadata": {},
   "outputs": [],
   "source": [
    "from typing import OrderedDict\n",
    "import torch.nn as nn\n",
    "\n",
    "n_out = 2\n",
    "\n",
    "model = nn.Sequential(OrderedDict([\n",
    "    ('Input Layer', nn.Linear(3072, 512)),\n",
    "    ('Activation Layer', nn.Tanh()),\n",
    "    ('Output Layer', nn.Linear(512,n_out))\n",
    "]))"
   ]
  },
  {
   "cell_type": "code",
   "execution_count": 20,
   "metadata": {},
   "outputs": [
    {
     "name": "stdout",
     "output_type": "stream",
     "text": [
      "Sequential(\n",
      "  (Input Layer): Linear(in_features=3072, out_features=512, bias=True)\n",
      "  (Activation Layer): Tanh()\n",
      "  (Output Layer): Linear(in_features=512, out_features=2, bias=True)\n",
      ")\n"
     ]
    }
   ],
   "source": [
    "print(model)"
   ]
  },
  {
   "cell_type": "markdown",
   "metadata": {},
   "source": [
    "So now we have a model defined with the correct input, output and hidden features. Next we would discuss what the model output should be."
   ]
  },
  {
   "cell_type": "markdown",
   "metadata": {},
   "source": [
    "##### Step 3 : The Output of the classifier\n",
    "In the thermomoeter experiment we output a predicted temperature(a quantitative number). We could do something similar here and cast our outputs to 0 and 1, 0 for birds and 1 for planes and use the MSE loss to calculate the value and if we do that we would turn this problem to a regression problem. But if we look at the problem closely we would find out that we do not have to predict the value, we just have to see if the image is a bird or a plane i.e the output is categorical, so what we can do is that we can switch to categorical variables and represent 0 for bird and 1 for plane and this would still work even if we had 10 classes. We would have a one-hot vector of length 10."
   ]
  },
  {
   "cell_type": "markdown",
   "metadata": {},
   "source": [
    "In an ideal case the network would output tensor([1.0, 0.0]) for bird and tensor([0.0, 1.0]) for a plane, but realisticly it would be somewhere in between, so we can interpret the output as probabilities that the first value is a bird and the second value is a plane.\\\n",
    "Casting out problems outputs into probabilities puts some constraints:\n",
    "1. Each output should be in the range between [0.0, 1.0].\n",
    "2. The sum of each of the classes probabilities should not be greater than 1.\n",
    "This sounds like a very tough task to represent this in a differentiable way so that we can backpropagate, but there is a very smart trick that does that and it is called as `Softmax`."
   ]
  },
  {
   "cell_type": "markdown",
   "metadata": {},
   "source": [
    "##### Representing the output as probabilities : The `Softmax Function`\n",
    "1. Softmax is a function that takes in a vector of values of a dimension and outputs another vector of the same dimension where the outputs satify the above constraints.\n",
    "2. In the softmax function we take the vector and calculate the exponential of its individual elements and then we divide each element by the sum of the exponentials.\n",
    "3. The softmax is a `monotone` function i.e lower values in the input will correspond to lower values in the output. However it is not `scale invariant` i.e the ratio between the values is not preserved. This is not an issue because the learning process of the model will drive the values in such a way that the ratio of the values is preserved.\n",
    "4. The nn module makes softmax available as a submodule. As usual the input tensor may have a batch dimension along the 0th dimension ot they might have dimensions along which they encode probabilities and other dimensions along which they do not, so softamx requires us to pass the dimension as an argument to perform the softmax operation along that dimension."
   ]
  },
  {
   "cell_type": "code",
   "execution_count": 21,
   "metadata": {},
   "outputs": [
    {
     "name": "stdout",
     "output_type": "stream",
     "text": [
      "tensor([0.0900, 0.2447, 0.6652])\n",
      "tensor([[0.0900, 0.2447, 0.6652],\n",
      "        [0.0900, 0.2447, 0.6652]])\n"
     ]
    }
   ],
   "source": [
    "# Lets test the softmax on an input vector\n",
    "def softmax(x):\n",
    "    return torch.exp(x)/torch.exp(x).sum()\n",
    "x = torch.tensor([1.0,2.0, 3.0])\n",
    "print(softmax(x))\n",
    "\n",
    "# using the nn.Softmax module. In this case we have two input vectors along the 0th dimension so we are choosing to perform softmax on dim=1.\n",
    "softmax = nn.Softmax(dim=1)\n",
    "x = torch.tensor([[1.0,2.0,3.0],\n",
    "        [1.0,2.0,3.0]])\n",
    "print(softmax(x))"
   ]
  },
  {
   "cell_type": "markdown",
   "metadata": {},
   "source": [
    "Excellent, now we can add softmax to the end of our model and the network will be equipped to output the class probabilities."
   ]
  },
  {
   "cell_type": "code",
   "execution_count": 22,
   "metadata": {},
   "outputs": [],
   "source": [
    "from typing import OrderedDict\n",
    "import torch.nn as nn\n",
    "\n",
    "n_out = 2\n",
    "\n",
    "model = nn.Sequential(OrderedDict([\n",
    "    (\"Input Layer\", nn.Linear(3072, 512)),\n",
    "    (\"Activation Layer\", nn.Tanh()),\n",
    "    (\"Output Layer\", nn.Linear(512,n_out)),\n",
    "    (\"Softmax Layer\", nn.Softmax(dim=1))\n",
    "]))"
   ]
  },
  {
   "cell_type": "markdown",
   "metadata": {},
   "source": [
    "We can try running the model before even we train it to just see what result do we get."
   ]
  },
  {
   "cell_type": "code",
   "execution_count": 23,
   "metadata": {},
   "outputs": [
    {
     "name": "stderr",
     "output_type": "stream",
     "text": [
      "Clipping input data to the valid range for imshow with RGB data ([0..1] for floats or [0..255] for integers).\n"
     ]
    },
    {
     "data": {
      "text/plain": [
       "<matplotlib.image.AxesImage at 0x17581211490>"
      ]
     },
     "execution_count": 23,
     "metadata": {},
     "output_type": "execute_result"
    },
    {
     "data": {
      "image/png": "[encoded data removed]",
      "text/plain": [
       "<Figure size 432x288 with 1 Axes>"
      ]
     },
     "metadata": {
      "needs_background": "light"
     },
     "output_type": "display_data"
    }
   ],
   "source": [
    "image, _ = cifar2[0]\n",
    "plt.imshow(image.permute(1,2,0))"
   ]
  },
  {
   "cell_type": "markdown",
   "metadata": {},
   "source": [
    "But before we input the image in the model we need to see if the image has the correct shape accepted by the model. So we know that it expects a tensor of 3072 dimensions and that nn module works with batches of data which is an extra index along the 0th dimension. So we flatten our image and add an extra dimension."
   ]
  },
  {
   "cell_type": "code",
   "execution_count": 24,
   "metadata": {},
   "outputs": [
    {
     "name": "stdout",
     "output_type": "stream",
     "text": [
      "tensor([[0.4910, 0.5090]], grad_fn=<SoftmaxBackward0>)\n"
     ]
    }
   ],
   "source": [
    "image = image.view(-1).unsqueeze(0)  # reshapes the image to a 1D vector and adds an extra dimension.\n",
    "\n",
    "# Now we are ready to invoke our model\n",
    "out = model(image)\n",
    "print(out)"
   ]
  },
  {
   "cell_type": "markdown",
   "metadata": {},
   "source": [
    "1. We can see that our model outputs a pair of probabilities which it thinks are the correct ones, but the model has not been trained yet. It has just initialized some random numbers between -1.0 to 1.0 to the input. We can also see there is a grad_fn printed in the output. This is the function at the tip of the output and will be useful when we are trying to backpropagate.\n",
    "2. Secondly we also don't know which probability is which i.e bird or airplane because it does not the network cannot associate a class to the output at this point. It is the responsibility of the loss function to associate meanings to these two numbers after backpropagation.\n",
    "3. If labels are provided as 0:'bird' and 1:'airplane', then that is the order the outputs will be expected to take. Thus after training if we take the argmax of the output vector then that is the index of the label, the one which the network predicts most likely. Coviniently `torch.max` also provides the `max of a vector and the index at which it occurs in the vector` along the provided dimension. So we will provide the dimension of the vector and not along the batches i.e dim = 1 ."
   ]
  },
  {
   "cell_type": "code",
   "execution_count": 25,
   "metadata": {},
   "outputs": [
    {
     "name": "stdout",
     "output_type": "stream",
     "text": [
      "tensor([1])\n"
     ]
    }
   ],
   "source": [
    "_, index = torch.max(out, dim = 1)\n",
    "print(index)"
   ]
  },
  {
   "cell_type": "markdown",
   "metadata": {},
   "source": [
    "It says that the image is a plane. Now we have adapted our model to the current classification task by outputting class probabilities instead of discreet values. Now we need to start training the model which is just minimizing loss during training."
   ]
  },
  {
   "cell_type": "markdown",
   "metadata": {},
   "source": [
    "#### A loss for Classification\n",
    "We have just discussed that the loss give  meaning to the output probabilities of the Model. Previously we used MSE as our loss metric. We could still use MSE and make the Model converge on [1.0, 0.0] or [0.0, 1.0] but we do not want that becuase that would be unnescesary optimization. We just want to penalize misclassification rather than painstakingly penalize anything that does not look like a 0.0 or 1.0"
   ]
  },
  {
   "cell_type": "markdown",
   "metadata": {},
   "source": [
    "1. What we need to maximize in this case is the probability associated with the correct class. This quantity i.e the probability associated with the correct class is known as `likelihood(of model parameters given the data)`. In other words we want a loss function that is very high when the likelihood is low, so high that the other classes probabilities are higher that it and we are not fixated on driving the probility to 1.\n",
    "2. There is a loss function that behaves that way, it's called as `Negative Log Likelihood(NLL).` It has the expression `NNL = -sum(out_i[c_i])` where sum is taken over n examples and the correct class for sampel i is c_i.\n",
    "3. When low probabilities are assigned to the data, NLL grows to infinity, while is grows shallow when the assigned probabilities are above 0.5. Remember that NLL takes probabilities as inputs, so as the likelihood increases other probabilities will nescessarily decrease."
   ]
  },
  {
   "cell_type": "markdown",
   "metadata": {},
   "source": [
    "Summing up our classification can be computed as follows.\n",
    "1. Compute the forward pass.\n",
    "2. apply the softmax function to compute the class probabilites.\n",
    "3. Get the probabilities of the correct class(likelihood). We know the correct classes because it is a supervised problem.\n",
    "4. `Compute its logarithm`, `slap a - sign` in front of it and `add it to the loss`.\n",
    "\\\n",
    "\\\n",
    "But how do we compute these probabilites in pytorch. Pytorch has nn.NLLLoss class. However it takes a tensor of log probabilities as input, It then computes the NLL of our model given the batch of our data. `There is a good reason behind this convention : because taking the logarithm of a probability is tricky when the probability goes very close to zero. The workaround is to use nn.LogSoftmax instead of nn.Softmax which takes care to make the calculation numerically stable."
   ]
  },
  {
   "cell_type": "code",
   "execution_count": 26,
   "metadata": {},
   "outputs": [],
   "source": [
    "# We now need to modify our model to include nn.LogSoftmax instead of nn.Softmax\n",
    "from typing import OrderedDict\n",
    "import torch.nn as nn\n",
    "\n",
    "n_out = 2\n",
    "\n",
    "model = nn.Sequential(OrderedDict([\n",
    "    (\"Input Layer\", nn.Linear(3072, 512)),\n",
    "    (\"Activation Layer\", nn.Tanh()),\n",
    "    (\"Output Layer\", nn.Linear(512,n_out)),\n",
    "    (\"Log_Softmax Layer\", nn.LogSoftmax(dim=1))\n",
    "]))\n",
    "\n",
    "# Then we instantialte or NLL loss function\n",
    "loss = nn.NLLLoss()"
   ]
  },
  {
   "cell_type": "markdown",
   "metadata": {},
   "source": [
    "The loss takes two arguments : \n",
    "1. The tensor of log-probabilites of a batch of images from the LogSoftmax layer \n",
    "2. A vector of class_indices(0 and 1 in this case because we have two classes)\n",
    "\\\n",
    "\\\n",
    "We can now test it with our bird images"
   ]
  },
  {
   "cell_type": "code",
   "execution_count": 27,
   "metadata": {},
   "outputs": [
    {
     "data": {
      "text/plain": [
       "tensor(0.5747, grad_fn=<NllLossBackward0>)"
      ]
     },
     "execution_count": 27,
     "metadata": {},
     "output_type": "execute_result"
    }
   ],
   "source": [
    "image, label = cifar2[0]\n",
    "\n",
    "# Flattening the image and adding a batch dimension and then passing it to our mode to get the probability tensor\n",
    "pred = model(image.view(-1).unsqueeze(0))\n",
    "\n",
    "# Calculating how much the probability differs from the actual label\n",
    "loss(pred, torch.tensor([label]))"
   ]
  },
  {
   "cell_type": "code",
   "execution_count": 28,
   "metadata": {},
   "outputs": [
    {
     "data": {
      "text/plain": [
       "1"
      ]
     },
     "execution_count": 28,
     "metadata": {},
     "output_type": "execute_result"
    }
   ],
   "source": [
    "label"
   ]
  },
  {
   "cell_type": "markdown",
   "metadata": {},
   "source": [
    "From above we can see that the network is only 50% sure that it is a bird, because the ground truth label says that the image is a bird."
   ]
  },
  {
   "cell_type": "markdown",
   "metadata": {},
   "source": [
    "##### Cross-Entropy vs MSE\n",
    "Now We can compare how the cross-entropy loss is better than the MSE : \n",
    "1. Even for correct classes, cross-entropy loss has some margin for error. The correct class is assigned a prbability of 99.97%, but MSE get saturated very easily, many times even for the wrong input it says that the classes are correct.\n",
    "2. The reason for the above point is that the slope of MSE is often too low to compensate for the flatness of the softamx for incorrect predictions."
   ]
  },
  {
   "cell_type": "markdown",
   "metadata": {},
   "source": [
    "#### Training the Classifier\n",
    "Now we are ready to bring back the training loop and see how it trains."
   ]
  },
  {
   "cell_type": "markdown",
   "metadata": {},
   "source": [
    "There can be 3 different ways of training a classifier.\n",
    "1. We train on the individual images, calculate the loss, backpropagate and update the parameters per image.\n",
    "2. We train on individual images, accumulate the loss, accumulate the gradients and update the parameters once per epoch.\n",
    "3. We train on idividual images in a batch of images, compute the loss and accumulate the gradients per batch and update the parameters once per batch."
   ]
  },
  {
   "cell_type": "code",
   "execution_count": 29,
   "metadata": {},
   "outputs": [],
   "source": [
    "# # Here we will try to update the gradients once per image\n",
    "# # We would define the model\n",
    "# from typing import OrderedDict\n",
    "# import torch.nn as nn\n",
    "# import torch.optim as optim\n",
    "\n",
    "# n_out = 2\n",
    "\n",
    "# # define the model\n",
    "# model = nn.Sequential(OrderedDict([\n",
    "#     (\"Input_linear_layer\", nn.Linear(3072,512)),\n",
    "#     (\"Activation_layer\", nn.Tanh()),\n",
    "#     (\"Output_layer\", nn.Linear(512, n_out)),\n",
    "#     (\"Log_Softmax_1\", nn.LogSoftmax(dim=1))\n",
    "# ]))\n",
    "\n",
    "# # define the learning rate\n",
    "# learning_rate = 0.1\n",
    "\n",
    "# # define the optimizer\n",
    "# optimizer_sgd = optim.SGD(model.parameters(), lr = learning_rate)\n",
    "\n",
    "# # define the loss function\n",
    "# nn_loss = nn.NLLLoss()\n",
    "\n",
    "# # Now define the training loop\n",
    "# def training_loop(n_epochs, optimizer, loss_fn, X_train):\n",
    "#     for epoch in range(1, n_epochs+1):\n",
    "#         # carry out the forward pass for each image in the dataset\n",
    "#         for image, label in X_train:\n",
    "#             # make the image in proper shape of the input for the model\n",
    "#             input = image.view(-1).unsqueeze(0)\n",
    "#             pred = model(input)\n",
    "\n",
    "#             # compute the training loss\n",
    "#             loss = loss_fn(pred, torch.tensor([label]))\n",
    "\n",
    "#             # zero out the gradients of the optimizer\n",
    "#             optimizer.zero_grad()\n",
    "\n",
    "#             # carry out the backward pass\n",
    "#             loss.backward()\n",
    "\n",
    "#             # update the paramters\n",
    "#             optimizer.step()\n",
    "\n",
    "#         # compute the validation loss\n",
    "\n",
    "#         # print the training and the validation loss\n",
    "#         print(f\"Epochs : {epoch} | Training loss : {loss}\")\n",
    "\n",
    "#     return\n",
    "\n",
    "# training_loop(n_epochs=10, optimizer= optimizer_sgd, loss_fn = loss, X_train = cifar2)"
   ]
  },
  {
   "cell_type": "markdown",
   "metadata": {},
   "source": [
    "In this training_loop we are calculating the forward pass, and then updating the gradients per image. However what is good dir"
   ]
  },
  {
   "cell_type": "markdown",
   "metadata": {},
   "source": [
    "#### Next we would try to divide the dataset into minibatches and train and update the parameters per minibatch"
   ]
  },
  {
   "cell_type": "code",
   "execution_count": 30,
   "metadata": {},
   "outputs": [
    {
     "name": "stdout",
     "output_type": "stream",
     "text": [
      "10000\n"
     ]
    }
   ],
   "source": [
    "print(len(cifar2))"
   ]
  },
  {
   "cell_type": "markdown",
   "metadata": {},
   "source": [
    "1. In our previous examples what we did is that we evaluated the gradients according to each image and updated the parameters per image. But the problem for this approach is that the direction for the gradient for reducing the loss for  one image might not be a good direction for reducing the loss for others. So what we do is that we shuffle the dataset into random batches of the data and estimate the gradients on a few samples at a time. This introduces a sort of randomness in the gradient descent. `This is called as Stochastic Gradient Descent`. It turns out that these gradient approximations of random batch of data, which are poor approximations of the whole dataset help in better convergence and prevents the optimization process from getting stuck in the local minima.\n",
    "2. Shuffling the dataset ensures that the sample of the gradients computed at each step is representative of the whole dataset.\n",
    "3. Typically the number of mini-batches is needed to be set previously and it is a hyperparameter that differs from problem to problem and the sie of memory or other computational constraints. It is a `hyperparamter` just like the learning rate.\n",
    "4. In our training code previously we implement a minibatch of size 1, by picking 1 item from the dataset. The `torch.utils.data` module has a class that can help with shuffiling and  orgainizing data into minibatches : `DataLoader` Class.\n",
    "5. The job of the dataloader class is to sample and return the data from the dataset giving us the flexibilty of a particular sampling strategy.\n",
    "6. On a bare minimum the `dataloader` constructor takes in dataset as the input with the `batch_size` and `shuffle = True/False` which indicates that the data needs to be shuffled per epoch or not.\n",
    "7. As the dataloader can be iterated we can use it in our inner training loop."
   ]
  },
  {
   "cell_type": "code",
   "execution_count": 31,
   "metadata": {},
   "outputs": [
    {
     "name": "stdout",
     "output_type": "stream",
     "text": [
      "Epoch : 10 | Loss : 0.3541380763053894\n",
      "Epoch : 20 | Loss : 0.15739838778972626\n",
      "Epoch : 30 | Loss : 0.09402313828468323\n",
      "Epoch : 40 | Loss : 0.05393235385417938\n",
      "Epoch : 50 | Loss : 0.016827018931508064\n",
      "Epoch : 60 | Loss : 0.01260560005903244\n",
      "Epoch : 70 | Loss : 0.0056186397559940815\n",
      "Epoch : 80 | Loss : 0.003184625646099448\n",
      "Epoch : 90 | Loss : 0.006937910337001085\n",
      "Epoch : 100 | Loss : 0.008527797646820545\n"
     ]
    }
   ],
   "source": [
    "import torch\n",
    "import torch.nn as nn\n",
    "import torch.optim as optim\n",
    "\n",
    "# Instantiate the dataloader class and provide it with the dataset, batch_size and shuffle arguments.\n",
    "train_loader = torch.utils.data.DataLoader(cifar2, batch_size = 32, shuffle = True)\n",
    "\n",
    "# Define the model\n",
    "model = nn.Sequential(OrderedDict([\n",
    "    (\"Input layer\", nn.Linear(3072,512)),\n",
    "    (\"Activation_layer\", nn.Tanh()),\n",
    "    (\"Output_layer\", nn.Linear(512, n_out)),\n",
    "    (\"Log_softmax_1\", nn.LogSoftmax(dim=1))\n",
    "]))\n",
    "\n",
    "# Define the loss function\n",
    "loss_nll = nn.NLLLoss()\n",
    "\n",
    "# Define the optimizer\n",
    "optimizer_sgd = torch.optim.SGD(model.parameters(), lr = 1e-2, )\n",
    "\n",
    "# define the batch_size\n",
    "batch_size, n_epochs = 32, 100\n",
    "\n",
    "# Define the training loop\n",
    "def training_loop(n_epochs, dataloader, optimizer, loss_fn, model):\n",
    "    # Run the loop for epochs\n",
    "    for epoch in range(1, n_epochs+1):\n",
    "        # get the image and labels from the dataloader\n",
    "        for img, labels in dataloader:\n",
    "            # get the batch_size\n",
    "            batch_size = img.shape[0]\n",
    "\n",
    "            # get the predictions of the model\n",
    "            pred = model(img.view(batch_size, -1))\n",
    "\n",
    "            # calculate the loss\n",
    "            loss = loss_fn(pred, labels)\n",
    "\n",
    "            # zero the gradients of the optimizer before backpropagating\n",
    "            optimizer.zero_grad()\n",
    "\n",
    "            # backpropagate through the loss\n",
    "            loss.backward()\n",
    "\n",
    "            # update the parameters\n",
    "            optimizer.step()\n",
    "\n",
    "            # print the training and the validation losses\n",
    "        if epoch % 10 == 0:\n",
    "            print(f\"Epoch : {epoch} | Loss : {loss}\")\n",
    "\n",
    "\n",
    "# call the training loop\n",
    "training_loop(n_epochs = n_epochs, dataloader = train_loader, optimizer=optimizer_sgd, loss_fn = loss_nll, model = model)\n",
    "\n"
   ]
  },
  {
   "cell_type": "markdown",
   "metadata": {},
   "source": [
    "We can see that the loss has gone down enough but we do not know whether it is low enough. So to test the correctness of our model,  we can check the accuracy of our model on the correct classification over the total."
   ]
  },
  {
   "cell_type": "code",
   "execution_count": 46,
   "metadata": {},
   "outputs": [
    {
     "name": "stdout",
     "output_type": "stream",
     "text": [
      "Accuracy : 0.669\n"
     ]
    }
   ],
   "source": [
    "# Now lets make a validatin set dataloader.\n",
    "val_loader = torch.utils.data.DataLoader(cifar_2_val, shuffle = False, batch_size = 32)\n",
    "correct = 0\n",
    "total = 0\n",
    "\n",
    "# now as we do not want to compute the gradients, we would use the torch.no_grad() context\n",
    "with torch.no_grad():\n",
    "    for img, labels in val_loader:\n",
    "        # get the batch_size of the image\n",
    "        batch_size = img.shape[0]\n",
    "\n",
    "        # reshape the image accoring to the batch_size and the input. This inputs an expected tenor of (32, 3072) in the model.\n",
    "        outputs = model(img.view(batch_size, -1))\n",
    "\n",
    "        # get the predictions and the index of the class with the max probability in the output \n",
    "        _, max_predicted_index = torch.max(outputs, dim=1)\n",
    "\n",
    "        # get the total labels in the batch\n",
    "        total += labels.shape[0]\n",
    "\n",
    "        # get the total number labels predicted correctly in the batch\n",
    "        correct += int((max_predicted_index == labels).sum())\n",
    "\n",
    "# print out the accuracy of the model.\n",
    "print(f\"Accuracy : {correct/total}\")"
   ]
  },
  {
   "cell_type": "markdown",
   "metadata": {},
   "source": [
    "1. The accuracy on the validation set is not very high, but in the models defence we can say that it is relatively shallow model, so it is not able to find the subtle nuances in the data which can differentiate between a bird and a Plane. We would focus on improving our model later.\n",
    "2.  What we can do is that we can add more layers to our model and getly taper the number of hidden neurons in the, so that the intermediate layers have a greater chance of squeezing out the information from the data."
   ]
  },
  {
   "cell_type": "code",
   "execution_count": 48,
   "metadata": {},
   "outputs": [
    {
     "name": "stdout",
     "output_type": "stream",
     "text": [
      "Epoch : 10 | Loss : 0.3814864158630371\n",
      "Epoch : 20 | Loss : 0.11479400843381882\n",
      "Epoch : 30 | Loss : 0.20899197459220886\n",
      "Epoch : 40 | Loss : 0.02062891237437725\n",
      "Epoch : 50 | Loss : 0.02024221606552601\n",
      "Epoch : 60 | Loss : 0.014094071462750435\n",
      "Epoch : 70 | Loss : 0.0018639344489201903\n",
      "Epoch : 80 | Loss : 0.007711926009505987\n",
      "Epoch : 90 | Loss : 0.004203984048217535\n",
      "Epoch : 100 | Loss : 0.002794005209580064\n"
     ]
    }
   ],
   "source": [
    "import torch\n",
    "import torch.nn as nn\n",
    "import torch.optim as optim\n",
    "\n",
    "# Instantiate the dataloader class and provide it with the dataset, batch_size and shuffle arguments.\n",
    "train_loader = torch.utils.data.DataLoader(cifar2, batch_size = 32, shuffle = True)\n",
    "\n",
    "# Define the model\n",
    "model = nn.Sequential(OrderedDict([\n",
    "    (\"Input layer\", nn.Linear(3072,512)),\n",
    "    (\"Activation_layer\", nn.Tanh()),\n",
    "    (\"Output_layer\", nn.Linear(512, n_out)),\n",
    "    (\"Log_softmax_1\", nn.LogSoftmax(dim=1))\n",
    "]))\n",
    "\n",
    "# Define the loss function\n",
    "loss_nll = nn.NLLLoss()\n",
    "\n",
    "# Define the optimizer\n",
    "optimizer_sgd = torch.optim.SGD(model.parameters(), lr = 1e-2, )\n",
    "\n",
    "# define the batch_size\n",
    "batch_size, n_epochs = 32, 100\n",
    "\n",
    "# Define the training loop\n",
    "def training_loop(n_epochs, dataloader, optimizer, loss_fn, model):\n",
    "    # Run the loop for epochs\n",
    "    for epoch in range(1, n_epochs+1):\n",
    "        # get the image and labels from the dataloader\n",
    "        for img, labels in dataloader:\n",
    "            # get the batch_size\n",
    "            batch_size = img.shape[0]\n",
    "\n",
    "            # get the predictions of the model\n",
    "            pred = model(img.view(batch_size, -1))\n",
    "\n",
    "            # calculate the loss\n",
    "            loss = loss_fn(pred, labels)\n",
    "\n",
    "            # zero the gradients of the optimizer before backpropagating\n",
    "            optimizer.zero_grad()\n",
    "\n",
    "            # backpropagate through the loss\n",
    "            loss.backward()\n",
    "\n",
    "            # update the parameters\n",
    "            optimizer.step()\n",
    "\n",
    "            # print the training and the validation losses\n",
    "        if epoch % 10 == 0:\n",
    "            print(f\"Epoch : {epoch} | Loss : {loss}\")\n",
    "\n",
    "\n",
    "# call the training loop\n",
    "training_loop(n_epochs = n_epochs, dataloader = train_loader, optimizer=optimizer_sgd, loss_fn = loss_nll, model = model)"
   ]
  },
  {
   "cell_type": "code",
   "execution_count": 49,
   "metadata": {},
   "outputs": [
    {
     "name": "stdout",
     "output_type": "stream",
     "text": [
      "Accuracy : 0.815\n"
     ]
    }
   ],
   "source": [
    "# Lets write the validation code to check the accuracy of the improved model.\n",
    "# Now lets make a validatin set dataloader.\n",
    "val_loader = torch.utils.data.DataLoader(cifar_2_val, shuffle = False, batch_size = 32)\n",
    "correct = 0\n",
    "total = 0\n",
    "\n",
    "# now as we do not want to compute the gradients, we would use the torch.no_grad() context\n",
    "with torch.no_grad():\n",
    "    for img, labels in val_loader:\n",
    "        # get the batch_size of the image\n",
    "        batch_size = img.shape[0]\n",
    "\n",
    "        # reshape the image accoring to the batch_size and the input. This inputs an expected tenor of (32, 3072) in the model.\n",
    "        outputs = model(img.view(batch_size, -1))\n",
    "\n",
    "        # get the predictions and the index of the class with the max probability in the output \n",
    "        _, max_predicted_index = torch.max(outputs, dim=1)\n",
    "\n",
    "        # get the total labels in the batch\n",
    "        total += labels.shape[0]\n",
    "\n",
    "        # get the total number labels predicted correctly in the batch\n",
    "        correct += int((max_predicted_index == labels).sum())\n",
    "\n",
    "# print out the accuracy of the model.\n",
    "print(f\"Accuracy : {correct/total}\")"
   ]
  },
  {
   "cell_type": "markdown",
   "metadata": {},
   "source": [
    "Now we can see that the validation accuracy of the model has significantly improved from 66.9% to 81%, and that to with adding just two hidden layers, our model was able to better classify pictures into birds and planes."
   ]
  },
  {
   "cell_type": "markdown",
   "metadata": {},
   "source": [
    "1. The combination of nn.LogSoftmax and nn.NLLLoss(negative loglikelihood) is equivalent to using nn.CrossEntropyLoss(). This is particular to pytorch as The nn.NLLLoss computes the crossentropy loss but with log probability predictions as inputs whereas the nn.CrossEntropyLoss() takes score(sometimes called as logits) as inputs.\n",
    "2. So technically both the losses are the negative log-likelihood of the model parameters given the data when our model predicts the softmax applied probabilities\n",
    "3. `It is quite common to drop the nn.LogSoftmax() layer from the model and use nn.CrossEntoryLoss() as the loss_function.`\n",
    "4. `Note that the numbers will be exactly the same as nn.LogSoftmax() and nn.NLLLoss, the only convienience being that we can compute the result in one swoop but the output will not be interpretable as probabilities. We will need to explicitly pass the output through a softmax to get that as probabilities."
   ]
  },
  {
   "cell_type": "markdown",
   "metadata": {},
   "source": [
    "We can see that our model has a very low loss on the training set but the accuracy is not very high on the validation se i.e it is memorizing the pictures of birds and planes but not generalizing very well. In short it is `overfitting`.\\\n",
    "1. Pytorch offers a quick way to look at how many paramters a model has by `model.parameters()` method. To find out how many elements are in each tensor instance we call the `numel()` method. Summing those gives us the total count. But we might want to also see if the tensors have the requires_grad attribute set to True. We might want to differentiate between the number of trainable parameters and non-trainable parameters.\n"
   ]
  },
  {
   "cell_type": "code",
   "execution_count": 52,
   "metadata": {},
   "outputs": [
    {
     "data": {
      "text/plain": [
       "(1574402, [1572864, 512, 1024, 2])"
      ]
     },
     "execution_count": 52,
     "metadata": {},
     "output_type": "execute_result"
    }
   ],
   "source": [
    "numel_list = [p.numel() for p in model.parameters() if p.requires_grad == True]\n",
    "sum(numel_list), numel_list"
   ]
  },
  {
   "cell_type": "markdown",
   "metadata": {},
   "source": [
    "The number of our model parameters in our latest fully connected model is about twice as our first model.\\\n",
    "The number of parameters of the first layer of an input Linear layer is 3072*1024 = 3145728. This means that our model would not scale well with the number of inputs. Because a `1024*1024`image would have 3.1 million input parameters and using a 1024 hidden parameters we go to 3 billion parameters. If we use 32-bit floats we are already at 12GB of GPU/CPU ram and we haven't even hit the second layer yet and calculated the gradients. That's just not going to fit on present day GPU's."
   ]
  },
  {
   "cell_type": "markdown",
   "metadata": {},
   "source": [
    "#### The limits of going Fully Connected\n",
    "1. If we are using a linear model and using a image represented as vecotrs we are just relying on the combination of pixel values to be unique to be relevant to our task at hand, but we are not taking advantage of the spatial raltionship between our pixels i.e we are not using the information about how much distance one pixels is away from the other pixel i.e if one pixel is neighbouring to the other pixel and far away from the other.\n",
    "2. A fully connected network will se an airplane image and would think that, a bright pixel at 1,1 and dark at 1,2 and dark at 1,3 and so on is a good indication of an airplane and would learn that, but the same if it is at the bottom of the screen, then it would again need to learn that the dark pixeld at 25,25,27 etc. is a good indication. So it would need to learn it again. `Being fully connected means that it is not Translation Invariant.` This means that a network trained to recognize a spitfire at 4,4 will not be able to recognize the same plane if it is at 8,8.\n",
    "3. So to combat this problem we would need to augment the image in many ways so that the network has a chance to see planes all over the image and we would need to do so all over the image. But this augmentation comes at a cost, the number of parameters must be large enough to keep all the information about these augmentations.\n",
    "4. So we need to find out a way so that our model has to save upon storing learning the pixel arrangement for all of these augmented images, rather it should learn in such a way that spatial information can also be utilised. Convolutional Networks help in these cases."
   ]
  }
 ],
 "metadata": {
  "kernelspec": {
   "display_name": "Python 3.9.12 ('base')",
   "language": "python",
   "name": "python3"
  },
  "language_info": {
   "codemirror_mode": {
    "name": "ipython",
    "version": 3
   },
   "file_extension": ".py",
   "mimetype": "text/x-python",
   "name": "python",
   "nbconvert_exporter": "python",
   "pygments_lexer": "ipython3",
   "version": "3.9.12"
  },
  "orig_nbformat": 4,
  "vscode": {
   "interpreter": {
    "hash": "5863a01bb4350d9241febf9e57f76b3c44dc4260331656e165259b66bc149002"
   }
  }
 },
 "nbformat": 4,
 "nbformat_minor": 2
}
