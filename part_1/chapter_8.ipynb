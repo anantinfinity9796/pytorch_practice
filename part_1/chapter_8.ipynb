{
 "cells": [
  {
   "cell_type": "markdown",
   "metadata": {},
   "source": [
    "## Chapter 8 : Using Convolutions to Generalize"
   ]
  },
  {
   "cell_type": "markdown",
   "metadata": {},
   "source": [
    "#### Convolutions in action\n",
    "Convolution operations can be used to for solving the of translational variance limitation of fully connected networks because they provide two things\n",
    "1. They provide a method of keeping the localised relationships betweem the pixels of an image. Just like a fully connected network.\n",
    "2. They also can detect if the same localized realtionships occur in different parts of the image, without needing to relearn the relationship i.e `translational invariance`."
   ]
  },
  {
   "cell_type": "markdown",
   "metadata": {},
   "source": [
    "Now we will se some convolutions in action. The torch.nn module provides convolutions in -->\n",
    "1. 1D: Time-Series\n",
    "2. 2D: For images\n",
    "3. 3D: For volumes or videos"
   ]
  },
  {
   "cell_type": "markdown",
   "metadata": {},
   "source": [
    "For our CIFAR10 we will resort to nn.Conv2D, at minimum we will provide to the Conv2D function are\n",
    "1. Number of input features(or channels since we are dealing with multichannel images i.e more that one value per pixel)\n",
    "2. The number of output features.\n",
    "3. The size of the kernel.\n",
    "For instance in the first convolutional module we would have 3 input features per pixel (or channels) for our input image of RGB channels and an arbitrary number of channels in the output(lets day 16). The more channels in the output the more the capcity of the network and the network can learn more features. Also because we are randomly initializing, some of the features that we will get will be useless."
   ]
  },
  {
   "cell_type": "code",
   "execution_count": 3,
   "metadata": {},
   "outputs": [],
   "source": [
    "# imports\n",
    "import torch\n",
    "import torch.nn as nn\n",
    "from torchvision import datasets\n",
    "from torchvision import  transforms\n",
    "import matplotlib.pyplot as plt\n",
    "import torch.optim as optim\n",
    "import torch.nn.functional as F"
   ]
  },
  {
   "cell_type": "code",
   "execution_count": 3,
   "metadata": {},
   "outputs": [
    {
     "data": {
      "text/plain": [
       "Conv2d(3, 16, kernel_size=(3, 3), stride=(1, 1))"
      ]
     },
     "execution_count": 3,
     "metadata": {},
     "output_type": "execute_result"
    }
   ],
   "source": [
    "# Lets define a Conv2D layer with 3 input channels and 16 output channels with a kernel size of 3x3.\n",
    "\n",
    "conv = nn.Conv2d(3, 16, kernel_size = 3)  # if we give a kerne_size=3 it is the same as a 3x3 kernel\n",
    "conv"
   ]
  },
  {
   "cell_type": "markdown",
   "metadata": {},
   "source": [
    "Now what should be the shape of the weight tensor. As our kernel_size = 3 so the weight would be a 3x3 for a single input channel. As the number of input channels is 3 the weight would be `in_ch*3*3`. An then the number of these individual `in_ch*3*3` weights is the number of output channels i.e `16*in_ch*3*3`. The bias would be a 16 valued vector that conforms to the number of output channels."
   ]
  },
  {
   "cell_type": "code",
   "execution_count": 4,
   "metadata": {},
   "outputs": [
    {
     "data": {
      "text/plain": [
       "(torch.Size([16, 3, 3, 3]), torch.Size([16]))"
      ]
     },
     "execution_count": 4,
     "metadata": {},
     "output_type": "execute_result"
    }
   ],
   "source": [
    "# lets test out the weight vector and the bias vectors\n",
    "conv.weight.shape, conv.bias.shape"
   ]
  },
  {
   "cell_type": "markdown",
   "metadata": {},
   "source": [
    "1. We can see how convolutional Networks are good for images, we have smaller models which look for local patterns whose weights are optimized for the whole image.\n",
    "2. A 2D convolution produces a 2D image as an output whose pixels are the locally weighted sum pixels of the original image.\n",
    "3. Because the weights are initialized randomly we will not see a meaningful output image.\n",
    "4. As usual we need to add a zeroth batch dimension in the input data because pytorch expects a batch of images with `B x C x H x W` shaped tensor.\n"
   ]
  },
  {
   "cell_type": "code",
   "execution_count": 4,
   "metadata": {},
   "outputs": [],
   "source": [
    "# lets get an image from the cifar 10 dataset\n",
    "\n",
    "# download the cifar10 dataset from torchvision.datasets\n",
    "cifar10 = datasets.CIFAR10(\"./datasets/CIFAR_10/\", download = False, transform=transforms.ToTensor(), train = True)\n",
    "cifar10_val = datasets.CIFAR10(\"./datasets/CIFAR_10/\", download = False, transform = transforms.ToTensor(), train = False)\n",
    "\n",
    "# stack the images to get the mean and the standard deviations of all channels\n",
    "images = torch.stack([img for img,_ in cifar10], dim = 3)\n",
    "image_reshape = images.view(3, -1) # We give the first dimension here and the rest are figured out according to the shape.\n",
    "images_mean = image_reshape.mean(dim = 1)  # The dim=1 means that we are taking the mean along the first dimension i.e adding every column value\n",
    "images_std = image_reshape.std(dim=1)\n",
    "\n",
    "# get the tranformed cifar10 dataset with totensor() and normalize transformation applied\n",
    "transformed_cifar10 = datasets.CIFAR10(\"./datasets/CIFAR_10/\",\n",
    "                                        download= False,\n",
    "                                        train = True,\n",
    "                                        transform=transforms.Compose([transforms.ToTensor(),\n",
    "                                                                    transforms.Normalize(images_mean, images_std)]))\n",
    "\n",
    "\n",
    "transformed_cifar10_val = datasets.CIFAR10(\"./datasets/CIFAR_10/\",\n",
    "                                        download= False,\n",
    "                                        train = False,\n",
    "                                        transform=transforms.Compose([transforms.ToTensor(),\n",
    "                                                                    transforms.Normalize(images_mean, images_std)]))\n",
    "\n",
    "# get only the classes of birds and planes\n",
    "label_map = {0:0, 2:1}  # Birds are the zero class in  the dataset and 2 is the class number for planes.\n",
    "class_names = ['airplanes', 'birds']\n",
    "cifar2 = [(img, label_map[label]) for img, label in transformed_cifar10 if label == 0 or label == 2]\n",
    "cifar_2_val = [(img, label_map[label]) for img, label in transformed_cifar10_val if label == 0 or label == 2]"
   ]
  },
  {
   "cell_type": "code",
   "execution_count": 6,
   "metadata": {},
   "outputs": [
    {
     "name": "stdout",
     "output_type": "stream",
     "text": [
      "torch.Size([1, 3, 32, 32]) torch.Size([1, 16, 30, 30])\n"
     ]
    },
    {
     "data": {
      "text/plain": [
       "<matplotlib.image.AxesImage at 0x25b43e74850>"
      ]
     },
     "execution_count": 6,
     "metadata": {},
     "output_type": "execute_result"
    },
    {
     "data": {
      "image/png": "[encoded data removed]",
      "text/plain": [
       "<Figure size 432x288 with 1 Axes>"
      ]
     },
     "metadata": {
      "needs_background": "light"
     },
     "output_type": "display_data"
    }
   ],
   "source": [
    "# Now lets get one image from the cifar2 dataset\n",
    "import plotly.express as px\n",
    "image, _ = cifar2[0]\n",
    "\n",
    "# Now add a batch dimension and input it in the conv2d transformation\n",
    "output = conv(image.unsqueeze(0))\n",
    "\n",
    "# Check the size of the original and output image and plot the images\n",
    "print(image.unsqueeze(0).shape, output.shape)\n",
    "\n",
    "plt.imshow(output[0,0].detach(), cmap='gray')\n"
   ]
  },
  {
   "cell_type": "markdown",
   "metadata": {},
   "source": [
    "Here we can see in the output shape that we have lost a few pixels, how did this happen:\n",
    "1. This is the effect of doing the convolution operation at the boundary, applying the convolution kernel at the position 0,0 at the image means that there is no pixel at the left side of the kernel. We only have pixels at the right and the bottom of the image.\n",
    "2. By default pytorch will slide the kernel at the position `width-kernel_width+1` horizontal and vertical positions. For odd sized kernels it results in images that are (one/half) smaller of the kernel size(3/2=1). This explains the missing two pixels in each side.\n",
    "3. However pytorch gives us the utility of padding the image with ghost pixels (which has 0 value) around the border that have a zero output value as far as convolution operation is concerned. In our case specifying the padding as 1 means that our kernel has one extra pixel to compute the output on the left side corner of the image. The net result is that the output now has the same size as the input.\n",
    "4. For even sized kernels we would have to pad with different numbers on all 4 sides. Pytorch does not offer this functionality in the convolution operation itself, but we have this funcitonality in `torch.nn.functional.pad`, it is best to stay with odd-sized kernels. Even sized kernels are just odd."
   ]
  },
  {
   "cell_type": "code",
   "execution_count": 7,
   "metadata": {},
   "outputs": [
    {
     "name": "stdout",
     "output_type": "stream",
     "text": [
      "torch.Size([1, 16, 32, 32]) torch.Size([3, 32, 32])\n"
     ]
    },
    {
     "data": {
      "text/plain": [
       "<matplotlib.image.AxesImage at 0x25b43f6ae80>"
      ]
     },
     "execution_count": 7,
     "metadata": {},
     "output_type": "execute_result"
    },
    {
     "data": {
      "image/png": "[encoded data removed]",
      "text/plain": [
       "<Figure size 432x288 with 1 Axes>"
      ]
     },
     "metadata": {
      "needs_background": "light"
     },
     "output_type": "display_data"
    }
   ],
   "source": [
    "# Now would see the same operation with padding\n",
    "conv = nn.Conv2d(3, 16, kernel_size = 3, padding = 1)\n",
    "\n",
    "output = conv(image.unsqueeze(0))\n",
    "print(output.shape, image.shape)\n",
    "\n",
    "plt.imshow(output[0][0].detach(), cmap='gray')"
   ]
  },
  {
   "cell_type": "markdown",
   "metadata": {},
   "source": [
    "##### Detecting features with convolutions\n",
    "We know that weights and biases are parameters that are learned through backpropagation. But we can play around and set our own weights and biases and see what happens."
   ]
  },
  {
   "cell_type": "code",
   "execution_count": 8,
   "metadata": {},
   "outputs": [
    {
     "name": "stdout",
     "output_type": "stream",
     "text": [
      "torch.Size([1, 16, 32, 32])\n"
     ]
    },
    {
     "data": {
      "text/plain": [
       "<matplotlib.image.AxesImage at 0x25b43fe57c0>"
      ]
     },
     "execution_count": 8,
     "metadata": {},
     "output_type": "execute_result"
    },
    {
     "data": {
      "image/png": "[encoded data removed]",
      "text/plain": [
       "<Figure size 432x288 with 1 Axes>"
      ]
     },
     "metadata": {
      "needs_background": "light"
     },
     "output_type": "display_data"
    }
   ],
   "source": [
    "# lets start by making the bias as zero and removing an unescessary factor.\n",
    "with torch.no_grad():\n",
    "    conv.bias.zero_()\n",
    "\n",
    "# Now lets set the weigths by initializing to a value.\n",
    "with torch.no_grad():\n",
    "    conv.weight.fill_(1.0/9.0)\n",
    "\n",
    "# we could have gone with conv.one_() which would have resulted in the output pixel value to be sum of all the neighbouring values.\n",
    "\n",
    "# Now lets see the effect this has on our convolution output image\n",
    "output = conv(image.unsqueeze(0))\n",
    "\n",
    "print(output.shape)\n",
    "plt.imshow(output[0,0].detach(), cmap='gray')"
   ]
  },
  {
   "cell_type": "code",
   "execution_count": 9,
   "metadata": {},
   "outputs": [
    {
     "data": {
      "image/png": "[encoded data removed]",
      "text/plain": [
       "<Figure size 900x600 with 3 Axes>"
      ]
     },
     "metadata": {
      "needs_background": "light"
     },
     "output_type": "display_data"
    }
   ],
   "source": [
    "# Now lets try anothe new kernel\n",
    "conv = nn.Conv2d(3,1, kernel_size=3, padding = 1)\n",
    "\n",
    "with torch.no_grad():\n",
    "    conv.weight[:] =  torch.tensor([[-1.0, 0.0, 1.0],\n",
    "                                    [-1.0, 0.0, 1.0],\n",
    "                                    [-1.0, 0.0, 1.0]])\n",
    "    conv.bias.zero_()\n",
    "\n",
    "output_vertical = conv(image.unsqueeze(0))\n",
    "\n",
    "with torch.no_grad():\n",
    "    conv.weight[:] =  torch.tensor([[-1.0, -1.0, 1.0],\n",
    "                                    [0.0, 0.0, 0.0],\n",
    "                                    [1.0, 1.0, 1.0]])\n",
    "    conv.bias.zero_()\n",
    "output_horizontal = conv(image.unsqueeze(0))\n",
    "\n",
    "# plot the images\n",
    "fig, (ax1,ax2,ax3) = plt.subplots(nrows = 1,ncols = 3, sharey = False)\n",
    "ax3.imshow(output_horizontal[0,0].detach(), cmap = 'gray')\n",
    "ax3.set_title('horizontal filter')\n",
    "ax2.imshow(output_vertical[0,0].detach(), cmap='gray')\n",
    "ax2.set_title('vertical filter')\n",
    "ax1.imshow(image[0], cmap = 'gray')\n",
    "ax1.set_title('Before')\n",
    "fig.set_dpi(150)"
   ]
  },
  {
   "cell_type": "markdown",
   "metadata": {},
   "source": [
    "We can see that by using the above kernel weights we only can make out vertical lines, similarly we have also created a filter which can sperate all the horizontal lines. By generating and applying these types of filters we can manually detect features in our image and the job of a computer vision reasercher has been to research a combination of these filters so that the features are highlighted and objects are recognized.\n",
    "##### But where does deep learning come into the picture in identifying kernels.\n",
    "The deep learning algorithm estimates these kernel weights in the manner which is the most effective(make the loss least). For e.g the successive filters from the filterbank that are applied to an image, the neural network estimates the kernel weights of the filters and the different channels of the output image correspond to the different features(one channel for horizontal, vertical edges and diagonal edges, etc.)"
   ]
  },
  {
   "cell_type": "markdown",
   "metadata": {},
   "source": [
    "#### Looking further with Depth and Pooling\n",
    "We have achieved locality and translation invariance. We are using kernels which are 3x3 and 5x5, this takes care of the locality but the problem is what about the big picture. How do we know that all the objects in our picture are 3x3 or 5x5 pixels wide, we don't know because they do. This is something we will need to look into if we want to solve our problem since our images are small the objects have a span of several pixels across. There are two solutions for this problem:\n",
    "1. Using a bigger kernel the max limit for a convolutional kernel for a 32x32 image is 32x32, but using this kernel we would be like making the covolution oepration the same as the fully connected network with the same problems.\n",
    "2. The second option here is to stack one convolution after another and at the same time downsampling the image between successive convolutions.\n",
    "\n",
    "#### From large to small: Downsampling\n",
    "Downsampling could occur in multiple different ways. Scaling the image in half is equivalent to taking the four neighbouring pixels as an input and producing one pixel as the output. How we compute the values of the output is upto us. We could:\n",
    "1. Take the average of the neighbouring pixels to cumpute the output pixel. This is called as `Average Pooling`.\n",
    "2. Take the maximum of the four pixels. This approach is called as `Max Pooling` and the downside of this is that it discards 3/4 of the data.\n",
    "3. Perform a strided convolution where every nth pixel is calculated. A 3x4 convolution with a stride of 2 still incorporates the inputs of all pixels from the previous layer. It is a good approach but it still has not surpassed max pooling.\n",
    "We will focus on maxpooling. Intuitively what is happening here is that after the convolution operation the outputs are passed through the activation function which further highlights the features captured by the kernels in the image. Then what happens is that we keep the maximum of those 2x2 pixel values and ensure that the feature which was highlighted the most survives the downsampling step at the expense of other steps.\\\n",
    "Max pooling is provided by nn.Maxpool2d().It takes the input size of the neighbourhood on which to operate the pooling operation. If we wish to downsample our image by half we should use a size of 2."
   ]
  },
  {
   "cell_type": "code",
   "execution_count": 10,
   "metadata": {},
   "outputs": [
    {
     "name": "stdout",
     "output_type": "stream",
     "text": [
      "torch.Size([3, 32, 32]) torch.Size([1, 3, 16, 16])\n"
     ]
    }
   ],
   "source": [
    "# Lets see Maxpool2d in action\n",
    "maxpool = nn.MaxPool2d(kernel_size=2)\n",
    "output = maxpool(image.unsqueeze(0))\n",
    "print(image.shape, output.shape)"
   ]
  },
  {
   "cell_type": "markdown",
   "metadata": {},
   "source": [
    "So what happens when we combine these two features is that, the first set of kernels which operates on a 8x8 image captures small features like edges, vertical lines etc, and then the maxpooling happens which downsamples the image so that now only the highlighted features of the image are in focus. The as we are using the same kernel size but the size of the image has been reduced the next kernel now captures more high level features of the image which are a combination of the previous features. `This combination allows the convolution network to see very complex scenes and can be used in a wide variety of tasks like time-series forecasting, NLP etc and not only in Image recognition and it can also figure out much compelx images than a 32x32 cifar10 image.`"
   ]
  },
  {
   "cell_type": "markdown",
   "metadata": {},
   "source": [
    "##### Putting it altogether for our Network\n",
    "Now that we have the building blocks we can put these building blocks to use and make our network which can classify the images of the birds and the planes. We will make a model that has both the convolution operation and the linear layers because the convolution operation outputs the image as multi channel 2D image but to give the input for the log-likelihood loss function as plane or a bird we need the output to be a 1D vector of probabilites.\\\n",
    "So now we need to take this multi-channel image and convert it to a 1D vector of probabilities for it to be input to the log-likelihood loss function and complete our network with a set of fully-connected layers."
   ]
  },
  {
   "cell_type": "code",
   "execution_count": 11,
   "metadata": {},
   "outputs": [],
   "source": [
    "from typing import OrderedDict\n",
    "\n",
    "\n",
    "model = nn.Sequential(OrderedDict([\n",
    "    ('conv2d_1',nn.Conv2d(3, 16, kernel_size=3, padding=1)),\n",
    "    ('Activation_1', nn.Tanh()),\n",
    "    (\"maxpooling2d_1\", nn.MaxPool2d(2)),\n",
    "    ('conv2d_2', nn.Conv2d(16,8, kernel_size = 3, padding = 1)),\n",
    "    ('Activation_2', nn.Tanh()),\n",
    "    ('Maxpooling2d_2', nn.MaxPool2d(2)),\n",
    "    # This model also has one layer here which convert the 2D image with multiple channels to a 1D vector required by the linear layer\n",
    "    (\"linear Layer_1\", nn.Linear(8*8*8, 32)),\n",
    "    (\"Activation_3\", nn.Tanh()),\n",
    "    (\"Output_layer\", nn.Linear(32,2))\n",
    "]))"
   ]
  },
  {
   "cell_type": "markdown",
   "metadata": {},
   "source": [
    "We can see that the size of the first linear layer is dependent upon the output of the Maxpool2d layer i.e `8*8*8 = 512`."
   ]
  },
  {
   "cell_type": "code",
   "execution_count": 12,
   "metadata": {},
   "outputs": [
    {
     "name": "stdout",
     "output_type": "stream",
     "text": [
      "18090 [432, 16, 1152, 8, 16384, 32, 64, 2]\n"
     ]
    }
   ],
   "source": [
    "# lets check the number of parameters in the mode\n",
    "parameters = [p.numel() for p in model.parameters()]\n",
    "print(sum(parameters), parameters)"
   ]
  },
  {
   "cell_type": "markdown",
   "metadata": {},
   "source": [
    "The number of parameters of the model is 18090 which is very reasonable for such small dataset of 32x32 images. In order to increase the capacity of the model we would increase the number of output channels of the convolutional layers, which would increase the linear layer size as well.\n",
    "`We put the warning text, for a reason. This model has zero chance of running`"
   ]
  },
  {
   "cell_type": "code",
   "execution_count": 13,
   "metadata": {},
   "outputs": [],
   "source": [
    "# These two lines were used to run the model defined above but the model will not run because it is missing some parts which is explained below.\n",
    "# output = model(image.unsqueeze(0))\n",
    "# output"
   ]
  },
  {
   "cell_type": "markdown",
   "metadata": {},
   "source": [
    "What is missing here is the conversion of the `8*8*8` image into a 512 element 1D vector. This could be achieved by calling view on the last nn.Maxpool2D, but unfortunately we do not have explicit visibilty of the output of each module when we use nn.Sequential."
   ]
  },
  {
   "cell_type": "markdown",
   "metadata": {},
   "source": [
    "#### Subclassing the nn.module\n",
    "Sometimes when building a Neural Network we stumble across a problem where we want to compute something that the premade modules do not cover. Here it is a very simple thing  like reshaping, but further along we would like to implement residual connections. So in this section we would build our own nn.Module subclass so that we can use them like the prebuilt ones with added functionality or in nn.Sequential.\n",
    "1. When we want to build models that do many other things other than only applying many layers one after another, we need to leave nn.Sequential for something that gives us additional stability. Pytorch allows us to use any computation in our model by subcalssing the nn.Module.\n",
    "2. In order to subclass the nn.module we need to define both the forward pass of the network which takes in the inputs and return the outputs, and typically we need to define the backward pass also but if we use the standard pytorch operation we do not need to define the backwards function. Pytorch takes care of the backward pass.\n",
    "3. Typically our defined computation would make use of other premade modules like the convolution or other modules. To use these submodules we typically define them in the constructor `__init__` and assign them to self for use in the forward function. Remember you need to call `super().__init__()` before you can do that(you need to import the constructor of the nn.Submodule use its predefined functionality and add your own to it. Super takes care of importing of all the functionality of the base class and you can just add the enhancement and get it working)\\\n",
    "`Note : ommiting the flatten layer was a design choice. Recently pytorch gained the nn.flatter layer(version 1.3)`"
   ]
  },
  {
   "cell_type": "code",
   "execution_count": 14,
   "metadata": {},
   "outputs": [],
   "source": [
    "# Our network as an nn.Module\n",
    "# To do this we define all the layers we defined in our model in the constructor and then use their instances one after another in forward\n",
    "\n",
    "class Net(nn.Module):\n",
    "    def __init__(self):\n",
    "        # define the layers of your custom model in the constructor\n",
    "        super().__init__()  # Makes all the other methods of nn.Module avaible for use\n",
    "        self.conv1 = nn.Conv2d(3, 16, kernel_size = 3, padding = 1)\n",
    "        self.act1 = nn.Tanh()\n",
    "        self.maxpool1 = nn.MaxPool2d(2)\n",
    "        self.conv2 = nn.Conv2d(16, 8, kernel_size = 3, padding = 1)\n",
    "        self.act2 = nn.Tanh()\n",
    "        self.maxpool2 = nn.MaxPool2d(2)\n",
    "        self.linear1 = nn.Linear(8*8*8, 32)\n",
    "        self.act3 = nn.Tanh()\n",
    "        self.output = nn.Linear(32,2)\n",
    "    \n",
    "    def forward(self, x):\n",
    "        out = self.maxpool1(self.act1(self.conv1(x)))\n",
    "        out = self.maxpool2(self.act2(self.conv2(x)))\n",
    "        out = out.view(-1, 8*8*8)  # This is the reshaping step that we were missing earlier. reshape into a row vecotr with shape (1,8*8*8)\n",
    "        out = self.act3(self.linerar1(out))\n",
    "        out = self.linear2(out)\n",
    "        return out"
   ]
  },
  {
   "cell_type": "markdown",
   "metadata": {},
   "source": [
    "The Net model is equivalent to our model that we defined earlier in our nn.Sequential class with the adden flatten step(which was not provided in the Sequential model) but here we can manipulate the output of maxpool2 directly and can call the out.view() method on the tensor to change its shape into a BxN vector so that it can be inputted to the first fully connected layer. We leave the batch dimension as -1 because we do not know the size of the batch.\\\n",
    "Recall that the goal of the classification network is to typically compress information in the sense that we start with a sizable number of pixels and we reach an output vector of probabilites. Our goal is reflected in the design of the architecture.\n",
    "1. It is done by reducing the number of channels in the convolution operation.\n",
    "2. It is done by reducing the size of the pixels in the pooling operation.\n",
    "3. It is done by reducing the number of hidden neurons in the fully connected layers.\\\n",
    "This is being done to compress the information and make predictions on only the most important information in the whole image, and this is a common trait of classification networks, but in some other architectures only the resolution is reduces while increasing the number of channels(still resulting in a reduction in size). It seems that the pattern of fast information reduction works well with shallow networks and smaller images but is not suitable for deeper networks, but the first layer is exceptional in such a way that it greatly increases the overall dimension."
   ]
  },
  {
   "cell_type": "markdown",
   "metadata": {},
   "source": [
    "##### How pytorch keeps track of parametes of user defined submodules.\n",
    "Interestingly in pytroch, `assigning an instance of the nn.Module(the linear and conv layers) to the attribute of nn.Module automatically registers the module as submodule`.\\\n",
    "`Note : The attributes of the nn.Module should be a top-level attribute, not a list or a dict of submodule instances, otherwise the optimizer will not be able to locate the paramters of the instances. For instances where your model needs a list/dict of submodules, pytorch provides nn.ModuleList and nn.ModuleDict classes`.\\\n",
    "We can define and call some arbitrary methods of nn.Module subclass. For eg. if the model has a different functionality when predciting then it will make sense to define a predict method and use that to predict. But doing so is like calling the forward method instead of the calling the module as a function by the call method(it runs without intiating the accessory methods such as hooks and the JIt does not check the model structure because we do not have `__call__`).\\\n",
    "This allows the Net to have access to the parameters of its submodules without further action by the user."
   ]
  },
  {
   "cell_type": "code",
   "execution_count": 16,
   "metadata": {},
   "outputs": [
    {
     "name": "stdout",
     "output_type": "stream",
     "text": [
      "18090 [432, 16, 1152, 8, 16384, 32, 64, 2]\n"
     ]
    }
   ],
   "source": [
    "# lets define the model\n",
    "model = Net()\n",
    "\n",
    "# lets get the parameters to check of our subclass model if we have the same number of parameters\n",
    "paramters = [p.numel() for p in model.parameters()]\n",
    "print(sum(paramters), parameters)"
   ]
  },
  {
   "cell_type": "markdown",
   "metadata": {},
   "source": [
    "We can see by comparing both the models that the number of parameters is the same (which means that pytorch is discovering the parameters of all the layers) as the previous model that we defined(because we just added a flatten layer which just reshapes the tensor we did not introduce any extra parameters)"
   ]
  },
  {
   "cell_type": "markdown",
   "metadata": {},
   "source": [
    "So what is happening is here is that we call the parameters on the instance of the Net() class, it recursively calls the parameters() on all the instances of the submodules defined as attributes of the net class(no matter how nested), and in the same way for all the submodules the grad attribute (which has been populated by autograd) is also found and updated to minimize the loss."
   ]
  },
  {
   "cell_type": "markdown",
   "metadata": {},
   "source": [
    "`By now we know the utility of creating our own subclass of the nn.Module and looking into the constructor of the subclass we can see that we have defined submodules as attributes so that their parameters can be accessed by pytorch at runtime, but we are also defining those submodules which do not have parameters of their own like nn.Tanh() and nn.Maxpool2d(). It would be good if instead of defining the submodules in constructor we could just call them in the forward method just as we called the view() method.`"
   ]
  },
  {
   "cell_type": "markdown",
   "metadata": {},
   "source": [
    "##### The functional API: \n",
    "The solution to the problem defined above is the pytorch `Functional API`. Every nn.Module has its functional counterpart, and by functional we mean `having no internal state (whose output is solely determined by the value of it's inputs)`. Indeed `torch.nn.functinal` provides many functions that work like modules we find in nn. But instead of working on inputs and parameters stored like the module counterparts they accept inputs and paramters as arguments to the function call. For instance `nn.Linear` has `nn.functional.linear` which has a function signature as `linear(inputs, weight, bias = None)` which indicates that it accepts the inputs and weights and biases as arguments"
   ]
  },
  {
   "cell_type": "markdown",
   "metadata": {},
   "source": [
    "Back to the model it seems to make sense to define the conv2d and linear layers as modules because pytorch can keep track of parameters on its own, however we can safely switch to functional counterparts for  pooling and activations since they have no parameters."
   ]
  },
  {
   "cell_type": "code",
   "execution_count": 11,
   "metadata": {},
   "outputs": [],
   "source": [
    "# lets define our new model using the mix of fucntional api and the subclassing module\n",
    "\n",
    "import torch.nn.functional as F\n",
    "\n",
    "class Net(nn.Module):\n",
    "    def __init__(self):\n",
    "        super().__init__()\n",
    "        self.conv1 = nn.Conv2d(3, 16, kernel_size=3, padding=1)\n",
    "        # tanh will be defined by the functional API in forward\n",
    "        # maxpool will be defined by the functional API in the forward method\n",
    "        self.conv2 = nn.Conv2d(16,8, kernel_size = 3, padding = 1)\n",
    "        # tanh will be defined by the functional API in forward\n",
    "        # maxpool will be defined by the functional API in the forward method\n",
    "        self.fc1  = nn.Linear(8*8*8, 32)\n",
    "        # tanh will be defined by the functional API in forward\n",
    "        self.fc2 = nn.Linear(32,2)\n",
    "    \n",
    "    def forward(self, x):\n",
    "        \"\"\" Here we would define the steps of the computation and also the tanh and maxpool layers. x is the input\"\"\"\n",
    "\n",
    "        out = F.max_pool2d(torch.tanh(self.conv1(x)), 2)\n",
    "        out = F.max_pool2d(torch.tanh(self.conv2(out)), 2)\n",
    "        out = out.view(-1, 8*8*8)\n",
    "        out = torch.tanh(self.fc1(out))\n",
    "        out = self.fc2(out)\n",
    "        return out"
   ]
  },
  {
   "cell_type": "markdown",
   "metadata": {},
   "source": [
    "This is way more concise than the full definition of the class. But if the layer requires more arguments then it would be best to define it in the constructor. Thus the functional module also sheds light on what the nn.Module API is all about. A module is a container for state in the forms of parameters and submodules combined with the instructions to do a forward.\\\n",
    "Using either of the functional API's or modular API's is a matter of prefernce according to the situation."
   ]
  },
  {
   "cell_type": "code",
   "execution_count": 20,
   "metadata": {},
   "outputs": [
    {
     "name": "stdout",
     "output_type": "stream",
     "text": [
      "tensor([[-0.2459, -0.0383]], grad_fn=<AddmmBackward0>)\n"
     ]
    }
   ],
   "source": [
    "# lets check if out model run \n",
    "model = Net()\n",
    "image, _  = cifar2[88]\n",
    "output = model(image.unsqueeze(0))\n",
    "print(output)"
   ]
  },
  {
   "cell_type": "markdown",
   "metadata": {},
   "source": [
    "We got two numbers. Then we are certain that the information flows correctly and we have got the correct number of outputs. We might realize it right now but in more complex models the getting the size of the first linear layer is sometimes a source of frustration, even famous practitioners rely on putting arbitrary values and backtracking from the output to get to the correct input shapes. "
   ]
  },
  {
   "cell_type": "markdown",
   "metadata": {},
   "source": [
    "#### Training our Convnet\n",
    "We are not a point where we can train our convnet and see the results that it produces as compared to our linear classifier. The training loop stays the same as our linear classifier with the addition of accuracy in the mix to monitor the performance of our model."
   ]
  },
  {
   "cell_type": "markdown",
   "metadata": {},
   "source": [
    "Recall that the core of our convnet has two loop, one for epochs and another for the dataloader for going over the batches. Now lets define our loop."
   ]
  },
  {
   "cell_type": "code",
   "execution_count": 8,
   "metadata": {},
   "outputs": [
    {
     "name": "stdout",
     "output_type": "stream",
     "text": [
      "2022-10-10 16:28:43.519214 --> Epoch : 1 | Train Loss : 0.5349392931872663\n",
      "2022-10-10 16:29:48.247175 --> Epoch : 20 | Train Loss : 0.25915760461229104\n",
      "2022-10-10 16:31:00.092121 --> Epoch : 40 | Train Loss : 0.19767980106151142\n",
      "2022-10-10 16:32:11.808920 --> Epoch : 60 | Train Loss : 0.14398290847722714\n",
      "2022-10-10 16:33:23.212315 --> Epoch : 80 | Train Loss : 0.09548568038549572\n",
      "2022-10-10 16:34:34.248517 --> Epoch : 100 | Train Loss : 0.058353324399921844\n",
      "2022-10-10 16:35:45.325411 --> Epoch : 120 | Train Loss : 0.03499921111571498\n",
      "2022-10-10 16:36:56.069209 --> Epoch : 140 | Train Loss : 0.022086896718637394\n",
      "2022-10-10 16:38:07.206457 --> Epoch : 160 | Train Loss : 0.01486979045432073\n",
      "2022-10-10 16:39:18.780834 --> Epoch : 180 | Train Loss : 0.010584756161440343\n",
      "2022-10-10 16:40:29.568234 --> Epoch : 200 | Train Loss : 0.007932323896989654\n"
     ]
    }
   ],
   "source": [
    "# import datetime for monitoring time\n",
    "import datetime\n",
    "\n",
    "# Instantiate the model\n",
    "convnet = Net()\n",
    "\n",
    "# Initlaize the dataloader\n",
    "train_dataloader = torch.utils.data.DataLoader(cifar2, batch_size= 32, shuffle = False)\n",
    "val_dataloader = torch.utils.data.DataLoader(cifar_2_val, batch_size = 32, shuffle = False)\n",
    "\n",
    "# Intialize loss function\n",
    "cross_ent_loss_fn = nn.CrossEntropyLoss()\n",
    "\n",
    "# Initlaize the optimizer\n",
    "optimizer_sgd = optim.SGD(convnet.parameters(), lr = 1e-2)\n",
    "\n",
    "# define the training loop\n",
    "def training_loop(n_epochs, model, optimizer, loss_fn, train_data, val_data):\n",
    "    for epoch in range(1,n_epochs+1):\n",
    "        loss_train = 0.0  # Initialize the loss for each epoch\n",
    "        loss_val = 0.0\n",
    "        for image, label in train_data:\n",
    "            # carry out the forward pass\n",
    "            # This does not require us to reshape the image with batch_size because the train_loader already give batches.\n",
    "            pred = model(image)\n",
    "\n",
    "            # compute the training loss per batch\n",
    "            loss = loss_fn(pred, label)\n",
    "\n",
    "            # compute the validation loss and the accuracy\n",
    "            # with torch.no_grad():\n",
    "            #     for val_image, val_label in val_data:\n",
    "            #         val_pred = model(val_image)\n",
    "            #         val_loss = loss_fn(val_pred, val_label)\n",
    "            #          # This transforms the val_loss from a tensor to a python number which is nescessary to escape gradients.\n",
    "            #         loss_val += val_loss.item()\n",
    "\n",
    "            # zero out the gradients of the optimizer\n",
    "            optimizer.zero_grad()\n",
    "            # carry out backward pass\n",
    "            loss.backward()\n",
    "            # carry out the optimizer step\n",
    "            optimizer.step()\n",
    "\n",
    "            # This transforms the loss from a tensor to a python number which is nescessary to escape gradients\n",
    "            loss_train += loss.item() \n",
    "\n",
    "        # print the training loss, validation loss, accuracy per epoch\n",
    "        if epoch == 1 or epoch %20 == 0:\n",
    "            print(f\"{datetime.datetime.now()} --> Epoch : {epoch} | Train Loss : {loss_train/len(train_data)}\")\n",
    "\n",
    "\n",
    "# Run the training loop\n",
    "training_loop(n_epochs = 200,\n",
    "             model = convnet,\n",
    "             optimizer = optimizer_sgd, \n",
    "             loss_fn=cross_ent_loss_fn, \n",
    "             train_data= train_dataloader, \n",
    "             val_data=val_dataloader)"
   ]
  },
  {
   "cell_type": "markdown",
   "metadata": {},
   "source": [
    "`Now we can see from the above output that the network has been trained to a very low loss, but that nescessarily does not mean that the accuracy of the network on unseen images is high also.`\\\n",
    "So we could find out the accuracy of our model by running the model against the training and the validation sets and see the accuracy."
   ]
  },
  {
   "cell_type": "code",
   "execution_count": 9,
   "metadata": {},
   "outputs": [
    {
     "name": "stdout",
     "output_type": "stream",
     "text": [
      "train Accuracy : 0.9992\n",
      "validation Accuracy : 0.8955\n"
     ]
    }
   ],
   "source": [
    "def validate(model, train_data, val_data):\n",
    "    for name, loader in [(\"train\",train_data), ('validation', val_data)]:\n",
    "        correct = 0\n",
    "        total = 0\n",
    "\n",
    "        with torch.no_grad():\n",
    "            for image, label in loader:\n",
    "                pred = model(image)\n",
    "\n",
    "                _, predicted = torch.max(pred, dim=1)\n",
    "                total += label.shape[0]\n",
    "                correct += int((predicted==label).sum())\n",
    "\n",
    "        print(f\"{name} Accuracy : {correct/total}\")\n",
    "\n",
    "validate(convnet, train_data= train_dataloader, val_data = val_dataloader)"
   ]
  },
  {
   "cell_type": "markdown",
   "metadata": {},
   "source": [
    "Thats quite better than our linear model which could only achieve an accuracy of around 81% on the validation set. This achieves better performance with lesser number of parameters. Lets run it for a few more epochs and see what performance we could squeeze out.\\\n",
    "Model trained till 100 epochs --> 88.15 % val accuracy and 96.03 % train accuracy\\\n",
    "Model trained till 200 epochs --> 89.55 % val accuracy and 99.92% train accuracy\\\n",
    "Anlyzing the above sentences we can see that the model trained on 200 epochs has overfitted the data and could not generalize better even though it's loss is very low."
   ]
  },
  {
   "cell_type": "markdown",
   "metadata": {},
   "source": [
    "#### Saving and loading our model\n",
    "Since we are satisfied with our progress we can save our model, so that we can load the weights for inference without having to train the model again. This is very useful if we have a very large model which takes a long time to train.\n",
    "But pytorch only save the weights of the model and not the model structure."
   ]
  },
  {
   "cell_type": "code",
   "execution_count": 16,
   "metadata": {},
   "outputs": [],
   "source": [
    "path = \"./saved_models/\"\n",
    "torch.save(convnet.state_dict(), path+\"birds_vs_airplanes.pt\")"
   ]
  },
  {
   "cell_type": "markdown",
   "metadata": {},
   "source": [
    "Pytorch just saves the weights of the convnet. If we want to use the model again we would need to define the model architecture, instantiate a convnet object and load the weights into the model."
   ]
  },
  {
   "cell_type": "code",
   "execution_count": 17,
   "metadata": {},
   "outputs": [
    {
     "data": {
      "text/plain": [
       "<All keys matched successfully>"
      ]
     },
     "execution_count": 17,
     "metadata": {},
     "output_type": "execute_result"
    }
   ],
   "source": [
    "# Lets load the saved model\n",
    "loaded_model = Net()\n",
    "loaded_model.load_state_dict(torch.load(path+\"birds_vs_airplanes.pt\"))"
   ]
  },
  {
   "cell_type": "code",
   "execution_count": null,
   "metadata": {},
   "outputs": [],
   "source": []
  },
  {
   "cell_type": "markdown",
   "metadata": {},
   "source": [
    "The all keys matched succesfully message shows that our model has been loaded successfully."
   ]
  },
  {
   "cell_type": "markdown",
   "metadata": {},
   "source": [
    "### Training the model on the GPU\n",
    "We have trained the model and saved it the memory, now whenever we want to use our model we can just use the saved weights to perform inference.\n",
    "1. Training on the GPU makes the model training faster. We can use the .to() method to move our tensors of the dataloader to the GPU, after which the computation will automatically take place. But we also need to move our parameters() tensor to the GPU. The nn.Module impelements a .to() function which transfers its parameters to the GPU.\n",
    "2. There is subtle difference between `nn.module.to()` and `tensor.to()` methods. The module.to() method modifies the module instance inplace, but the tensor.to() returns a new tensor. \n",
    "3. `One good practice is to create the optimizer after moving the parameter tensors to the appropriate device.`\n",
    "4. `It is good practice to use a GPU if one is available. A good pattern is to use a GPU or CPU depending upon torch.cuda.is_available()`"
   ]
  },
  {
   "cell_type": "code",
   "execution_count": 5,
   "metadata": {},
   "outputs": [
    {
     "name": "stdout",
     "output_type": "stream",
     "text": [
      "Training on device cuda\n"
     ]
    }
   ],
   "source": [
    "device = (torch.device('cuda') if torch.cuda.is_available() else torch.device('cpu'))\n",
    "print(f\"Training on device {device}\")"
   ]
  },
  {
   "cell_type": "markdown",
   "metadata": {},
   "source": [
    "Then we can update our code with the line which transfer the dataloader to the GPU using the tensor.to() method. It is a very small change, just two lines of code. We would also need to move our model instance to the GPU also and "
   ]
  },
  {
   "cell_type": "code",
   "execution_count": 12,
   "metadata": {},
   "outputs": [
    {
     "name": "stdout",
     "output_type": "stream",
     "text": [
      "2022-10-12 07:06:45.962364 --> Epoch : 1 | Train Loss : 0.537982549911109 | Val Loss : 0.46123253494974165\n",
      "2022-10-12 07:07:07.496024 --> Epoch : 20 | Train Loss : 0.26882070379135325 | Val Loss : 0.2892750169313143\n",
      "2022-10-12 07:07:29.329909 --> Epoch : 40 | Train Loss : 0.2077372375601968 | Val Loss : 0.2704237648655498\n",
      "2022-10-12 07:07:50.313408 --> Epoch : 60 | Train Loss : 0.15647608473801766 | Val Loss : 0.27687373851972913\n",
      "2022-10-12 07:08:11.531732 --> Epoch : 80 | Train Loss : 0.10731856414554314 | Val Loss : 0.3035459849569533\n",
      "2022-10-12 07:08:32.837458 --> Epoch : 100 | Train Loss : 0.0660671279661524 | Val Loss : 0.336388751036591\n"
     ]
    }
   ],
   "source": [
    "# import datetime for monitoring time\n",
    "import datetime\n",
    "\n",
    "# One important thing to realize is to instantiate the optimizer and the model afterdefining the training loop and moving the data to the tensor\n",
    "\n",
    "# define the training loop\n",
    "def training_loop(n_epochs, model, optimizer, loss_fn, train_data, val_data):\n",
    "    for epoch in range(1,n_epochs+1):\n",
    "        loss_train = 0.0  # Initialize the loss for each epoch\n",
    "        loss_val = 0.0\n",
    "        for image, label in train_data:\n",
    "            # Move the images and labels to the GPU. This is the only step which makes the model train on the GPU. \n",
    "            image = image.to(device=device)\n",
    "            label = label.to(device = device)\n",
    "\n",
    "\n",
    "            # carry out the forward pass\n",
    "            # This does not require us to reshape the image with batch_size because the train_loader already give batches.\n",
    "            pred = model(image)\n",
    "\n",
    "            # compute the training loss per batch\n",
    "            loss = loss_fn(pred, label)\n",
    "\n",
    "            # zero out the gradients of the optimizer\n",
    "            optimizer.zero_grad()\n",
    "            # carry out backward pass\n",
    "            loss.backward()\n",
    "            # carry out the optimizer step\n",
    "            optimizer.step()\n",
    "\n",
    "            # This transforms the loss from a tensor to a python number which is nescessary to escape gradients\n",
    "            loss_train += loss.item() \n",
    "        # compute the validation loss and the accuracy\n",
    "        with torch.no_grad():\n",
    "            for val_image, val_label in val_data:\n",
    "                # move the tensors of the loader to the GPU.\n",
    "                # This step was added after we trained once on the GPU without the validation step with a training time of 3m.\n",
    "                val_image = val_image.to(device = device)\n",
    "                val_label = val_label.to(device = device)\n",
    "                val_pred = model(val_image)\n",
    "                val_loss = loss_fn(val_pred, val_label)\n",
    "                # This transforms the val_loss from a tensor to a python number which is nescessary to escape gradients.\n",
    "                loss_val += val_loss.item()\n",
    "        # print the training loss, validation loss, accuracy per epoch\n",
    "        if epoch == 1 or epoch %20 == 0:\n",
    "            print(f\"{datetime.datetime.now()} --> Epoch : {epoch} | Train Loss : {loss_train/len(train_data)} | Val Loss : {loss_val/len(val_data)}\")\n",
    "\n",
    "\n",
    "# This step of defining the model and optimizer after the data_loader has been moved to the GPU is only applicable when using a GPU\n",
    "# Instantiate the model\n",
    "convnet = Net().to(device=device)  # The .to(device = 'cuda') move the model to the GPU.\n",
    "\n",
    "# Initlaize the dataloader\n",
    "train_dataloader = torch.utils.data.DataLoader(cifar2, batch_size= 32, shuffle = False)\n",
    "val_dataloader = torch.utils.data.DataLoader(cifar_2_val, batch_size = 32, shuffle = True)\n",
    "\n",
    "# Intialize loss function\n",
    "cross_ent_loss_fn = nn.CrossEntropyLoss()\n",
    "\n",
    "# Initlaize the optimizer\n",
    "optimizer_sgd = optim.SGD(convnet.parameters(), lr = 1e-2)\n",
    "\n",
    "\n",
    "# Run the training loop\n",
    "training_loop(n_epochs = 100,\n",
    "             model = convnet,\n",
    "             optimizer = optimizer_sgd, \n",
    "             loss_fn=cross_ent_loss_fn, \n",
    "             train_data= train_dataloader, \n",
    "             val_data=val_dataloader)"
   ]
  },
  {
   "cell_type": "markdown",
   "metadata": {},
   "source": [
    "We can see that the training on the GPU took around 3 min(without the validation step) while training the same thing on the CPU took around 12 min(without the validation step). This difference might not be very significant because we have a very small dataset, but it is very significant when we have a larger model and a larger dataset."
   ]
  },
  {
   "cell_type": "markdown",
   "metadata": {},
   "source": [
    "The training with the validation set for 100 epochs was done in 3 min on the GPU. This shows how much a GPU is faster."
   ]
  },
  {
   "cell_type": "code",
   "execution_count": 13,
   "metadata": {},
   "outputs": [
    {
     "name": "stdout",
     "output_type": "stream",
     "text": [
      "train Accuracy : 0.9643\n",
      "validation Accuracy : 0.8885\n"
     ]
    }
   ],
   "source": [
    "# lets check the training and the validation accuracy of the model by performing the computations on the GPU\n",
    "def validate(model, train_data, val_data):\n",
    "    for name, loader in [(\"train\",train_data), ('validation', val_data)]:\n",
    "        correct = 0.0\n",
    "        total = 0.0\n",
    "\n",
    "        with torch.no_grad():\n",
    "            for image, label in loader:\n",
    "                image = image.to(device=device)\n",
    "                label = label.to(device=device)\n",
    "                pred = model(image)\n",
    "\n",
    "                _, predicted = torch.max(pred, dim=1)\n",
    "                # predicted = predicted.to(device=device)\n",
    "                total += label.shape[0]\n",
    "                correct += (predicted==label).sum().item()\n",
    "\n",
    "        print(f\"{name} Accuracy : {correct/total}\")\n",
    "\n",
    "validate(convnet, train_data= train_dataloader, val_data = val_dataloader)"
   ]
  },
  {
   "cell_type": "markdown",
   "metadata": {},
   "source": [
    "##### Loading the weights of a trained model on the GPU\n",
    "There is a slight complication when trying to load the weights of the model on the GPU. By default pytorch will load the weights on the same device that the weights were saved from i.e. `If the weights were saved from the GPU pytorch will load the weights to the GPU.` As we do not know that the GPU would be available at all times, we could move the parameters to the CPU before saving it and move them back to the GPU after loading them back.\n",
    "It is super easy to instruct pytorch to load chose the device while loading the weights. This is done by passing the `map_location` keyword argument to the torch.load()."
   ]
  },
  {
   "cell_type": "code",
   "execution_count": 17,
   "metadata": {},
   "outputs": [
    {
     "data": {
      "text/plain": [
       "<All keys matched successfully>"
      ]
     },
     "execution_count": 17,
     "metadata": {},
     "output_type": "execute_result"
    }
   ],
   "source": [
    "# lets try to load the model and the parameters of our saved model directly to the GPU\n",
    "path = \"./saved_models/\"\n",
    "loaded_model = Net().to(device=device)\n",
    "loaded_model.load_state_dict(torch.load(path+\"birds_vs_airplanes.pt\", map_location = device))"
   ]
  },
  {
   "cell_type": "markdown",
   "metadata": {},
   "source": [
    "#### Model Design\n",
    "We have now developed a good understanding on how to design the a CNN model by subclassing the nn.Module and implementing the forward pass of the model(pytorch takes care of the backward pass). Now we will see how to design models for more complex data in varied fields and learn how to get the basics of models and other tricks for better models in the real-world. This would help us to implement research papers from scratch and read other peoples codes.\\\n",
    "We would learn some real-world techniques of sqeezing performance like\n",
    "1. Batch-Normalization\n",
    "2. Dropout\n",
    "3. Regulariation\n",
    "4. Adding  `Capcaity(fitting more complex data)` and `Depth(better feature extraction)` to our models.\n"
   ]
  },
  {
   "cell_type": "markdown",
   "metadata": {},
   "source": [
    "##### Adding Memory Capacity : Width\n",
    "Given our feedforward architecture there is a number of things that we would like to look upon. The first is the `width` of the network or `the number of hidden neurons` or `The number of channels per convolution`. This can be done very easily, we just specify a greater number of channels and adjust the later layers accoringly and also change the forward function to take care of the larger vector when we switch to fully connected layers."
   ]
  },
  {
   "cell_type": "code",
   "execution_count": 3,
   "metadata": {},
   "outputs": [],
   "source": [
    "# lets define a wider model\n",
    "\n",
    "import torch.nn.functional as F\n",
    "class WideNet(nn.Module):\n",
    "    def __init__(self):\n",
    "        super().__init__()\n",
    "        self.conv1 = nn.Conv2d(3,32, kernel_size = 3, padding = 1)\n",
    "        self.conv2 = nn.Conv2d(32,16, kernel_size = 3, padding = 1)\n",
    "        self.fc1  = nn.Linear(16*8*8, 32)\n",
    "        self.fc2 = nn.Linear(32,2)\n",
    "    \n",
    "    def forward(self, x):\n",
    "        out = F.max_pool2d(torch.tanh(self.conv1(x)),2)\n",
    "        out = F.max_pool2d(torch.tanh(self.conv2(out)),2)\n",
    "        out = out.view(-1, 16*8*8)\n",
    "        out = torch.tanh(self.fc1(out))\n",
    "        out = self.fc2(out)\n",
    "        return out\n"
   ]
  },
  {
   "cell_type": "markdown",
   "metadata": {},
   "source": [
    "If we do not want to hardcode the numbers we can easily pass in the argument to init to parameterize the width, taking care to also parameterize the view of the flattening of the tensor."
   ]
  },
  {
   "cell_type": "code",
   "execution_count": 26,
   "metadata": {},
   "outputs": [
    {
     "name": "stdout",
     "output_type": "stream",
     "text": [
      "38386\n"
     ]
    }
   ],
   "source": [
    "# now we can check the number of parameters a model has with the numel function.\n",
    "wide_model = WideNet()\n",
    "paramters = [p.numel() for p in wide_model.parameters()]\n",
    "print(sum(paramters))"
   ]
  },
  {
   "cell_type": "markdown",
   "metadata": {},
   "source": [
    "We can see that the wide model has greater number of parameters(38386) while the previous one had only 18090. A bigger model can fit more complex images(images with more variablity) but it is more likely to overfit the data since it uses the greater number of parameters to memorize the unessential things of the model. There are a few other tricks that we can use to tackle overiftting (like regularization, dropout)."
   ]
  },
  {
   "cell_type": "markdown",
   "metadata": {},
   "source": [
    "##### Helping the model converge and generalize : Regularization\n",
    "Training involves two step, the first is `optimization(decreasing the loss)` and the second is `generalization(making correct predictions on unseen data)`. Combining these steps is called as `Regularization`.\n",
    "##### Keeping the parameters in check : Weight Penalties\n",
    "The first way to regularize is to add the regularization term to the loss. This makes it so that the weights of the model tend to be small on their own, limiting to how much they can grow i.e it penalises larger weight values. This makes for a smoother loss function topography and there is relatively less to gain from individual samples. The most common of the regularization techniques is \n",
    "1. L2 Regularizatin : This is sum of the squares of all the weights of the network.\n",
    "2. L1 Regulariation : This is sum of the absolute values all the weights of the network. It is also scaled(by a small number) by a hyperparameter which is decided prior to the training.\\\n",
    "We will focus on L2 regularization here, L1 regularization has the property of training very sparse weights.\\\n",
    "L2 regularization is also referred to as weight decay in the sense that the negative gradient of l2 regularization w.r.t a term w_i is shown as (`-2*lambda*w_i`) where lambda is the aforementioned hyperparameter simply referred to as weight decay in Pytorch. So adding L2 regularization to the loss function is equivalent to dcreasing the value of the weight that is proportional to its current value(hence weight decay). This weight decay applies to all the parameters of the network including baiases.\\\n",
    "We can apply L2 regularization pretty easily. After we calculate the loss, we need to sum the squares of all the parameters of the model and then we multiply the sum with lambda and add it to the loss and then backpropagate."
   ]
  },
  {
   "cell_type": "code",
   "execution_count": 14,
   "metadata": {},
   "outputs": [
    {
     "name": "stdout",
     "output_type": "stream",
     "text": [
      "2022-10-12 07:10:13.475735 --> Epoch : 1 | Train Loss : 0.7754923813640119 | Val Loss : 0.43704588451082743\n",
      "2022-10-12 07:10:43.491314 --> Epoch : 20 | Train Loss : 0.378885542765593 | Val Loss : 0.2921984415678751\n",
      "2022-10-12 07:11:14.855100 --> Epoch : 40 | Train Loss : 0.3467022910856972 | Val Loss : 0.2734919696573227\n",
      "2022-10-12 07:11:46.170373 --> Epoch : 60 | Train Loss : 0.33922280971044166 | Val Loss : 0.26473655705414123\n",
      "2022-10-12 07:12:17.384496 --> Epoch : 80 | Train Loss : 0.3366683330684424 | Val Loss : 0.26577883935163893\n",
      "2022-10-12 07:12:48.440634 --> Epoch : 100 | Train Loss : 0.33521127100950615 | Val Loss : 0.26356141269207\n",
      "2022-10-12 07:13:19.605600 --> Epoch : 120 | Train Loss : 0.3343719965257584 | Val Loss : 0.2633783607965424\n",
      "2022-10-12 07:13:50.604433 --> Epoch : 140 | Train Loss : 0.3337654546141244 | Val Loss : 0.26338753872920595\n",
      "2022-10-12 07:14:22.250655 --> Epoch : 160 | Train Loss : 0.333340052550974 | Val Loss : 0.26554145344666075\n",
      "2022-10-12 07:14:53.342542 --> Epoch : 180 | Train Loss : 0.33296903896446045 | Val Loss : 0.26410984992980957\n",
      "2022-10-12 07:15:24.306701 --> Epoch : 200 | Train Loss : 0.33262583465812307 | Val Loss : 0.26472317581138916\n"
     ]
    }
   ],
   "source": [
    "# lets add L2 regularization to our training loop\n",
    "# import datetime for monitoring time\n",
    "import datetime\n",
    "\n",
    "# One important thing to realize is to instantiate the optimizer and the model afterdefining the training loop and moving the data to the tensor\n",
    "\n",
    "# define the training loop\n",
    "def training_loop(n_epochs, model, optimizer, loss_fn, train_data, val_data):\n",
    "    for epoch in range(1,n_epochs+1):\n",
    "        loss_train = 0.0  # Initialize the loss for each epoch\n",
    "        loss_val = 0.0\n",
    "        for image, label in train_data:\n",
    "            # Move the images and labels to the GPU. This is the only step which makes the model train on the GPU. \n",
    "            image = image.to(device=device)\n",
    "            label = label.to(device = device)\n",
    "\n",
    "\n",
    "            # carry out the forward pass\n",
    "            # This does not require us to reshape the image with batch_size because the train_loader already give batches.\n",
    "            pred = model(image)\n",
    "\n",
    "            # compute the training loss per batch\n",
    "            loss = loss_fn(pred, label)\n",
    "\n",
    "            # ADD L2 regularization to the loss function\n",
    "            l2_rate  = 0.01    # initialzing lambda\n",
    "            l2_norm = sum(p.pow(2.0).sum() for p in model.parameters())  # summing the squares of the parameters\n",
    "\n",
    "            loss = loss + l2_rate * l2_norm             # Doing the L2 regularization\n",
    "\n",
    "            # zero out the gradients of the optimizer\n",
    "            optimizer.zero_grad()\n",
    "            # carry out backward pass\n",
    "            loss.backward()\n",
    "            # carry out the optimizer step\n",
    "            optimizer.step()\n",
    "\n",
    "            # This transforms the loss from a tensor to a python number which is nescessary to escape gradients\n",
    "            loss_train += loss.item() \n",
    "\n",
    "        # compute the validation loss and the accuracy\n",
    "        with torch.no_grad():\n",
    "            for val_image, val_label in val_data:\n",
    "                # move the tensors of the loader to the GPU.\n",
    "                # This step was added after we trained once on the GPU without the validation step with a training time of 3m.\n",
    "                val_image = val_image.to(device = device)\n",
    "                val_label = val_label.to(device = device)\n",
    "                val_pred = model(val_image)\n",
    "                val_loss = loss_fn(val_pred, val_label)\n",
    "                # This transforms the val_loss from a tensor to a python number which is nescessary to escape gradients.\n",
    "                loss_val += val_loss.item()\n",
    "        # print the training loss, validation loss, accuracy per epoch\n",
    "        if epoch == 1 or epoch %20 == 0:\n",
    "            print(f\"{datetime.datetime.now()} --> Epoch : {epoch} | Train Loss : {loss_train/len(train_data)} | Val Loss : {loss_val/len(val_data)}\")\n",
    "\n",
    "\n",
    "# This step of defining the model and optimizer after the data_loader has been moved to the GPU is only applicable when using a GPU\n",
    "# Instantiate the model\n",
    "# convnet = Net().to(device=device)  # The .to(device = 'cuda') move the model to the GPU.\n",
    "wide_net = WideNet().to(device = device)  # Transferring the model to the GPU\n",
    "\n",
    "# Initlaize the dataloader\n",
    "train_dataloader = torch.utils.data.DataLoader(cifar2, batch_size= 32, shuffle = False)\n",
    "val_dataloader = torch.utils.data.DataLoader(cifar_2_val, batch_size = 32, shuffle = True)\n",
    "\n",
    "# Intialize loss function\n",
    "cross_ent_loss_fn = nn.CrossEntropyLoss()\n",
    "\n",
    "# Initlaize the optimizer\n",
    "optimizer_sgd = optim.SGD(wide_net.parameters(), lr = 1e-2)\n",
    "\n",
    "\n",
    "# Run the training loop\n",
    "training_loop(n_epochs = 200,\n",
    "             model = wide_net,  # we have changed the model from convnet to wide_model\n",
    "             optimizer = optimizer_sgd, \n",
    "             loss_fn=cross_ent_loss_fn, \n",
    "             train_data= train_dataloader, \n",
    "             val_data=val_dataloader)"
   ]
  },
  {
   "cell_type": "code",
   "execution_count": 15,
   "metadata": {},
   "outputs": [
    {
     "name": "stdout",
     "output_type": "stream",
     "text": [
      "train Accuracy : 0.9083\n",
      "validation Accuracy : 0.888\n"
     ]
    }
   ],
   "source": [
    "# lets check the accuracy of the model after adding regularization\n",
    "# lets check the training and the validation accuracy of the model by performing the computations on the GPU\n",
    "def validate(model, train_data, val_data):\n",
    "    for name, loader in [(\"train\",train_data), ('validation', val_data)]:\n",
    "        correct = 0.0\n",
    "        total = 0.0\n",
    "\n",
    "        with torch.no_grad():\n",
    "            for image, label in loader:\n",
    "                image = image.to(device=device)\n",
    "                label = label.to(device=device)\n",
    "                pred = model(image)\n",
    "\n",
    "                _, predicted = torch.max(pred, dim=1)\n",
    "                # predicted = predicted.to(device=device)\n",
    "                total += label.shape[0]\n",
    "                correct += (predicted==label).sum().item()\n",
    "\n",
    "        print(f\"{name} Accuracy : {correct/total}\")\n",
    "\n",
    "validate(wide_net, train_data= train_dataloader, val_data = val_dataloader) # changed model from convnet to wide_model"
   ]
  },
  {
   "cell_type": "markdown",
   "metadata": {},
   "source": [
    "Now we can see that the model trained with the L2 regularization does not overfit(It has about the same accuracy on train and validation sets). The weight penalty keeps the model in check when it tries to memorize individual examples and makes it to only learn general characteristics which are common for all the images. That is why the training and validation accuracy is about the same."
   ]
  },
  {
   "cell_type": "markdown",
   "metadata": {},
   "source": [
    "The SGD optimizer already has the weight decay parameter whose value is `2*lambda` and it can automatically perform the weight decay step during the update of the parameters. It is fully equivalent to adding the L2 norm in the loss without the need of adding terms to the loss and involving autograd."
   ]
  },
  {
   "cell_type": "markdown",
   "metadata": {},
   "source": [
    "##### Not relying too much on a single input: Dropout\n",
    "Dropout is a regularization technique which was discovered by the Geoffrey Hinton group in Toronto. `The idea behind dropout is simple, zero out a random fraction of hidden neurons output in the network and the neurons which would be zeroed is decided randomly at every iteration.`\n",
    "1. The process generates slightly different models at each iteration and does not provide the chance to the neurons to coordinate to memorize the data that happens in overfitting.\n",
    "2. There is also and alternate expalnation : It can also be seen that dropout modifies the features that are being circulated in the model(zeroing out some neurons), which has an effect similar to data augmentation but here it occurs within the network internally and not on the data being input.\\\n",
    "In Pytorch we can implement dropout by adding nn.Dropout in-between the non-linear activation layer and the subsequent Linear or Convolutional layer.As an argument we will specify the percentage of neurons that will be zeroed(via probability). For convolutional layers we would define Dropout2d and Dropout3d, which zero out the entire channels of the input.\\\n",
    "Note that dropout is active during training. When doing evaluation it is removed or the probability is made 0. This is controlled through the train property of the dropout. Pytorch lets us switch between the two modalities by model.train() and model.eval() on any nn.Model subclass. The call will be automatically replicated on the subsequent modules and if dropout is among them it will behave accordingly in forward and backward pass."
   ]
  },
  {
   "cell_type": "code",
   "execution_count": 20,
   "metadata": {},
   "outputs": [],
   "source": [
    "# Lets define a model with dropout\n",
    "import torch.nn.functional as F\n",
    "\n",
    "class DropoutNet(nn.Module):\n",
    "    def __init__(self):\n",
    "        super().__init__()\n",
    "\n",
    "        self.conv1 = nn.Conv2d(3, 32, kernel_size=3, padding=1)\n",
    "        self.conv1_dropout = nn.Dropout2d(p = 0.4)\n",
    "        self.conv2 = nn.Conv2d(32, 16, kernel_size = 3, padding = 1)\n",
    "        self.conv2_dropout = nn.Dropout2d(p=0.4)\n",
    "        self.fc1 = nn.Linear(16*8*8, 32)\n",
    "        self.fc2 = nn.Linear(32, 2)\n",
    "    \n",
    "    def forward(self, x):\n",
    "        out = F.max_pool2d(torch.tanh(self.conv1(x)),2)\n",
    "        out = self.conv1_dropout(out)\n",
    "        out = F.max_pool2d(torch.tanh(self.conv2(out)),2)\n",
    "        out  = self.conv2_dropout(out)\n",
    "        out = out.view(-1, 16*8*8)\n",
    "        out = torch.tanh(self.fc1(out))\n",
    "        out = self.fc2(out)\n",
    "        return out\n"
   ]
  },
  {
   "cell_type": "code",
   "execution_count": 25,
   "metadata": {},
   "outputs": [
    {
     "name": "stdout",
     "output_type": "stream",
     "text": [
      "2022-10-12 09:07:52.401056 --> Epoch : 1 | Train Loss : 0.5566641972087824 | Val Loss : 0.45560379113469807\n",
      "2022-10-12 09:08:16.509781 --> Epoch : 20 | Train Loss : 0.31718101968970924 | Val Loss : 0.2991203594775427\n",
      "2022-10-12 09:08:41.277510 --> Epoch : 40 | Train Loss : 0.26942581412034294 | Val Loss : 0.2736488548772676\n",
      "2022-10-12 09:09:03.996908 --> Epoch : 60 | Train Loss : 0.23453680649637795 | Val Loss : 0.2503395818528675\n",
      "2022-10-12 09:09:26.256134 --> Epoch : 80 | Train Loss : 0.2042682024474723 | Val Loss : 0.23798706169639314\n",
      "2022-10-12 09:09:48.011688 --> Epoch : 100 | Train Loss : 0.17745776664906035 | Val Loss : 0.2390391364811905\n",
      "2022-10-12 09:10:09.806012 --> Epoch : 120 | Train Loss : 0.16483371013317244 | Val Loss : 0.2449912095945033\n",
      "2022-10-12 09:10:31.686943 --> Epoch : 140 | Train Loss : 0.1408273773595167 | Val Loss : 0.24434603673834648\n",
      "2022-10-12 09:10:54.471414 --> Epoch : 160 | Train Loss : 0.1239880056926808 | Val Loss : 0.2619836051312704\n",
      "2022-10-12 09:11:16.336820 --> Epoch : 180 | Train Loss : 0.11175161109755215 | Val Loss : 0.2756700576061294\n",
      "2022-10-12 09:11:38.275969 --> Epoch : 200 | Train Loss : 0.10446962920395425 | Val Loss : 0.2672603593488771\n"
     ]
    }
   ],
   "source": [
    "# Now lets define and run the training loop on our model. First we would train it without L2 regularization\n",
    "import datetime\n",
    "\n",
    "# One important thing to realize is to instantiate the optimizer and the model afterdefining the training loop and moving the data to the tensor\n",
    "\n",
    "# define the training loop\n",
    "def training_loop(n_epochs, model, optimizer, loss_fn, train_data, val_data):\n",
    "    for epoch in range(1,n_epochs+1):\n",
    "        loss_train = 0.0  # Initialize the loss for each epoch\n",
    "        loss_val = 0.0\n",
    "        for image, label in train_data:\n",
    "            # Move the images and labels to the GPU. This is the only step which makes the model train on the GPU. \n",
    "            image = image.to(device=device)\n",
    "            label = label.to(device = device)\n",
    "\n",
    "\n",
    "            # carry out the forward pass\n",
    "            # This does not require us to reshape the image with batch_size because the train_loader already give batches.\n",
    "            pred = model(image)\n",
    "\n",
    "            # compute the training loss per batch\n",
    "            loss = loss_fn(pred, label)\n",
    "\n",
    "            # # ADD L2 regularization to the loss function\n",
    "            # l2_rate  = 0.01    # initialzing lambda\n",
    "            # l2_norm = sum(p.pow(2.0).sum() for p in model.parameters())  # summing the squares of the parameters\n",
    "\n",
    "            # loss = loss + l2_rate * l2_norm             # Doing the L2 regularization\n",
    "\n",
    "            # zero out the gradients of the optimizer\n",
    "            optimizer.zero_grad()\n",
    "            # carry out backward pass\n",
    "            loss.backward()\n",
    "            # carry out the optimizer step\n",
    "            optimizer.step()\n",
    "\n",
    "            # This transforms the loss from a tensor to a python number which is nescessary to escape gradients\n",
    "            loss_train += loss.item() \n",
    "\n",
    "        # compute the validation loss and the accuracy\n",
    "        model.eval()  # Doing this deactivates dropout(makes the dropout probility to zero) because we do not need dropout in evaluation\n",
    "        with torch.no_grad():\n",
    "            for val_image, val_label in val_data:\n",
    "                # move the tensors of the loader to the GPU.\n",
    "                # This step was added after we trained once on the GPU without the validation step with a training time of 3m.\n",
    "                val_image = val_image.to(device = device)\n",
    "                val_label = val_label.to(device = device)\n",
    "                val_pred = model(val_image)\n",
    "                val_loss = loss_fn(val_pred, val_label)\n",
    "                # This transforms the val_loss from a tensor to a python number which is nescessary to escape gradients.\n",
    "                loss_val += val_loss.item()\n",
    "        # print the training loss, validation loss, accuracy per epoch\n",
    "        if epoch == 1 or epoch %20 == 0:\n",
    "            print(f\"{datetime.datetime.now()} --> Epoch : {epoch} | Train Loss : {loss_train/len(train_data)} | Val Loss : {loss_val/len(val_data)}\")\n",
    "\n",
    "        model.train() # Then we have to again activate the dropout layers because we need the layers for training in the next epoch\n",
    "\n",
    "\n",
    "# This step of defining the model and optimizer after the data_loader has been moved to the GPU is only applicable when using a GPU\n",
    "# Instantiate the model\n",
    "# convnet = Net().to(device=device)  # The .to(device = 'cuda') move the model to the GPU.\n",
    "dropout_net = DropoutNet().to(device = device)  # Transferring the model to the GPU\n",
    "\n",
    "# Initlaize the dataloader\n",
    "train_dataloader = torch.utils.data.DataLoader(cifar2, batch_size= 32, shuffle = False)\n",
    "val_dataloader = torch.utils.data.DataLoader(cifar_2_val, batch_size = 32, shuffle = True)\n",
    "\n",
    "# Intialize loss function\n",
    "cross_ent_loss_fn = nn.CrossEntropyLoss()\n",
    "\n",
    "# Initlaize the optimizer\n",
    "optimizer_sgd = optim.SGD(dropout_net.parameters(), lr = 1e-2)\n",
    "\n",
    "\n",
    "# Run the training loop\n",
    "training_loop(n_epochs = 200,\n",
    "             model = dropout_net,  # we have changed the model from convnet to wide_model\n",
    "             optimizer = optimizer_sgd, \n",
    "             loss_fn=cross_ent_loss_fn, \n",
    "             train_data= train_dataloader, \n",
    "             val_data=val_dataloader)"
   ]
  },
  {
   "cell_type": "markdown",
   "metadata": {},
   "source": [
    "There are two very important lines in the above piece of code i.e model.train() and model.eval()\n",
    "1. `model.eval() : This deactivates the layers which are not required in validation/evaluation such as Dropout Layers, Batch Normalization layer etc.for that epoch if you want to do training and evaluation in the same loop or if you are doing evaluation in another piece of code also`\n",
    "2. `model.train() : This reactivates the Dropout and Batch Normalization layers to be used for training in the Next Epoch after they have been turned off by model.eval() for evaluation in that epoch.`\n"
   ]
  },
  {
   "cell_type": "code",
   "execution_count": 30,
   "metadata": {},
   "outputs": [
    {
     "name": "stdout",
     "output_type": "stream",
     "text": [
      "train Accuracy : 0.9943\n",
      "validation Accuracy : 0.9015\n"
     ]
    }
   ],
   "source": [
    "# Now lets check the aacuracy after applying the dropout\n",
    "# lets check the training and the validation accuracy of the model by performing the computations on the GPU\n",
    "def validate(model, train_data, val_data):\n",
    "    \n",
    "    model.eval()   # Deactivating the layer not required for validation/evaluation\n",
    "\n",
    "    for name, loader in [(\"train\",train_data), ('validation', val_data)]:\n",
    "        correct = 0.0\n",
    "        total = 0.0\n",
    "\n",
    "        # model.eval()\n",
    "        with torch.no_grad():\n",
    "            for image, label in loader:\n",
    "                image = image.to(device=device)\n",
    "                label = label.to(device=device)\n",
    "                pred = model(image)\n",
    "\n",
    "                _, predicted = torch.max(pred, dim=1)\n",
    "                # predicted = predicted.to(device=device)\n",
    "                total += label.shape[0]\n",
    "                correct += (predicted==label).sum().item()\n",
    "\n",
    "        print(f\"{name} Accuracy : {correct/total}\")\n",
    "        \n",
    "\n",
    "validate(dropout_net, train_data= train_dataloader, val_data = val_dataloader) # changed model from convnet to wide_model\n"
   ]
  },
  {
   "cell_type": "markdown",
   "metadata": {},
   "source": [
    "We can see that the dropout model still overfits by some margin, but we can adjust the dropout rate to mitigate that. But the validation accuracy is higher than any model we have trained so far. So this model generalizes better."
   ]
  },
  {
   "cell_type": "markdown",
   "metadata": {},
   "source": [
    "##### Keeping Activations in Check : `Batch Normalization`"
   ]
  },
  {
   "cell_type": "markdown",
   "metadata": {},
   "source": [
    "Dropout was a very popular techinique till 2015, when another technique was introduced called as Batch Normalization. The paper descirbed a technique that has multiple beneficial effects on training. Such as allowing us to increase the learning rate and make training less dependent on initialization and acting as a Regularizer. Thus representing an alternative to dropout.\\\n",
    "`The main idea behind Batch Normalization is to rescale the inputs to the activations of the network so that minibatches have a certain desirable distribution. This helps avoid the inputs passing to the activation functions to be too far in the saturated region of the activation function, thereby killing gradients and slowing down training.`\\\n",
    "1. In practical terms batch normalization shifts and scales the itermediate inputs using the mean and the standard deviation derived at an intermediate location over the samples of a minibatch.\n",
    "2. The regularization effect is the result, such that the individual sample and its downstream activations are always seen by the model as shifted and scaled, depending on the statistics across the randomly extracted minibatch. `This is in itself a form of principled augmentation`.\n",
    "3. The authors suggest that using batch normalization removes or atleast alleviates the need of using dropout.\\\n",
    "Batch Normalization in pytorch is provided by BatchNorm1d, Batchnorm2d and BatchNorm3d modules in pytorch. `Since the aim of batchnormalizatin is to provide scaled inputs to the activation function, its position is after the linear transformation (or convolution) in this case.`"
   ]
  },
  {
   "cell_type": "code",
   "execution_count": 33,
   "metadata": {},
   "outputs": [],
   "source": [
    "# Lets define a Neural Net with Batch Normalization.\n",
    "class BatchNormNet(nn.Module):\n",
    "    def __init__(self):\n",
    "        super().__init__()\n",
    "\n",
    "        # Define the convolution, BatchNormalization and Fully Connected Layers\n",
    "        self.conv1 = nn.Conv2d(3, 32, kernel_size = 3, padding = 1)\n",
    "        self.conv1_batchNorm = nn.BatchNorm2d(num_features=32)\n",
    "        self.conv2 = nn.Conv2d(32, 16, kernel_size = 3, padding = 1)\n",
    "        self.conv2_batchNorm = nn.BatchNorm2d(num_features=16)\n",
    "        self.fc1 = nn.Linear(16*8*8, 32)\n",
    "        self.fc2 = nn.Linear(32,2)\n",
    "    \n",
    "    # Now lets define the forward pass of the network\n",
    "    def forward(self, x):\n",
    "        out = self.conv1_batchNorm(self.conv1(x))  # Calculate the convolution and the batchnorm of the data\n",
    "        out = F.max_pool2d(torch.tanh(out),2)        # Calculate the output after the activation and maxpooling\n",
    "\n",
    "        out = self.conv2_batchNorm(self.conv2(out))\n",
    "        out = F.max_pool2d(torch.tanh(out),2)\n",
    "\n",
    "        out = out.view(-1, 16*8*8)\n",
    "        out = torch.tanh(self.fc1(out))\n",
    "        out = self.fc2(out)\n",
    "\n",
    "        return out\n"
   ]
  },
  {
   "cell_type": "code",
   "execution_count": 40,
   "metadata": {},
   "outputs": [
    {
     "name": "stdout",
     "output_type": "stream",
     "text": [
      "2022-10-12 10:53:00.655434 --> Epoch : 1 | Train Loss : 0.4368076611060304 | Val Loss : 0.35981808035146623\n",
      "2022-10-12 10:53:12.572646 --> Epoch : 10 | Train Loss : 0.23730535801654806 | Val Loss : 0.2919472594346319\n",
      "2022-10-12 10:53:25.729694 --> Epoch : 20 | Train Loss : 0.15313790675502614 | Val Loss : 0.3412262300650279\n",
      "2022-10-12 10:53:38.964153 --> Epoch : 30 | Train Loss : 0.08798722950771404 | Val Loss : 0.43168472971708055\n",
      "2022-10-12 10:53:52.090823 --> Epoch : 40 | Train Loss : 0.04684871006995059 | Val Loss : 0.4406173593468136\n",
      "2022-10-12 10:54:05.299028 --> Epoch : 50 | Train Loss : 0.03293324935624894 | Val Loss : 0.45061630850273465\n"
     ]
    }
   ],
   "source": [
    "# Now lets train out network, We will use the same training loop\n",
    "# Now lets define and run the training loop on our model. First we would train it without L2 regularization\n",
    "import datetime\n",
    "\n",
    "# One important thing to realize is to instantiate the optimizer and the model afterdefining the training loop and moving the data to the tensor\n",
    "\n",
    "# define the training loop\n",
    "def training_loop(n_epochs, model, optimizer, loss_fn, train_data, val_data):\n",
    "    for epoch in range(1,n_epochs+1):\n",
    "        loss_train = 0.0  # Initialize the loss for each epoch\n",
    "        loss_val = 0.0\n",
    "        for image, label in train_data:\n",
    "            # Move the images and labels to the GPU. This is the only step which makes the model train on the GPU. \n",
    "            image = image.to(device=device)\n",
    "            label = label.to(device = device)\n",
    "\n",
    "\n",
    "            # carry out the forward pass\n",
    "            # This does not require us to reshape the image with batch_size because the train_loader already give batches.\n",
    "            pred = model(image)\n",
    "\n",
    "            # compute the training loss per batch\n",
    "            loss = loss_fn(pred, label)\n",
    "\n",
    "            # # ADD L2 regularization to the loss function\n",
    "            # l2_rate  = 0.01    # initialzing lambda\n",
    "            # l2_norm = sum(p.pow(2.0).sum() for p in model.parameters())  # summing the squares of the parameters\n",
    "\n",
    "            # loss = loss + l2_rate * l2_norm             # Doing the L2 regularization\n",
    "\n",
    "            # zero out the gradients of the optimizer\n",
    "            optimizer.zero_grad()\n",
    "            # carry out backward pass\n",
    "            loss.backward()\n",
    "            # carry out the optimizer step\n",
    "            optimizer.step()\n",
    "\n",
    "            # This transforms the loss from a tensor to a python number which is nescessary to escape gradients\n",
    "            loss_train += loss.item() \n",
    "\n",
    "        # compute the validation loss and the accuracy\n",
    "        model.eval()  # Doing this deactivates dropout(makes the dropout probility to zero) because we do not need dropout in evaluation\n",
    "        with torch.no_grad():\n",
    "            for val_image, val_label in val_data:\n",
    "                # move the tensors of the loader to the GPU.\n",
    "                # This step was added after we trained once on the GPU without the validation step with a training time of 3m.\n",
    "                val_image = val_image.to(device = device)\n",
    "                val_label = val_label.to(device = device)\n",
    "                val_pred = model(val_image)\n",
    "                val_loss = loss_fn(val_pred, val_label)\n",
    "                # This transforms the val_loss from a tensor to a python number which is nescessary to escape gradients.\n",
    "                loss_val += val_loss.item()\n",
    "        # print the training loss, validation loss, accuracy per epoch\n",
    "        if epoch == 1 or epoch %10 == 0:\n",
    "            print(f\"{datetime.datetime.now()} --> Epoch : {epoch} | Train Loss : {loss_train/len(train_data)} | Val Loss : {loss_val/len(val_data)}\")\n",
    "\n",
    "        model.train() # Then we have to again activate the dropout layers because we need the layers for training in the next epoch\n",
    "\n",
    "\n",
    "# This step of defining the model and optimizer after the data_loader has been moved to the GPU is only applicable when using a GPU\n",
    "# Instantiate the model\n",
    "# convnet = Net().to(device=device)  # The .to(device = 'cuda') move the model to the GPU.\n",
    "batchNorm_net = BatchNormNet().to(device = device)  # Transferring the model to the GPU\n",
    "\n",
    "# Initlaize the dataloader\n",
    "train_dataloader = torch.utils.data.DataLoader(cifar2, batch_size= 32, shuffle = False)\n",
    "val_dataloader = torch.utils.data.DataLoader(cifar_2_val, batch_size = 32, shuffle = True)\n",
    "\n",
    "# Intialize loss function\n",
    "cross_ent_loss_fn = nn.CrossEntropyLoss()\n",
    "\n",
    "# Initlaize the optimizer\n",
    "optimizer_sgd = optim.SGD(batchNorm_net.parameters(), lr = 1e-2)\n",
    "\n",
    "\n",
    "# Run the training loop\n",
    "training_loop(n_epochs = 50,\n",
    "             model = batchNorm_net,  # we have changed the model from convnet to wide_model\n",
    "             optimizer = optimizer_sgd, \n",
    "             loss_fn=cross_ent_loss_fn, \n",
    "             train_data= train_dataloader, \n",
    "             val_data=val_dataloader)"
   ]
  },
  {
   "cell_type": "code",
   "execution_count": 41,
   "metadata": {},
   "outputs": [
    {
     "name": "stdout",
     "output_type": "stream",
     "text": [
      "train Accuracy : 0.9675\n",
      "validation Accuracy : 0.879\n"
     ]
    }
   ],
   "source": [
    "# Now lets see the accuracy of the model on the train and validation sets.\n",
    "# lets check the training and the validation accuracy of the model by performing the computations on the GPU\n",
    "def validate(model, train_data, val_data):\n",
    "    \n",
    "    model.eval()   # Deactivating the layer not required for validation/evaluation\n",
    "\n",
    "    for name, loader in [(\"train\",train_data), ('validation', val_data)]:\n",
    "        correct = 0.0\n",
    "        total = 0.0\n",
    "\n",
    "        # model.eval()\n",
    "        with torch.no_grad():\n",
    "            for image, label in loader:\n",
    "                image = image.to(device=device)\n",
    "                label = label.to(device=device)\n",
    "                pred = model(image)\n",
    "\n",
    "                _, predicted = torch.max(pred, dim=1)\n",
    "                # predicted = predicted.to(device=device)\n",
    "                total += label.shape[0]\n",
    "                correct += (predicted==label).sum().item()\n",
    "\n",
    "        print(f\"{name} Accuracy : {correct/total}\")\n",
    "        \n",
    "\n",
    "validate(batchNorm_net, train_data= train_dataloader, val_data = val_dataloader) # changed model from convnet to wide_model"
   ]
  },
  {
   "cell_type": "markdown",
   "metadata": {},
   "source": [
    "Just like dropout batch Normalization also should not be done while we are evaluating because at inference time we do not want the output of a specific input to depend upon the mean and standard deviations of other inputs. So we need to turn off batchNormalization at the time of inference.\\\n",
    "\\\n",
    "`Of course we still need to Normalize the data but the Normalization should be on the basis of the entire dataset and not a sample or minibatch of samples, so what pytorch does is that in addition to keeping the running statistics of the current minibatch it also calculates and saves the statistics of the whole dataset as an approximation(it approximates the mean and std_dev of the whole dataset based on the previously seen minibatches mean and std-dev), so when we run validation by calling model.eval()  and the model contains a batchNormalization module, the running estimates of the mean and std_dev are frozen and called for normalization. When we again call model.train() the estimates are unfrozen again and we return to using the minibatch statistics for normalization and updating them as we process other minibatches.`"
   ]
  },
  {
   "cell_type": "markdown",
   "metadata": {},
   "source": [
    "#### Going Deeper into more complex structures : Depth\n",
    "Earlier we talked about the first step to make a model larger i.e to make the model larger. The second is obviously depth, with depth the ability of the network to approximate more complex functions generally increases. For eg in Convolution a shallow model can identify a persons face boundaries whereas a deep model can identify its mouth or eyes. Depth allows a model to learn the heirarchical information we need to understand the context in order to say something about the input.\\\n",
    "One more way to think about depth is that with increasing depth the network will be able to perform more sequence of operations on an image. For eg. Find a persons boundary, look for the head at the top of the shoulders, find the mouth at the top of the head.\\\n",
    "##### Skip Connections\n",
    "Skip connections are a very important concept in Convolutional Neural Networks. Dealing with deep neural networks comes with it's own set of challanges. Adding depth of more than 20 layers makes the model difficult to converge. Lets see it from the backpropagation perspective, we know that the gradient of the loss function w.r.t to a parameter is calculated by multiplying te local gradient with the incoming global gradient, and this is done for each of the intermediate inputs which were involved in the gradient calculation. So if these numbers are small, then the gradient reaching the parameters would be smaller as they are being multiplied, and if they are large, they would swallow the smaller numbers due to floating point approximation which would lead to the gradient of the parameter vanishing (be really small so it won't cause any change) which would lead to ineffective training of that layer because it and others like it won't be updated correctly.\\\n",
    "In december 2015 Kaiming He and coauthors presented `Residual Networks (ResNet)` architecture which introduced a trick which allowed for Deep Networs to be trained successfully ranging from 10 to 100 layers. The trick that we mentioned is using a skip-connection to short circuit blocks of layers.\\\n",
    "\\\n",
    "`A skip connection is nothing but adding the input of a block of layers to their ouput after their computation is performed. So we will perform the computation of the block of layers and after the computation has been done we will add the input of the blocks to the output. This would alleviate the problem of vanishing gradients.`"
   ]
  },
  {
   "cell_type": "code",
   "execution_count": 5,
   "metadata": {},
   "outputs": [],
   "source": [
    "class ResNet(nn.Module):\n",
    "    def __init__(self, n_chan = 32):\n",
    "        # Define the submodules in the constructor\n",
    "        super().__init__()\n",
    "        self.n_chan = n_chan\n",
    "        self.conv1 = nn.Conv2d(3, n_chan, kernel_size = 3, padding = 1)\n",
    "        self.conv2 = nn.Conv2d(n_chan, n_chan//2, kernel_size = 3, padding = 1)\n",
    "        self.conv3 = nn.Conv2d(n_chan//2, n_chan//2, kernel_size = 3, padding = 1)\n",
    "        self.fc1 = nn.Linear((n_chan//2)*4*4, 32)\n",
    "        self.fc2 = nn.Linear(32, 2)\n",
    "\n",
    "    def forward(self, x):\n",
    "        # Define the forward propagation int the forward prop\n",
    "\n",
    "        out = F.max_pool2d(torch.relu(self.conv1(x)),2)\n",
    "        out = F.max_pool2d(torch.relu(self.conv2(out)),2)\n",
    "        out_1 = out\n",
    "        out = F.max_pool2d(torch.relu(self.conv3(out)) + out_1,2)\n",
    "        out = out.view(-1, (self.n_chan//2)*4*4)\n",
    "        out = torch.relu(self.fc1(out))\n",
    "        out = self.fc2(out)\n",
    "        return out"
   ]
  },
  {
   "cell_type": "markdown",
   "metadata": {},
   "source": [
    "1. What we are doing in the above model is that we are using the outputs of the first activation as inputs to the last in addition to the standard feed forward path. This is also referred to as identity mapping. So how does it alleviate the vanishing gradients problem. As we can see in backpropagation a skip connection creates a direct pathway from a deeper parameter to the loss. This makes their contribution to the gradient more direct, as partial derivatives of those parameters w.r.t the loss have a chance not to be multiplied by the long chain of operations.\n",
    "2. It has been observed that skip connections have a beneficial effect on convergence, especially in the initial phases of training. Also the loss landscape of Deep residual networks is a lot smoother than feed-forward networks with the same depth and width.\n",
    "3. It is worth noting that skip connections were not new when resnets came along. Highway nets and U-nets were used to train the model also. But ResNets made training of deep 100 layer or more models more amenable.\n",
    "4. Since the advent of the ResNets other models have taken skip connections to the next level. One model known as DenseNet proposed to connect each and every layer to later layers with skip connections achieving state of the art results with fewer parameters.\n",
    "5. By now we know how to implement Dense Nets, just arithematically add earlier intermediate outputs to downstream intermediate inputs."
   ]
  },
  {
   "cell_type": "markdown",
   "metadata": {},
   "source": [
    "#### Creating a Model of 100 convolution Layers\n",
    "So we need to create a 100 or more layered Network. But that is a challenge in itself because we need to manually connect a 100 CNN layers. So for that what we will do is that `we would define a fundamental building block called as a ResBlock and then build a network dynamically in a for loop`.\\\n",
    "`The ResBlock would be like (Conv2d, Relu, Conv2d) + skip_connection.`\\\n",
    "We will first create a module subclass whose sole job is to provide the computation for one block i.e convolution, activation and skip connection. We would also remove the bias element because BatchNormalization cancels out the need for a bias and we would have a custome initialization of weights."
   ]
  },
  {
   "cell_type": "code",
   "execution_count": 6,
   "metadata": {},
   "outputs": [],
   "source": [
    "class ResBlock(nn.Module):\n",
    "    def __init__(self, n_chans):\n",
    "        super().__init__()\n",
    "\n",
    "        # We will not use a bias because a batchNorm nullifies the need of a bias\n",
    "        self.conv = nn.Conv2d(n_chans, n_chans, kernel_size = 3, padding = 1, bias=False)\n",
    "        self.batch_norm = nn.BatchNorm2d(num_features=n_chans)\n",
    "\n",
    "        # We will also need to do custom weight initialization. The kaiming_normal initialises the weights as in the ResNet paper.\n",
    "        \n",
    "        torch.nn.init.kaiming_normal_(self.conv.weight, nonlinearity='relu')\n",
    "\n",
    "        # The batch norm is initialized to have 0 mean and 0.5 variance.\n",
    "        torch.nn.init.constant(self.batch_norm.weight, 0.5)\n",
    "\n",
    "        torch.nn.init.zeros_(self.batch_norm.bias)\n",
    "\n",
    "    # Now we will write the forward pass\n",
    "    def forward(self, x):\n",
    "        # The below 3 steps perform the forward propagation of the network\n",
    "        out = self.conv(x)\n",
    "        out = self.batch_norm(out)\n",
    "        out = torch.relu(out)\n",
    "\n",
    "        # This step performs the skip funcitonality and arithematically adds the inputs of the block to the output of the block\n",
    "        out = out + x\n",
    "\n",
    "        return out\n"
   ]
  },
  {
   "cell_type": "markdown",
   "metadata": {},
   "source": [
    "1. Since we are planning to generate a Deep Model we will have to include the batch Normalization in the Block. It will help prevent the gradients from vanishing during training.\n",
    "2. We will now have to generate the network by cutting and pasting, absolutely not we have all the ingredients for imagining how this could look like.\n",
    "3. First in init we will create a nn.Sequential containing a list of ResBlock instances. nn.Sequential would ensure that the ouput of one block will be used as an input to the next. It will also ensure that all the parameters to the block are visible to the net.\n",
    "4. Then in forward we will just call the sequential to traverse the 100 block and generate the output."
   ]
  },
  {
   "cell_type": "code",
   "execution_count": 7,
   "metadata": {},
   "outputs": [],
   "source": [
    "# Lets define the resnet network\n",
    "class ResNet(nn.Module):\n",
    "    def __init__(self, n_chans = 32, n_blocks = 10):\n",
    "        super().__init__()\n",
    "\n",
    "        self.n_chans = n_chans\n",
    "        # The first input layer of 3 channels needs to be created manually\n",
    "        self.conv1 = nn.Conv2d(3, n_chans, kernel_size = 3, padding = 1)\n",
    "\n",
    "        # Now we will create the 100 layers of the ResNet and add them to a sequential block\n",
    "        self.resblocks = nn.Sequential(\n",
    "            *(n_blocks * [ResBlock(n_chans = n_chans)]) # The * symbol is used in python to unwrap the contents of an iterator\n",
    "        )\n",
    "\n",
    "        # Now we will create the fully connected layers\n",
    "        self.fc1 = nn.Linear(8*8*n_chans, 32)\n",
    "        self.fc2 = nn.Linear(32, 2)\n",
    "\n",
    "    def forward(self, x):\n",
    "        out = F.max_pool2d(torch.relu(self.conv1(x)),2)\n",
    "        out = self.resblocks(out)\n",
    "        out = F.max_pool2d(out,2)\n",
    "        out = out.view(-1, 8*8*(self.n_chans))\n",
    "        out = torch.relu(self.fc1(out))\n",
    "        out = self.fc2(out)\n",
    "        return out\n"
   ]
  },
  {
   "cell_type": "markdown",
   "metadata": {},
   "source": [
    "1. In the implementation we parameterize the number of blocks which is important for experimentation and reuse\n",
    "2. Also the backpropagation will work as expected\n",
    "3. Unsurprisingly the network is quite a bit slower to converge. It is also more fragile in convergence.\n",
    "4. That is the reason we used more detailed initializations and trained our network with a learning rate of 3e-3 instead of 1e-2.\n",
    "5. All this resnet architecture is probably not very suitable for 32x32 images of the cifar10 dataset, but it will be very useful for an imagenet dataset. It also provides us with the fundamentals of understanding existing implementations of model like Resnet and others which are implemented in torchvision."
   ]
  },
  {
   "cell_type": "markdown",
   "metadata": {},
   "source": [
    "##### Initialization\n",
    "Let's discuss breifly about initialization, it is one of the most important tricks in training networks. Historiclly pytorch has different initialization strategies for training netowrks, but the implementation as not ideal so we need to fix the weight initializations oureselves. In testing we found that our model did not converge and looked at what people commonly chose as initializations,(a smaller variance in weights and zero mean and unit variance outputs for batch_norm), then we halved the output variance in batch_norm when the model did not converge."
   ]
  },
  {
   "cell_type": "markdown",
   "metadata": {},
   "source": [
    "##### It's already outdated\n",
    "The techniques that we discussed here are outdated ones, but they are important building blocks. The deep learning research landscape is contantly growing at a very fast pace and new architectures are being discovered everyday. So great techniques of today become outdated in 6 months."
   ]
  },
  {
   "cell_type": "markdown",
   "metadata": {},
   "source": [
    "##### Some salient points\n",
    "1. We have solved just a part of the problem, but there are other challenges that we have to solve\n",
    "    * Finding the bird from a larger picture. Creating bounding boxes aroung the image is something out model cannot do.\n",
    "    * What happens when a cat walks infront of the camera. Our model will still classify how much bird or plane like the cat is and would classify it. This is called as `overgeneralization`. It is one of the problems that when we take a model to production. The input cannot be trusted and the model should be equipped to handle this."
   ]
  },
  {
   "cell_type": "markdown",
   "metadata": {},
   "source": []
  }
 ],
 "metadata": {
  "kernelspec": {
   "display_name": "Python 3.9.12 ('base')",
   "language": "python",
   "name": "python3"
  },
  "language_info": {
   "codemirror_mode": {
    "name": "ipython",
    "version": 3
   },
   "file_extension": ".py",
   "mimetype": "text/x-python",
   "name": "python",
   "nbconvert_exporter": "python",
   "pygments_lexer": "ipython3",
   "version": "3.9.12"
  },
  "orig_nbformat": 4,
  "vscode": {
   "interpreter": {
    "hash": "5863a01bb4350d9241febf9e57f76b3c44dc4260331656e165259b66bc149002"
   }
  }
 },
 "nbformat": 4,
 "nbformat_minor": 2
}
