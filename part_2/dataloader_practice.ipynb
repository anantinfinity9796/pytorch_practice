{
 "cells": [
  {
   "cell_type": "markdown",
   "metadata": {},
   "source": [
    "#### In this Notebook we will use the dataset and the dataloader module to create custom datasets.\n",
    "We know that a basic custom dataset in Pytorch needs to have two components.\n",
    "1. It needs to return the length of the dataset from the `__len__()` method.\n",
    "2. It needs to implement the `__getitem__()` method.\\\n",
    "\n",
    "To implement the dataset we need also to subclass the dataset class and override the above mentioned methods."
   ]
  },
  {
   "cell_type": "code",
   "execution_count": 1,
   "metadata": {},
   "outputs": [],
   "source": [
    "import torch\n",
    "from torch import nn\n",
    "from torch.utils.data import Dataset, DataLoader\n",
    "import numpy as np\n",
    "import pandas as pd\n",
    "import os\n",
    "import imageio \n",
    "import random\n",
    "import copy\n",
    "np.random.seed(42)\n",
    "import torchvision\n",
    "from torchvision import transforms\n",
    "import matplotlib.pyplot as plt\n",
    "from collections import OrderedDict"
   ]
  },
  {
   "cell_type": "markdown",
   "metadata": {},
   "source": [
    "We would build a dataset class of the cats vs dogs dataset and try to run a CNN that classifies them afterwards."
   ]
  },
  {
   "cell_type": "code",
   "execution_count": 2,
   "metadata": {},
   "outputs": [],
   "source": [
    "class CatsVDogsCustom(Dataset):\n",
    "    \"\"\" This class converts the images into tensors and provides a nice interface to get images on prompt from the disk.\"\"\"\n",
    "    def __init__(self,is_val_set_bool = False):\n",
    "        \"\"\"Initialization\"\"\"\n",
    "        super(Dataset, self).__init__()\n",
    "\n",
    "        random.seed(42)\n",
    "        partition_dict = {'train':[], 'val':[]}\n",
    "        label_dict={}\n",
    "        path = \"D://Datasets/cats_vs_dogs_train_dataset/train/\"\n",
    "        file_list = os.listdir(path)\n",
    "        random.shuffle(file_list)\n",
    "        for idx in range(len(file_list)):\n",
    "            if idx%10 == 0:\n",
    "                filename = file_list[idx]\n",
    "                image_label, image_id,_ = filename.split('.')\n",
    "                partition_dict['val'].append(image_label+ '-' +image_id)\n",
    "                label_dict[image_label+'-'+image_id] = image_label \n",
    "            else:\n",
    "                filename = file_list[idx]\n",
    "                image_label, image_id,_ = filename.split('.')\n",
    "                partition_dict['train'].append(image_label+ '-'+image_id)\n",
    "                label_dict[image_label+'-'+image_id] = image_label\n",
    "\n",
    "        if is_val_set_bool:\n",
    "            self.image_names_array = copy.copy(partition_dict['val'])\n",
    "        else:\n",
    "            self.image_names_array = copy.copy(partition_dict['train'])\n",
    "\n",
    "        self.label_dict = label_dict\n",
    "\n",
    "\n",
    "    def __len__(self):\n",
    "        \"\"\" Returns the length of the train or val dataset\"\"\"\n",
    "        return len(self.image_names_array)\n",
    "    \n",
    "    def __getitem__(self, idx):\n",
    "        # Get the image from the disk and convert the image and label into a numpy array\n",
    "        path = \"D://Datasets/cats_vs_dogs_train_dataset/train/\"\n",
    "        image_name = self.image_names_array[idx]\n",
    "        image = imageio.imread(path + image_name.replace('-','.')+'.jpg')\n",
    "        image_array = np.array(image, dtype=np.float32)\n",
    "        label = self.label_dict[self.image_names_array[idx]]\n",
    "        # label_array = np.zeros((2)),dtype=np.float32)\n",
    "        label_tensor = torch.zeros(2)\n",
    "        label_tensor[0 if label=='cat' else 1] = 1\n",
    "        \n",
    "\n",
    "        # Now convert the image_array and the label_array into a tensor return the image_array and label_array as a tuple.\n",
    "        tensor_shape = (128,128)\n",
    "        image_tensor = torch.from_numpy(image_array)\n",
    "        image_tensor = image_tensor.permute((2,0,1))\n",
    "        image_mean = image_tensor.view(3,-1).mean(dim=1)\n",
    "        image_std = image_tensor.view(3,-1).std(dim=1)\n",
    "        transform  = transforms.Compose([transforms.Resize(tensor_shape), transforms.Normalize(mean=image_mean, std = image_std)])\n",
    "        image_tensor = transform(image_tensor)\n",
    "        # label_tensor = torch.from_numpy(label_array)\n",
    "\n",
    "        return image_tensor, label_tensor\n",
    "\n"
   ]
  },
  {
   "cell_type": "code",
   "execution_count": 3,
   "metadata": {},
   "outputs": [
    {
     "name": "stderr",
     "output_type": "stream",
     "text": [
      "Clipping input data to the valid range for imshow with RGB data ([0..1] for floats or [0..255] for integers).\n"
     ]
    },
    {
     "name": "stdout",
     "output_type": "stream",
     "text": [
      "22500\n",
      "tensor([[[-0.1486, -0.7042, -0.4065,  ..., -0.1704, -0.1351, -0.2028],\n",
      "         [-0.3790, -0.1748, -0.2547,  ..., -0.1669, -0.1924, -0.3361],\n",
      "         [-0.5583, -0.0665, -0.4218,  ...,  0.0810, -0.4238, -0.2159],\n",
      "         ...,\n",
      "         [-0.3939, -0.2105,  0.0419,  ..., -0.1800, -0.5341, -0.0812],\n",
      "         [-0.0821, -0.5127, -0.4383,  ...,  0.9983, -0.5916, -0.6242],\n",
      "         [-0.4949, -0.2734, -0.2921,  ..., -0.2736, -0.9421, -0.9760]],\n",
      "\n",
      "        [[-0.0814, -0.5204, -0.2335,  ..., -0.1490, -0.0096, -0.1920],\n",
      "         [-0.3307,  0.0191, -0.0766,  ..., -0.1467, -0.0755, -0.0467],\n",
      "         [-0.5235,  0.1178, -0.2492,  ...,  0.0531, -0.3292, -0.0410],\n",
      "         ...,\n",
      "         [-0.6948, -0.6390, -0.2087,  ..., -0.1982, -0.4689, -0.1534],\n",
      "         [-0.3848, -0.4991, -0.7055,  ...,  0.9450, -0.5987, -0.5203],\n",
      "         [-0.6796, -0.1146, -0.4340,  ..., -0.3643, -0.9724, -0.9052]],\n",
      "\n",
      "        [[-0.2940, -0.6382, -0.3233,  ..., -0.2294,  0.1042, -0.1772],\n",
      "         [-0.4718, -0.1793, -0.2025,  ..., -0.2606, -0.1144, -0.2039],\n",
      "         [-0.5774, -0.0757, -0.3729,  ..., -0.0663, -0.4820, -0.2105],\n",
      "         ...,\n",
      "         [-0.3387, -0.1901, -0.0482,  ..., -0.3033, -0.4727,  0.0275],\n",
      "         [-0.1497, -0.3823, -0.5746,  ...,  0.9953, -0.4923, -0.7195],\n",
      "         [-0.4277, -0.1038, -0.3836,  ..., -0.1119, -0.7669, -0.8681]]]) tensor([0., 1.])\n",
      "torch.Size([3, 128, 128])\n"
     ]
    },
    {
     "data": {
      "text/plain": [
       "<matplotlib.image.AxesImage at 0x1dc62778190>"
      ]
     },
     "execution_count": 3,
     "metadata": {},
     "output_type": "execute_result"
    },
    {
     "data": {
      "image/png": "[encoded data removed]",
      "text/plain": [
       "<Figure size 432x288 with 1 Axes>"
      ]
     },
     "metadata": {
      "needs_background": "light"
     },
     "output_type": "display_data"
    }
   ],
   "source": [
    "dataset = CatsVDogsCustom()\n",
    "image_array, label_array = dataset.__getitem__(5)\n",
    "print(len(dataset))\n",
    "print(image_array, label_array)\n",
    "print(image_array.shape)\n",
    "new_array = image_array.permute(1,2,0)\n",
    "plt.imshow(new_array)"
   ]
  },
  {
   "cell_type": "code",
   "execution_count": 4,
   "metadata": {},
   "outputs": [
    {
     "data": {
      "text/plain": [
       "<torch.utils.data.dataloader.DataLoader at 0x1dc62403340>"
      ]
     },
     "execution_count": 4,
     "metadata": {},
     "output_type": "execute_result"
    }
   ],
   "source": [
    "train_dl = DataLoader(batch_size = 128, dataset= CatsVDogsCustom(),pin_memory=True)\n",
    "# for batch in train_dl:\n",
    "#     print(batch[0][0].shape, batch[1][0].shape)\n",
    "#     # print(len(first_image_tuple))\n",
    "#     break\n",
    "train_dl"
   ]
  },
  {
   "cell_type": "code",
   "execution_count": 9,
   "metadata": {},
   "outputs": [],
   "source": [
    "val_dl = DataLoader(batch_size = 128, dataset = CatsVDogsCustom(is_val_set_bool=True), pin_memory = True)"
   ]
  },
  {
   "cell_type": "markdown",
   "metadata": {},
   "source": [
    "### Now lets define a model to train the data. First we will define a Linear Model"
   ]
  },
  {
   "cell_type": "code",
   "execution_count": 7,
   "metadata": {},
   "outputs": [],
   "source": [
    "model = nn.Sequential(OrderedDict([\n",
    "    ('Input Layer', nn.Linear(49152, 512)),\n",
    "    ('Activation Layer', nn.Tanh()),\n",
    "    ('Hidden Layer', nn.Linear(512, 256)),\n",
    "    ('Activation Layer', nn.Tanh()),\n",
    "    ('Output Layer', nn.Linear(256, 2)),\n",
    "    ('Softmax Layer', nn.LogSoftmax(dim = 1))\n",
    "]))\n",
    "\n"
   ]
  },
  {
   "cell_type": "code",
   "execution_count": 6,
   "metadata": {},
   "outputs": [
    {
     "data": {
      "text/plain": [
       "'NVIDIA GeForce GTX 1050 Ti'"
      ]
     },
     "execution_count": 6,
     "metadata": {},
     "output_type": "execute_result"
    }
   ],
   "source": [
    "torch.cuda.is_available()\n",
    "torch.cuda.current_device()\n",
    "torch.cuda.get_device_name()"
   ]
  },
  {
   "cell_type": "markdown",
   "metadata": {},
   "source": [
    "Now lets set up a training loop to check if the data can trained by the model"
   ]
  },
  {
   "cell_type": "code",
   "execution_count": 10,
   "metadata": {},
   "outputs": [
    {
     "name": "stdout",
     "output_type": "stream",
     "text": [
      "NVIDIA GeForce GTX 1050 Ti\n",
      "<method-wrapper '__str__' of torch.device object at 0x000001DC627E1FD0>\n",
      "True\n",
      "NVIDIA GeForce GTX 1050 Ti\n",
      "Memory Usage:\n",
      "Allocated: 0.1 GB\n",
      "Cached:    0.1 GB\n",
      "Epoch 1 Training\n",
      "Epoch : 1 | Loss : 0.6657674908638\n",
      "NVIDIA GeForce GTX 1050 Ti\n",
      "Memory Usage:\n",
      "Allocated: 0.2 GB\n",
      "Cached:    0.3 GB\n",
      "Epoch 2 Training\n",
      "Epoch : 2 | Loss : 0.6448878049850464\n",
      "NVIDIA GeForce GTX 1050 Ti\n",
      "Memory Usage:\n",
      "Allocated: 0.2 GB\n",
      "Cached:    0.3 GB\n",
      "Epoch 3 Training\n",
      "Epoch : 3 | Loss : 0.6265018582344055\n",
      "NVIDIA GeForce GTX 1050 Ti\n",
      "Memory Usage:\n",
      "Allocated: 0.2 GB\n",
      "Cached:    0.3 GB\n",
      "Epoch 4 Training\n",
      "Epoch : 4 | Loss : 0.605172872543335\n",
      "NVIDIA GeForce GTX 1050 Ti\n",
      "Memory Usage:\n",
      "Allocated: 0.2 GB\n",
      "Cached:    0.3 GB\n",
      "Epoch 5 Training\n",
      "Epoch : 5 | Loss : 0.5775793790817261\n",
      "NVIDIA GeForce GTX 1050 Ti\n",
      "Memory Usage:\n",
      "Allocated: 0.2 GB\n",
      "Cached:    0.3 GB\n",
      "Epoch 6 Training\n",
      "Epoch : 6 | Loss : 0.5421050190925598\n",
      "NVIDIA GeForce GTX 1050 Ti\n",
      "Memory Usage:\n",
      "Allocated: 0.2 GB\n",
      "Cached:    0.3 GB\n",
      "Epoch 7 Training\n",
      "Epoch : 7 | Loss : 0.49986037611961365\n",
      "NVIDIA GeForce GTX 1050 Ti\n",
      "Memory Usage:\n",
      "Allocated: 0.2 GB\n",
      "Cached:    0.3 GB\n",
      "Epoch 8 Training\n",
      "Epoch : 8 | Loss : 0.45010313391685486\n",
      "NVIDIA GeForce GTX 1050 Ti\n",
      "Memory Usage:\n",
      "Allocated: 0.2 GB\n",
      "Cached:    0.3 GB\n",
      "Epoch 9 Training\n",
      "Epoch : 9 | Loss : 0.42287302017211914\n",
      "NVIDIA GeForce GTX 1050 Ti\n",
      "Memory Usage:\n",
      "Allocated: 0.2 GB\n",
      "Cached:    0.3 GB\n",
      "Epoch 10 Training\n",
      "Epoch : 10 | Loss : 0.28629812598228455\n"
     ]
    },
    {
     "data": {
      "text/plain": [
       "(tensor([[-2.8455e-01, -1.3958e+00],\n",
       "         [-1.4997e-01, -1.9714e+00],\n",
       "         [-1.2979e-02, -4.3509e+00],\n",
       "         [-4.3248e-02, -3.1623e+00],\n",
       "         [-1.7621e+00, -1.8835e-01],\n",
       "         [-1.2668e-01, -2.1287e+00],\n",
       "         [-2.3247e+00, -1.0293e-01],\n",
       "         [-2.9715e-01, -1.3584e+00],\n",
       "         [-1.9310e+00, -1.5666e-01],\n",
       "         [-2.8320e-01, -1.3999e+00],\n",
       "         [-2.2176e+00, -1.1527e-01],\n",
       "         [-2.1817e-01, -1.6296e+00],\n",
       "         [-9.2019e-01, -5.0824e-01],\n",
       "         [-6.1999e-01, -7.7208e-01],\n",
       "         [-2.1730e+00, -1.2085e-01],\n",
       "         [-1.2964e-02, -4.3521e+00],\n",
       "         [-1.8518e+00, -1.7074e-01],\n",
       "         [-1.5555e+00, -2.3709e-01],\n",
       "         [-8.1371e-02, -2.5492e+00],\n",
       "         [-1.8774e+00, -1.6604e-01],\n",
       "         [-1.7890e+00, -1.8288e-01],\n",
       "         [-1.7422e-01, -1.8333e+00],\n",
       "         [-1.7101e+00, -1.9948e-01],\n",
       "         [-5.2899e-02, -2.9657e+00],\n",
       "         [-4.3701e-02, -3.1521e+00],\n",
       "         [-1.4667e-01, -1.9920e+00],\n",
       "         [-3.0129e-01, -1.3465e+00],\n",
       "         [-2.0724e-01, -1.6757e+00],\n",
       "         [-1.2230e+00, -3.4863e-01],\n",
       "         [-3.9748e-01, -1.1148e+00],\n",
       "         [-1.0835e-01, -2.2761e+00],\n",
       "         [-1.1974e+00, -3.5949e-01],\n",
       "         [-1.7610e-01, -1.8235e+00],\n",
       "         [-3.5926e-01, -1.1980e+00],\n",
       "         [-2.8407e-01, -1.3972e+00],\n",
       "         [-4.5434e-01, -1.0075e+00],\n",
       "         [-5.3224e-01, -8.8500e-01],\n",
       "         [-6.5819e-03, -5.0267e+00],\n",
       "         [-1.2710e+00, -3.2925e-01],\n",
       "         [-6.4289e-01, -7.4606e-01],\n",
       "         [-1.9328e+00, -1.5635e-01],\n",
       "         [-2.0765e-01, -1.6739e+00],\n",
       "         [-2.7812e+00, -6.3966e-02],\n",
       "         [-1.5985e+00, -2.2589e-01],\n",
       "         [-5.3144e-01, -8.8614e-01],\n",
       "         [-2.3887e+00, -9.6237e-02],\n",
       "         [-1.9344e+00, -1.5608e-01],\n",
       "         [-1.6165e-01, -1.9020e+00],\n",
       "         [-3.8791e+00, -2.0887e-02],\n",
       "         [-9.1820e-01, -5.0956e-01],\n",
       "         [-2.8164e+00, -6.1687e-02],\n",
       "         [-1.2391e-01, -2.1495e+00],\n",
       "         [-1.5052e-01, -1.9680e+00],\n",
       "         [-1.2685e+00, -3.3025e-01],\n",
       "         [-9.2458e-02, -2.4269e+00],\n",
       "         [-3.0800e-01, -1.3277e+00],\n",
       "         [-2.4207e-01, -1.5371e+00],\n",
       "         [-1.1071e-01, -2.2557e+00],\n",
       "         [-1.5392e-01, -1.9473e+00],\n",
       "         [-8.9847e-02, -2.4542e+00],\n",
       "         [-3.9609e-02, -3.2484e+00],\n",
       "         [-7.6947e-02, -2.6029e+00],\n",
       "         [-1.0892e-01, -2.2711e+00],\n",
       "         [-4.7549e-03, -5.3510e+00],\n",
       "         [-2.5430e+00, -8.1893e-02],\n",
       "         [-2.5824e-01, -1.4802e+00],\n",
       "         [-3.7615e+00, -2.3524e-02],\n",
       "         [-8.4282e-02, -2.5154e+00],\n",
       "         [-1.8270e-01, -1.7899e+00],\n",
       "         [-1.4180e+00, -2.7733e-01],\n",
       "         [-1.2883e+00, -3.2259e-01],\n",
       "         [-1.0621e-01, -2.2950e+00],\n",
       "         [-2.5974e+00, -7.7383e-02],\n",
       "         [-5.8949e-01, -8.0881e-01],\n",
       "         [-4.9231e+00, -7.3029e-03],\n",
       "         [-3.8916e-01, -1.1320e+00],\n",
       "         [-8.5808e-03, -4.7625e+00],\n",
       "         [-1.8566e+00, -1.6985e-01],\n",
       "         [-3.9122e-01, -1.1277e+00],\n",
       "         [-5.3725e-01, -8.7792e-01],\n",
       "         [-4.0832e+00, -1.6996e-02],\n",
       "         [-1.9712e-01, -1.7209e+00],\n",
       "         [-1.9892e-01, -1.7127e+00],\n",
       "         [-4.2527e-01, -1.0601e+00],\n",
       "         [-1.6698e-01, -1.8722e+00],\n",
       "         [-1.2609e+00, -3.3323e-01],\n",
       "         [-1.7494e+00, -1.9101e-01],\n",
       "         [-2.1945e-01, -1.6244e+00],\n",
       "         [-6.5668e-01, -7.3100e-01],\n",
       "         [-2.3439e+00, -1.0088e-01],\n",
       "         [-1.4453e+00, -2.6875e-01],\n",
       "         [-6.7817e-01, -7.0835e-01],\n",
       "         [-4.8951e-01, -9.4914e-01],\n",
       "         [-4.4692e-01, -1.0205e+00],\n",
       "         [-2.0759e-01, -1.6742e+00],\n",
       "         [-6.2616e-01, -7.6495e-01],\n",
       "         [-1.4571e+00, -2.6515e-01],\n",
       "         [-2.1033e-01, -1.6624e+00],\n",
       "         [-1.4087e-01, -2.0295e+00],\n",
       "         [-2.9400e+00, -5.4312e-02]], device='cuda:0',\n",
       "        grad_fn=<LogSoftmaxBackward0>),\n",
       " tensor(0.2863, device='cuda:0', grad_fn=<DivBackward1>))"
      ]
     },
     "execution_count": 10,
     "metadata": {},
     "output_type": "execute_result"
    }
   ],
   "source": [
    "import torch.nn\n",
    "import torch.optim as optim\n",
    "\n",
    "\n",
    "device = torch.device('cuda' if torch.cuda.is_available() else 'cpu')\n",
    "print(torch.cuda.get_device_name())\n",
    "print(device.__str__)\n",
    "\n",
    "\n",
    "\n",
    "new_model = model.to(device=device)\n",
    "print(all(p.is_cuda for p in model.parameters()))\n",
    "loss_fn = nn.CrossEntropyLoss()\n",
    "optimizer = optim.SGD(new_model.parameters(), lr = 0.01)\n",
    "n_epochs = 10\n",
    "def training_loop(n_epochs, train_dl, val_dl, optimizer, loss_fn, model):\n",
    "    for epoch in range(1, n_epochs+1):\n",
    "        if device.type == 'cuda':\n",
    "            print(torch.cuda.get_device_name(0))\n",
    "            print('Memory Usage:')\n",
    "            print('Allocated:', round(torch.cuda.memory_allocated(0)/1024**3,1), 'GB')\n",
    "            print('Cached:   ', round(torch.cuda.memory_reserved(0)/1024**3,1), 'GB')\n",
    "            print(f\"Epoch {epoch} Training\")\n",
    "        \n",
    "        for image, label in train_dl:\n",
    "            image = image.to(device=device)\n",
    "            label = label.to(device = device)\n",
    "\n",
    "            batch_size = image.shape[0]\n",
    "\n",
    "            # We will need to flatten the image and send it to the model\n",
    "\n",
    "            pred = model(image.view(batch_size, -1))\n",
    "\n",
    "            loss = loss_fn(pred, label)\n",
    "\n",
    "            optimizer.zero_grad()\n",
    "\n",
    "            loss.backward()\n",
    "\n",
    "            optimizer.step()\n",
    "\n",
    "        print(f\"Epoch : {epoch} | Loss : {loss}\")\n",
    "    return pred , loss\n",
    "\n",
    "training_loop(n_epochs, train_dl , val_dl, optimizer, loss_fn, model = model)\n",
    "\n"
   ]
  },
  {
   "cell_type": "code",
   "execution_count": 24,
   "metadata": {},
   "outputs": [
    {
     "name": "stdout",
     "output_type": "stream",
     "text": [
      "<bound method Module.parameters of Sequential(\n",
      "  (Input Layer): Linear(in_features=49152, out_features=512, bias=True)\n",
      "  (Activation Layer): Tanh()\n",
      "  (Hidden Layer): Linear(in_features=512, out_features=256, bias=True)\n",
      "  (Output Layer): Linear(in_features=256, out_features=2, bias=True)\n",
      "  (Softmax Layer): LogSoftmax(dim=1)\n",
      ")>\n"
     ]
    }
   ],
   "source": [
    "print(model.parameters)"
   ]
  }
 ],
 "metadata": {
  "kernelspec": {
   "display_name": "Python 3.9.12 ('base')",
   "language": "python",
   "name": "python3"
  },
  "language_info": {
   "codemirror_mode": {
    "name": "ipython",
    "version": 3
   },
   "file_extension": ".py",
   "mimetype": "text/x-python",
   "name": "python",
   "nbconvert_exporter": "python",
   "pygments_lexer": "ipython3",
   "version": "3.9.16"
  },
  "orig_nbformat": 4,
  "vscode": {
   "interpreter": {
    "hash": "5863a01bb4350d9241febf9e57f76b3c44dc4260331656e165259b66bc149002"
   }
  }
 },
 "nbformat": 4,
 "nbformat_minor": 2
}
