{
 "cells": [
  {
   "cell_type": "markdown",
   "metadata": {},
   "source": [
    "## Combining data sources in unified dataset"
   ]
  },
  {
   "cell_type": "markdown",
   "metadata": {},
   "source": [
    "* Loading and processing raw data files\n",
    "* Implementing a Python class to represent our data\n",
    "* Converting our data format into a format usable by pytorch\n",
    "* Visualizing the training and validation data"
   ]
  },
  {
   "cell_type": "markdown",
   "metadata": {},
   "source": [
    "1. Now that we have discussed the high level goals of part2 its time to discuss the specifics in this chapter. Now it's time to implement the basic data-loading and data-processing routines for our raw data. Basically evry significant project that we work on will need something analogous to what we work on here.\n",
    "2. Our goal is to be able to produce a training sample given our inputs of our raw CT scan data and a list of annotations for those CTs. This might sound simple but quite a bit needs to happen before we can load, process and extract the data we are interested in."
   ]
  },
  {
   "cell_type": "markdown",
   "metadata": {},
   "source": [
    "#### Raw CT data files\n",
    "1. Our CT data comes in two files, a .mhd data which contains the metadata header information and a .raw file containing the raw files that make up the 3D array.\n",
    "2. Each files name starts with an identifier called as a `Series UID` for the CT scan in question.\n",
    "3. Our CT class will consume those two files and produce the 3D array, as well as the transformation matrix to convert from the patient coordinate system and"
   ]
  }
 ],
 "metadata": {
  "kernelspec": {
   "display_name": "Python 3.9.12 ('base')",
   "language": "python",
   "name": "python3"
  },
  "language_info": {
   "name": "python",
   "version": "3.9.12"
  },
  "orig_nbformat": 4,
  "vscode": {
   "interpreter": {
    "hash": "5863a01bb4350d9241febf9e57f76b3c44dc4260331656e165259b66bc149002"
   }
  }
 },
 "nbformat": 4,
 "nbformat_minor": 2
}
