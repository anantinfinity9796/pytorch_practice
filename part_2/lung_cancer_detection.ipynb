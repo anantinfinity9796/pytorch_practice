{
 "cells": [
  {
   "cell_type": "code",
   "execution_count": 13,
   "metadata": {},
   "outputs": [
    {
     "name": "stdout",
     "output_type": "stream",
     "text": [
      "888\n",
      "Extracting batch_0\n",
      "Done Extracting Batch_0\n",
      "Extracting batch_1\n",
      "Done Extracting Batch_1\n",
      "Extracting batch_2\n",
      "Done Extracting Batch_2\n",
      "Extracting batch_3\n",
      "Done Extracting Batch_3\n",
      "Extracting batch_4\n",
      "Done Extracting Batch_4\n",
      "Extracting batch_5\n",
      "Done Extracting Batch_5\n",
      "Extracting batch_6\n",
      "Done Extracting Batch_6\n",
      "Extracting batch_7\n",
      "Done Extracting Batch_7\n",
      "Extracting batch_8\n",
      "Done Extracting Batch_8\n",
      "Extracting batch_9\n",
      "Done Extracting Batch_9\n"
     ]
    }
   ],
   "source": [
    "# import zipfile\n",
    "# import os\n",
    "\n",
    "# path = r\"E:\\data\"\n",
    "\n",
    "# file_list = os.listdir(path + \"/luna16/\")\n",
    "# print(len(file_list))\n",
    "# batch_size = 88\n",
    "\n",
    "# for i in range(10):\n",
    "#     current_subset = f\"subset{i}\"\n",
    "\n",
    "#     if i == 9 : \n",
    "#         batch_files = file_list[i*batch_size:]\n",
    "#     else:\n",
    "#         batch_files = file_list[i*batch_size: (i+1)*batch_size]\n",
    "\n",
    "#     print(f\"Extracting batch_{i}\")\n",
    "#     if os.path.isdir(path + \"/data-unversioned/\" + current_subset) == False:\n",
    "#         os.mkdir(path + \"/data-unversioned/\" + current_subset)\n",
    "\n",
    "#         for file_name in batch_files:\n",
    "#             # print(file_name)\n",
    "#             with zipfile.ZipFile(path + \"/luna16/\" + str(file_name), mode = 'r') as archive:\n",
    "#                 archive.extractall(path = path + \"/data-unversioned/\" + current_subset)\n",
    "#     print(f\"Done Extracting Batch_{i}\")\n"
   ]
  },
  {
   "cell_type": "code",
   "execution_count": null,
   "metadata": {},
   "outputs": [],
   "source": []
  }
 ],
 "metadata": {
  "kernelspec": {
   "display_name": "Python 3.9.12 ('base')",
   "language": "python",
   "name": "python3"
  },
  "language_info": {
   "codemirror_mode": {
    "name": "ipython",
    "version": 3
   },
   "file_extension": ".py",
   "mimetype": "text/x-python",
   "name": "python",
   "nbconvert_exporter": "python",
   "pygments_lexer": "ipython3",
   "version": "3.9.16"
  },
  "orig_nbformat": 4,
  "vscode": {
   "interpreter": {
    "hash": "5863a01bb4350d9241febf9e57f76b3c44dc4260331656e165259b66bc149002"
   }
  }
 },
 "nbformat": 4,
 "nbformat_minor": 2
}
